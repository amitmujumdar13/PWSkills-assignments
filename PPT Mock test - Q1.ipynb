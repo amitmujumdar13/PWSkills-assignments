{
 "cells": [
  {
   "cell_type": "markdown",
   "id": "62bd869c-9e0b-4c6b-8668-02055dd3073e",
   "metadata": {},
   "source": [
    "Move Zeroes\n",
    "Given an integer array nums, move all 0's to the end of it while maintaining the relative order of the non-zero elements.\n",
    "\n",
    "Note that you must do this in-place without making a copy of the array."
   ]
  },
  {
   "cell_type": "code",
   "execution_count": 1,
   "id": "6c9fe20b-093d-4057-8e67-048378af1c1a",
   "metadata": {},
   "outputs": [],
   "source": [
    "class Solution(object):\n",
    "    def moveZeroes(self, nums):\n",
    "        \"\"\"\n",
    "        :type nums: List[int]\n",
    "        :rtype: None Do not return anything, modify nums in-place instead.\n",
    "        \"\"\"\n",
    "        LastNonZeroInd=0\n",
    "        for i in range(len(nums)):\n",
    "            if (nums[i] != 0):\n",
    "                nums[LastNonZeroInd] = nums[i]\n",
    "                LastNonZeroInd = LastNonZeroInd + 1\n",
    "        \n",
    "        for i in range(LastNonZeroInd,len(nums)):\n",
    "            nums[i] = 0"
   ]
  },
  {
   "cell_type": "code",
   "execution_count": 2,
   "id": "852ddb2d-d847-4cc2-b727-95d284304100",
   "metadata": {},
   "outputs": [
    {
     "data": {
      "text/plain": [
       "[1, 3, 12, 0, 0]"
      ]
     },
     "execution_count": 2,
     "metadata": {},
     "output_type": "execute_result"
    }
   ],
   "source": [
    "sol=Solution()\n",
    "nums = [0,1,0,3,12]\n",
    "\n",
    "sol.moveZeroes(nums)\n",
    "nums"
   ]
  },
  {
   "cell_type": "code",
   "execution_count": null,
   "id": "9a7200ee-d0f2-48a9-b25a-17250c17b57c",
   "metadata": {},
   "outputs": [],
   "source": []
  }
 ],
 "metadata": {
  "kernelspec": {
   "display_name": "Python 3 (ipykernel)",
   "language": "python",
   "name": "python3"
  },
  "language_info": {
   "codemirror_mode": {
    "name": "ipython",
    "version": 3
   },
   "file_extension": ".py",
   "mimetype": "text/x-python",
   "name": "python",
   "nbconvert_exporter": "python",
   "pygments_lexer": "ipython3",
   "version": "3.10.8"
  }
 },
 "nbformat": 4,
 "nbformat_minor": 5
}

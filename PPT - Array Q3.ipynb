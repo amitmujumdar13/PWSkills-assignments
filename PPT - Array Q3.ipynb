{
 "cells": [
  {
   "cell_type": "markdown",
   "id": "f9a5f317-a3bc-4e33-928a-dc228a69aff7",
   "metadata": {},
   "source": [
    "Question 1\n",
    "Given an integer array nums of length n and an integer target, find three integers\n",
    "in nums such that the sum is closest to the target.\n",
    "Return the sum of the three integers.\n",
    "\n",
    "You may assume that each input would have exactly one solution.\n",
    "\n",
    "Example 1:\n",
    "Input: nums = [-1,2,1,-4], target = 1\n",
    "Output: 2\n"
   ]
  },
  {
   "cell_type": "code",
   "execution_count": 9,
   "id": "bd176247-9e17-4c9b-a3a3-a2e892ccc145",
   "metadata": {},
   "outputs": [],
   "source": [
    "class Solution:\n",
    "    def threeSumClosest(self, nums, target):\n",
    "        nums.sort()\n",
    "        return self.kSumClosest(nums, 3, target)\n",
    "        \n",
    "    def kSumClosest(self, nums, k, target):\n",
    "        N = len(nums)\n",
    "        # Special case where we only have k elements in nums. Return only option\n",
    "        if N == k:\n",
    "            return sum(nums[:k])\n",
    "        \n",
    "        # special case where the target is way too low\n",
    "        # we give the lowest we can\n",
    "        if sum(nums[:k]) >= target:\n",
    "            return sum(nums[:k])\n",
    "        \n",
    "        # special case where the target is too high\n",
    "        # we give the largest we can\n",
    "        if sum(nums[-k:]) <= target:\n",
    "            return sum(nums[-k:])\n",
    "        \n",
    "        # base case. look for the closest element\n",
    "        if k == 1:\n",
    "            # the element is the first and the delta is the second\n",
    "            deltas = [(x, abs(target-x)) for x in nums]\n",
    "            return min(deltas, key = lambda x: x[1])[0]\n",
    "        \n",
    "        # pick one element out and recursively search for closest match with k being one less\n",
    "        closest = sum(nums[:k])\n",
    "        for i,x in enumerate(nums):\n",
    "            # small optimization to handle duplicate x values\n",
    "            if i>0 and nums[i-1] == x:\n",
    "                continue\n",
    "                \n",
    "            bestMatch = self.kSumClosest(nums[i+1:], k-1, target-x)\n",
    "            current = x + bestMatch\n",
    "            if abs(target-current) < abs(target-closest):\n",
    "                if target == current:\n",
    "                    return current\n",
    "                else:\n",
    "                    closest = current\n",
    "                    \n",
    "        return closest"
   ]
  },
  {
   "cell_type": "code",
   "execution_count": 10,
   "id": "9b435325-9d9f-4857-b708-8a015e626459",
   "metadata": {},
   "outputs": [
    {
     "data": {
      "text/plain": [
       "2"
      ]
     },
     "execution_count": 10,
     "metadata": {},
     "output_type": "execute_result"
    }
   ],
   "source": [
    "nums = [-1,2,1,-4]\n",
    "target = 1\n",
    "sol=Solution()\n",
    "sol.threeSumClosest(nums,target)"
   ]
  },
  {
   "cell_type": "markdown",
   "id": "bac9e1fa-bcc2-4f7d-9a16-718e0de08389",
   "metadata": {},
   "source": [
    "****\n",
    "Question 2\n",
    "Given an array nums of n integers, return an array of all the unique quadruplets\n",
    "[nums[a], nums[b], nums[c], nums[d]] such that:\n",
    "           ● 0 <= a, b, c, d < n\n",
    "           ● a, b, c, and d are distinct.\n",
    "           ● nums[a] + nums[b] + nums[c] + nums[d] == target\n",
    "\n",
    "You may return the answer in any order.\n",
    "\n",
    "Example 1:\n",
    "Input: nums = [1,0,-1,0,-2,2], target = 0\n",
    "Output: [[-2,-1,1,2],[-2,0,0,2],[-1,0,0,1]]"
   ]
  },
  {
   "cell_type": "code",
   "execution_count": 16,
   "id": "9a7761bc-77a6-44d7-a3c8-2432405dc69b",
   "metadata": {},
   "outputs": [],
   "source": [
    "class Solution:\n",
    "    def fourSum(self, nums, target):\n",
    "\t\n",
    "        def kSum(nums, target, k):\n",
    "            res = []\n",
    "            \n",
    "            # If we have run out of numbers to add, return res.\n",
    "            if not nums:\n",
    "                return res\n",
    "            \n",
    "            # There are k remaining values to add to the sum. The \n",
    "            # average of these values is at least target // k.\n",
    "            average_value = target // k\n",
    "            \n",
    "            # We cannot obtain a sum of target if the smallest value\n",
    "            # in nums is greater than target // k or if the largest \n",
    "            # value in nums is smaller than target // k.\n",
    "            if average_value < nums[0] or nums[-1] < average_value:\n",
    "                return res\n",
    "            \n",
    "            if k == 2:\n",
    "                return twoSum(nums, target)\n",
    "    \n",
    "            for i in range(len(nums)):\n",
    "                if i == 0 or nums[i - 1] != nums[i]:\n",
    "                    for subset in kSum(nums[i + 1:], target - nums[i], k - 1):\n",
    "                        res.append([nums[i]] + subset)\n",
    "    \n",
    "            return res\n",
    "\n",
    "        def twoSum(nums, target):\n",
    "            res = []\n",
    "            s = set()\n",
    "    \n",
    "            for i in range(len(nums)):\n",
    "                if len(res) == 0 or res[-1][1] != nums[i]:\n",
    "                    if target - nums[i] in s:\n",
    "                        res.append([target - nums[i], nums[i]])\n",
    "                s.add(nums[i])\n",
    "    \n",
    "            return res\n",
    "\n",
    "        nums.sort()\n",
    "        return kSum(nums, target, 4)"
   ]
  },
  {
   "cell_type": "code",
   "execution_count": 17,
   "id": "ff36a84d-581d-4fe5-8abe-44a978e1d5fc",
   "metadata": {},
   "outputs": [
    {
     "data": {
      "text/plain": [
       "[[-2, -1, 1, 2], [-2, 0, 0, 2], [-1, 0, 0, 1]]"
      ]
     },
     "execution_count": 17,
     "metadata": {},
     "output_type": "execute_result"
    }
   ],
   "source": [
    "nums = [1,0,-1,0,-2,2]\n",
    "target = 0\n",
    "sol=Solution()\n",
    "sol.fourSum(nums,target)"
   ]
  },
  {
   "cell_type": "markdown",
   "id": "84104dd8-e62b-47c0-a21c-a3754bd41114",
   "metadata": {},
   "source": [
    "**********\n",
    "<aside>\n",
    "💡 **Question 3**\n",
    "A permutation of an array of integers is an arrangement of its members into a\n",
    "sequence or linear order.\n",
    "\n",
    "For example, for arr = [1,2,3], the following are all the permutations of arr:\n",
    "[1,2,3], [1,3,2], [2, 1, 3], [2, 3, 1], [3,1,2], [3,2,1].\n",
    "\n",
    "The next permutation of an array of integers is the next lexicographically greater\n",
    "permutation of its integer. More formally, if all the permutations of the array are\n",
    "sorted in one container according to their lexicographical order, then the next\n",
    "permutation of that array is the permutation that follows it in the sorted container.\n",
    "\n",
    "If such an arrangement is not possible, the array must be rearranged as the\n",
    "lowest possible order (i.e., sorted in ascending order).\n",
    "\n",
    "● For example, the next permutation of arr = [1,2,3] is [1,3,2].\n",
    "● Similarly, the next permutation of arr = [2,3,1] is [3,1,2].\n",
    "● While the next permutation of arr = [3,2,1] is [1,2,3] because [3,2,1] does not\n",
    "have a lexicographical larger rearrangement.\n",
    "\n",
    "Given an array of integers nums, find the next permutation of nums.\n",
    "The replacement must be in place and use only constant extra memory.\n",
    "\n",
    "**Example 1:**\n",
    "Input: nums = [1,2,3]\n",
    "Output: [1,3,2]\n",
    "\n",
    "</aside>\n"
   ]
  },
  {
   "cell_type": "code",
   "execution_count": 18,
   "id": "5349b4c9-ede4-4f79-bb9d-a9cf8fab12d3",
   "metadata": {},
   "outputs": [],
   "source": [
    "class Solution:\n",
    "    def nextPermutation(self, nums):\n",
    "        \"\"\"\n",
    "        Do not return anything, modify nums in-place instead.\n",
    "        \"\"\"\n",
    "        # To find next permutations, we'll start from the end\n",
    "        i = j = len(nums)-1\n",
    "        # First we'll find the first non-increasing element starting from the end\n",
    "        while i > 0 and nums[i-1] >= nums[i]:\n",
    "            i -= 1\n",
    "        # After completion of the first loop, there will be two cases\n",
    "        # 1. Our i becomes zero (This will happen if the given array is sorted decreasingly). In this case, we'll simply reverse the sequence and will return \n",
    "        if i == 0:\n",
    "            nums.reverse()\n",
    "            return \n",
    "        # 2. If it's not zero then we'll find the first number grater then nums[i-1] starting from end\n",
    "        while nums[j] <= nums[i-1]:\n",
    "            j -= 1\n",
    "        # Now out pointer is pointing at two different positions\n",
    "        # i. first non-assending number from end\n",
    "        # j. first number greater than nums[i-1]\n",
    "        \n",
    "        # We'll swap these two numbers\n",
    "        nums[i-1], nums[j] = nums[j], nums[i-1]\n",
    "        \n",
    "        # We'll reverse a sequence strating from i to end\n",
    "        nums[i:]= nums[len(nums)-1:i-1:-1]"
   ]
  },
  {
   "cell_type": "code",
   "execution_count": 19,
   "id": "8c9aabb7-0389-4f1f-98ee-241a759d4b1f",
   "metadata": {},
   "outputs": [],
   "source": [
    "sol=Solution()\n",
    "nums = [1,2,3]\n",
    "sol.nextPermutation(nums)"
   ]
  },
  {
   "cell_type": "code",
   "execution_count": 20,
   "id": "b07aab14-c267-4e67-988a-a7fa92217a4f",
   "metadata": {},
   "outputs": [
    {
     "data": {
      "text/plain": [
       "[1, 3, 2]"
      ]
     },
     "execution_count": 20,
     "metadata": {},
     "output_type": "execute_result"
    }
   ],
   "source": [
    "nums\n"
   ]
  },
  {
   "cell_type": "markdown",
   "id": "cb7a0828-7bfc-4c0c-b370-a7dca819c5f4",
   "metadata": {},
   "source": [
    "**\n",
    "Question 4\n",
    "Given a sorted array of distinct integers and a target value, return the index if the\n",
    "target is found. If not, return the index where it would be if it were inserted in\n",
    "order.\n",
    "\n",
    "You must write an algorithm with O(log n) runtime complexity.\n",
    "\n",
    "Example 1:\n",
    "Input: nums = [1,3,5,6], target = 5\n",
    "Output: 2"
   ]
  },
  {
   "cell_type": "code",
   "execution_count": 31,
   "id": "ddaa5864-a10e-44b0-8c0c-e26943f890c4",
   "metadata": {},
   "outputs": [],
   "source": [
    "class Solution(object):\n",
    "      def searchInsert(self, nums, target):\n",
    "        l , r = 0, len(nums)-1\n",
    "        while l <= r:\n",
    "            mid=(l+r)//2\n",
    "            if nums[mid]== target:\n",
    "                return mid\n",
    "            if nums[mid] < target:\n",
    "                l = mid+1\n",
    "            else:\n",
    "                r = mid-1\n",
    "        return l"
   ]
  },
  {
   "cell_type": "code",
   "execution_count": 32,
   "id": "e01d1bcb-aec0-4a87-b81d-112180ae5b93",
   "metadata": {},
   "outputs": [
    {
     "data": {
      "text/plain": [
       "2"
      ]
     },
     "execution_count": 32,
     "metadata": {},
     "output_type": "execute_result"
    }
   ],
   "source": [
    "sol=Solution()\n",
    "nums = [1,3,5,6]\n",
    "target = 5\n",
    "sol.searchInsert(nums,target)"
   ]
  },
  {
   "cell_type": "markdown",
   "id": "3b11774e-8c1a-4500-95e4-dde8beeaea72",
   "metadata": {},
   "source": [
    "***\n",
    "Question 5\n",
    "You are given a large integer represented as an integer array digits, where each\n",
    "digits[i] is the ith digit of the integer. The digits are ordered from most significant\n",
    "to least significant in left-to-right order. The large integer does not contain any\n",
    "leading 0's.\n",
    "\n",
    "Increment the large integer by one and return the resulting array of digits.\n",
    "\n",
    "Example 1:\n",
    "Input: digits = [1,2,3]\n",
    "Output: [1,2,4]\n"
   ]
  },
  {
   "cell_type": "code",
   "execution_count": 34,
   "id": "d12a9a13-9009-4022-b0a3-414ccd6f23eb",
   "metadata": {},
   "outputs": [],
   "source": [
    "class Solution:\n",
    "    def plusOne(self, digits):\n",
    "        if digits[-1] < 9:\n",
    "            digits[-1] += 1\n",
    "            return digits\n",
    "        elif len(digits) == 1 and digits[0] == 9:\n",
    "            return [1, 0]\n",
    "        else:\n",
    "            digits[-1] = 0\n",
    "            digits[0:-1] = self.plusOne(digits[0:-1])\n",
    "            return digits"
   ]
  },
  {
   "cell_type": "code",
   "execution_count": 35,
   "id": "f7d0d5ea-3ab3-438e-a3f4-086b9abb3b8b",
   "metadata": {},
   "outputs": [],
   "source": [
    "digits = [1,2,3]"
   ]
  },
  {
   "cell_type": "code",
   "execution_count": 36,
   "id": "bc4649d5-b228-4cc1-a392-d9c52c0fcafb",
   "metadata": {},
   "outputs": [
    {
     "data": {
      "text/plain": [
       "[1, 2, 4]"
      ]
     },
     "execution_count": 36,
     "metadata": {},
     "output_type": "execute_result"
    }
   ],
   "source": [
    "sol=Solution()\n",
    "sol.plusOne(digits)"
   ]
  },
  {
   "cell_type": "markdown",
   "id": "a7761920-5c2d-494d-8541-b79f86cff7ff",
   "metadata": {},
   "source": [
    "***\n",
    "Question 6\n",
    "Given a non-empty array of integers nums, every element appears twice except\n",
    "for one. Find that single one.\n",
    "\n",
    "You must implement a solution with a linear runtime complexity and use only\n",
    "constant extra space.\n",
    "\n",
    "Example 1:\n",
    "Input: nums = [2,2,1]\n",
    "Output: 1"
   ]
  },
  {
   "cell_type": "code",
   "execution_count": 38,
   "id": "39946649-8dd5-4515-b4aa-4957312de25a",
   "metadata": {},
   "outputs": [],
   "source": [
    "class Solution:\n",
    "    def singleNumber(self, nums):\n",
    "        return 2*sum(set(nums)) - sum(nums)"
   ]
  },
  {
   "cell_type": "code",
   "execution_count": 39,
   "id": "f2a8de17-ba09-4b5d-8384-1c8e8970b2bc",
   "metadata": {},
   "outputs": [
    {
     "data": {
      "text/plain": [
       "1"
      ]
     },
     "execution_count": 39,
     "metadata": {},
     "output_type": "execute_result"
    }
   ],
   "source": [
    "sol=Solution()\n",
    "nums = [2,2,1]\n",
    "sol.singleNumber(nums)"
   ]
  },
  {
   "cell_type": "markdown",
   "id": "28436c24-79d0-4073-90e1-0d5c0c9c2dc7",
   "metadata": {},
   "source": [
    "***\n",
    "Question 7\n",
    "You are given an inclusive range [lower, upper] and a sorted unique integer array\n",
    "nums, where all elements are within the inclusive range.\n",
    "\n",
    "A number x is considered missing if x is in the range [lower, upper] and x is not in\n",
    "nums.\n",
    "\n",
    "Return the shortest sorted list of ranges that exactly covers all the missing\n",
    "numbers. That is, no element of nums is included in any of the ranges, and each\n",
    "missing number is covered by one of the ranges.\n",
    "\n",
    "Example 1:\n",
    "Input: nums = [0,1,3,50,75], lower = 0, upper = 99\n",
    "Output: [[2,2],[4,49],[51,74],[76,99]]\n"
   ]
  },
  {
   "cell_type": "code",
   "execution_count": 49,
   "id": "cc4b8d91-c465-4a1f-bca0-158db1e9f69a",
   "metadata": {},
   "outputs": [],
   "source": [
    "from itertools import pairwise\n",
    "class Solution:\n",
    "    def findMissingRanges(self, nums, lower, upper):\n",
    "        def f(a, b):\n",
    "            return str(a) if a == b else f'{a}->{b}'\n",
    "\n",
    "        n = len(nums)\n",
    "        if n == 0:\n",
    "            return [f(lower, upper)]\n",
    "        ans = []\n",
    "        if nums[0] > lower:\n",
    "            ans.append(f(lower, nums[0] - 1))\n",
    "        for a, b in pairwise(nums):\n",
    "            if b - a > 1:\n",
    "                ans.append(f(a + 1, b - 1))\n",
    "        if nums[-1] < upper:\n",
    "            ans.append(f(nums[-1] + 1, upper))\n",
    "        return ans"
   ]
  },
  {
   "cell_type": "code",
   "execution_count": 50,
   "id": "c8bd649a-1848-4292-860c-cd89394cd503",
   "metadata": {},
   "outputs": [
    {
     "data": {
      "text/plain": [
       "['2', '4->49', '51->74', '76->99']"
      ]
     },
     "execution_count": 50,
     "metadata": {},
     "output_type": "execute_result"
    }
   ],
   "source": [
    "sol=Solution()\n",
    "nums = [0,1,3,50,75]\n",
    "sol.findMissingRanges(nums,0,99)"
   ]
  },
  {
   "cell_type": "markdown",
   "id": "4dbd0767-e176-4dbc-9989-04ea131b37e9",
   "metadata": {},
   "source": [
    "***\n",
    "Question 8\n",
    "Given an array of meeting time intervals where intervals[i] = [starti, endi],\n",
    "determine if a person could attend all meetings."
   ]
  },
  {
   "cell_type": "code",
   "execution_count": 68,
   "id": "de77d815-b365-42b8-88d0-a1603cb55d30",
   "metadata": {},
   "outputs": [],
   "source": [
    " intervals = [[0,30],[5,10],[15,20]]\n"
   ]
  },
  {
   "cell_type": "code",
   "execution_count": 69,
   "id": "dcf20976-2d8a-42e2-9028-f67e55f2c408",
   "metadata": {},
   "outputs": [],
   "source": [
    "import threading\n",
    "class Solution:\n",
    "    def canAttendMeetings(self,intervals):\n",
    "        \n",
    "        intervals.sort(key=lambda a: a[0])\n",
    "        for i in range(len(intervals)-1):\n",
    "            if intervals[i][1] > intervals[i+1][0]:\n",
    "                return False\n",
    "        return True"
   ]
  },
  {
   "cell_type": "code",
   "execution_count": 70,
   "id": "cad8f7f1-cebb-417e-a335-bb4ed2fe3430",
   "metadata": {},
   "outputs": [
    {
     "data": {
      "text/plain": [
       "False"
      ]
     },
     "execution_count": 70,
     "metadata": {},
     "output_type": "execute_result"
    }
   ],
   "source": [
    "sol=Solution()\n",
    "sol.canAttendMeetings(intervals)"
   ]
  },
  {
   "cell_type": "code",
   "execution_count": null,
   "id": "9df3100b-201d-4740-9f95-8397caa9aafe",
   "metadata": {},
   "outputs": [],
   "source": []
  }
 ],
 "metadata": {
  "kernelspec": {
   "display_name": "Python 3 (ipykernel)",
   "language": "python",
   "name": "python3"
  },
  "language_info": {
   "codemirror_mode": {
    "name": "ipython",
    "version": 3
   },
   "file_extension": ".py",
   "mimetype": "text/x-python",
   "name": "python",
   "nbconvert_exporter": "python",
   "pygments_lexer": "ipython3",
   "version": "3.10.8"
  }
 },
 "nbformat": 4,
 "nbformat_minor": 5
}

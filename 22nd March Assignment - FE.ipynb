{
 "cells": [
  {
   "cell_type": "markdown",
   "id": "3e2a78e2-97a0-4e24-8b06-325e2db29f67",
   "metadata": {},
   "source": [
    "Q1. Pearson correlation coefficient is a measure of the linear relationship between two variables. Suppose\n",
    "you have collected data on the amount of time students spend studying for an exam and their final exam\n",
    "scores. Calculate the Pearson correlation coefficient between these two variables and interpret the result."
   ]
  },
  {
   "cell_type": "code",
   "execution_count": 1,
   "id": "7c2fa698-990b-4400-a3e1-54a273214191",
   "metadata": {},
   "outputs": [
    {
     "name": "stdout",
     "output_type": "stream",
     "text": [
      "Pearsons correlation: 0.725\n"
     ]
    }
   ],
   "source": [
    "from scipy.stats import pearsonr\n",
    "\n",
    "Study_Time=[5,6,8,4,3,8]\n",
    "Exam_score=[80,75,80,55,50,70]\n",
    "\n",
    "corr, _ = pearsonr(Study_Time, Exam_score)\n",
    "print('Pearsons correlation: %.3f' % corr)"
   ]
  },
  {
   "cell_type": "markdown",
   "id": "6c0ea38b-f1c6-4570-add4-72bc0a94bdd0",
   "metadata": {},
   "source": [
    "Looking at Pearson correlaton we can colclude that Study time has a positive correlation with Exam score."
   ]
  },
  {
   "cell_type": "markdown",
   "id": "a06a109c-4f63-49f4-9043-3e4c68cf47cb",
   "metadata": {},
   "source": [
    "****************************\n",
    "\n",
    "Q2. Spearman's rank correlation is a measure of the monotonic relationship between two variables.\n",
    "Suppose you have collected data on the amount of sleep individuals get each night and their overall job\n",
    "satisfaction level on a scale of 1 to 10. Calculate the Spearman's rank correlation between these two\n",
    "variables and interpret the result."
   ]
  },
  {
   "cell_type": "code",
   "execution_count": 2,
   "id": "e71f7523-e2fe-4bcb-a7c9-81e83ec3fb3e",
   "metadata": {},
   "outputs": [
    {
     "name": "stdout",
     "output_type": "stream",
     "text": [
      "Spearman's correlation coefficient: 0.6669729688499157\n",
      "p-value: 0.14789299016417007\n"
     ]
    }
   ],
   "source": [
    "from scipy.stats import spearmanr\n",
    "\n",
    "Sleep_Time=[5,6,8,4,3,8]\n",
    "Job_satisfaction=[8,7,8,5,5,7]\n",
    "\n",
    "corr, pval = spearmanr(Sleep_Time, Job_satisfaction)\n",
    " \n",
    "# print the result\n",
    "print(\"Spearman's correlation coefficient:\", corr)\n",
    "print(\"p-value:\", pval)"
   ]
  },
  {
   "cell_type": "markdown",
   "id": "d280b75d-5a6d-4c25-945e-557ecf67c530",
   "metadata": {},
   "source": [
    "Looking at the spearman correlation of coeffcients, there is a positive relationship between Sleep time and Job satisfaction"
   ]
  },
  {
   "cell_type": "markdown",
   "id": "e9a1a468-e963-4fa1-a1de-0d18427472e3",
   "metadata": {},
   "source": [
    "********************\n",
    "Q3. Suppose you are conducting a study to examine the relationship between the number of hours of\n",
    "exercise per week and body mass index (BMI) in a sample of adults. You collected data on both variables\n",
    "for 50 participants. Calculate the Pearson correlation coefficient and the Spearman's rank correlation\n",
    "between these two variables and compare the results.\n",
    "\n"
   ]
  },
  {
   "cell_type": "code",
   "execution_count": 4,
   "id": "ff4c5e6b-8e53-4235-b655-714b34920eda",
   "metadata": {},
   "outputs": [],
   "source": [
    "import pandas as pd\n",
    "\n",
    "data=pd.read_csv(\"Sample_data.csv\")"
   ]
  },
  {
   "cell_type": "code",
   "execution_count": 11,
   "id": "1ae249ea-8aca-49fe-8bcb-1e013952cee1",
   "metadata": {},
   "outputs": [
    {
     "data": {
      "text/html": [
       "<div>\n",
       "<style scoped>\n",
       "    .dataframe tbody tr th:only-of-type {\n",
       "        vertical-align: middle;\n",
       "    }\n",
       "\n",
       "    .dataframe tbody tr th {\n",
       "        vertical-align: top;\n",
       "    }\n",
       "\n",
       "    .dataframe thead th {\n",
       "        text-align: right;\n",
       "    }\n",
       "</style>\n",
       "<table border=\"1\" class=\"dataframe\">\n",
       "  <thead>\n",
       "    <tr style=\"text-align: right;\">\n",
       "      <th></th>\n",
       "      <th>Hours_Excercise</th>\n",
       "      <th>BMI</th>\n",
       "    </tr>\n",
       "  </thead>\n",
       "  <tbody>\n",
       "    <tr>\n",
       "      <th>0</th>\n",
       "      <td>10</td>\n",
       "      <td>26</td>\n",
       "    </tr>\n",
       "    <tr>\n",
       "      <th>1</th>\n",
       "      <td>8</td>\n",
       "      <td>28</td>\n",
       "    </tr>\n",
       "    <tr>\n",
       "      <th>2</th>\n",
       "      <td>7</td>\n",
       "      <td>20</td>\n",
       "    </tr>\n",
       "    <tr>\n",
       "      <th>3</th>\n",
       "      <td>6</td>\n",
       "      <td>21</td>\n",
       "    </tr>\n",
       "    <tr>\n",
       "      <th>4</th>\n",
       "      <td>9</td>\n",
       "      <td>25</td>\n",
       "    </tr>\n",
       "  </tbody>\n",
       "</table>\n",
       "</div>"
      ],
      "text/plain": [
       "   Hours_Excercise  BMI \n",
       "0               10    26\n",
       "1                8    28\n",
       "2                7    20\n",
       "3                6    21\n",
       "4                9    25"
      ]
     },
     "execution_count": 11,
     "metadata": {},
     "output_type": "execute_result"
    }
   ],
   "source": [
    "data.head()"
   ]
  },
  {
   "cell_type": "code",
   "execution_count": 20,
   "id": "c20c9dcc-1e3f-48c8-b6c0-93db11a0e57b",
   "metadata": {},
   "outputs": [],
   "source": [
    "\n",
    "x=data['Hours_Excercise']\n",
    "y=data['BMI ']\n",
    "\n",
    "corr_pears, _ = pearsonr(x, y)\n",
    "corr_spear, _ = spearmanr(x, y)\n"
   ]
  },
  {
   "cell_type": "code",
   "execution_count": 21,
   "id": "22485353-2ec8-4a19-9f19-f808bc1dc764",
   "metadata": {},
   "outputs": [
    {
     "data": {
      "text/plain": [
       "0.16409589138407127"
      ]
     },
     "execution_count": 21,
     "metadata": {},
     "output_type": "execute_result"
    }
   ],
   "source": [
    "corr_pears"
   ]
  },
  {
   "cell_type": "code",
   "execution_count": 22,
   "id": "38adc8c6-0953-4890-a295-5cf827bc2b80",
   "metadata": {},
   "outputs": [
    {
     "data": {
      "text/plain": [
       "0.25192456849219436"
      ]
     },
     "execution_count": 22,
     "metadata": {},
     "output_type": "execute_result"
    }
   ],
   "source": [
    "corr_spear"
   ]
  },
  {
   "cell_type": "markdown",
   "id": "82fb4da1-bf97-4915-a78b-4ae423e37168",
   "metadata": {},
   "source": [
    "As per spearman coeff, variables are highly positively correlated with each other"
   ]
  },
  {
   "cell_type": "markdown",
   "id": "7bc2aa14-ef3e-445e-9a51-7a3ef6ef189c",
   "metadata": {},
   "source": [
    "************\n",
    "Q4. A researcher is interested in examining the relationship between the number of hours individuals\n",
    "spend watching television per day and their level of physical activity. The researcher collected data on\n",
    "both variables from a sample of 50 participants. Calculate the Pearson correlation coefficient between\n",
    "these two variables."
   ]
  },
  {
   "cell_type": "code",
   "execution_count": 23,
   "id": "d258c8b3-9044-47b0-8f55-2d1a0ed0b5c7",
   "metadata": {},
   "outputs": [],
   "source": [
    "data_TV=pd.read_csv(\"Sample_data_TV.csv\")"
   ]
  },
  {
   "cell_type": "code",
   "execution_count": 24,
   "id": "dd07e143-6aa8-496b-a3ce-a32e0ab48030",
   "metadata": {},
   "outputs": [],
   "source": [
    "x=data_TV['Hours_TV']\n",
    "y=data_TV['Physical']\n",
    "\n",
    "corr_pears, _ = pearsonr(x, y)\n",
    "corr_spear, _ = spearmanr(x, y)"
   ]
  },
  {
   "cell_type": "code",
   "execution_count": 25,
   "id": "166265a0-ccee-496b-9d23-fd87e35090b0",
   "metadata": {},
   "outputs": [
    {
     "data": {
      "text/plain": [
       "-0.871747241340328"
      ]
     },
     "execution_count": 25,
     "metadata": {},
     "output_type": "execute_result"
    }
   ],
   "source": [
    "corr_pears"
   ]
  },
  {
   "cell_type": "code",
   "execution_count": 26,
   "id": "ca092f50-97d9-40d6-af12-82e586135850",
   "metadata": {},
   "outputs": [
    {
     "data": {
      "text/plain": [
       "-0.8894150535264428"
      ]
     },
     "execution_count": 26,
     "metadata": {},
     "output_type": "execute_result"
    }
   ],
   "source": [
    "corr_spear"
   ]
  },
  {
   "cell_type": "markdown",
   "id": "07597366-d29c-43a9-98d9-42cc865bbc01",
   "metadata": {},
   "source": [
    "Both pearson and Spearman coefficients are equal depicting that Hours watching TV is negatively correlated with Physical activity"
   ]
  },
  {
   "cell_type": "markdown",
   "id": "ef066957-9a05-4b18-a6d3-bd44944c565c",
   "metadata": {},
   "source": [
    "***********\n",
    "Q6. A company is interested in examining the relationship between the number of sales calls made per day\n",
    "and the number of sales made per week. The company collected data on both variables from a sample of\n",
    "30 sales representatives. Calculate the Pearson correlation coefficient between these two variables."
   ]
  },
  {
   "cell_type": "code",
   "execution_count": 5,
   "id": "c7b3feaf-c106-4bdb-8adc-fcd4bfcdd2cf",
   "metadata": {},
   "outputs": [],
   "source": [
    "import pandas as pd\n",
    "from scipy.stats import spearmanr\n",
    "from scipy.stats import pearsonr\n",
    "\n",
    "data_TV=pd.read_csv(\"Sample_data_Sales.csv\")\n",
    "x=data_TV['Sales_calls']\n",
    "y=data_TV['Sales']\n",
    "\n",
    "corr_pears, _ = pearsonr(x, y)\n",
    "corr_spear, _ = spearmanr(x, y)"
   ]
  },
  {
   "cell_type": "code",
   "execution_count": 6,
   "id": "c103ae4a-9c4a-4f3d-9ad0-9d6d9f552fa0",
   "metadata": {},
   "outputs": [
    {
     "data": {
      "text/plain": [
       "0.6052151877084438"
      ]
     },
     "execution_count": 6,
     "metadata": {},
     "output_type": "execute_result"
    }
   ],
   "source": [
    "corr_pears"
   ]
  },
  {
   "cell_type": "code",
   "execution_count": 7,
   "id": "f4070c1b-416a-4162-8f1e-f3a42d57d1d8",
   "metadata": {},
   "outputs": [
    {
     "data": {
      "text/plain": [
       "0.5125308500909372"
      ]
     },
     "execution_count": 7,
     "metadata": {},
     "output_type": "execute_result"
    }
   ],
   "source": [
    "corr_spear"
   ]
  },
  {
   "cell_type": "markdown",
   "id": "39e8214d-58bf-4df7-9f7a-2333b39b9998",
   "metadata": {},
   "source": [
    "Both pearson and Spearman coefficients are equal depicting that number of calls made per day is positively correlated with sales done per week"
   ]
  },
  {
   "cell_type": "code",
   "execution_count": null,
   "id": "98e7a4c5-924e-4961-af6a-b6d06e551dba",
   "metadata": {},
   "outputs": [],
   "source": []
  }
 ],
 "metadata": {
  "kernelspec": {
   "display_name": "Python 3 (ipykernel)",
   "language": "python",
   "name": "python3"
  },
  "language_info": {
   "codemirror_mode": {
    "name": "ipython",
    "version": 3
   },
   "file_extension": ".py",
   "mimetype": "text/x-python",
   "name": "python",
   "nbconvert_exporter": "python",
   "pygments_lexer": "ipython3",
   "version": "3.10.8"
  }
 },
 "nbformat": 4,
 "nbformat_minor": 5
}

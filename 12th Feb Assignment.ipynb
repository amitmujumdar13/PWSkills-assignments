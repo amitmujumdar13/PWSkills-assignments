{
 "cells": [
  {
   "cell_type": "markdown",
   "id": "2820484d-c14b-4ecf-83c8-b73d535ca15e",
   "metadata": {},
   "source": [
    "Q1. What is an Exception in python? Write the difference between Exceptions and syntax errors?\n",
    "\n",
    "Answer: An error is an issue in a program that prevents the program from completing its task. In comparison, an exception is a condition that interrupts the normal flow of the program. "
   ]
  },
  {
   "cell_type": "markdown",
   "id": "bf1d0b01-913f-48ba-90d7-18b42580a645",
   "metadata": {},
   "source": [
    "Q2. What happens when an exception is not handled? Explain with an example?\n",
    "\n",
    "Answer: When exception is not handled in program, subsequent statements in program will not be executed after exception is raised. Program exceution will be interrupted.\n",
    "\n",
    "In below example, print command will not be executed as there is a division by 0 error. "
   ]
  },
  {
   "cell_type": "code",
   "execution_count": 1,
   "id": "cd45f274-01d2-420a-b4f6-032889c36cf8",
   "metadata": {},
   "outputs": [
    {
     "ename": "ZeroDivisionError",
     "evalue": "division by zero",
     "output_type": "error",
     "traceback": [
      "\u001b[0;31m---------------------------------------------------------------------------\u001b[0m",
      "\u001b[0;31mZeroDivisionError\u001b[0m                         Traceback (most recent call last)",
      "Cell \u001b[0;32mIn[1], line 6\u001b[0m\n\u001b[1;32m      3\u001b[0m     result\u001b[38;5;241m=\u001b[39m\u001b[38;5;241m10\u001b[39m\u001b[38;5;241m/\u001b[39ma\n\u001b[1;32m      4\u001b[0m     \u001b[38;5;28mprint\u001b[39m(\u001b[38;5;124m\"\u001b[39m\u001b[38;5;124mHello\u001b[39m\u001b[38;5;124m\"\u001b[39m)\n\u001b[0;32m----> 6\u001b[0m \u001b[43mpgm\u001b[49m\u001b[43m(\u001b[49m\u001b[43m)\u001b[49m\n",
      "Cell \u001b[0;32mIn[1], line 3\u001b[0m, in \u001b[0;36mpgm\u001b[0;34m()\u001b[0m\n\u001b[1;32m      1\u001b[0m \u001b[38;5;28;01mdef\u001b[39;00m \u001b[38;5;21mpgm\u001b[39m():\n\u001b[1;32m      2\u001b[0m     a\u001b[38;5;241m=\u001b[39m\u001b[38;5;241m0\u001b[39m\n\u001b[0;32m----> 3\u001b[0m     result\u001b[38;5;241m=\u001b[39m\u001b[38;5;241;43m10\u001b[39;49m\u001b[38;5;241;43m/\u001b[39;49m\u001b[43ma\u001b[49m\n\u001b[1;32m      4\u001b[0m     \u001b[38;5;28mprint\u001b[39m(\u001b[38;5;124m\"\u001b[39m\u001b[38;5;124mHello\u001b[39m\u001b[38;5;124m\"\u001b[39m)\n",
      "\u001b[0;31mZeroDivisionError\u001b[0m: division by zero"
     ]
    }
   ],
   "source": [
    "def pgm():\n",
    "    a=0\n",
    "    result=10/a\n",
    "    print(\"Hello\")\n",
    "    \n",
    "pgm()"
   ]
  },
  {
   "cell_type": "markdown",
   "id": "a00bb1bb-8b69-42f6-b301-9473912cd3c5",
   "metadata": {},
   "source": [
    "Q3. Which Python statements are used to catch and handle exceptions? Explain with an example?\n",
    "\n",
    "Answer: try, except statements are used to catch and handle exceptions.\n",
    "Below is example: "
   ]
  },
  {
   "cell_type": "code",
   "execution_count": 14,
   "id": "5e676af1-85ba-4197-949c-508b7541bde9",
   "metadata": {},
   "outputs": [
    {
     "name": "stdout",
     "output_type": "stream",
     "text": [
      "There is some error division by zero\n"
     ]
    }
   ],
   "source": [
    "def pgm():\n",
    "    try:\n",
    "        a=0\n",
    "        result=10/a\n",
    "    except Exception as e:\n",
    "        print(\"There is some error\",e)\n",
    "    \n",
    "\n",
    "pgm()\n"
   ]
  },
  {
   "cell_type": "markdown",
   "id": "ecd8db70-1c80-470f-9fc4-f76d84be9b26",
   "metadata": {},
   "source": [
    "Q4. Explain with an example:\n",
    "\n",
    " -try and else\n",
    " \n",
    " -finally\n",
    " \n",
    " -raise"
   ]
  },
  {
   "cell_type": "code",
   "execution_count": 29,
   "id": "2b5befae-1ef3-420e-a588-7d15477f7d27",
   "metadata": {},
   "outputs": [
    {
     "name": "stdin",
     "output_type": "stream",
     "text": [
      "Enter age 10\n"
     ]
    },
    {
     "name": "stdout",
     "output_type": "stream",
     "text": [
      "Executon success\n",
      "Program Ending\n"
     ]
    }
   ],
   "source": [
    "def pgm():\n",
    "        try:\n",
    "            a=input(\"Enter age\")\n",
    "            if a == '0':\n",
    "                raise Exception\n",
    "        except Exception as e:\n",
    "            print(\"Caught error\")\n",
    "        else:\n",
    "            print(\"Executon success\")\n",
    "        finally:\n",
    "            print(\"Program Ending\")\n",
    "    \n",
    "\n",
    "pgm()"
   ]
  },
  {
   "cell_type": "code",
   "execution_count": 30,
   "id": "f16addfc-9c77-4a0f-8c97-5aceebd0b4d2",
   "metadata": {},
   "outputs": [
    {
     "name": "stdin",
     "output_type": "stream",
     "text": [
      "Enter age 0\n"
     ]
    },
    {
     "name": "stdout",
     "output_type": "stream",
     "text": [
      "Caught error\n",
      "Program Ending\n"
     ]
    }
   ],
   "source": [
    "def pgm():\n",
    "        try:\n",
    "            a=input(\"Enter age\")\n",
    "            if a == '0':\n",
    "                raise Exception\n",
    "        except Exception as e:\n",
    "            print(\"Caught error\")\n",
    "        else:\n",
    "            print(\"Executon success\")\n",
    "        finally:\n",
    "            print(\"Program Ending\")\n",
    "    \n",
    "\n",
    "pgm()\n"
   ]
  },
  {
   "cell_type": "markdown",
   "id": "d00e423f-141d-4f33-bf6f-b0580f1b8682",
   "metadata": {},
   "source": [
    "Q5. What are Custom Exceptions in python? Why do we need Custom Exceptions? Explain with an example.\n",
    "\n",
    "Answer: Custom exceptions are user defined exception classes. Custom exception will handle specific problems in the functionality. In Below example Invalid age exception is handled."
   ]
  },
  {
   "cell_type": "code",
   "execution_count": 34,
   "id": "92dda4e2-787d-4989-b5f8-02594f8ceaeb",
   "metadata": {},
   "outputs": [],
   "source": [
    "class invalidage(Exception):\n",
    "    \"Invalid age\"\n",
    "\n",
    "def pgm():\n",
    "        try:\n",
    "            a=input(\"Enter age\")\n",
    "            if a == '0':\n",
    "                raise invalidage\n",
    "        except invalidage:\n",
    "            print(\"Caught error- Invalid age\")\n",
    "        else:\n",
    "            print(\"Executon success\")\n",
    "        finally:\n",
    "            print(\"Program Ending\")"
   ]
  },
  {
   "cell_type": "code",
   "execution_count": 35,
   "id": "c91f02b0-6e4f-45ba-8f92-c7a2ac89a016",
   "metadata": {},
   "outputs": [
    {
     "name": "stdin",
     "output_type": "stream",
     "text": [
      "Enter age 10\n"
     ]
    },
    {
     "name": "stdout",
     "output_type": "stream",
     "text": [
      "Executon success\n",
      "Program Ending\n"
     ]
    }
   ],
   "source": [
    "pgm()"
   ]
  },
  {
   "cell_type": "code",
   "execution_count": 37,
   "id": "bb4b59df-3323-4a84-a65a-c755c33fa659",
   "metadata": {},
   "outputs": [
    {
     "name": "stdin",
     "output_type": "stream",
     "text": [
      "Enter age 0\n"
     ]
    },
    {
     "name": "stdout",
     "output_type": "stream",
     "text": [
      "Caught error- Invalid age\n",
      "Program Ending\n"
     ]
    }
   ],
   "source": [
    "pgm()"
   ]
  },
  {
   "cell_type": "markdown",
   "id": "0a9276e9-fe7c-406a-a186-0d89318bedc3",
   "metadata": {},
   "source": [
    "Q6. Create custom exception clss. Use this class to handle an exception.\n",
    "\n",
    "Answer: "
   ]
  },
  {
   "cell_type": "code",
   "execution_count": 39,
   "id": "8828969d-0a8a-4eca-8679-bc777596100c",
   "metadata": {},
   "outputs": [
    {
     "name": "stdin",
     "output_type": "stream",
     "text": [
      "Enter age 0\n"
     ]
    },
    {
     "name": "stdout",
     "output_type": "stream",
     "text": [
      "Caught error- Invalid age, should not be 0\n",
      "Program Ending\n"
     ]
    }
   ],
   "source": [
    "class invalidage(Exception):\n",
    "    \"Invalid age\"\n",
    "\n",
    "def pgm():\n",
    "        try:\n",
    "            a=input(\"Enter age\")\n",
    "            if a == '0':\n",
    "                raise invalidage\n",
    "        except invalidage:\n",
    "            print(\"Caught error- Invalid age, should not be 0\")\n",
    "        else:\n",
    "            print(\"Executon success\")\n",
    "        finally:\n",
    "            print(\"Program Ending\")\n",
    "            \n",
    "pgm()"
   ]
  },
  {
   "cell_type": "code",
   "execution_count": null,
   "id": "fc068d64-2c68-44d3-9402-e3c847eb12d1",
   "metadata": {},
   "outputs": [],
   "source": []
  }
 ],
 "metadata": {
  "kernelspec": {
   "display_name": "Python 3 (ipykernel)",
   "language": "python",
   "name": "python3"
  },
  "language_info": {
   "codemirror_mode": {
    "name": "ipython",
    "version": 3
   },
   "file_extension": ".py",
   "mimetype": "text/x-python",
   "name": "python",
   "nbconvert_exporter": "python",
   "pygments_lexer": "ipython3",
   "version": "3.10.8"
  }
 },
 "nbformat": 4,
 "nbformat_minor": 5
}

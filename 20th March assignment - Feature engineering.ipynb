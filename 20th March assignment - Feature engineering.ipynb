{
 "cells": [
  {
   "cell_type": "markdown",
   "id": "3fddefc9-d397-4eaa-aecd-7c02689544ed",
   "metadata": {},
   "source": [
    "Q1. What is data encoding? How is it useful in data science?\n",
    "\n",
    "Answer: \n",
    "    Data encoding, in the context of data science, refers to the process of converting categorical data (non-numeric data) into a numerical representation that can be processed and used by machine learning algorithms. Categorical data consists of distinct categories or labels, such as names, colors, or types, that do not have a natural numerical order.\n",
    "\n",
    "Data encoding is useful in data science for the following reasons:\n",
    "\n",
    "Numerical Representation: Many machine learning algorithms, especially those based on mathematical equations, require data to be in numerical form. By encoding categorical data into numerical values, we can include them in the dataset and use them as features in our models.\n",
    "\n",
    "Feature Engineering: Data encoding is a crucial step in feature engineering. It allows us to transform non-numeric features into a format that captures the underlying patterns and relationships between the categories. This transformation can enhance the performance of machine learning models.\n",
    "\n",
    "Improved Model Performance: Converting categorical data into numerical representation can lead to improved model performance. Machine learning algorithms can process numeric data more efficiently and may extract meaningful patterns from encoded features.\n",
    "\n",
    "Handling Missing Data: Data encoding can help handle missing data effectively. Instead of excluding data with missing categorical values, we can use an additional category (e.g., \"Unknown\" or \"NaN\") to represent missing values after encoding.\n",
    "\n",
    "Comparing Categories: After encoding, the numerical representation allows us to compare and analyze different categories more easily. This is particularly useful when dealing with ordinal categorical data, where there is a natural order among the categories"
   ]
  },
  {
   "cell_type": "markdown",
   "id": "a715e274-2611-4b7d-b1d3-8192d35da284",
   "metadata": {},
   "source": [
    "*******************************\n",
    "Q2. What is nominal encoding? Provide an example of how you would use it in a real-world scenario.\n",
    "\n",
    "Answer:\n",
    "Nominal encoding, also known as one-hot encoding, is a data encoding technique used to represent categorical data with no intrinsic order. It converts each category into binary features (0s and 1s), creating new binary columns for each unique category. Each data point is represented by a row of binary values, where a \"1\" in a particular column indicates the presence of that category, and \"0\" indicates the absence.\n",
    "\n",
    "Let's illustrate nominal encoding with a real-world scenario:\n",
    "\n",
    "If in a Fashion store, cloth data contans a feature called Color with values like Red, Green, Blue\n",
    "These will be converted with nominal encoding 001, 010, 100"
   ]
  },
  {
   "cell_type": "markdown",
   "id": "8a31078d-92f4-49ba-9972-522932ccc08b",
   "metadata": {},
   "source": [
    "******************************\n",
    "Q3. In what situations is nominal encoding preferred over one-hot encoding? Provide a practical example.\n",
    "\n",
    "Answer: Nominal encoding is one hot encodng it is preferred over other forms of encoding where data is nominal"
   ]
  },
  {
   "cell_type": "markdown",
   "id": "89aa0d21-01ba-4c7a-bf29-facbab904bc0",
   "metadata": {},
   "source": [
    "*****************************\n",
    "Q4. Suppose you have a dataset containing categorical data with 5 unique values. Which encoding\n",
    "technique would you use to transform this data into a format suitable for machine learning algorithms?\n",
    "Explain why you made this choice.\n",
    "\n",
    "Answer:\n",
    "If the dataset contains categorical data with 5 unique values, I would use one-hot encoding (also known as nominal encoding) to transform the data into a format suitable for machine learning algorithms. One-hot encoding is the preferred choice in this scenario for the following reasons:\n",
    "\n",
    "Nominal Categorical Data: One-hot encoding is suitable for nominal categorical data, where the categories have no intrinsic order or ranking. Since the dataset contains 5 unique values, it implies that these values are nominal and do not have any inherent numerical relationship.\n",
    "\n",
    "Binary Representation: One-hot encoding converts each unique category into a separate binary feature. For 5 unique categories, it will create 5 binary columns, where each column will represent the presence or absence of a specific category. This binary representation is ideal for machine learning algorithms as they work efficiently with binary data.\n",
    "\n",
    "No Ordinal Relationship: One-hot encoding ensures that the model does not impose any ordinality among the categories. If another encoding technique, such as label encoding, were used, the model might mistakenly interpret numerical order where none exists, potentially leading to biased or incorrect predictions.\n",
    "\n",
    "Handling High Cardinality: One-hot encoding is also preferred when dealing with categorical features that have high cardinality, meaning they contain many unique categories. It helps prevent the creation of ordinal relationships and keeps the feature space manageable.\n",
    "\n",
    "Decision Trees and Random Forests: Decision tree-based models, such as decision trees and random forests, can effectively handle binary features generated by one-hot encoding. These models split the data based on the presence or absence of a particular category, making one-hot encoded features a suitable choice.\n"
   ]
  },
  {
   "cell_type": "markdown",
   "id": "33f53c6d-a501-4908-92e3-d743b115a884",
   "metadata": {},
   "source": [
    "******************\n",
    "Q5. In a machine learning project, you have a dataset with 1000 rows and 5 columns. Two of the columns\n",
    "are categorical, and the remaining three columns are numerical. If you were to use nominal encoding to\n",
    "transform the categorical data, how many new columns would be created? Show your calculations.\n",
    "\n",
    "Answer:\n",
    "\n",
    "After encoding Three numerical columns = 3\n",
    "After encoding Two categorical columns, if each column has 3 categories = 2 * 3 = 6\n",
    "Total columns after encoding = 3 + 6 = 9"
   ]
  },
  {
   "cell_type": "markdown",
   "id": "04f6ab0a-552c-4860-b6f6-7d7d8d6d02ee",
   "metadata": {},
   "source": [
    "*************\n",
    "Q6. You are working with a dataset containing information about different types of animals, including their\n",
    "species, habitat, and diet. Which encoding technique would you use to transform the categorical data into\n",
    "a format suitable for machine learning algorithms? Justify your answer.\n",
    "\n",
    "Answer: \n",
    "We can use Label encoding for Diet so that data ordinality will be preserved. \n",
    "For Habitat and species, one hot encoding can be used. Habitat and species will contain nominal data with multiple categories hence One hot encoding will be suitable. "
   ]
  },
  {
   "cell_type": "markdown",
   "id": "5ddc6545-5489-49e9-8e66-4638904e8784",
   "metadata": {},
   "source": [
    "*********************\n",
    "Q7.You are working on a project that involves predicting customer churn for a telecommunications\n",
    "company. You have a dataset with 5 features, including the customer's gender, age, contract type,\n",
    "monthly charges, and tenure. Which encoding technique(s) would you use to transform the categorical\n",
    "data into numerical data? Provide a step-by-step explanation of how you would implement the encoding.\n",
    "\n",
    "Answer: \n",
    "\n",
    "We can use below encoding techniques: \n",
    "\n",
    "Gender = Binary encoding which can be converted to numerical data; male '0' and female '1'\n",
    "Contract type = Label encoding as contract type can be Ordinal data\n"
   ]
  },
  {
   "cell_type": "code",
   "execution_count": null,
   "id": "62771caf-526f-4d41-8b2f-8bcf971966e1",
   "metadata": {},
   "outputs": [],
   "source": []
  }
 ],
 "metadata": {
  "kernelspec": {
   "display_name": "Python 3 (ipykernel)",
   "language": "python",
   "name": "python3"
  },
  "language_info": {
   "codemirror_mode": {
    "name": "ipython",
    "version": 3
   },
   "file_extension": ".py",
   "mimetype": "text/x-python",
   "name": "python",
   "nbconvert_exporter": "python",
   "pygments_lexer": "ipython3",
   "version": "3.10.8"
  }
 },
 "nbformat": 4,
 "nbformat_minor": 5
}

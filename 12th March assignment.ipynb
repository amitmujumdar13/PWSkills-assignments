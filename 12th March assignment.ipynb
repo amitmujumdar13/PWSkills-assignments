{
 "cells": [
  {
   "cell_type": "markdown",
   "id": "6a367de5-26c0-482f-9bd7-0e0e800701e5",
   "metadata": {},
   "source": [
    "Q1. Calculate the 95% confidence interval for a sample of data with a mean of 50 and a standard deviation\n",
    "of 5 using Python. Interpret the results."
   ]
  },
  {
   "cell_type": "code",
   "execution_count": 7,
   "id": "e96d913f-d713-4864-9e10-383b4bb1be3f",
   "metadata": {},
   "outputs": [
    {
     "data": {
      "text/plain": [
       "(38.3682606297958, 61.6317393702042)"
      ]
     },
     "execution_count": 7,
     "metadata": {},
     "output_type": "execute_result"
    }
   ],
   "source": [
    "from scipy import stats\n",
    "\n",
    "mean = 50\n",
    "sigma = 5\n",
    "\n",
    "conf_int=stats.norm.interval(0.98,loc=mean, scale=sigma)\n",
    "conf_int        ## Confidence interval"
   ]
  },
  {
   "cell_type": "markdown",
   "id": "37ed94f3-dc84-4194-9a64-67890a0dd364",
   "metadata": {},
   "source": [
    "**********\n",
    "\n",
    "Q2. Conduct a chi-square goodness of fit test to determine if the distribution of colors of M&Ms in a bag\n",
    "matches the expected distribution of 20% blue, 20% orange, 20% green, 10% yellow, 10% red, and 20%\n",
    "brown. Use Python to perform the test with a significance level of 0.05."
   ]
  },
  {
   "cell_type": "code",
   "execution_count": 11,
   "id": "a19a833f-d4f7-4e0f-a492-37ae25d4eef6",
   "metadata": {},
   "outputs": [],
   "source": [
    "import scipy.stats as stats\n",
    "import numpy as np\n",
    "\n",
    "expected_data=[0.20,0.20,0.20,0.10,0.10,0.20]\n",
    "observed_data=[0.15,0.15,0.25,0.15,0.10,0.20]\n",
    "\n",
    "# H0: "
   ]
  },
  {
   "cell_type": "code",
   "execution_count": 13,
   "id": "f95885bd-f0c8-4190-a7c8-ed4587cbbcfa",
   "metadata": {},
   "outputs": [
    {
     "data": {
      "text/plain": [
       "(1.0, 1.0)"
      ]
     },
     "execution_count": 13,
     "metadata": {},
     "output_type": "execute_result"
    }
   ],
   "source": [
    "sum(expected_data), sum(observed_data)"
   ]
  },
  {
   "cell_type": "code",
   "execution_count": 14,
   "id": "09863c8e-107a-4188-b75a-e8175255f031",
   "metadata": {},
   "outputs": [],
   "source": [
    "# Chi squared goodness of fit\n",
    "\n",
    "chisquare_test_statistc,P_value=stats.chisquare(observed_data,expected_data)"
   ]
  },
  {
   "cell_type": "code",
   "execution_count": 15,
   "id": "bd804e3b-a095-439d-af77-84763b238c73",
   "metadata": {},
   "outputs": [
    {
     "data": {
      "text/plain": [
       "(0.06249999999999999, 0.9999491999189402)"
      ]
     },
     "execution_count": 15,
     "metadata": {},
     "output_type": "execute_result"
    }
   ],
   "source": [
    "chisquare_test_statistc,P_value"
   ]
  },
  {
   "cell_type": "code",
   "execution_count": 17,
   "id": "4695d897-0a64-476b-82dd-c4fe39e611eb",
   "metadata": {},
   "outputs": [],
   "source": [
    "significance=0.05\n",
    "dof=len(observed_data) - 1\n",
    "critical_value=stats.chi2.ppf(1-significance,dof)"
   ]
  },
  {
   "cell_type": "code",
   "execution_count": 18,
   "id": "1e5c42b7-237f-4e66-a3a4-0a17670aebe9",
   "metadata": {},
   "outputs": [
    {
     "data": {
      "text/plain": [
       "11.070497693516351"
      ]
     },
     "execution_count": 18,
     "metadata": {},
     "output_type": "execute_result"
    }
   ],
   "source": [
    "critical_value"
   ]
  },
  {
   "cell_type": "code",
   "execution_count": 19,
   "id": "bd524221-4df6-41a1-86a6-35cf21d04924",
   "metadata": {},
   "outputs": [
    {
     "name": "stdout",
     "output_type": "stream",
     "text": [
      "Accept Null hypothesis\n"
     ]
    }
   ],
   "source": [
    "if chisquare_test_statistc > critical_value:\n",
    "    print(\"Reject Null hypothesis\")\n",
    "else:\n",
    "    print(\"Accept Null hypothesis\")"
   ]
  },
  {
   "cell_type": "code",
   "execution_count": 20,
   "id": "89c07de5-eb94-421a-8dbb-b48b8e53dbf9",
   "metadata": {},
   "outputs": [],
   "source": [
    "# Exected and observed values are equal"
   ]
  },
  {
   "cell_type": "markdown",
   "id": "940c2f20-c260-44db-b5a5-9376d382591f",
   "metadata": {},
   "source": [
    "*********\n",
    "Q3. Use Python to calculate the chi-square statistic and p-value for a contingency table with the following\n",
    "data:"
   ]
  },
  {
   "cell_type": "code",
   "execution_count": 26,
   "id": "d5498c79-2296-4861-aa72-141567528d17",
   "metadata": {},
   "outputs": [
    {
     "name": "stdout",
     "output_type": "stream",
     "text": [
      "105\n"
     ]
    },
    {
     "data": {
      "text/plain": [
       "(5.833333333333334, 0.32277564078959387)"
      ]
     },
     "execution_count": 26,
     "metadata": {},
     "output_type": "execute_result"
    }
   ],
   "source": [
    "import scipy.stats as stats\n",
    "import numpy as np\n",
    "\n",
    "# Chi squared goodness of fit\n",
    "\n",
    "observed_data=[20,15,10,25,15,20]\n",
    "\n",
    "print(sum(observed_data))\n",
    "## Using formula calculated field=(row total * column total) / grand total\n",
    "\n",
    "Calculated_data=[15,20,15,20,15,20]\n",
    "\n",
    "chisquare_test_statistc,P_value=stats.chisquare(observed_data,Calculated_data)\n",
    "chisquare_test_statistc,P_value"
   ]
  },
  {
   "cell_type": "markdown",
   "id": "eea8248e-84a6-4be5-9449-43b75d2bd975",
   "metadata": {},
   "source": [
    "**********\n",
    "Q4. A study of the prevalence of smoking in a population of 500 individuals found that 60 individuals\n",
    "smoked. Use Python to calculate the 95% confidence interval for the true proportion of individuals in the\n",
    "population who smoke.\n",
    "\n"
   ]
  },
  {
   "cell_type": "code",
   "execution_count": 28,
   "id": "0efeb1d7-bc7e-460f-941d-f5031c7cc003",
   "metadata": {},
   "outputs": [],
   "source": [
    "n = 500\n",
    "x= 60\n",
    "\n",
    "significance = 0.05 \n",
    "\n",
    "p = x / n \n",
    "\n",
    "z_score= stats.norm.ppf(1-0.025)"
   ]
  },
  {
   "cell_type": "code",
   "execution_count": 31,
   "id": "7d1c8bd9-10f6-4d34-b251-3f345d1ab603",
   "metadata": {},
   "outputs": [],
   "source": [
    "import math\n",
    "CI_1 = p - ( z_score * math.sqrt(p*(1-p)/n))\n",
    "CI_2 = p + ( z_score * math.sqrt(p*(1-p)/n))"
   ]
  },
  {
   "cell_type": "code",
   "execution_count": 34,
   "id": "7c51eb77-15aa-451e-b269-9080f3e52199",
   "metadata": {},
   "outputs": [
    {
     "name": "stdout",
     "output_type": "stream",
     "text": [
      "Confidence interval is within 0.09151638887130707 and 0.1484836111286929\n",
      "True proportion of individuals in population who smoke is within 9.151638887130707% and 14.848361112869291%\n"
     ]
    }
   ],
   "source": [
    "print(\"Confidence interval is within {a} and {b}\".format(a=CI_1,b=CI_2))\n",
    "print(\"True proportion of individuals in population who smoke is within {a}% and {b}%\".format(a=CI_1*100,b=CI_2*100))"
   ]
  },
  {
   "cell_type": "markdown",
   "id": "67adb772-f128-4253-9bc0-e74e87cd2865",
   "metadata": {},
   "source": [
    "***********\n",
    "Q5. Calculate the 90% confidence interval for a sample of data with a mean of 75 and a standard deviation\n",
    "of 12 using Python. Interpret the results."
   ]
  },
  {
   "cell_type": "code",
   "execution_count": 35,
   "id": "f1e3e34f-7b6e-4ba6-b0bc-918c24489b01",
   "metadata": {},
   "outputs": [],
   "source": [
    "mean=75\n",
    "sigma=12\n",
    "\n",
    "significance=0.10\n",
    "\n",
    "CI=stats.norm.interval(1-significance,loc=mean,scale=sigma)"
   ]
  },
  {
   "cell_type": "code",
   "execution_count": 36,
   "id": "f78c41dc-553f-4163-9b0c-271179204f2d",
   "metadata": {},
   "outputs": [
    {
     "data": {
      "text/plain": [
       "(55.26175647658233, 94.73824352341767)"
      ]
     },
     "execution_count": 36,
     "metadata": {},
     "output_type": "execute_result"
    }
   ],
   "source": [
    "CI"
   ]
  },
  {
   "cell_type": "markdown",
   "id": "21971164-17e5-4544-8a07-5aa5be5e5b3c",
   "metadata": {},
   "source": [
    "******\n",
    "Q6. Use Python to plot the chi-square distribution with 10 degrees of freedom. Label the axes and shade the\n",
    "area corresponding to a chi-square statistic of 15."
   ]
  },
  {
   "cell_type": "code",
   "execution_count": 44,
   "id": "39f92e1e-c340-486c-8895-9f7e2e19ffab",
   "metadata": {},
   "outputs": [
    {
     "data": {
      "text/plain": [
       "[<matplotlib.lines.Line2D at 0x7fb7aad1a290>]"
      ]
     },
     "execution_count": 44,
     "metadata": {},
     "output_type": "execute_result"
    },
    {
     "data": {
      "image/png": "[encoded data removed]",
      "text/plain": [
       "<Figure size 640x480 with 1 Axes>"
      ]
     },
     "metadata": {},
     "output_type": "display_data"
    }
   ],
   "source": [
    "import matplotlib.pyplot as plt\n",
    "from scipy.stats import chi2\n",
    "\n",
    "dof=10\n",
    "x=np.linspace(0,20,20)\n",
    "y=chi2.pdf(x,df=dof)\n",
    "\n",
    "plt.xlabel('x')\n",
    "plt.ylabel('y')\n",
    "plt.plot(x,y)\n"
   ]
  },
  {
   "cell_type": "markdown",
   "id": "249cee9d-94da-4a84-b597-c20192a3c769",
   "metadata": {},
   "source": [
    "*******\n",
    "Q7. A random sample of 1000 people was asked if they preferred Coke or Pepsi. Of the sample, 520\n",
    "preferred Coke. Calculate a 99% confidence interval for the true proportion of people in the population who\n",
    "prefer Coke."
   ]
  },
  {
   "cell_type": "code",
   "execution_count": 49,
   "id": "f9df8033-20b7-4324-b1f5-6cda74fdb118",
   "metadata": {},
   "outputs": [
    {
     "name": "stdout",
     "output_type": "stream",
     "text": [
      "with 90% confidence, True proportion of people who prefer coke is between 47.93051576779699% and 56.06948423220302%:\n"
     ]
    }
   ],
   "source": [
    "n = 1000\n",
    "x = 520\n",
    "\n",
    "significance = 0.01\n",
    "\n",
    "p= x / n\n",
    "z_score = stats.norm.ppf(1-0.005)\n",
    "\n",
    "CI_1 = p - z_score * (math.sqrt(p*(1-p) / n)) \n",
    "CI_2 = p + z_score * (math.sqrt(p*(1-p) / n)) \n",
    "\n",
    "print(\"with 90% confidence, True proportion of people who prefer coke is between {a}% and {b}%:\".format(a=CI_1*100,b=CI_2*100))"
   ]
  },
  {
   "cell_type": "markdown",
   "id": "ab58b0a4-79dd-49cd-b0e3-6a738732daf1",
   "metadata": {},
   "source": [
    "*********\n",
    "Q8. A researcher hypothesizes that a coin is biased towards tails. They flip the coin 100 times and observe\n",
    "45 tails. Conduct a chi-square goodness of fit test to determine if the observed frequencies match the\n",
    "expected frequencies of a fair coin. Use a significance level of 0.05."
   ]
  },
  {
   "cell_type": "code",
   "execution_count": 57,
   "id": "10d7d2d0-2b98-4396-afef-bbaf5210b0d3",
   "metadata": {},
   "outputs": [
    {
     "data": {
      "text/plain": [
       "(1.0, 0.31731050786291115)"
      ]
     },
     "execution_count": 57,
     "metadata": {},
     "output_type": "execute_result"
    }
   ],
   "source": [
    "n = 100\n",
    "Observed = [45 , 55]\n",
    "\n",
    "Expected = [50, 50]\n",
    "\n",
    "chisquare_test_statistic,P_value=stats.chisquare(Observed,Expected)\n",
    "\n",
    "chisquare_test_statistic,P_value\n"
   ]
  },
  {
   "cell_type": "code",
   "execution_count": 58,
   "id": "ed708e9b-51ca-4d72-b624-2ac09a9c0d6e",
   "metadata": {},
   "outputs": [
    {
     "data": {
      "text/plain": [
       "3.841458820694124"
      ]
     },
     "execution_count": 58,
     "metadata": {},
     "output_type": "execute_result"
    }
   ],
   "source": [
    "significance = 0.05\n",
    "dof = 2 - 1\n",
    "critical_value=stats.chi2.ppf(1-significance,dof)\n",
    "\n",
    "critical_value"
   ]
  },
  {
   "cell_type": "code",
   "execution_count": 59,
   "id": "f76e716d-8714-4697-a55e-93c9d26bd874",
   "metadata": {},
   "outputs": [
    {
     "name": "stdout",
     "output_type": "stream",
     "text": [
      "Accept Null hypothesis, Coin is fair\n"
     ]
    }
   ],
   "source": [
    "if chisquare_test_statistic > critical_value:\n",
    "    print(\"Reject Null hypothesis, coin is not fair\")\n",
    "else:\n",
    "    print(\"Accept Null hypothesis, Coin is fair\")"
   ]
  },
  {
   "cell_type": "markdown",
   "id": "feca93f6-b77d-485a-ae07-037ecf0c073f",
   "metadata": {},
   "source": [
    "******\n",
    "Q9. A study was conducted to determine if there is an association between smoking status (smoker or\n",
    "non-smoker) and lung cancer diagnosis (yes or no). The results are shown in the contingency table below.\n",
    "Conduct a chi-square test for independence to determine if there is a significant association between\n",
    "smoking status and lung cancer diagnosis.\n",
    "\n"
   ]
  },
  {
   "cell_type": "code",
   "execution_count": 65,
   "id": "f5e05bec-4255-4cd8-aa12-69f101f50ead",
   "metadata": {},
   "outputs": [
    {
     "data": {
      "text/plain": [
       "(12.903225806451612, 0.004850628276023122)"
      ]
     },
     "execution_count": 65,
     "metadata": {},
     "output_type": "execute_result"
    }
   ],
   "source": [
    "## Exepceted data is calculated using formula (row total * column total) / grand total\n",
    "\n",
    "Observed_ = [60,140,30,170]\n",
    "Expeceted_calculated = [200*90/400, 200*310/400, 200*90/400, 200*310/400]\n",
    "\n",
    "chisquare_stats,p_value=stats.chisquare(Observed_,Expeceted_calculated)\n",
    "chisquare_stats,p_value"
   ]
  },
  {
   "cell_type": "code",
   "execution_count": 64,
   "id": "d0dba47f-e1cc-4cb0-b57c-425bc3c3cad9",
   "metadata": {},
   "outputs": [
    {
     "data": {
      "text/plain": [
       "7.814727903251179"
      ]
     },
     "execution_count": 64,
     "metadata": {},
     "output_type": "execute_result"
    }
   ],
   "source": [
    "significance = 0.05\n",
    "dof = 3\n",
    "\n",
    "critical_value=stats.chi2.ppf(1-significance,dof)\n",
    "critical_value"
   ]
  },
  {
   "cell_type": "code",
   "execution_count": 63,
   "id": "b40e69df-02df-457d-908a-661eea51a588",
   "metadata": {},
   "outputs": [
    {
     "name": "stdout",
     "output_type": "stream",
     "text": [
      "Accept Null hypothesis, there is association between smoking and lung cancer\n"
     ]
    }
   ],
   "source": [
    "if chisquare_test_statistic > critical_value:\n",
    "    print(\"Reject Null hypothesis, no relation between smoking and lung cancer\")\n",
    "else:\n",
    "    print(\"Accept Null hypothesis, there is association between smoking and lung cancer\")"
   ]
  },
  {
   "cell_type": "markdown",
   "id": "9d6dfd56-5cb7-42fe-a4a4-34000822ee07",
   "metadata": {},
   "source": [
    "**************\n",
    "\n",
    "Q10. A study was conducted to determine if the proportion of people who prefer milk chocolate, dark\n",
    "chocolate, or white chocolate is different in the U.S. versus the U.K. A random sample of 500 people from\n",
    "the U.S. and a random sample of 500 people from the U.K. were surveyed. The results are shown in the\n",
    "contingency table below. Conduct a chi-square test for independence to determine if there is a significant\n",
    "association between chocolate preference and country of origin.\n",
    "\n"
   ]
  },
  {
   "cell_type": "code",
   "execution_count": 2,
   "id": "050930c3-da7e-447f-bbcb-88c867075297",
   "metadata": {},
   "outputs": [],
   "source": [
    "Observed_data=[200,150,150,225,175,100]\n",
    "Expected_data=[425*500/1000,325*500/1000,250*500/1000,425*500/1000,325*500/1000,250*500/1000]"
   ]
  },
  {
   "cell_type": "code",
   "execution_count": 3,
   "id": "573d2e36-4dbc-41e7-bba0-e5f7c850ab0f",
   "metadata": {},
   "outputs": [
    {
     "data": {
      "text/plain": [
       "(13.393665158371041, 0.019956146695191457)"
      ]
     },
     "execution_count": 3,
     "metadata": {},
     "output_type": "execute_result"
    }
   ],
   "source": [
    "import numpy as np\n",
    "import scipy.stats as stats\n",
    "\n",
    "chisquare_stats,p_value=stats.chisquare(Observed_data,Expected_data)\n",
    "chisquare_stats,p_value\n"
   ]
  },
  {
   "cell_type": "code",
   "execution_count": 4,
   "id": "38a636e7-7656-4431-963a-6b79f5f8a328",
   "metadata": {},
   "outputs": [
    {
     "data": {
      "text/plain": [
       "15.08627246938899"
      ]
     },
     "execution_count": 4,
     "metadata": {},
     "output_type": "execute_result"
    }
   ],
   "source": [
    "significane=0.01\n",
    "dof=6-1\n",
    "critical_value=stats.chi2.ppf(1-0.01,dof)\n",
    "critical_value"
   ]
  },
  {
   "cell_type": "code",
   "execution_count": 6,
   "id": "70292ac4-23c3-4c0d-9faf-93df1b77bd93",
   "metadata": {},
   "outputs": [
    {
     "name": "stdout",
     "output_type": "stream",
     "text": [
      "Accept Null hypothesis, there is significant association between chocolate pref and country of origin\n"
     ]
    }
   ],
   "source": [
    "if chisquare_stats > critical_value:\n",
    "    print(\"Reject Null hypothesis, there is no significant association between chocolate pref and country of origin\")\n",
    "else:\n",
    "    print(\"Accept Null hypothesis, there is significant association between chocolate pref and country of origin\")"
   ]
  },
  {
   "cell_type": "markdown",
   "id": "98546233-8640-44d3-b3b3-b7044f2baeb2",
   "metadata": {},
   "source": [
    "***************\n",
    "\n",
    "Q11. A random sample of 30 people was selected from a population with an unknown mean and standard\n",
    "deviation. The sample mean was found to be 72 and the sample standard deviation was found to be 10.\n",
    "Conduct a hypothesis test to determine if the population mean is significantly different from 70. Use a\n",
    "significance level of 0.05."
   ]
  },
  {
   "cell_type": "code",
   "execution_count": 8,
   "id": "864d1a8e-e859-44c3-a8cd-ae02f430df8f",
   "metadata": {},
   "outputs": [
    {
     "data": {
      "text/plain": [
       "1.0954451150103321"
      ]
     },
     "execution_count": 8,
     "metadata": {},
     "output_type": "execute_result"
    }
   ],
   "source": [
    "import math\n",
    "xbar = 72\n",
    "S = 10\n",
    "\n",
    "hyp_mean = 70\n",
    "# H0: mean = 70\n",
    "# H1: mean is oter than 70 ; Two side hypothesis test to be conducted \n",
    "\n",
    "# Population standard deviation is unknown hence T test should be performed\n",
    "\n",
    "n = 30\n",
    "\n",
    "t_stats = (xbar - hyp_mean) / (S/math.sqrt(n))\n",
    "t_stats"
   ]
  },
  {
   "cell_type": "code",
   "execution_count": 11,
   "id": "5818c0bc-bc63-4932-84ef-a3b2e085b1ad",
   "metadata": {},
   "outputs": [
    {
     "data": {
      "text/plain": [
       "1.6991270265334972"
      ]
     },
     "execution_count": 11,
     "metadata": {},
     "output_type": "execute_result"
    }
   ],
   "source": [
    "dof = 30-1 \n",
    "significance = 0.05\n",
    "\n",
    "critical_value=stats.t.ppf(1-significance,dof)\n",
    "critical_value"
   ]
  },
  {
   "cell_type": "code",
   "execution_count": 13,
   "id": "bb4b0dfc-9b79-4676-9e9f-675572f1d281",
   "metadata": {},
   "outputs": [
    {
     "name": "stdout",
     "output_type": "stream",
     "text": [
      "Reject Null hypothesis, mean is significantly different from 70\n"
     ]
    }
   ],
   "source": [
    "if chisquare_stats > critical_value:\n",
    "    print(\"Reject Null hypothesis, mean is significantly different from 70\")\n",
    "else:\n",
    "    print(\"Accept Null hypothesis\")"
   ]
  },
  {
   "cell_type": "code",
   "execution_count": null,
   "id": "deeeedd8-6917-429d-ac6e-31cb691580bd",
   "metadata": {},
   "outputs": [],
   "source": []
  }
 ],
 "metadata": {
  "kernelspec": {
   "display_name": "Python 3 (ipykernel)",
   "language": "python",
   "name": "python3"
  },
  "language_info": {
   "codemirror_mode": {
    "name": "ipython",
    "version": 3
   },
   "file_extension": ".py",
   "mimetype": "text/x-python",
   "name": "python",
   "nbconvert_exporter": "python",
   "pygments_lexer": "ipython3",
   "version": "3.10.8"
  }
 },
 "nbformat": 4,
 "nbformat_minor": 5
}

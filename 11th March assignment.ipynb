{
 "cells": [
  {
   "cell_type": "markdown",
   "id": "a124286f-7a31-45be-a370-0a610ae4f9e3",
   "metadata": {},
   "source": [
    "Q1: What is the difference between a t-test and a z-test? Provide an example scenario where you would\n",
    "use each type of test.\n"
   ]
  },
  {
   "cell_type": "markdown",
   "id": "948b2345-4e26-4b00-988c-5f291b9a23ea",
   "metadata": {},
   "source": [
    "1. z tests are a statistical way of testing a Null Hypothesis when either:\n",
    "\n",
    "We know the population variance, or\n",
    "We do not know the population variance, but our sample size is large n ≥ 30\n",
    "\n",
    "Example: we need to determine if girls on average score higher than 600 in the exam. We have the information that the standard deviation for girls’ scores is 100. So, we collect the data of 20 girls by using random samples and record their marks. Finally, we also set our ⍺ value (significance level) to be 0.05.\n",
    "\n",
    "2. T-tests are a statistical way of testing a hypothesis when:\n",
    "\n",
    "We do not know the population variance\n",
    "Our sample size is small, n < 30\n",
    "\n",
    "Example: Let’s say we want to determine if on average girls score more than 600 in the exam. We do not have the information related to variance (or standard deviation) for girls’ scores. To a perform t-test, we randomly collect the data of 10 girls with their marks and choose our ⍺ value (significance level) to be 0.05 for Hypothesis Testing."
   ]
  },
  {
   "cell_type": "markdown",
   "id": "9553cf38-6b5e-4052-bf65-ede3748f738f",
   "metadata": {},
   "source": [
    "***********\n",
    "Q2: Differentiate between one-tailed and two-tailed tests.\n",
    "Answer: \n",
    "ONE-TAILED TEST - If there is a relationship between variables in single direction.\n",
    "TWO-TAILED TEST - If there is a relationship between variables in either direction."
   ]
  },
  {
   "cell_type": "markdown",
   "id": "bdb6d617-e232-4d6b-a28a-101ffa6f6991",
   "metadata": {},
   "source": [
    "****************\n",
    "Q3: Explain the concept of Type 1 and Type 2 errors in hypothesis testing. Provide an example scenario for\n",
    "each type of error."
   ]
  },
  {
   "cell_type": "markdown",
   "id": "cfaffe51-5fdd-44b6-81b5-ae281f5f1eb4",
   "metadata": {},
   "source": [
    "Answer: A type I error (false-positive) occurs if an investigator rejects a null hypothesis that is actually true in the population; \n",
    "a type II error (false-negative) occurs if the investigator fails to reject a null hypothesis that is actually false in the population.\n",
    "\n",
    "Example: We need to determine if girls on average score higher than 600 in the exam. \n",
    "We have a null hypothesis that average girl's score is less or equal to 600.\n",
    "\n",
    "Type 1 error: We reject null hypothesis but girl's score is less or equal to 600\n",
    "Type 2 error: We do not reject null hypothesis but girl's average score is higher than 600"
   ]
  },
  {
   "cell_type": "markdown",
   "id": "964c39b4-93bc-4693-b868-02f2ea2c73c3",
   "metadata": {},
   "source": [
    "*********************\n",
    "Q4: Explain Bayes's theorem with an example.\n",
    "Answer: \n",
    "Bayes’s theorem is used for the calculation of a conditional probability where intuition often fails.\n",
    "\n",
    "If there are two events A and B\n",
    "P(A|B) is probability of event A given B has happended\n",
    "P(B|A) is probaility of event B given A has happened\n",
    "\n",
    "As per Bayes theorem, P(A|B) = P(B|A) * P(A) / P(B)\n",
    "\n",
    "Example: \n",
    "P(A) = 0.05 -- Patient is Alcoholic\n",
    "P(B) = 0.10 -- Patient has liver disease\n",
    "P(B|A) = 0.07 -- Patient has liver disease when he is alcoholic\n",
    "\n",
    "P(A|B) = 0.07 * 0.05 / 0.1 = 0.07 * 0.5  = 0.035 -- Patient is alcoholic when he has liver disease\n"
   ]
  },
  {
   "cell_type": "markdown",
   "id": "464b7eb0-f14d-4a22-b21f-8193390057bc",
   "metadata": {},
   "source": [
    "********\n",
    "Q5: What is a confidence interval? How to calculate the confidence interval, explain with an example.\n",
    "\n",
    "Answer: \n",
    "A Confidence Interval is a range of values we are fairly sure our true value lies in.\n",
    "\n",
    "Example: \n",
    "We measure the heights of 40 randomly chosen men, and get a mean height of 175cm,\n",
    "We also know the standard deviation of men's heights is 20cm.\n",
    "The 95% Confidence Interval (we show how to calculate it later) is:\n",
    "The \"plus or minus\", so 175cm + / - 6.2cm -- \n",
    "\n",
    "175cm − 6.2cm = 168.8cm to \n",
    "175cm + 6.2cm = 181.2cm\n",
    "And our result says the true mean of ALL men (if we could measure all their heights) is likely to be between 168.8cm and 181.2cm"
   ]
  },
  {
   "cell_type": "markdown",
   "id": "76604efe-2e33-444b-840a-b5e1fb93b5de",
   "metadata": {},
   "source": [
    "******\n",
    "Q6. Use Bayes' Theorem to calculate the probability of an event occurring given prior knowledge of the\n",
    "event's probability and new evidence. Provide a sample problem and solution.\n",
    "\n",
    "Answer: \n",
    "Example: \n",
    "P(A) = 0.05 -- Patient is Alcoholic\n",
    "P(B) = 0.10 -- Patient has liver disease\n",
    "P(B|A) = 0.07 -- Patient has liver disease when he is alcoholic\n",
    "\n",
    "P(A|B) = 0.07 * 0.05 / 0.1 = 0.07 * 0.5  = 0.035 -- Patient is alcoholic when he has liver disease\n"
   ]
  },
  {
   "cell_type": "markdown",
   "id": "9c4a7daa-b369-4cc9-b412-0d810b73f16f",
   "metadata": {},
   "source": [
    "*********\n",
    "Q7. Calculate the 95% confidence interval for a sample of data with a mean of 50 and a standard deviation\n",
    "of 5. Interpret the results."
   ]
  },
  {
   "cell_type": "code",
   "execution_count": 2,
   "id": "8dd8f332-fb96-447d-8533-d4f1ed26bb22",
   "metadata": {},
   "outputs": [
    {
     "name": "stdout",
     "output_type": "stream",
     "text": [
      "Confidence interval is between: 49.02 and 50.98\n"
     ]
    }
   ],
   "source": [
    "import math\n",
    "\n",
    "alpa = 0.05\n",
    "z_alpha_by_2 = 1.96\n",
    "mean = 50\n",
    "S=5\n",
    "n = 100 \n",
    "\n",
    "CI_1 = mean - z_alpha_by_2 * (S / math.sqrt(n))\n",
    "CI_2 = mean + z_alpha_by_2 * (S / math.sqrt(n))\n",
    "\n",
    "print(\"Confidence interval is between: {a} and {b}\".format(a=CI_1, b= CI_2))"
   ]
  },
  {
   "cell_type": "markdown",
   "id": "8d8dc5dd-c3a4-41ea-b1b4-abb49344e2a6",
   "metadata": {},
   "source": [
    "***************\n",
    "Q8. What is the margin of error in a confidence interval? How does sample size affect the margin of error?\n",
    "Provide an example of a scenario where a larger sample size would result in a smaller margin of error.\n",
    "\n",
    "Answer: \n",
    "The margin of error in statistics is the degree of error in results received from random sampling surveys. A higher margin of error in statistics indicates less likelihood of relying on the results of a survey or poll, i.e. the confidence on the results will be lower to represent a population. It is a very vital tool in market research as it depicts the confidence level the researchers should have in the data obtained from surveys."
   ]
  },
  {
   "cell_type": "markdown",
   "id": "b01470b7-7bf0-4b95-a2a5-2f32d7194ea6",
   "metadata": {},
   "source": [
    "**********\n",
    "Q9. Calculate the z-score for a data point with a value of 75, a population mean of 70, and a population\n",
    "standard deviation of 5. Interpret the results.\n",
    "\n"
   ]
  },
  {
   "cell_type": "code",
   "execution_count": 4,
   "id": "f8abc434-5d59-4953-bcd1-a1cb69c1b2db",
   "metadata": {},
   "outputs": [],
   "source": [
    "std = 5 \n",
    "mew = 70\n",
    "\n",
    "xbar = 75\n",
    "\n",
    "Z = (xbar - mew) / std  "
   ]
  },
  {
   "cell_type": "code",
   "execution_count": 5,
   "id": "f6eb007f-f7ba-4691-87df-601ea7a8874c",
   "metadata": {},
   "outputs": [
    {
     "data": {
      "text/plain": [
       "1.0"
      ]
     },
     "execution_count": 5,
     "metadata": {},
     "output_type": "execute_result"
    }
   ],
   "source": [
    "Z"
   ]
  },
  {
   "cell_type": "markdown",
   "id": "6edb4ed0-bce5-43ae-b204-f592db92240d",
   "metadata": {},
   "source": [
    "Z score is 1 \n",
    "Probability of x<75: 0.84134\n",
    "Probability of x>75: 0.15866\n",
    "Probability of 70<x<75: 0.34134"
   ]
  },
  {
   "cell_type": "markdown",
   "id": "813261a4-79ec-47a3-9be0-97615d44f7cf",
   "metadata": {},
   "source": [
    "**************\n",
    "Q10. In a study of the effectiveness of a new weight loss drug, a sample of 50 participants lost an average\n",
    "of 6 pounds with a standard deviation of 2.5 pounds. Conduct a hypothesis test to determine if the drug is\n",
    "significantly effective at a 95% confidence level using a t-test."
   ]
  },
  {
   "cell_type": "code",
   "execution_count": 9,
   "id": "1f2a28e8-916e-45e6-91ec-50d3436a60bb",
   "metadata": {},
   "outputs": [
    {
     "data": {
      "text/plain": [
       "16.970562748477143"
      ]
     },
     "execution_count": 9,
     "metadata": {},
     "output_type": "execute_result"
    }
   ],
   "source": [
    "n = 50\n",
    "smean = 6\n",
    "S = 2.5\n",
    "\n",
    "df = n - 1 \n",
    "\n",
    "alpha = 0.05 \n",
    "\n",
    "meand = 0\n",
    "\n",
    "# H0 : meand = 0\n",
    "# H1 : meand > 0\n",
    "# One side t test to be conducted\n",
    "\n",
    "t = (smean - meand) / (S / math.sqrt(50))\n",
    "t"
   ]
  },
  {
   "cell_type": "markdown",
   "id": "61e2561a-b908-4e34-8698-04b4d1f02c51",
   "metadata": {},
   "source": [
    "The p-value is < .00001.\n",
    "\n",
    "The result is significant at p < .05. Hence, we can reject Null hypothesis. \n",
    "Hence, meand > 0; weight loss program is effctive"
   ]
  },
  {
   "cell_type": "markdown",
   "id": "bbcd3eb8-dfd6-4142-93ab-1c4f1a803106",
   "metadata": {},
   "source": [
    "***********\n",
    "Q11. In a survey of 500 people, 65% reported being satisfied with their current job. Calculate the 95%\n",
    "confidence interval for the true proportion of people who are satisfied with their job."
   ]
  },
  {
   "cell_type": "code",
   "execution_count": 13,
   "id": "1b787251-0f57-42b3-aae6-7115b2b02b64",
   "metadata": {},
   "outputs": [],
   "source": [
    "n = 500\n",
    "p = 0.65\n",
    "\n",
    "sigma_P = math.sqrt(p*(1-p)/n)\n",
    "\n",
    "alpha = 0.05\n",
    "z_alpha_by_2 = 1.96\n",
    "\n",
    "CI_1  = p - (z_alpha_by_2 * sigma_P)\n",
    "CI_2  = p + (z_alpha_by_2 * sigma_P)"
   ]
  },
  {
   "cell_type": "code",
   "execution_count": 14,
   "id": "b6e53d3c-c90d-4fc2-aa7d-bfe286225e5a",
   "metadata": {},
   "outputs": [
    {
     "name": "stdout",
     "output_type": "stream",
     "text": [
      "True proporton of people who are satisfied is between 60.8191771144905 and 69.18082288550951 with 95% CI\n"
     ]
    }
   ],
   "source": [
    "print(\"True proporton of people who are satisfied is between {a} and {b} with 95% CI\".format(a=CI_1*100, b=CI_2*100))"
   ]
  },
  {
   "cell_type": "markdown",
   "id": "8450b925-6aa2-4ebf-b03a-775fbdc90ae2",
   "metadata": {},
   "source": [
    "********************\n",
    "Q12. A researcher is testing the effectiveness of two different teaching methods on student performance.\n",
    "Sample A has a mean score of 85 with a standard deviation of 6, while sample B has a mean score of 82\n",
    "with a standard deviation of 5. Conduct a hypothesis test to determine if the two teaching methods have a\n",
    "significant difference in student performance using a t-test with a significance level of 0.01."
   ]
  },
  {
   "cell_type": "code",
   "execution_count": 22,
   "id": "05688d54-fca9-446c-84a5-673f58f577b5",
   "metadata": {},
   "outputs": [],
   "source": [
    "mean1 = 85\n",
    "S1 = 6\n",
    "mean2= 82\n",
    "S2 = 5\n",
    "alpha = 0.01\n",
    "\n",
    "n1=20\n",
    "n2=20\n",
    "\n",
    "df = n1+n2 - 2\n",
    "# H0 : mew1 - mew2 = 0\n",
    "# H1 : mew1 - mew2 not equal to 0\n",
    "\n",
    "# Considering both sample sizes are same.\n",
    "\n",
    "Sp2 = (S1**2 + S2**2) / 2\n",
    "\n",
    "t = (mean1-mean2) / math.sqrt(Sp2 * ((1/n1) + (1/n2)))"
   ]
  },
  {
   "cell_type": "code",
   "execution_count": 23,
   "id": "f8a97712-03e4-4a7d-a3c6-dffb359eaed1",
   "metadata": {},
   "outputs": [
    {
     "data": {
      "text/plain": [
       "1.7177950029416047"
      ]
     },
     "execution_count": 23,
     "metadata": {},
     "output_type": "execute_result"
    }
   ],
   "source": [
    "t"
   ]
  },
  {
   "cell_type": "code",
   "execution_count": 21,
   "id": "73e07f7d-91ad-44bd-98a4-caf8e468a1ca",
   "metadata": {},
   "outputs": [
    {
     "data": {
      "text/plain": [
       "38"
      ]
     },
     "execution_count": 21,
     "metadata": {},
     "output_type": "execute_result"
    }
   ],
   "source": [
    "df"
   ]
  },
  {
   "cell_type": "code",
   "execution_count": 24,
   "id": "30c8fc13-827a-4837-97a1-59f5ca40b095",
   "metadata": {},
   "outputs": [],
   "source": [
    "#t value with 0.01 significance level and 38 degrees of freedom is ±2.7116"
   ]
  },
  {
   "cell_type": "markdown",
   "id": "0397054c-7592-4688-9225-5b5dc8e5cd73",
   "metadata": {},
   "source": [
    "As t value 1.217 falls within critical value, we fail to reject Null hypothesis.\n",
    "We cannot say that two teaching methods have significant differences."
   ]
  },
  {
   "cell_type": "markdown",
   "id": "5836304b-310b-4c6d-a6a0-5f4e4d02aa25",
   "metadata": {},
   "source": [
    "***********\n",
    "Q13. A population has a mean of 60 and a standard deviation of 8. A sample of 50 observations has a mean\n",
    "of 65. Calculate the 90% confidence interval for the true population mean.\n",
    "\n"
   ]
  },
  {
   "cell_type": "code",
   "execution_count": 26,
   "id": "7d2e1a68-8d95-4e97-97a2-932435303ac0",
   "metadata": {},
   "outputs": [],
   "source": [
    "mew = 60\n",
    "std = 8\n",
    "n = 50\n",
    "xbar = 65\n",
    "\n",
    "alpha = 0.10\n",
    "z_alpha_2 = 1.645\n",
    "\n",
    "margin_error = z_alpha_2 * std / math.sqrt(n)\n",
    "\n",
    "mew_lower = xbar - margin_error\n",
    "mew_upper = xbar + margin_error"
   ]
  },
  {
   "cell_type": "code",
   "execution_count": 28,
   "id": "3feac7c1-bd24-4cd0-b58f-31119849f08b",
   "metadata": {},
   "outputs": [
    {
     "name": "stdout",
     "output_type": "stream",
     "text": [
      "True Population mean is between 63.13889495191701 and 66.86110504808299 with 90% Confidence\n"
     ]
    }
   ],
   "source": [
    "print(\"True Population mean is between\",mew_lower,\"and\",mew_upper,\"with 90% Confidence\")"
   ]
  },
  {
   "cell_type": "markdown",
   "id": "85028912-64aa-43d9-8781-4ca7ff7280c9",
   "metadata": {},
   "source": [
    "**********\n",
    "Q14. In a study of the effects of caffeine on reaction time, a sample of 30 participants had an average\n",
    "reaction time of 0.25 seconds with a standard deviation of 0.05 seconds. Conduct a hypothesis test to\n",
    "determine if the caffeine has a significant effect on reaction time at a 90% confidence level using a t-test."
   ]
  },
  {
   "cell_type": "code",
   "execution_count": 29,
   "id": "49ea37a4-ffb0-4464-906b-f3826c6d1187",
   "metadata": {},
   "outputs": [],
   "source": [
    "# H0 : mew = 0\n",
    "# H1 : mew > 0   -- One tailed t test to be performed\n",
    "\n",
    "n=30\n",
    "Smean=0.25\n",
    "S = 0.05\n",
    "mew = 0\n",
    "\n",
    "alpha = 0.10\n",
    "df = 29\n",
    "\n",
    "t = (Smean - mew) / (S/math.sqrt(n))"
   ]
  },
  {
   "cell_type": "code",
   "execution_count": 30,
   "id": "61f0bb86-dde4-4aa8-b8b7-f39c50f48619",
   "metadata": {},
   "outputs": [
    {
     "data": {
      "text/plain": [
       "27.386127875258307"
      ]
     },
     "execution_count": 30,
     "metadata": {},
     "output_type": "execute_result"
    }
   ],
   "source": [
    "t"
   ]
  },
  {
   "cell_type": "markdown",
   "id": "0378b3db-f302-4c5b-a810-6536c7c6390d",
   "metadata": {},
   "source": [
    "Critical value of t_alpha_df is 1.311434\n",
    "\n",
    "As t score of 27.38 is much higher than 1.311, Null hypothesis is rejected\n",
    "\n",
    "Hence with 90% CI, there is significant effect n reaction time."
   ]
  },
  {
   "cell_type": "code",
   "execution_count": null,
   "id": "e69f159e-41e5-496b-bc0a-bfef8b08efd4",
   "metadata": {},
   "outputs": [],
   "source": []
  }
 ],
 "metadata": {
  "kernelspec": {
   "display_name": "Python 3 (ipykernel)",
   "language": "python",
   "name": "python3"
  },
  "language_info": {
   "codemirror_mode": {
    "name": "ipython",
    "version": 3
   },
   "file_extension": ".py",
   "mimetype": "text/x-python",
   "name": "python",
   "nbconvert_exporter": "python",
   "pygments_lexer": "ipython3",
   "version": "3.10.8"
  }
 },
 "nbformat": 4,
 "nbformat_minor": 5
}

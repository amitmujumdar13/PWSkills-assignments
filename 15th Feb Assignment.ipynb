{
 "cells": [
  {
   "cell_type": "markdown",
   "id": "6c8f73e9-26ad-495b-9c17-6868f264ce1f",
   "metadata": {},
   "source": [
    "Q1. What is multiprocessing in python? Why is it useful?\n",
    "\n",
    "Answer: \n",
    "Multiprocessing in Python is a built-in package that allows the system to run multiple processes simultaneously. It will enable the breaking of applications into smaller threads that can run independently. It improves overall efficiency."
   ]
  },
  {
   "cell_type": "markdown",
   "id": "843de252-10d6-4b8b-bfa1-791cfce3f1e5",
   "metadata": {},
   "source": [
    "****************************************\n",
    "\n",
    "Q2. What are the differences between multiprocessing and multithreading?\n",
    "\n",
    "Answer: \n",
    "In Multiprocessing, Many processes are executed simultaneously.\n",
    "While in multithreading, many threads of a process are executed simultaneously."
   ]
  },
  {
   "cell_type": "markdown",
   "id": "71fdfc5f-e2b4-42f1-ad01-cb3a85cc340f",
   "metadata": {},
   "source": [
    "**************************************\n",
    "Q3. Write a python code to create a process using the multiprocessing module.\n",
    "\n"
   ]
  },
  {
   "cell_type": "code",
   "execution_count": 2,
   "id": "5358273c-eacd-4558-b33a-c22876529316",
   "metadata": {},
   "outputs": [
    {
     "name": "stdout",
     "output_type": "stream",
     "text": [
      "This is main process\n",
      "I am test child process\n"
     ]
    }
   ],
   "source": [
    "import multiprocessing\n",
    "\n",
    "def test():\n",
    "    print(\"I am test child process\")\n",
    "\n",
    "if __name__ == \"__main__\":\n",
    "    m1=multiprocessing.Process(target=test)\n",
    "    print(\"This is main process\")\n",
    "    m1.start()\n",
    "    m1.join()"
   ]
  },
  {
   "cell_type": "markdown",
   "id": "e9372e88-2d78-4ca4-bd8b-cd995c3d04a3",
   "metadata": {},
   "source": [
    "Q4. What is a multiprocessing pool in python? Why is it used?\n",
    "\n",
    "Answer: Python multiprocessing Pool can be used for parallel execution of a function across multiple input values, distributing the input data across processes (data parallelism)."
   ]
  },
  {
   "cell_type": "markdown",
   "id": "0b646348-7eb2-4cbe-966d-5d2706cd39b8",
   "metadata": {},
   "source": [
    "*************************\n",
    "Q5. How can we create a pool of worker processes in python using the multiprocessing module?\n",
    "\n",
    "Answer: The Pool class represents a pool of worker processes. \n",
    "It has methods which allows tasks to be offloaded to the worker processes in a few different ways.\n",
    "Example functions: \n",
    "Pool.map - allows you to apply a function to each item in an iterable.\n",
    "Pool.starmap() -  function takes the name of a function to apply and an iterable.\n",
    "\n"
   ]
  },
  {
   "cell_type": "code",
   "execution_count": 7,
   "id": "db25807e-6a2e-4b72-a387-09b6820b89a2",
   "metadata": {},
   "outputs": [
    {
     "name": "stdout",
     "output_type": "stream",
     "text": [
      "Output: [1, 2, 3, 4]\n"
     ]
    }
   ],
   "source": [
    "import multiprocessing\n",
    "\n",
    "def test(t):\n",
    "    return t\n",
    "\n",
    "if __name__ == \"__main__\":\n",
    "    with multiprocessing.Pool(processes=4) as P:\n",
    "        m = P.map(test,[1,2,3,4])\n",
    "        print(\"Output:\",m)"
   ]
  },
  {
   "cell_type": "code",
   "execution_count": null,
   "id": "48a48802-c16e-45c5-b930-943778d51e58",
   "metadata": {},
   "outputs": [],
   "source": []
  }
 ],
 "metadata": {
  "kernelspec": {
   "display_name": "Python 3 (ipykernel)",
   "language": "python",
   "name": "python3"
  },
  "language_info": {
   "codemirror_mode": {
    "name": "ipython",
    "version": 3
   },
   "file_extension": ".py",
   "mimetype": "text/x-python",
   "name": "python",
   "nbconvert_exporter": "python",
   "pygments_lexer": "ipython3",
   "version": "3.10.8"
  }
 },
 "nbformat": 4,
 "nbformat_minor": 5
}

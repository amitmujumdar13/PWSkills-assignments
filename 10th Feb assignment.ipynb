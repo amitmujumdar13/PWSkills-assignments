{
 "cells": [
  {
   "cell_type": "markdown",
   "id": "ea7588a1-1dd0-4a04-8393-cbcef39d0d15",
   "metadata": {},
   "source": [
    "Q1. Which function is used to open a file? What are the different modes of opening a file? Explain each mode\n",
    "of file opening.\n",
    "\n",
    "Answer: \n",
    "The key function for working with files in Python is the open() function.\n",
    "The open() function takes two parameters; filename, and mode.\n",
    "\n",
    "There are four different methods (modes) for opening a file:\n",
    "\n",
    "\"r\" - Read - Default value. Opens a file for reading, error if the file does not exist\n",
    "\n",
    "\"a\" - Append - Opens a file for appending, creates the file if it does not exist\n",
    "\n",
    "\"w\" - Write - Opens a file for writing, creates the file if it does not exist\n",
    "\n",
    "\"x\" - Create - Creates the specified file, returns an error if the file exists"
   ]
  },
  {
   "cell_type": "markdown",
   "id": "d62de44c-6ab4-4861-abcc-38280595267a",
   "metadata": {},
   "source": [
    "Q2. Why close() function is used? Why is it important to close a file?\n",
    "\n",
    "Answer:\n",
    "close() function is used to close a file.\n",
    "When we use the close() file Python method over a file object then it flushes any unwritten information and eventually closes the file object. This makes sure that no more writing can be done in that file."
   ]
  },
  {
   "cell_type": "markdown",
   "id": "f4705245-822b-4f20-8e77-cdaed98ca632",
   "metadata": {},
   "source": [
    "Q3. Write a python program to create a text file. Write ‘I want to become a Data Scientist’ in that file. Then\n",
    "close the file. Open this file and read the content of the file."
   ]
  },
  {
   "cell_type": "code",
   "execution_count": 2,
   "id": "108454dc-0639-4375-ad07-fc2824f87645",
   "metadata": {},
   "outputs": [
    {
     "name": "stdout",
     "output_type": "stream",
     "text": [
      "I want to become a Data Scientist\n"
     ]
    }
   ],
   "source": [
    "f = open(\"New.txt\",\"w\")\n",
    "f.write(\"I want to become a Data Scientist\")\n",
    "f.close()\n",
    "\n",
    "t=open(\"New.txt\",\"r\")\n",
    "print(t.read())"
   ]
  },
  {
   "cell_type": "markdown",
   "id": "1765729c-895b-48e6-87e9-f3644a404f6e",
   "metadata": {},
   "source": [
    "Q4. Explain the following with python code: read(), readline() and readlines().\n"
   ]
  },
  {
   "cell_type": "code",
   "execution_count": 29,
   "id": "97e7d36b-c7b7-4713-922b-c3746500c688",
   "metadata": {},
   "outputs": [
    {
     "name": "stdout",
     "output_type": "stream",
     "text": [
      "read() will read entire file..:\n",
      "Welcome to PWSkills\n",
      "Write multiple lines \n",
      "Done successfully\n",
      "Thank You!\n",
      "\n",
      "\n",
      "readline() will read one line at a time..:\n",
      "Welcome to PWSkills\n",
      "\n",
      "readlines() will read file as a list of statements\n",
      "['Welcome to PWSkills\\n', 'Write multiple lines \\n', 'Done successfully\\n', 'Thank You!']\n"
     ]
    }
   ],
   "source": [
    "with open('New1.txt', 'w') as file:\n",
    "   l1 = \"Welcome to PWSkills\\n\"\n",
    "   l2 = \"Write multiple lines \\n\"\n",
    "   l3 = \"Done successfully\\n\"\n",
    "   l4 = \"Thank You!\"\n",
    "   file.writelines([l1, l2, l3, l4])\n",
    "\n",
    "\n",
    "t=open(\"New1.txt\",\"r\")\n",
    "\n",
    "print(\"read() will read entire file..:\")\n",
    "print(t.read())\n",
    "print(\"\\n\")\n",
    "\n",
    "t.seek(0)\n",
    "print(\"readline() will read one line at a time..:\")\n",
    "print(t.readline())\n",
    "\n",
    "t.seek(0)\n",
    "print(\"readlines() will read file as a list of statements\")\n",
    "print(t.readlines())\n",
    "t.close()\n",
    "\n",
    "\n",
    "\n",
    "\n"
   ]
  },
  {
   "cell_type": "markdown",
   "id": "4ba49a2e-1028-49c9-8b35-318d2172f985",
   "metadata": {},
   "source": [
    "*********************************************\n",
    "\n",
    "Q5. Explain why with statement is used with open(). What is the advantage of using with statement and\n",
    "open() together?\n",
    "\n",
    "Answer: \n",
    "\n",
    "The with statement works with the open() function to open a file. Unlike open() where you have to close the file with the close() method, the with statement closes the file for you without you telling it to. This is because the with statement calls 2 built-in methods behind the scene – __enter()__ and __exit()__ "
   ]
  },
  {
   "cell_type": "markdown",
   "id": "14e7b1a6-adc8-426f-a0fa-3e409b852fe7",
   "metadata": {},
   "source": [
    "***************************************\n",
    "Q6. Explain the write() and writelines() functions. Give a suitable example.\n",
    "\n",
    "Answer: write() method takes a string as an argument and writes it to the text file. writelines() method is used to write multiple strings to a file. We need to pass an iterable object like lists, tuple etc. containing strings to writelines() method."
   ]
  },
  {
   "cell_type": "code",
   "execution_count": 37,
   "id": "d2919f2d-8bae-4588-a2b7-2799b195e210",
   "metadata": {},
   "outputs": [
    {
     "name": "stdout",
     "output_type": "stream",
     "text": [
      "Hello, There!\n",
      "Welcome to PWSkills\n",
      "\n"
     ]
    }
   ],
   "source": [
    "with open(\"New2.txt\",\"w\") as files:\n",
    "    l1=\"Hello, There!\\n\"\n",
    "    l2=\"Welcome to PWSkills\\n\"\n",
    "    files.writelines([l1,l2])\n",
    "    \n",
    "\n",
    "f=open(\"New2.txt\",\"r\")\n",
    "print(f.read())"
   ]
  },
  {
   "cell_type": "code",
   "execution_count": 38,
   "id": "db8d569f-9df4-4f6d-bedd-5eaec8d90584",
   "metadata": {},
   "outputs": [
    {
     "name": "stdout",
     "output_type": "stream",
     "text": [
      "Hello, There!\n",
      "Welcome to PWSkills\n",
      "This is Sudhanshu Sir's class\n"
     ]
    }
   ],
   "source": [
    "with open(\"New2.txt\",\"a\") as files:\n",
    "    files.write(\"This is Sudhanshu Sir's class\")\n",
    "\n",
    "f=open(\"New2.txt\",\"r\")\n",
    "print(f.read())"
   ]
  },
  {
   "cell_type": "code",
   "execution_count": null,
   "id": "fe526d3b-5751-4e5f-9e44-853fa3ed534d",
   "metadata": {},
   "outputs": [],
   "source": []
  }
 ],
 "metadata": {
  "kernelspec": {
   "display_name": "Python 3 (ipykernel)",
   "language": "python",
   "name": "python3"
  },
  "language_info": {
   "codemirror_mode": {
    "name": "ipython",
    "version": 3
   },
   "file_extension": ".py",
   "mimetype": "text/x-python",
   "name": "python",
   "nbconvert_exporter": "python",
   "pygments_lexer": "ipython3",
   "version": "3.10.8"
  }
 },
 "nbformat": 4,
 "nbformat_minor": 5
}

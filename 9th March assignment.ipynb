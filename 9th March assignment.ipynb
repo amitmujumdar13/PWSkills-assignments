{
 "cells": [
  {
   "cell_type": "markdown",
   "id": "221a7538-baca-4091-9ba4-56982b837145",
   "metadata": {},
   "source": [
    "Q1. What are probability mass function(PMF) and Probability density function. Explain with example.\n",
    "\n",
    "Answer: PDF is a statistical term that describes the probability distribution of the continues random variable\n",
    "PMF is a statistical term that describes the probability distribution of the Discrete random variable\n",
    "\n",
    "PMF example: Bernauli distribution\n",
    "PDF example: Normal Distribution"
   ]
  },
  {
   "cell_type": "markdown",
   "id": "4892b15c-4683-486d-ab0c-13d9ab643049",
   "metadata": {},
   "source": [
    "****\n",
    "Q2. What is cumulative distribution function and why it is used?\n",
    "\n",
    "Answer: The cumulative distribution function (CDF) of a random variable is another method to describe the distribution of random variables. Cumulative distribution functions are excellent for providing probabilities that the next observation will be less than or equal to the value you specify.\n",
    "\n",
    "The advantage of the CDF is that it can be defined for any kind of random variable (discrete, continuous, and mixed).\n",
    "\n"
   ]
  },
  {
   "cell_type": "markdown",
   "id": "52f8385b-006c-4d08-a752-1a5ebe69f2bd",
   "metadata": {},
   "source": [
    "******************************\n",
    "\n",
    "Q3. What are some examples of situations where normal distribution might be used as model? Explain how parametres of normal distribution relate to shape of distribution? \n",
    "\n",
    "Answer: \n",
    "Height, birth weight, reading ability, job satisfaction, or SAT scores are just a few examples of such variables.\n",
    "\n",
    "The two main parameters of a (normal) distribution are the mean and standard deviation. The parameters determine the shape and probabilities of the distribution."
   ]
  },
  {
   "cell_type": "markdown",
   "id": "cd7d1062-df50-409d-925f-173e1e270326",
   "metadata": {},
   "source": [
    "**************\n",
    "Q4. Explain importance of normal distribution, what are real life scenarios.\n",
    "\n",
    "Answer: Height, birth weight, reading ability, job satisfaction, or SAT scores are just a few examples of such variables.\n",
    "\n",
    "1)      It has one of the important properties called central theorem. Central theorem means relationship between shape of population distribution and shape of sampling distribution of mean. This means that sampling distribution of mean approaches normal as sample size increase.\n",
    "\n",
    "2)      In case the sample size is large the normal distribution serves as good approximation.\n",
    "\n",
    "3)      Due to its mathematical properties it is more popular and easy to calculate.\n",
    "\n",
    "4)      It is used in statistical quality control in setting up of control limits.\n",
    "\n",
    "\n"
   ]
  },
  {
   "cell_type": "markdown",
   "id": "641e3947-ba4e-4fc5-bd6c-ce301ab02073",
   "metadata": {},
   "source": [
    "***************\n",
    "\n",
    "Q5. What is Bernauli distribution? Give example, what is difference between Bernaui and Binomial distribution?\n",
    "\n",
    "Answer: \n",
    "Bernauli distribution is the discrete probability distribution of a random variable which takes the value 1 with probability \n",
    "p and the value 0 with probability \n",
    "{q=1-p}. It can be thought of as a model for the set of possible outcomes of any single experiment that asks a yes–no question.\n",
    "\n",
    "Binomial dictribution can be though of as multiple single experiments occuring independent of each other. "
   ]
  },
  {
   "cell_type": "markdown",
   "id": "5f537b4d-acc8-49ea-9974-3809b078ba80",
   "metadata": {},
   "source": [
    "*******************\n",
    "Q6. Consider dataset with mean 50 and std dev 10. \n",
    "If we assume dataset is normally distributed, what is probability that a randomly selected observation greater than 60.\n",
    "\n",
    "Answer: \n",
    "Z = (x - mean) / std dev\n",
    "\n",
    "mean = 50, std dev = 10, x = 60 \n",
    "\n",
    "Z = (60-50) / 10 = 1\n",
    "P(Z) = P(X<= 60) = 0.8413 \n",
    "P(X>60) = 1-0.8413 = 0.1587\n"
   ]
  },
  {
   "cell_type": "markdown",
   "id": "442dee2b-bf2b-4e6f-a16f-2a3c57b04729",
   "metadata": {},
   "source": [
    "Q7: Explain uniform Distribution with an example.\n",
    "Answer:\n",
    "Uniform distribution is a term used to describe a form of probability distribution where every possible outcome has an equal likelihood of happening. The probability is constant since each variable has equal chances of being the outcome.\n",
    "\n",
    "Example: A deck of cards also has a uniform distribution. It is because an individual has an equal chance of drawing a spade, a heart, a club, or a diamond. Another example of a uniform distribution is when a coin is tossed. \n",
    "\n",
    "*********"
   ]
  },
  {
   "cell_type": "markdown",
   "id": "db70777e-3331-4c23-b9ba-c355907e6d6c",
   "metadata": {},
   "source": [
    "Q8: What is the z score? State the importance of the z score.\n",
    "\n",
    "Answer: \n",
    "z score provides area under the curve.\n",
    "It is a very useful statistic because it (a) allows us to calculate the probability of a score occurring within our normal distribution and (b) enables us to compare two scores that are from different normal distributions.\n",
    "\n",
    "**********"
   ]
  },
  {
   "cell_type": "markdown",
   "id": "ec346371-7746-4864-b0fc-109c280bb255",
   "metadata": {},
   "source": [
    "Q9: What is Central Limit Theorem? State the significance of the Central Limit Theorem.\n",
    "\n",
    "Answer: \n",
    "The central limit theorem says that the sampling distribution of the mean will always be normally distributed, as long as the sample size is large enough. Regardless of whether the population has a normal, Poisson, binomial, or any other distribution, the sampling distribution of the mean will be normal.\n",
    "\n",
    "You use the CLT in various census fields to calculate various population details, such as family income, electricity consumption, individual salaries, and so on."
   ]
  },
  {
   "cell_type": "markdown",
   "id": "f4f157a7-7468-4db7-a4b5-1740e879b98c",
   "metadata": {},
   "source": [
    "*********\n",
    "\n",
    "Q10: State the assumptions of the Central Limit Theorem.\n",
    "\n",
    "Answer: \n",
    "1. The data must follow the randomization condition. It must be sampled randomly\n",
    "2. Samples should be independent of each other. One sample should not influence the other samples\n",
    "3. Sample size should be not more than 10% of the population when sampling is done without replacement\n",
    "4. The sample size should be sufficiently large. Now, how will we figure out how large this size should be? Well, it depends on the population. When the population is skewed or asymmetric, the sample size should be large. If the population is symmetric, then we can draw small samples as well."
   ]
  }
 ],
 "metadata": {
  "kernelspec": {
   "display_name": "Python 3 (ipykernel)",
   "language": "python",
   "name": "python3"
  },
  "language_info": {
   "codemirror_mode": {
    "name": "ipython",
    "version": 3
   },
   "file_extension": ".py",
   "mimetype": "text/x-python",
   "name": "python",
   "nbconvert_exporter": "python",
   "pygments_lexer": "ipython3",
   "version": "3.10.8"
  }
 },
 "nbformat": 4,
 "nbformat_minor": 5
}

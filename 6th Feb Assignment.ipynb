{
 "cells": [
  {
   "cell_type": "markdown",
   "id": "28b5d619-0afe-40b8-9cac-ccc2adffc6e1",
   "metadata": {},
   "source": [
    "Q1. Create a function which will take a list as an argument and return the product of all the numbers\n",
    "after creating a flat list.\n",
    "Use the below-given list as an argument for your function.\n",
    "\n",
    "Note: you must extract numeric keys and values of the dictionary also."
   ]
  },
  {
   "cell_type": "code",
   "execution_count": 9,
   "id": "450d9194-fb81-4703-8976-9a12e80d3da0",
   "metadata": {},
   "outputs": [],
   "source": [
    "list1 = [1,2,3,4, [44,55,66, True], False, (34,56,78,89,34), {1,2,3,3,2,1}, {1:34, \"key2\": [55, 67, 78, 89], 4: (45,\n",
    "22, 61, 34)}, [56, 'data science'], 'Machine Learning']"
   ]
  },
  {
   "cell_type": "code",
   "execution_count": 10,
   "id": "0b9dab95-0574-4122-9ae7-0eec661bf2d1",
   "metadata": {},
   "outputs": [],
   "source": [
    "def prodnum(l1):\n",
    "    for x in l1:\n",
    "        if type(x) == int:\n",
    "            l2.append(x)\n",
    "        elif type(x) == list or type(x) == tuple or type(x) == set:\n",
    "            prodnum(x)\n",
    "        elif type(x) == dict:\n",
    "             for y in x.keys():\n",
    "                    if type(y) == int: \n",
    "                        l2.append(y)\n",
    "             for z in x.values():\n",
    "                    if type(z) == int:\n",
    "                         l2.append(z)\n",
    "                    else:\n",
    "                        prodnum(z)"
   ]
  },
  {
   "cell_type": "code",
   "execution_count": 11,
   "id": "5366c13c-a2f1-48e1-b85a-6a9f0eb4bead",
   "metadata": {},
   "outputs": [
    {
     "name": "stdout",
     "output_type": "stream",
     "text": [
      "Product of all integers:4134711838987085478833841242112000\n",
      "List of integers[1, 2, 3, 4, 44, 55, 66, 34, 56, 78, 89, 34, 1, 2, 3, 1, 4, 34, 55, 67, 78, 89, 45, 22, 61, 34, 56]\n"
     ]
    }
   ],
   "source": [
    "l2 = []\n",
    "prodnum(list1)\n",
    "prod=1\n",
    "for i in l2:\n",
    "    prod=prod*i\n",
    "\n",
    "print(\"Product of all integers:\",end=\"\" )\n",
    "print(prod)\n",
    "print(\"List of integers\",end=\"\")\n",
    "print(l2)"
   ]
  },
  {
   "cell_type": "markdown",
   "id": "e41f55d2-6ce4-46f2-8c84-9315273d15bd",
   "metadata": {},
   "source": [
    "Q2. Write a python program for encrypting a message sent to you by your friend. The logic of encryption\n",
    "should be such that, for a the output should be z. For b, the output should be y. For c, the output should\n",
    "be x respectively. Also, the whitespace should be replaced with a dollar sign. Keep the punctuation\n",
    "marks unchanged.\n",
    "\n",
    "Input Sentence: I want to become a Data Scientist.\n",
    "Encrypt the above input sentence using the program you just created.\n",
    "Note: Convert the given input sentence into lowercase before encrypting. The final output should be\n",
    "lowercase.\n"
   ]
  },
  {
   "cell_type": "code",
   "execution_count": 7,
   "id": "c1ee685b-d6c5-4977-b262-71178834a02f",
   "metadata": {},
   "outputs": [],
   "source": [
    "inp=\"I want to become a Data Scientist.\"\n",
    "\n",
    "def encrypt(st):\n",
    "    st=st.lower()\n",
    "    st1=\"\"\n",
    "    for i in st:\n",
    "        if i == \" \":\n",
    "            st1 = st1 + str(\"$\")\n",
    "        elif i.isalpha():\n",
    "            st1 = st1 + chr (122- ord (i) + 97)\n",
    "        else:\n",
    "            st1 = st1 + str(i)\n",
    "    return st1"
   ]
  },
  {
   "cell_type": "code",
   "execution_count": 8,
   "id": "62514395-149f-4450-a84b-5d5fb1be6598",
   "metadata": {},
   "outputs": [
    {
     "data": {
      "text/plain": [
       "'r$dzmg$gl$yvxlnv$z$wzgz$hxrvmgrhg.'"
      ]
     },
     "execution_count": 8,
     "metadata": {},
     "output_type": "execute_result"
    }
   ],
   "source": [
    "encrypt(inp)"
   ]
  },
  {
   "cell_type": "code",
   "execution_count": null,
   "id": "babac44b-9c29-4499-86e8-840413a8e771",
   "metadata": {},
   "outputs": [],
   "source": []
  }
 ],
 "metadata": {
  "kernelspec": {
   "display_name": "Python 3 (ipykernel)",
   "language": "python",
   "name": "python3"
  },
  "language_info": {
   "codemirror_mode": {
    "name": "ipython",
    "version": 3
   },
   "file_extension": ".py",
   "mimetype": "text/x-python",
   "name": "python",
   "nbconvert_exporter": "python",
   "pygments_lexer": "ipython3",
   "version": "3.10.8"
  }
 },
 "nbformat": 4,
 "nbformat_minor": 5
}

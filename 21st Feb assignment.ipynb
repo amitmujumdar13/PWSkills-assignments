{
 "cells": [
  {
   "cell_type": "markdown",
   "id": "f3d94097-e9ac-4f08-93f3-3e5d5b510178",
   "metadata": {},
   "source": [
    "Q1. What is Web Scraping? Why is it Used? Give three areas where Web Scraping is used to get data.\n",
    "*****\n",
    "\n",
    "Answer: Web scraping is the process of using bots to extract content and data from a website.\n",
    "Web scraping is used in a variety of digital businesses that rely on data harvesting. \n",
    "\n",
    "Legitimate use cases include:\n",
    "\n",
    "1. Search engine bots crawling a site, analyzing its content and then ranking it.\n",
    "2. Price comparison sites deploying bots to auto-fetch prices and product descriptions for allied seller websites.\n",
    "3. Market research companies using scrapers to pull data from forums and social media (e.g., for sentiment analysis).\n"
   ]
  },
  {
   "cell_type": "markdown",
   "id": "df7ff2fc-2ddf-42ce-aed4-d625966e6bfa",
   "metadata": {},
   "source": [
    "***\n",
    "\n",
    "Q2: What are different methods used for Web scraping?\n",
    "***\n",
    "\n",
    "Answer: \n",
    "1. HTML Parsing\n",
    "2. DOM Parsing\n",
    "3. Vertical Aggregation\n",
    "4. XPath\n",
    "5. Google Sheets\n"
   ]
  },
  {
   "cell_type": "markdown",
   "id": "182e0d96-4d99-4534-ba93-80a0e3e16bd0",
   "metadata": {},
   "source": [
    "Q3. What is BeautifulSoup? Why it is used?\n",
    "**\n",
    "Answer: Beautiful Soup is a python library which is used for quick turnaround of Screen Scraping projects.\n",
    "\n",
    "Beautiful Soup provides a few simple methods and Pythonic idioms for navigating, searching, and modifying a parse tree: a toolkit for dissecting a document and extracting what you need. It doesn't take much code to write an application\n",
    "\n",
    "Beautiful Soup automatically converts incoming documents to Unicode and outgoing documents to UTF-8. You don't have to think about encodings, unless the document doesn't specify an encoding and Beautiful Soup can't detect one. Then you just have to specify the original encoding.\n",
    "\n",
    "Beautiful Soup sits on top of popular Python parsers like lxml and html5lib, allowing you to try out different parsing strategies or trade speed for flexibility.\n",
    "\n",
    "***\n",
    "\n"
   ]
  },
  {
   "cell_type": "markdown",
   "id": "f8dcdbad-02b1-41ba-8044-9ecc0c89c76b",
   "metadata": {},
   "source": [
    "Q4: Why is Flask used in Web scraping project?\n",
    "Answer: As Flask is used in creating Web applications, with the help of Flask a UI can be designed. \n",
    "This UI can take input from user and it can be read into a Web scraping program. This can make Web scraping user input driven.\n",
    "\n",
    "***"
   ]
  },
  {
   "cell_type": "markdown",
   "id": "00ed6225-6a87-46cb-b3c0-75826b063b4b",
   "metadata": {},
   "source": [
    "Q5. Write names of AWS services used in this project? Also explain use of each service.\n",
    "\n",
    "Answer: Code pipeline and Elastic Bean stalk are services ised in this project.\n",
    "Code pipeline is a service used for continous integration of the code. \n",
    "Elasti beanstalk is used to automatically assign AWS resources for the application deployment."
   ]
  }
 ],
 "metadata": {
  "kernelspec": {
   "display_name": "Python 3 (ipykernel)",
   "language": "python",
   "name": "python3"
  },
  "language_info": {
   "codemirror_mode": {
    "name": "ipython",
    "version": 3
   },
   "file_extension": ".py",
   "mimetype": "text/x-python",
   "name": "python",
   "nbconvert_exporter": "python",
   "pygments_lexer": "ipython3",
   "version": "3.10.8"
  }
 },
 "nbformat": 4,
 "nbformat_minor": 5
}

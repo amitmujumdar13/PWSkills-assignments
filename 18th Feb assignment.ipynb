{
 "cells": [
  {
   "cell_type": "markdown",
   "id": "0b679f07-3212-48be-88d0-5faabf54a7b2",
   "metadata": {},
   "source": [
    "Q1. What is an API? Give an example, where an API is used in real life.\n",
    "\n",
    "Answer: API is application Programming interface.It is used to expose a webservice to thrd party applications that works in request and response format.\n",
    "Google pay uses APIs from Bank web service in order to complete Credit / Debit transactions."
   ]
  },
  {
   "cell_type": "markdown",
   "id": "8d7e2b68-7bee-4053-a0ac-5d12a725c1ec",
   "metadata": {},
   "source": [
    "***\n",
    "Q2. Give advantages and disadvantages of using API.\n",
    "\n",
    "Answer: \n",
    "Advantages: \n",
    "1. Automation - When using an API managed by computers, less human effort is required and workflows can be easily updated to become faster and more productive.\n",
    "2. Developer efficiency and innovation - APIs empower developers to be more productive by reusing code in complex but repetitive processes.\n",
    "3. Improved value proposition - By using APIs made available by companies such as Amazon, Salesforce, or Twitter, an application can integrate those services into their own systems to make themselves more attractive to customers.\n",
    "\n",
    "Disadvantages:\n",
    "1. Cost- Providing an API is expensive in terms of development time, ongoing maintenance, providing API documentation on your website and providing support to users of your API.\n",
    "2. Security exposure- Adding an API adds another attack surface to your website.\n",
    "\n",
    "************\n",
    "\n",
    "Q3. What is a Web API? Differentiate between API and Web API.\n",
    "Answer: \n",
    "Web APIs are those APIs that are part of the World Wide Web – the global network of resources that comprise the Internet. \n",
    "\n",
    "API is an interface that exposes an application's data to outside software, whereas web applications are one type of API with stricter requirements.\n",
    "\n",
    "****************\n",
    "\n",
    "Q4. Explain REST and SOAP Architecture. Mention shortcomings of SOAP.\n",
    "\n",
    "Answer: \n",
    "\n",
    "REST and SOAP are 2 different approaches to online data transmission. Specifically, both define how to build application programming interfaces (APIs), which allow data to be communicated between web applications. Representational state transfer (REST) is a set of architectural principles. Simple object access protocol (SOAP) is an official protocol maintained by the World Wide Web Consortium (W3C). The main difference is that SOAP is a protocol while REST is not. \n",
    "\n",
    "SOAP: simple object access protocol\n",
    "\n",
    "SOAP is a standard protocol that was first designed so that applications built with different languages and on different platforms could communicate. Because it is a protocol, it imposes built-in rules that increase its complexity and overhead, which can lead to longer page load times. However, these standards also offer built-in compliances that can make it preferable for enterprise scenarios. The built-in compliance standards include security, atomicity, consistency, isolation, and durability (ACID), which is a set of properties for ensuring reliable database transactions.\n",
    "\n",
    "\n",
    "REST: representational state transfer\n",
    "REST is a set of architectural principles attuned to the needs of lightweight web services and mobile applications. \n",
    "\n",
    "An application is said to be RESTful if it follows 6 architectural guidelines. A RESTful application must have:\n",
    "\n",
    "1. A client-server architecture composed of clients, servers, and resources.\n",
    "2. Stateless client-server communication, meaning no client content is stored on the server between requests. Information about the session’s state is instead held with the client.\n",
    "3. Cacheable data to eliminate the need for some client-server interactions.\n",
    "4. A uniform interface between components so that information is transferred in a standardized form instead of specific to an application’s needs. This is described by Roy Fielding, the originator of REST, as “the central feature that distinguishes the REST architectural style from other network-based styles.”\n",
    "5. A layered system constraint, where client-server interactions can be mediated by hierarchical layers.\n",
    "6. Code on demand, allowing servers to extend the functionality of a client by transferring executable code (though also reducing visibility, making this an optional guideline).\n",
    "\n",
    "\n",
    "Shortcoming of SOAP API:\n",
    "As SOAP can only transfer messages as XML files, your SOAP API will be less performant, as XML is a verbose format compared to JSON. API calls made to your server will need more bandwidth and it will take more time to process the request and transfer the response back to the client.\n"
   ]
  },
  {
   "cell_type": "markdown",
   "id": "a24987f8-a782-472c-9537-6db7d3baf365",
   "metadata": {},
   "source": [
    "Q5. Differentiate between REST and SOAP.\n",
    "\n",
    "Answer: \n",
    "1. SOAP stands for Simple Object Access Protocol whereas REST stands for Representational State Transfer.\n",
    "2. SOAP is a protocol whereas REST is an architectural pattern.\n",
    "3. SOAP uses service interfaces to expose its functionality to client applications while REST uses Uniform Service locators to access to the components on the hardware device.\n",
    "4. SOAP needs more bandwidth for its usage whereas REST doesn’t need much bandwidth.\n",
    "5. Comparing SOAP vs REST API, SOAP only works with XML formats whereas REST work with plain text, XML, HTML and JSON.\n",
    "6. SOAP cannot make use of REST whereas REST can make use of SOAP."
   ]
  }
 ],
 "metadata": {
  "kernelspec": {
   "display_name": "Python 3 (ipykernel)",
   "language": "python",
   "name": "python3"
  },
  "language_info": {
   "codemirror_mode": {
    "name": "ipython",
    "version": 3
   },
   "file_extension": ".py",
   "mimetype": "text/x-python",
   "name": "python",
   "nbconvert_exporter": "python",
   "pygments_lexer": "ipython3",
   "version": "3.10.8"
  }
 },
 "nbformat": 4,
 "nbformat_minor": 5
}

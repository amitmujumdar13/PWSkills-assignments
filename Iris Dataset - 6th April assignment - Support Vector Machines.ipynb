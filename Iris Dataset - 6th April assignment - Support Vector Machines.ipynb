{
 "cells": [
  {
   "cell_type": "markdown",
   "id": "6b74c506-95bc-4dcf-862f-a407fdad2595",
   "metadata": {},
   "source": [
    "Q1. What is the mathematical formula for a linear SVM?\n",
    "\n",
    "Answer: \n",
    "The mathematical formula for a linear Support Vector Machine (SVM) can be represented as follows:\n",
    "\n",
    "Given a training dataset with input features X and corresponding binary class labels y (where y is either +1 or -1), the goal of a linear SVM is to find a hyperplane that maximizes the margin between the two classes while minimizing the classification error. The hyperplane is defined by the equation:\n",
    "w⋅x+b=0\n",
    "\n",
    "where:\n",
    "w is the weight vector (normal to the hyperplane)\n",
    "x is the input feature vector\n",
    "b is the bias term"
   ]
  },
  {
   "cell_type": "markdown",
   "id": "3719ae49-4257-49cc-9bad-02fd6d8adbec",
   "metadata": {},
   "source": [
    "*******\n",
    "Q2. What is the objective function of a linear SVM?\n",
    "\n",
    "Answer: \n",
    "\n",
    "The objective function of a linear Support Vector Machine (SVM) is used to define the optimization problem that aims to find the optimal hyperplane that separates the classes while maximizing the margin and controlling the classification error. The objective function for a linear SVM can be expressed as follows:\n",
    "\n",
    "min w,b ((1/2) * ||w|| ^ 2 + C * summation(epsilon (i) ))\n",
    "\n",
    "w is the weight vector (normal to the hyperplane)\n",
    "b is the bias term\n",
    "\n",
    "C is a regularization parameter that controls the trade-off between maximizing the margin and minimizing the classification error.\n",
    "\n",
    "The objective function consists of two terms:\n",
    "\n",
    "1. First term (1/2) * ||w|| ^ 2, , represents the regularization term that encourages the weights to be as small as possible, effectively promoting a larger margin between the classes.\n",
    "\n",
    "2. The second term, penalizes misclassifications and points that fall inside the margin. The parameter \n",
    "C controls the trade-off between achieving a smaller error and having a larger margin."
   ]
  },
  {
   "cell_type": "markdown",
   "id": "e22a5775-fe94-49a4-b6b4-f7147ecf0892",
   "metadata": {},
   "source": [
    "*************\n",
    "Q3. What is the kernel trick in SVM?\n",
    "\n",
    "Answer: \n",
    "The kernel trick is a powerful concept in machine learning, particularly in Support Vector Machines (SVMs), that allows you to implicitly map data into a higher-dimensional feature space without explicitly computing the transformations. This technique is used to handle complex and non-linear relationships between data points while still leveraging the computational efficiency of linear methods.\n",
    "\n",
    "In the context of SVMs, the kernel trick is employed to transform the original input features into a higher-dimensional space, where it might be easier to find a linear hyperplane that separates the classes. This can be beneficial when dealing with data that is not linearly separable in the original feature space.\n",
    "\n",
    "Mathematically, the kernel trick is introduced through the use of a kernel function \n",
    "K, which computes the dot product between the transformed feature vectors without explicitly calculating the transformation itself:\n",
    "\n",
    "K(xi,xj)=ϕ(xi)⋅ϕ(xj)\n",
    "\n",
    "where xi and xj are input data points, and ϕ represents the transformation function that maps the data into a higher-dimensional space.\n",
    "\n",
    "The key insight is that you don't need to compute the transformed feature vectorsexplicitely.\n",
    "Instead, you can directly compute the kernel function.\n",
    "\n",
    "Commonly used kernel functions are:\n",
    "Linear Kernel, Plynomial kernel, Radial Basis Function (RBF) Kernel"
   ]
  },
  {
   "cell_type": "markdown",
   "id": "aef21fc0-eac9-4455-98ef-13c964c4de91",
   "metadata": {},
   "source": [
    "*******\n",
    "Q4. What is the role of support vectors in SVM Explain with example\n",
    "\n",
    "Answer: \n",
    "Support vectors play a crucial role in Support Vector Machines (SVMs). They are the data points from the training dataset that are closest to the decision boundary, also known as the hyperplane. Support vectors determine the position and orientation of the hyperplane and are critical for defining the maximum margin between classes. In essence, they are the \"support\" for the separation of different classes.\n",
    "\n",
    "Let's illustrate this concept with a simple example:\n",
    "\n",
    "Suppose we have a binary classification problem with two classes, labeled as red (+1) and blue (-1), and our goal is to find a decision boundary that separates these classes. We have the following dataset:\n",
    "\n",
    "Red Class (+1):\n",
    "(1, 4)\n",
    "(2, 3)\n",
    "\n",
    "Blue Class (-1):\n",
    "(4, 1)\n",
    "(3, 2)\n",
    "\n",
    "In a 2D space, the data points can be visualized as follows:\n",
    "\n",
    "\n",
    "(4, 1)  B\n",
    "(3, 2)  B\n",
    "\n",
    "(2, 3)  R\n",
    "(1, 4)  R\n",
    "\n",
    "\n",
    "Now, let's assume we're using a linear SVM to classify this data. The optimal hyperplane would be the one that maximizes the margin between the classes. In this example, the decision boundary might look something like this:\n",
    "\n",
    "\n",
    "Support vectors play a crucial role in Support Vector Machines (SVMs). They are the data points from the training dataset that are closest to the decision boundary, also known as the hyperplane. Support vectors determine the position and orientation of the hyperplane and are critical for defining the maximum margin between classes. In essence, they are the \"support\" for the separation of different classes.\n",
    "\n",
    "Let's illustrate this concept with a simple example:\n",
    "\n",
    "Suppose we have a binary classification problem with two classes, labeled as red (+1) and blue (-1), and our goal is to find a decision boundary that separates these classes. We have the following dataset:\n",
    "\n",
    "java\n",
    "Copy code\n",
    "Red Class (+1):\n",
    "(1, 4)\n",
    "(2, 3)\n",
    "\n",
    "Blue Class (-1):\n",
    "(4, 1)\n",
    "(3, 2)\n",
    "In a 2D space, the data points can be visualized as follows:\n",
    "\n",
    "scss\n",
    "Copy code\n",
    "(4, 1)  B\n",
    "(3, 2)  B\n",
    "\n",
    "(2, 3)  R\n",
    "(1, 4)  R\n",
    "Now, let's assume we're using a linear SVM to classify this data. The optimal hyperplane would be the one that maximizes the margin between the classes. In this example, the decision boundary might look something like this:\n",
    "\n",
    "\n",
    "In this scenario, the two red data points and the two blue data points that are closest to the decision boundary are the support vectors. These support vectors effectively determine the position and orientation of the decision boundary."
   ]
  },
  {
   "cell_type": "markdown",
   "id": "9dae23e6-d919-46b2-8afd-19a360869a1d",
   "metadata": {},
   "source": [
    "***********\n",
    "Q5. Illustrate with examples and graphs of Hyperplane, Marginal plane, Soft margin and Hard margin in\n",
    "SVM?"
   ]
  },
  {
   "cell_type": "markdown",
   "id": "512def58-f096-4cb9-a0a6-ef24e0d299c0",
   "metadata": {},
   "source": [
    "Example 1: Linear SVM with Hard Margin\n",
    "\n",
    "Consider a simple example with two classes, where the classes are linearly separable:\n",
    "\n",
    "Class A: (+1)\n",
    "(2, 2)\n",
    "(3, 3)\n",
    "(4, 4)\n",
    "\n",
    "Class B: (-1)\n",
    "(6, 1)\n",
    "(7, 2)\n",
    "(8, 3)\n",
    "\n",
    "Here's how the data points look:\n",
    "\n",
    "  B       B\n",
    "   \\     /\n",
    "    \\   /\n",
    "     \\ /\n",
    "      x\n",
    "     / \\\n",
    "    /   \\\n",
    "   /     \\\n",
    "  A       A\n",
    "In this case, we can clearly draw a linear decision boundary (hyperplane) that separates the two classes without any misclassifications. This is an example of a hard margin SVM."
   ]
  },
  {
   "cell_type": "markdown",
   "id": "6775e75d-cd79-4e79-b273-98fd8597d4d3",
   "metadata": {},
   "source": [
    "Example 2: Linear SVM with Soft Margin\n",
    "\n",
    "Now, let's consider a scenario where the classes are not perfectly separable:\n",
    "\n",
    "Class A: (+1)\n",
    "(1, 1)\n",
    "(2, 2)\n",
    "(3, 2)\n",
    "\n",
    "Class B: (-1)\n",
    "(6, 3)\n",
    "(7, 4)\n",
    "(8, 5)\n",
    "\n",
    "Here's how the data points look:\n",
    "\n",
    "\n",
    "  B           B\n",
    "   \\         /\n",
    "    \\       /\n",
    "     \\     /\n",
    "      \\   /\n",
    "       x\n",
    "      / \\\n",
    "     /   \\\n",
    "    /     \\\n",
    "   /       \\\n",
    "  A         A\n",
    "In this case, it's not possible to find a linear hyperplane that perfectly separates the classes without any misclassifications. To handle such cases, we introduce the concept of a soft margin. The SVM allows for some misclassifications and introduces slack variables (ξ) that represent the degree of misclassification."
   ]
  },
  {
   "cell_type": "markdown",
   "id": "37955aa3-9f4e-4fc4-8f62-404a0f02786c",
   "metadata": {},
   "source": [
    "Example 3: Non-Linear SVM with Marginal Plane\n",
    "\n",
    "In some cases, the data might not be linearly separable in the original feature space. Consider a scenario with two classes that can be separated using a marginal plane:\n",
    "\n",
    "Class A: (+1)\n",
    "(1, 2)\n",
    "(2, 3)\n",
    "(3, 3)\n",
    "\n",
    "Class B: (-1)\n",
    "(5, 4)\n",
    "(6, 5)\n",
    "(7, 6)\n",
    "\n",
    "Here's how the data points look:\n",
    "\n",
    "\n",
    "  B\n",
    "   \\\n",
    "    \\\n",
    "     \\       A\n",
    "      \\     /\n",
    "       \\   /\n",
    "        \\ /\n",
    "         x\n",
    "          \\\n",
    "           \\\n",
    "            \\     A\n",
    "             \\   /\n",
    "              \\ /\n",
    "               x\n",
    "                \\\n",
    "                 \\\n",
    "                  B\n",
    "In this case, a linear decision boundary cannot separate the classes effectively. However, by introducing a kernel function, we can map the data into a higher-dimensional space where they can be separated by a linear hyperplane (marginal plane)."
   ]
  },
  {
   "cell_type": "markdown",
   "id": "7c5bd3c4-9096-42ff-80e2-0fde460b0003",
   "metadata": {},
   "source": [
    "**********\n",
    "Q6. SVM Implementation through Iris dataset.\n",
    "\n",
    "1.Load the iris dataset from the scikit-learn library and split it into a training set and a testing setl\n",
    "\n",
    "2.Train a linear SVM classifier on the training set and predict the labels for the testing setl\n",
    "\n",
    "3.Compute the accuracy of the model on the testing setl\n",
    "\n",
    "4.Plot the decision boundaries of the trained model using two of the featuresl\n",
    "\n",
    "5.Try different values of the regularisation parameter C and see how it affects the performance of\n",
    "the model."
   ]
  },
  {
   "cell_type": "code",
   "execution_count": 7,
   "id": "dfec61bd-345c-4838-b881-3d8d60822fdb",
   "metadata": {},
   "outputs": [],
   "source": [
    "from sklearn.datasets import load_iris\n",
    "iris = load_iris()"
   ]
  },
  {
   "cell_type": "code",
   "execution_count": 8,
   "id": "ff821b09-95ec-464a-acca-f9ca526a2ec8",
   "metadata": {},
   "outputs": [],
   "source": [
    "df = pd.DataFrame(iris.data, columns = iris.feature_names)"
   ]
  },
  {
   "cell_type": "code",
   "execution_count": 22,
   "id": "c3bb9a6a-bf6c-43c9-a801-825a28eeac69",
   "metadata": {},
   "outputs": [],
   "source": [
    "from sklearn.model_selection import train_test_split\n",
    "\n",
    "X = iris.data\n",
    "y = iris.target\n",
    "X_train, X_test,Y_train, Y_test = train_test_split(X,y,test_size=0.25,random_state=42)"
   ]
  },
  {
   "cell_type": "code",
   "execution_count": 23,
   "id": "e3c813cf-5ffe-453e-a65e-eb51ea64aa7a",
   "metadata": {},
   "outputs": [
    {
     "data": {
      "text/html": [
       "<style>#sk-container-id-2 {color: black;background-color: white;}#sk-container-id-2 pre{padding: 0;}#sk-container-id-2 div.sk-toggleable {background-color: white;}#sk-container-id-2 label.sk-toggleable__label {cursor: pointer;display: block;width: 100%;margin-bottom: 0;padding: 0.3em;box-sizing: border-box;text-align: center;}#sk-container-id-2 label.sk-toggleable__label-arrow:before {content: \"▸\";float: left;margin-right: 0.25em;color: #696969;}#sk-container-id-2 label.sk-toggleable__label-arrow:hover:before {color: black;}#sk-container-id-2 div.sk-estimator:hover label.sk-toggleable__label-arrow:before {color: black;}#sk-container-id-2 div.sk-toggleable__content {max-height: 0;max-width: 0;overflow: hidden;text-align: left;background-color: #f0f8ff;}#sk-container-id-2 div.sk-toggleable__content pre {margin: 0.2em;color: black;border-radius: 0.25em;background-color: #f0f8ff;}#sk-container-id-2 input.sk-toggleable__control:checked~div.sk-toggleable__content {max-height: 200px;max-width: 100%;overflow: auto;}#sk-container-id-2 input.sk-toggleable__control:checked~label.sk-toggleable__label-arrow:before {content: \"▾\";}#sk-container-id-2 div.sk-estimator input.sk-toggleable__control:checked~label.sk-toggleable__label {background-color: #d4ebff;}#sk-container-id-2 div.sk-label input.sk-toggleable__control:checked~label.sk-toggleable__label {background-color: #d4ebff;}#sk-container-id-2 input.sk-hidden--visually {border: 0;clip: rect(1px 1px 1px 1px);clip: rect(1px, 1px, 1px, 1px);height: 1px;margin: -1px;overflow: hidden;padding: 0;position: absolute;width: 1px;}#sk-container-id-2 div.sk-estimator {font-family: monospace;background-color: #f0f8ff;border: 1px dotted black;border-radius: 0.25em;box-sizing: border-box;margin-bottom: 0.5em;}#sk-container-id-2 div.sk-estimator:hover {background-color: #d4ebff;}#sk-container-id-2 div.sk-parallel-item::after {content: \"\";width: 100%;border-bottom: 1px solid gray;flex-grow: 1;}#sk-container-id-2 div.sk-label:hover label.sk-toggleable__label {background-color: #d4ebff;}#sk-container-id-2 div.sk-serial::before {content: \"\";position: absolute;border-left: 1px solid gray;box-sizing: border-box;top: 0;bottom: 0;left: 50%;z-index: 0;}#sk-container-id-2 div.sk-serial {display: flex;flex-direction: column;align-items: center;background-color: white;padding-right: 0.2em;padding-left: 0.2em;position: relative;}#sk-container-id-2 div.sk-item {position: relative;z-index: 1;}#sk-container-id-2 div.sk-parallel {display: flex;align-items: stretch;justify-content: center;background-color: white;position: relative;}#sk-container-id-2 div.sk-item::before, #sk-container-id-2 div.sk-parallel-item::before {content: \"\";position: absolute;border-left: 1px solid gray;box-sizing: border-box;top: 0;bottom: 0;left: 50%;z-index: -1;}#sk-container-id-2 div.sk-parallel-item {display: flex;flex-direction: column;z-index: 1;position: relative;background-color: white;}#sk-container-id-2 div.sk-parallel-item:first-child::after {align-self: flex-end;width: 50%;}#sk-container-id-2 div.sk-parallel-item:last-child::after {align-self: flex-start;width: 50%;}#sk-container-id-2 div.sk-parallel-item:only-child::after {width: 0;}#sk-container-id-2 div.sk-dashed-wrapped {border: 1px dashed gray;margin: 0 0.4em 0.5em 0.4em;box-sizing: border-box;padding-bottom: 0.4em;background-color: white;}#sk-container-id-2 div.sk-label label {font-family: monospace;font-weight: bold;display: inline-block;line-height: 1.2em;}#sk-container-id-2 div.sk-label-container {text-align: center;}#sk-container-id-2 div.sk-container {/* jupyter's `normalize.less` sets `[hidden] { display: none; }` but bootstrap.min.css set `[hidden] { display: none !important; }` so we also need the `!important` here to be able to override the default hidden behavior on the sphinx rendered scikit-learn.org. See: https://github.com/scikit-learn/scikit-learn/issues/21755 */display: inline-block !important;position: relative;}#sk-container-id-2 div.sk-text-repr-fallback {display: none;}</style><div id=\"sk-container-id-2\" class=\"sk-top-container\"><div class=\"sk-text-repr-fallback\"><pre>SVC()</pre><b>In a Jupyter environment, please rerun this cell to show the HTML representation or trust the notebook. <br />On GitHub, the HTML representation is unable to render, please try loading this page with nbviewer.org.</b></div><div class=\"sk-container\" hidden><div class=\"sk-item\"><div class=\"sk-estimator sk-toggleable\"><input class=\"sk-toggleable__control sk-hidden--visually\" id=\"sk-estimator-id-2\" type=\"checkbox\" checked><label for=\"sk-estimator-id-2\" class=\"sk-toggleable__label sk-toggleable__label-arrow\">SVC</label><div class=\"sk-toggleable__content\"><pre>SVC()</pre></div></div></div></div></div>"
      ],
      "text/plain": [
       "SVC()"
      ]
     },
     "execution_count": 23,
     "metadata": {},
     "output_type": "execute_result"
    }
   ],
   "source": [
    "from sklearn import svm\n",
    "clf = svm.SVC()\n",
    "clf.fit(X_train, Y_train)"
   ]
  },
  {
   "cell_type": "code",
   "execution_count": 24,
   "id": "e5d8ddcf-f81c-4bc7-bb5b-8d7d1aad03f5",
   "metadata": {},
   "outputs": [],
   "source": [
    "y_pred = clf.predict(X_test)"
   ]
  },
  {
   "cell_type": "code",
   "execution_count": 26,
   "id": "e16f722b-e498-4edd-8762-eda691828b3d",
   "metadata": {},
   "outputs": [],
   "source": [
    "from sklearn.metrics import accuracy_score\n",
    "\n",
    "# Compute the accuracy of the model\n",
    "accuracy = accuracy_score(Y_test, y_pred)"
   ]
  },
  {
   "cell_type": "code",
   "execution_count": 27,
   "id": "d44c8a81-ed89-4983-9c44-5b454538a410",
   "metadata": {},
   "outputs": [
    {
     "data": {
      "text/plain": [
       "1.0"
      ]
     },
     "execution_count": 27,
     "metadata": {},
     "output_type": "execute_result"
    }
   ],
   "source": [
    "accuracy"
   ]
  },
  {
   "cell_type": "markdown",
   "id": "1e413fa8-7ec2-42f5-a7ad-600e93f43096",
   "metadata": {},
   "source": [
    "Here accuracy is 100%"
   ]
  },
  {
   "cell_type": "code",
   "execution_count": 43,
   "id": "42c87750-79fe-4ebd-9363-be79bacdf64a",
   "metadata": {},
   "outputs": [
    {
     "data": {
      "text/html": [
       "<style>#sk-container-id-3 {color: black;background-color: white;}#sk-container-id-3 pre{padding: 0;}#sk-container-id-3 div.sk-toggleable {background-color: white;}#sk-container-id-3 label.sk-toggleable__label {cursor: pointer;display: block;width: 100%;margin-bottom: 0;padding: 0.3em;box-sizing: border-box;text-align: center;}#sk-container-id-3 label.sk-toggleable__label-arrow:before {content: \"▸\";float: left;margin-right: 0.25em;color: #696969;}#sk-container-id-3 label.sk-toggleable__label-arrow:hover:before {color: black;}#sk-container-id-3 div.sk-estimator:hover label.sk-toggleable__label-arrow:before {color: black;}#sk-container-id-3 div.sk-toggleable__content {max-height: 0;max-width: 0;overflow: hidden;text-align: left;background-color: #f0f8ff;}#sk-container-id-3 div.sk-toggleable__content pre {margin: 0.2em;color: black;border-radius: 0.25em;background-color: #f0f8ff;}#sk-container-id-3 input.sk-toggleable__control:checked~div.sk-toggleable__content {max-height: 200px;max-width: 100%;overflow: auto;}#sk-container-id-3 input.sk-toggleable__control:checked~label.sk-toggleable__label-arrow:before {content: \"▾\";}#sk-container-id-3 div.sk-estimator input.sk-toggleable__control:checked~label.sk-toggleable__label {background-color: #d4ebff;}#sk-container-id-3 div.sk-label input.sk-toggleable__control:checked~label.sk-toggleable__label {background-color: #d4ebff;}#sk-container-id-3 input.sk-hidden--visually {border: 0;clip: rect(1px 1px 1px 1px);clip: rect(1px, 1px, 1px, 1px);height: 1px;margin: -1px;overflow: hidden;padding: 0;position: absolute;width: 1px;}#sk-container-id-3 div.sk-estimator {font-family: monospace;background-color: #f0f8ff;border: 1px dotted black;border-radius: 0.25em;box-sizing: border-box;margin-bottom: 0.5em;}#sk-container-id-3 div.sk-estimator:hover {background-color: #d4ebff;}#sk-container-id-3 div.sk-parallel-item::after {content: \"\";width: 100%;border-bottom: 1px solid gray;flex-grow: 1;}#sk-container-id-3 div.sk-label:hover label.sk-toggleable__label {background-color: #d4ebff;}#sk-container-id-3 div.sk-serial::before {content: \"\";position: absolute;border-left: 1px solid gray;box-sizing: border-box;top: 0;bottom: 0;left: 50%;z-index: 0;}#sk-container-id-3 div.sk-serial {display: flex;flex-direction: column;align-items: center;background-color: white;padding-right: 0.2em;padding-left: 0.2em;position: relative;}#sk-container-id-3 div.sk-item {position: relative;z-index: 1;}#sk-container-id-3 div.sk-parallel {display: flex;align-items: stretch;justify-content: center;background-color: white;position: relative;}#sk-container-id-3 div.sk-item::before, #sk-container-id-3 div.sk-parallel-item::before {content: \"\";position: absolute;border-left: 1px solid gray;box-sizing: border-box;top: 0;bottom: 0;left: 50%;z-index: -1;}#sk-container-id-3 div.sk-parallel-item {display: flex;flex-direction: column;z-index: 1;position: relative;background-color: white;}#sk-container-id-3 div.sk-parallel-item:first-child::after {align-self: flex-end;width: 50%;}#sk-container-id-3 div.sk-parallel-item:last-child::after {align-self: flex-start;width: 50%;}#sk-container-id-3 div.sk-parallel-item:only-child::after {width: 0;}#sk-container-id-3 div.sk-dashed-wrapped {border: 1px dashed gray;margin: 0 0.4em 0.5em 0.4em;box-sizing: border-box;padding-bottom: 0.4em;background-color: white;}#sk-container-id-3 div.sk-label label {font-family: monospace;font-weight: bold;display: inline-block;line-height: 1.2em;}#sk-container-id-3 div.sk-label-container {text-align: center;}#sk-container-id-3 div.sk-container {/* jupyter's `normalize.less` sets `[hidden] { display: none; }` but bootstrap.min.css set `[hidden] { display: none !important; }` so we also need the `!important` here to be able to override the default hidden behavior on the sphinx rendered scikit-learn.org. See: https://github.com/scikit-learn/scikit-learn/issues/21755 */display: inline-block !important;position: relative;}#sk-container-id-3 div.sk-text-repr-fallback {display: none;}</style><div id=\"sk-container-id-3\" class=\"sk-top-container\"><div class=\"sk-text-repr-fallback\"><pre>SVC(kernel=&#x27;linear&#x27;)</pre><b>In a Jupyter environment, please rerun this cell to show the HTML representation or trust the notebook. <br />On GitHub, the HTML representation is unable to render, please try loading this page with nbviewer.org.</b></div><div class=\"sk-container\" hidden><div class=\"sk-item\"><div class=\"sk-estimator sk-toggleable\"><input class=\"sk-toggleable__control sk-hidden--visually\" id=\"sk-estimator-id-3\" type=\"checkbox\" checked><label for=\"sk-estimator-id-3\" class=\"sk-toggleable__label sk-toggleable__label-arrow\">SVC</label><div class=\"sk-toggleable__content\"><pre>SVC(kernel=&#x27;linear&#x27;)</pre></div></div></div></div></div>"
      ],
      "text/plain": [
       "SVC(kernel='linear')"
      ]
     },
     "execution_count": 43,
     "metadata": {},
     "output_type": "execute_result"
    }
   ],
   "source": [
    "import numpy as np\n",
    "## Plot the decision boundaries of the trained model using two of the featuresl\n",
    "X_v = iris.data[:, :2]  # Use only first two features for visualization\n",
    "\n",
    "# Split the dataset into a training set and a testing set\n",
    "X_v_train, X_v_test, y_v_train, y_v_test = train_test_split(X_v, y, test_size=0.2, random_state=42)\n",
    "\n",
    "# Train a linear SVM classifier\n",
    "svm_classifier = svm.SVC(kernel='linear')\n",
    "svm_classifier.fit(X_v_train, y_v_train)\n"
   ]
  },
  {
   "cell_type": "code",
   "execution_count": 44,
   "id": "73c8d50c-ac70-4b1f-958a-5d2a5dd6d052",
   "metadata": {},
   "outputs": [
    {
     "data": {
      "image/png": "[encoded data removed]",
      "text/plain": [
       "<Figure size 640x480 with 1 Axes>"
      ]
     },
     "metadata": {},
     "output_type": "display_data"
    }
   ],
   "source": [
    "import matplotlib.pyplot as plt\n",
    "# Create a meshgrid for visualization\n",
    "x_min, x_max = X_v[:, 0].min() - 1, X_v[:, 0].max() + 1\n",
    "y_min, y_max = X_v[:, 1].min() - 1, X_v[:, 1].max() + 1\n",
    "xx, yy = np.meshgrid(np.arange(x_min, x_max, 0.02),\n",
    "                     np.arange(y_min, y_max, 0.02))\n",
    "# Predict class labels for each point in the meshgrid\n",
    "Z = svm_classifier.predict(np.c_[xx.ravel(), yy.ravel()])\n",
    "Z = Z.reshape(xx.shape)\n",
    "\n",
    "# Plot decision boundaries and data points\n",
    "plt.contourf(xx, yy, Z, alpha=0.8, cmap=plt.cm.Paired)\n",
    "plt.scatter(X_v_train[:, 0], X_v_train[:, 1], c=y_v_train, cmap=plt.cm.Paired, edgecolors='k')\n",
    "plt.xlabel('Sepal Length')\n",
    "plt.ylabel('Sepal Width')\n",
    "plt.title('SVM Decision Boundaries with Two Features')\n",
    "plt.show()"
   ]
  },
  {
   "cell_type": "code",
   "execution_count": 57,
   "id": "e6561f04-ab62-4e18-978c-2b19d42e31a4",
   "metadata": {},
   "outputs": [],
   "source": [
    "## Try with different values of C\n",
    "\n",
    "clf1 = svm.SVC(kernel='linear',C=0.01)\n",
    "clf1.fit(X_train, Y_train)\n",
    "\n",
    "y_pred1=clf1.predict(X_test)"
   ]
  },
  {
   "cell_type": "code",
   "execution_count": 58,
   "id": "f7e5ccf3-b6e9-4cf4-a033-cc19df4114f8",
   "metadata": {},
   "outputs": [
    {
     "data": {
      "text/plain": [
       "array([1, 0, 2, 1, 1, 0, 1, 2, 1, 1, 2, 0, 0, 0, 0, 1, 2, 1, 1, 2, 0, 1,\n",
       "       0, 2, 2, 2, 2, 2, 0, 0, 0, 0, 1, 0, 0, 2, 1, 0])"
      ]
     },
     "execution_count": 58,
     "metadata": {},
     "output_type": "execute_result"
    }
   ],
   "source": [
    "y_pred1"
   ]
  },
  {
   "cell_type": "code",
   "execution_count": 59,
   "id": "05499d2e-f4c8-4238-9047-2f6313a4ee43",
   "metadata": {},
   "outputs": [
    {
     "data": {
      "text/plain": [
       "array([1, 0, 2, 1, 1, 0, 1, 2, 1, 1, 2, 0, 0, 0, 0, 1, 2, 1, 1, 2, 0, 2,\n",
       "       0, 2, 2, 2, 2, 2, 0, 0, 0, 0, 1, 0, 0, 2, 1, 0])"
      ]
     },
     "execution_count": 59,
     "metadata": {},
     "output_type": "execute_result"
    }
   ],
   "source": [
    "Y_test"
   ]
  },
  {
   "cell_type": "code",
   "execution_count": 61,
   "id": "1ca21958-90a9-42f9-af0e-e12584ed4e8d",
   "metadata": {},
   "outputs": [],
   "source": [
    "# Compute the accuracy of the model\n",
    "accuracy = accuracy_score(Y_test, y_pred1)"
   ]
  },
  {
   "cell_type": "code",
   "execution_count": 62,
   "id": "ec7656b1-c044-428b-ac10-89f6ab24b6fc",
   "metadata": {},
   "outputs": [
    {
     "data": {
      "text/plain": [
       "0.9736842105263158"
      ]
     },
     "execution_count": 62,
     "metadata": {},
     "output_type": "execute_result"
    }
   ],
   "source": [
    "accuracy"
   ]
  },
  {
   "cell_type": "markdown",
   "id": "677101bd-e2dc-4329-a2a6-93fa503e057a",
   "metadata": {},
   "source": [
    "**When C is very small, accuracy is decreased. For larger values of C until 1.0 which is default; there is no effect on accuracy**"
   ]
  },
  {
   "cell_type": "code",
   "execution_count": null,
   "id": "7dac1d62-733a-4dd9-b436-d7079f1f4ca5",
   "metadata": {},
   "outputs": [],
   "source": []
  }
 ],
 "metadata": {
  "kernelspec": {
   "display_name": "Python 3 (ipykernel)",
   "language": "python",
   "name": "python3"
  },
  "language_info": {
   "codemirror_mode": {
    "name": "ipython",
    "version": 3
   },
   "file_extension": ".py",
   "mimetype": "text/x-python",
   "name": "python",
   "nbconvert_exporter": "python",
   "pygments_lexer": "ipython3",
   "version": "3.10.8"
  }
 },
 "nbformat": 4,
 "nbformat_minor": 5
}

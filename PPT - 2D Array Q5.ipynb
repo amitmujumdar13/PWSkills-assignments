{
 "cells": [
  {
   "cell_type": "markdown",
   "id": "79596c43-7527-4be0-a808-71e4aabaa504",
   "metadata": {},
   "source": [
    "Convert 1D Array Into 2D Array\n",
    "\n",
    "You are given a **0-indexed** 1-dimensional (1D) integer array original, and two integers, m and n. You are tasked with creating a 2-dimensional (2D) array with  m rows and n columns using **all** the elements from original.\n",
    "\n",
    "The elements from indices 0 to n - 1 (**inclusive**) of original should form the first row of the constructed 2D array, the elements from indices n to 2 * n - 1 (**inclusive**) should form the second row of the constructed 2D array, and so on.\n",
    "\n",
    "Return *an* m x n *2D array constructed according to the above procedure, or an empty 2D array if it is impossible*."
   ]
  },
  {
   "cell_type": "code",
   "execution_count": 2,
   "id": "5bb63372-d23d-4806-80b9-0e5547bbb55e",
   "metadata": {},
   "outputs": [],
   "source": [
    "class Solution:\n",
    "    def construct2DArray(self, original, m, n):\n",
    "        ans = []\n",
    "        if len(original) == m*n: \n",
    "            for i in range(0, len(original), n): \n",
    "                ans.append(original[i:i+n])\n",
    "        return ans"
   ]
  },
  {
   "cell_type": "code",
   "execution_count": 6,
   "id": "58d277f3-49b3-4026-bd59-6aed057874da",
   "metadata": {},
   "outputs": [
    {
     "data": {
      "text/plain": [
       "4"
      ]
     },
     "execution_count": 6,
     "metadata": {},
     "output_type": "execute_result"
    }
   ],
   "source": [
    "original = [1,2,3,4]\n",
    "m = 2\n",
    "n = 2"
   ]
  },
  {
   "cell_type": "code",
   "execution_count": 5,
   "id": "29f9f9d7-a691-4c2e-8e25-5777198f7e6e",
   "metadata": {},
   "outputs": [
    {
     "data": {
      "text/plain": [
       "[[1, 2], [3, 4]]"
      ]
     },
     "execution_count": 5,
     "metadata": {},
     "output_type": "execute_result"
    }
   ],
   "source": [
    "sol=Solution()\n",
    "sol.construct2DArray(original,m,n)"
   ]
  },
  {
   "cell_type": "markdown",
   "id": "7f2609e2-9cda-4080-9331-022d969ab61c",
   "metadata": {},
   "source": [
    "<aside>\n",
    "💡 **Question 2**\n",
    "\n",
    "You have n coins and you want to build a staircase with these coins. The staircase consists of k rows where the ith row has exactly i coins. The last row of the staircase **may be** incomplete.\n",
    "\n",
    "Given the integer n, return *the number of **complete rows** of the staircase you will build*.\n",
    "\n",
    "</aside>"
   ]
  },
  {
   "cell_type": "code",
   "execution_count": 7,
   "id": "f988da4d-c5f9-4a28-8328-e986731b49ad",
   "metadata": {},
   "outputs": [],
   "source": [
    "n=5"
   ]
  },
  {
   "cell_type": "code",
   "execution_count": 10,
   "id": "a01d8b9b-4bc0-4aa8-bdc3-55e636548cf2",
   "metadata": {},
   "outputs": [],
   "source": [
    "class Solution:\n",
    "     def arrangeCoins(self, n):\n",
    "        return int((-1 + (1 + 8*n) ** 0.5) // 2)"
   ]
  },
  {
   "cell_type": "code",
   "execution_count": 11,
   "id": "4ed80fe4-f2f7-48a7-a004-9f8164ba9f75",
   "metadata": {},
   "outputs": [
    {
     "data": {
      "text/plain": [
       "2"
      ]
     },
     "execution_count": 11,
     "metadata": {},
     "output_type": "execute_result"
    }
   ],
   "source": [
    "sol=Solution()\n",
    "sol.arrangeCoins(n)"
   ]
  },
  {
   "cell_type": "markdown",
   "id": "c0a0bd52-dc9b-444f-aee1-36603980ad98",
   "metadata": {},
   "source": [
    "***\n",
    "<aside>\n",
    "💡 **Question 3**\n",
    "\n",
    "Given an integer array nums sorted in **non-decreasing** order, return *an array of **the squares of each number** sorted in non-decreasing order*.\n",
    "\n",
    "**Example 1:**\n",
    "\n",
    "**Input:** nums = [-4,-1,0,3,10]\n",
    "\n",
    "**Output:** [0,1,9,16,100]\n",
    "\n",
    "</aside>"
   ]
  },
  {
   "cell_type": "code",
   "execution_count": 14,
   "id": "ff4e5513-664d-4f2d-905f-4729f44a16cf",
   "metadata": {},
   "outputs": [],
   "source": [
    "class Solution:\n",
    "     def sortedSquares(self, A):\n",
    "        for i in range(len(A)):\n",
    "            A[i] *= A[i]\n",
    "        A.sort()\n",
    "        return A"
   ]
  },
  {
   "cell_type": "code",
   "execution_count": 15,
   "id": "61f467e4-1361-4942-a7f7-0f90a714dcde",
   "metadata": {},
   "outputs": [
    {
     "data": {
      "text/plain": [
       "[0, 1, 9, 16, 100]"
      ]
     },
     "execution_count": 15,
     "metadata": {},
     "output_type": "execute_result"
    }
   ],
   "source": [
    "sol=Solution()\n",
    "nums = [-4,-1,0,3,10]\n",
    "sol.sortedSquares(nums)"
   ]
  },
  {
   "cell_type": "markdown",
   "id": "1cc66504-0b0d-4463-af8c-f1b801afa92a",
   "metadata": {},
   "source": [
    "***\n",
    "<aside>\n",
    "💡 **Question 4**\n",
    "\n",
    "Given two **0-indexed** integer arrays nums1 and nums2, return *a list* answer *of size* 2 *where:*\n",
    "\n",
    "- answer[0] *is a list of all **distinct** integers in* nums1 *which are **not** present in* nums2*.*\n",
    "- answer[1] *is a list of all **distinct** integers in* nums2 *which are **not** present in* nums1.\n",
    "\n",
    "**Note** that the integers in the lists may be returned in **any** order.\n",
    "\n",
    "**Example 1:**\n",
    "\n",
    "**Input:** nums1 = [1,2,3], nums2 = [2,4,6]\n",
    "\n",
    "**Output:** [[1,3],[4,6]]\n",
    "\n",
    "</aside>"
   ]
  },
  {
   "cell_type": "code",
   "execution_count": 16,
   "id": "886c8b51-7453-4831-a12a-2e9f9de4f4c6",
   "metadata": {},
   "outputs": [],
   "source": [
    "class Solution:\n",
    "    def findDifference(self, nums1, nums2):\n",
    "        res=[]\n",
    "        a=[]\n",
    "        a=set(nums1) - set(nums2)\n",
    "        b=[]\n",
    "        b=set(nums2) - set(nums1)\n",
    "        res.append(a)\n",
    "        res.append(b)\n",
    "        return res"
   ]
  },
  {
   "cell_type": "code",
   "execution_count": 17,
   "id": "7ef910c1-b911-43e8-a48a-d4fa1a09e00c",
   "metadata": {},
   "outputs": [
    {
     "data": {
      "text/plain": [
       "[{1, 3}, {4, 6}]"
      ]
     },
     "execution_count": 17,
     "metadata": {},
     "output_type": "execute_result"
    }
   ],
   "source": [
    "sol=Solution()\n",
    "nums1 = [1,2,3]\n",
    "nums2 = [2,4,6]\n",
    "sol.findDifference(nums1,nums2)"
   ]
  },
  {
   "cell_type": "markdown",
   "id": "bcf2fc5b-56a8-431f-9a44-7eace3955a60",
   "metadata": {},
   "source": [
    "***\n",
    "<aside>\n",
    "💡 **Question 5**\n",
    "\n",
    "Given two integer arrays arr1 and arr2, and the integer d, *return the distance value between the two arrays*.\n",
    "\n",
    "The distance value is defined as the number of elements arr1[i] such that there is not any element arr2[j] where |arr1[i]-arr2[j]| <= d.\n",
    "\n",
    "**Example 1:**\n",
    "\n",
    "**Input:** arr1 = [4,5,8], arr2 = [10,9,1,8], d = 2\n",
    "\n",
    "</aside>"
   ]
  },
  {
   "cell_type": "code",
   "execution_count": 19,
   "id": "0cd976c5-1c98-416e-a956-6516b7d156ca",
   "metadata": {},
   "outputs": [],
   "source": [
    "class Solution:\n",
    "    def findTheDistanceValue(self, arr1, arr2, d):\n",
    "        count=0\n",
    "        arr2.sort()\n",
    "        for i in range(len(arr1)):\n",
    "            left,right=0,len(arr2)-1\n",
    "            while left<=right:\n",
    "                mid=(left+right)//2\n",
    "                if abs(arr1[i]-arr2[mid])<=d:\n",
    "                    count+=1\n",
    "                    break\n",
    "                elif arr1[i]<arr2[mid]:\n",
    "                    right=mid-1\n",
    "                else:\n",
    "                    left=mid+1\n",
    "        return len(arr1)-count"
   ]
  },
  {
   "cell_type": "code",
   "execution_count": 20,
   "id": "b6538287-10a4-4ca8-8fa3-b666ea7d70cb",
   "metadata": {},
   "outputs": [
    {
     "data": {
      "text/plain": [
       "2"
      ]
     },
     "execution_count": 20,
     "metadata": {},
     "output_type": "execute_result"
    }
   ],
   "source": [
    "arr1 = [4,5,8]\n",
    "arr2 = [10,9,1,8]\n",
    "d = 2\n",
    "sol=Solution()\n",
    "sol.findTheDistanceValue(arr1,arr2,d)"
   ]
  },
  {
   "cell_type": "markdown",
   "id": "ef00f017-98ef-4add-a707-2bb67f3908d1",
   "metadata": {},
   "source": [
    "***\n",
    "<aside>\n",
    "💡 **Question 6**\n",
    "\n",
    "Given an integer array nums of length n where all the integers of nums are in the range [1, n] and each integer appears **once** or **twice**, return *an array of all the integers that appears **twice***.\n",
    "\n",
    "You must write an algorithm that runs in O(n) time and uses only constant extra space.\n",
    "\n",
    "**Example 1:**\n",
    "\n",
    "**Input:** nums = [4,3,2,7,8,2,3,1]\n",
    "\n",
    "**Output:**\n",
    "\n",
    "[2,3]\n",
    "\n",
    "</aside>"
   ]
  },
  {
   "cell_type": "code",
   "execution_count": 46,
   "id": "b2c31e6f-2472-427d-b153-34d4b07f29fa",
   "metadata": {},
   "outputs": [],
   "source": [
    "class Solution:\n",
    "    def findDuplicates(self, nums):\n",
    "         rs = []\n",
    "         for num in nums:\n",
    "            num = abs(num)\n",
    "            print(num,nums[num-1])\n",
    "            if nums[num-1] < 0:\n",
    "              rs.append(num)\n",
    "            else:\n",
    "             nums[num-1] = -nums[num-1]\n",
    "         return rs"
   ]
  },
  {
   "cell_type": "code",
   "execution_count": 47,
   "id": "f6aee1f1-2224-4fdc-a409-aeb338fb27b0",
   "metadata": {},
   "outputs": [
    {
     "name": "stdout",
     "output_type": "stream",
     "text": [
      "4 7\n",
      "3 2\n",
      "2 3\n",
      "7 3\n",
      "8 1\n",
      "2 -3\n",
      "3 -2\n",
      "1 4\n"
     ]
    },
    {
     "data": {
      "text/plain": [
       "[2, 3]"
      ]
     },
     "execution_count": 47,
     "metadata": {},
     "output_type": "execute_result"
    }
   ],
   "source": [
    "sol=Solution()\n",
    "nums = [4,3,2,7,8,2,3,1]\n",
    "sol.findDuplicates(nums)"
   ]
  },
  {
   "cell_type": "markdown",
   "id": "2516ed4a-1244-4244-ae91-a023f7a055fb",
   "metadata": {},
   "source": [
    "***\n",
    "<aside>\n",
    "💡 **Question 7**\n",
    "\n",
    "Suppose an array of length n sorted in ascending order is **rotated** between 1 and n times. For example, the array nums = [0,1,2,4,5,6,7] might become:\n",
    "\n",
    "- [4,5,6,7,0,1,2] if it was rotated 4 times.\n",
    "- [0,1,2,4,5,6,7] if it was rotated 7 times.\n",
    "\n",
    "Notice that **rotating** an array [a[0], a[1], a[2], ..., a[n-1]] 1 time results in the array [a[n-1], a[0], a[1], a[2], ..., a[n-2]].\n",
    "\n",
    "Given the sorted rotated array nums of **unique** elements, return *the minimum element of this array*.\n",
    "\n",
    "You must write an algorithm that runs in O(log n) time.\n",
    "\n",
    "**Example 1:**\n",
    "\n",
    "**Input:** nums = [3,4,5,1,2]\n",
    "\n",
    "**Output:** 1\n",
    "\n",
    "</aside>"
   ]
  },
  {
   "cell_type": "code",
   "execution_count": 49,
   "id": "8c0f5ef9-c3d2-4472-b9fd-2cf20edd6bc7",
   "metadata": {},
   "outputs": [],
   "source": [
    "class Solution:\n",
    "    def findMin(self, nums):\n",
    "\n",
    "        # Initialize low and high\n",
    "        low, high = 0, len(nums) - 1\n",
    "\n",
    "        # Iterate until low <= high\n",
    "        while low <= high:\n",
    "\n",
    "            # Check if the array is not rotated\n",
    "            if nums[low] <= nums[high]:\n",
    "                # Return nums[low] when the array is not rotated\n",
    "                return nums[low]\n",
    "\n",
    "            # Initialize mid if the array is rotated\n",
    "            mid = (low + high)//2\n",
    "\n",
    "            # Check the direction of traversal, \n",
    "            # refer the image for explanation\n",
    "            if nums[low] > nums[mid]:\n",
    "                high = mid\n",
    "            else:\n",
    "                low = mid + 1"
   ]
  },
  {
   "cell_type": "code",
   "execution_count": 50,
   "id": "d07333de-c7b0-43b1-8944-d49272a92726",
   "metadata": {},
   "outputs": [],
   "source": [
    "sol=Solution()\n",
    "nums = [3,4,5,1,2]"
   ]
  },
  {
   "cell_type": "code",
   "execution_count": 51,
   "id": "07001947-4661-45b7-96fd-dba05ec5a39c",
   "metadata": {},
   "outputs": [
    {
     "data": {
      "text/plain": [
       "1"
      ]
     },
     "execution_count": 51,
     "metadata": {},
     "output_type": "execute_result"
    }
   ],
   "source": [
    "sol.findMin(nums)"
   ]
  },
  {
   "cell_type": "markdown",
   "id": "5f06a356-d474-49a6-bc28-b7d6a774b22a",
   "metadata": {},
   "source": [
    "***\n",
    "<aside>\n",
    "💡 **Question 8**\n",
    "\n",
    "An integer array original is transformed into a **doubled** array changed by appending **twice the value** of every element in original, and then randomly **shuffling** the resulting array.\n",
    "\n",
    "Given an array changed, return original *if* changed *is a **doubled** array. If* changed *is not a **doubled** array, return an empty array. The elements in* original *may be returned in **any** order*.\n",
    "\n",
    "</aside>\n",
    "\n",
    "**Example 1:**\n",
    "\n",
    "**Input:** changed = [1,3,4,2,6,8]\n",
    "\n",
    "**Output:** [1,3,4]"
   ]
  },
  {
   "cell_type": "code",
   "execution_count": 56,
   "id": "6ac17441-0d3b-47e9-a47a-c81709156d29",
   "metadata": {},
   "outputs": [],
   "source": [
    "changed = [1,3,4,2,6,8]"
   ]
  },
  {
   "cell_type": "code",
   "execution_count": 54,
   "id": "acba83cb-2f03-4dcb-8e26-4395bf5d3dde",
   "metadata": {},
   "outputs": [],
   "source": [
    "# Time Complexity: O(NlogN)\n",
    "# Space Complextiy O(N)\n",
    "# where N is the number of elements in `changed` \n",
    "class Solution:\n",
    "    def findOriginalArray(self, changed):\n",
    "        # use Counter to count the frequency of each element in `changed`\n",
    "        cnt, ans = Counter(changed), []\n",
    "        # if the length of the input is odd, then return []\n",
    "        # because doubled array must have even length\n",
    "        if len(changed) % 2: return []\n",
    "        # sort in ascending order\n",
    "        for x in sorted(cnt.keys()):\n",
    "            # if the number of cnt[x] is greater than than cnt[x * 2]\n",
    "            # then there would be some cnt[x] left\n",
    "            # therefore, return [] here as changed is not a doubled array\n",
    "            if cnt[x] > cnt[x * 2]: return []\n",
    "            # handle cases like [0,0,0,0]\n",
    "            if x == 0:\n",
    "                # similarly, odd length -> return []\n",
    "                if cnt[x] % 2:\n",
    "                    return []\n",
    "                else: \n",
    "                    # add `0` `cnt[x] // 2` times \n",
    "                    ans += [0] * (cnt[x] // 2)\n",
    "            else:\n",
    "                # otherwise, we put the element `x` `cnt[x]` times to ans\n",
    "                ans += [x] * cnt[x]\n",
    "            cnt[2 * x] -= cnt[x]\n",
    "        return ans"
   ]
  },
  {
   "cell_type": "code",
   "execution_count": 55,
   "id": "d3d9e34a-f7f2-4666-bd3f-f74059f641bb",
   "metadata": {},
   "outputs": [
    {
     "data": {
      "text/plain": [
       "[1, 3, 4]"
      ]
     },
     "execution_count": 55,
     "metadata": {},
     "output_type": "execute_result"
    }
   ],
   "source": [
    "sol=Solution()\n",
    "sol.findOriginalArray(changed)"
   ]
  },
  {
   "cell_type": "code",
   "execution_count": null,
   "id": "ce9147a9-8a2e-4185-b220-2e486703e50c",
   "metadata": {},
   "outputs": [],
   "source": []
  }
 ],
 "metadata": {
  "kernelspec": {
   "display_name": "Python 3 (ipykernel)",
   "language": "python",
   "name": "python3"
  },
  "language_info": {
   "codemirror_mode": {
    "name": "ipython",
    "version": 3
   },
   "file_extension": ".py",
   "mimetype": "text/x-python",
   "name": "python",
   "nbconvert_exporter": "python",
   "pygments_lexer": "ipython3",
   "version": "3.10.8"
  }
 },
 "nbformat": 4,
 "nbformat_minor": 5
}

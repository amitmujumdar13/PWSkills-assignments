{
 "cells": [
  {
   "cell_type": "markdown",
   "id": "efa8ce53-1e38-436d-a9ea-25e4cf3a39c5",
   "metadata": {},
   "source": [
    "Q1- Explain the following with an example\n",
    "1) Artificial Intelligence\n",
    "2) Machine Learning\n",
    "3) Deep Learning\n",
    "\n",
    "Answer: \n",
    "Artificial intelligence involves replicating human intellectual processes through machines, especially computers. There are many applications of AI, such as expert systems, natural language processing, speech recognition, and machine vision.\n",
    "\n",
    "ML is a subset of Artificial intelligence that involves training machines through Supervised, Unsupervised and Reinorcement learning\n",
    "Examples: Chatbot (Online Customer Support)\n",
    "\n",
    "Deep learning is the one category of machine learning that emphasizes training the computer about the basic instincts of human beings. \n",
    "In deep learning, a computer algorithm learns to perform classification tasks directly on complex data in the form of images, text, or sound. These algorithms can accomplish state-of-the-art (SOTA) accuracy, and even sometimes surpassing human-level performance. They are trained with the large set of labeled data and neural network architectures, involving many layers.\n",
    "\n",
    "Example: Vision for Driverless, Autonomous Cars"
   ]
  },
  {
   "cell_type": "markdown",
   "id": "1e87e3b1-290f-49a6-b60e-fc3b50dd0a17",
   "metadata": {},
   "source": [
    "****\n",
    "Q2- What is supervised learning? List some examples of supervised learning.\n",
    "\n",
    "Answer: Supervised learning is type of Machine learning where model is trained using Train data and used to perdict a target variable using trained model.\n",
    "Example: Linear Regression, Logistic regression"
   ]
  },
  {
   "cell_type": "markdown",
   "id": "786d55ac-6303-44ac-813f-88103828f2a5",
   "metadata": {},
   "source": [
    "***\n",
    "Q3- What is unsupervised learning? List some examples of unsupervised learning.\n",
    "\n",
    "Answer: It is type of ML where model is trained to classify data into similar types. There is no target variable in this type of model training.\n",
    "Example: Clustering"
   ]
  },
  {
   "cell_type": "markdown",
   "id": "a7042f52-c0df-409a-897e-d6c0ce23b9ac",
   "metadata": {},
   "source": [
    "******************\n",
    "Q4- What is the difference between AI, ML, DL, and DS?\n",
    "\n",
    "AI is a computer algorithm which exhibits intelligence through decision making.\n",
    "ML is an AI algorithm which allows system to learn from data.\n",
    "DL is a ML algorithm that uses deep(more than one layer) neural networks to analyze data and provide output accordingly.\n",
    "With Data Science, we build models that use statistical insights."
   ]
  },
  {
   "cell_type": "markdown",
   "id": "40358537-29a5-4445-b37a-00b8889e23e4",
   "metadata": {},
   "source": [
    "Q5- What are the main differences between supervised, unsupervised, and semi-supervsed learning?\n",
    "\n",
    "Supervised learning is a problem with labeled data, expecting to develop predictive capability. Unsupervised learning is discovering process, diving into unlabeled data to capture hidden information. Semi-supervised learning is a blend of supervised and unsupervised learning.\n"
   ]
  },
  {
   "cell_type": "markdown",
   "id": "c24f9f57-02ee-44a0-8392-5bfd00c1374f",
   "metadata": {},
   "source": [
    "Q6- What is train, test and validation split? Explain the importance of each term.\n",
    "\n",
    "Answer: \n",
    "Training Set: The training set is the largest portion of the dataset and is used to train the machine learning model. It is the data on which the model learns the underlying patterns, relationships, and parameters necessary to make predictions. The model is optimized and adjusted based on the information contained in the training set. This subset does not contain any previously seen or labeled data, as the goal is to test the model's ability to learn and generalize from the given data.\n",
    "\n",
    "Test Set: The test set is used to assess the performance and generalization ability of the trained model. It is separate from the training set and contains examples that the model has not seen during the training process. The test set evaluates how well the model can make predictions on unseen data by measuring its accuracy, precision, recall, or other relevant performance metrics. The test set provides an unbiased estimate of the model's performance, as it simulates the real-world scenario where the model is applied to new, unseen data.\n",
    "\n",
    "Validation Set: In some cases, an additional subset called the validation set is used during the training process. The validation set is similar to the test set in that it consists of unseen data. However, it serves a different purpose. The validation set is used to fine-tune the hyperparameters of the model and to make decisions regarding its architecture or configuration. By evaluating the model's performance on the validation set, one can make adjustments to improve its generalization ability. The validation set helps in selecting the best-performing model before applying it to the test set for the final evaluation."
   ]
  },
  {
   "cell_type": "markdown",
   "id": "7d4aa46c-2c3c-48a8-a822-25a92be3bc00",
   "metadata": {},
   "source": [
    "Q7- How can unsupervised learning be used in anomaly detection?\n",
    "\n",
    "The Collins English Dictionary defines anomaly as ‘something different from what is usual or expected.’ The essence of an anomaly is therefore something that does not turn out as expected based on known information.\n",
    "\n",
    "There are multiple Unsupervised techniques like K means clustering, DBSCAN clustering, Isolation forest which can provide efficient ways for anamoly detection."
   ]
  },
  {
   "cell_type": "markdown",
   "id": "62759225-62ff-4705-8150-bd2ddcfe6bec",
   "metadata": {},
   "source": [
    "*********\n",
    "Q8- List down some commonly used supervised learning algorithms and unsupervised learning\n",
    "algorithms.\n",
    "\n",
    "Supervised Learning Algorithms:\n",
    "\n",
    "Linear Regression\n",
    "Logistic Regression\n",
    "Decision Trees\n",
    "Random Forests\n",
    "Support Vector Machines (SVM)\n",
    "Naive Bayes\n",
    "k-Nearest Neighbors (k-NN)\n",
    "Gradient Boosting methods (e.g., XGBoost, LightGBM)\n",
    "Neural Networks (e.g., Multi-layer Perceptron)\n",
    "\n",
    "\n",
    "Unsupervised Learning Algorithms:\n",
    "\n",
    "K-means Clustering\n",
    "Hierarchical Clustering\n",
    "DBSCAN (Density-Based Spatial Clustering of Applications with Noise)\n",
    "Gaussian Mixture Models (GMM)\n",
    "Principal Component Analysis (PCA)\n",
    "Autoencoders (used for dimensionality reduction and anomaly detection)\n",
    "Self-Organizing Maps (SOM)\n",
    "t-SNE (t-Distributed Stochastic Neighbor Embedding)\n",
    "Association Rule Mining (e.g., Apriori algorithm)\n"
   ]
  },
  {
   "cell_type": "code",
   "execution_count": null,
   "id": "e4984d4e-443c-4008-b0c8-7fd2c0efbc7d",
   "metadata": {},
   "outputs": [],
   "source": []
  }
 ],
 "metadata": {
  "kernelspec": {
   "display_name": "Python 3 (ipykernel)",
   "language": "python",
   "name": "python3"
  },
  "language_info": {
   "codemirror_mode": {
    "name": "ipython",
    "version": 3
   },
   "file_extension": ".py",
   "mimetype": "text/x-python",
   "name": "python",
   "nbconvert_exporter": "python",
   "pygments_lexer": "ipython3",
   "version": "3.10.8"
  }
 },
 "nbformat": 4,
 "nbformat_minor": 5
}

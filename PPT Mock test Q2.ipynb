{
 "cells": [
  {
   "cell_type": "code",
   "execution_count": null,
   "id": "f4e957bf-e294-4e9e-af5a-86ff108b1c3f",
   "metadata": {},
   "outputs": [],
   "source": [
    "Given a string s, find the first non-repeating character in it and return its index. If it does not exist, return -1.\n",
    "**"
   ]
  },
  {
   "cell_type": "code",
   "execution_count": 1,
   "id": "20c855e6-9320-4be3-8d73-4fb1fa887199",
   "metadata": {},
   "outputs": [],
   "source": [
    "class Solution:\n",
    "    def firstUniqChar(self, s: str) -> int:\n",
    "        freq={}\n",
    "\n",
    "        for char in s:\n",
    "            if char not in freq.keys():\n",
    "                freq[char]=1\n",
    "            else:\n",
    "                freq[char] += 1\n",
    "        \n",
    "        for index in range(len(s)):\n",
    "            if freq[s[index]] == 1:\n",
    "                return index\n",
    "        \n",
    "        return -1\n"
   ]
  },
  {
   "cell_type": "code",
   "execution_count": 2,
   "id": "59d81862-a3da-4a11-8b4c-d9a8639d0a8c",
   "metadata": {},
   "outputs": [
    {
     "data": {
      "text/plain": [
       "0"
      ]
     },
     "execution_count": 2,
     "metadata": {},
     "output_type": "execute_result"
    }
   ],
   "source": [
    "sol=Solution()\n",
    "s = \"leetcode\"\n",
    "sol.firstUniqChar(s)"
   ]
  },
  {
   "cell_type": "code",
   "execution_count": null,
   "id": "109306c3-cefd-4e31-8e5f-b8c49b3cedfb",
   "metadata": {},
   "outputs": [],
   "source": []
  }
 ],
 "metadata": {
  "kernelspec": {
   "display_name": "Python 3 (ipykernel)",
   "language": "python",
   "name": "python3"
  },
  "language_info": {
   "codemirror_mode": {
    "name": "ipython",
    "version": 3
   },
   "file_extension": ".py",
   "mimetype": "text/x-python",
   "name": "python",
   "nbconvert_exporter": "python",
   "pygments_lexer": "ipython3",
   "version": "3.10.8"
  }
 },
 "nbformat": 4,
 "nbformat_minor": 5
}

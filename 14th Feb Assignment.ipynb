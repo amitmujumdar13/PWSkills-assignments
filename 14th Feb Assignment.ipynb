{
 "cells": [
  {
   "cell_type": "markdown",
   "id": "39d6e1bd-de68-4350-9501-a409aef96097",
   "metadata": {},
   "source": [
    "1.What is multithreading in python? Why is it used? Name the module used to handle threads in python\n",
    "\n",
    "Answer: \n",
    "A thread is a unit of execution within a process. Multithreading refers to concurrently executing multiple threads by rapidly switching the control of the CPU between threads\n",
    "threading module is used to handle threads in Python."
   ]
  },
  {
   "cell_type": "markdown",
   "id": "98eb0372-cb62-4722-8629-ebc90c7c6cee",
   "metadata": {},
   "source": [
    "*****************\n",
    "2. Why threading module used? Write the use of the following functions\n",
    "  1. activeCount()\n",
    "  2. currentThread()\n",
    "  3. enumerate()\n",
    "  \n",
    "Answer: \n",
    "threading module allows you to manage concurrent threads doing work at the same time.\n",
    "\n",
    "threading.activeCount() − Returns the number of thread objects that are active.\n",
    "threading.currentThread() − Returns the number of thread objects in the caller's thread control.\n",
    "threading.enumerate() − Returns a list of all thread objects that are currently active.\n",
    "\n",
    "******************\n",
    "\n",
    "3. Explain the following functions\n",
    " run()\n",
    " start()\n",
    " join()\n",
    " isAlive()\n",
    " \n",
    "Answer: \n",
    "\n",
    "run()  − The run() method is the entry point for a thread.\n",
    "start()  − The start() method starts a thread by calling the run method.\n",
    "join([time])  − The join() waits for threads to terminate.\n",
    "isAlive()  − The isAlive() method checks whether a thread is still executing.\n"
   ]
  },
  {
   "cell_type": "markdown",
   "id": "38424451-96bb-45f7-95c7-52952bae81ad",
   "metadata": {},
   "source": [
    "*****************************************\n",
    "\n",
    "4. Write a python program to create two threads. Thread one must print the list of squares and thread\n",
    "two must print the list of cubes"
   ]
  },
  {
   "cell_type": "code",
   "execution_count": 13,
   "id": "d93d343c-bf1e-4552-b803-cca0bd39902d",
   "metadata": {},
   "outputs": [
    {
     "data": {
      "text/plain": [
       "[<Thread(Thread-11 (Mythread), initial)>]"
      ]
     },
     "execution_count": 13,
     "metadata": {},
     "output_type": "execute_result"
    }
   ],
   "source": [
    "import threading\n",
    "\n",
    "def Mythread(ls,operation):\n",
    "    ls1=[]\n",
    "    if operation == 'square':\n",
    "        for i in ls:\n",
    "            ls1.append(i**2)\n",
    "        print(\"List of Squares\",ls1)\n",
    "    elif operation == 'cube':\n",
    "        for i in ls:\n",
    "            ls1.append(i**3)\n",
    "        print(\"List of Cubes\",ls1)\n",
    "\n",
    "l1=[1,2,3,4,5]\n",
    "thread1=[threading.Thread(target=Mythread,args=(l1,'square')) ]\n",
    "thread2=[threading.Thread(target=Mythread,args=(l1,'cube')) ]\n",
    "\n",
    "thread1\n",
    "\n"
   ]
  },
  {
   "cell_type": "code",
   "execution_count": 14,
   "id": "28c7af3a-17f3-486e-873b-eda50965a148",
   "metadata": {},
   "outputs": [
    {
     "data": {
      "text/plain": [
       "[<Thread(Thread-12 (Mythread), initial)>]"
      ]
     },
     "execution_count": 14,
     "metadata": {},
     "output_type": "execute_result"
    }
   ],
   "source": [
    "thread2"
   ]
  },
  {
   "cell_type": "code",
   "execution_count": 15,
   "id": "e8bb2eee-3e4d-4df0-bbd4-6916c98cb003",
   "metadata": {},
   "outputs": [
    {
     "name": "stdout",
     "output_type": "stream",
     "text": [
      "List of Squares [1, 4, 9, 16, 25]\n",
      "List of Cubes [1, 8, 27, 64, 125]\n"
     ]
    }
   ],
   "source": [
    "for t in thread1:\n",
    "    t.start()\n",
    "\n",
    "for t in thread2:\n",
    "    t.start()"
   ]
  },
  {
   "cell_type": "code",
   "execution_count": 16,
   "id": "a40dcea3-35ca-4622-a1c1-0dcbf20a48b9",
   "metadata": {},
   "outputs": [
    {
     "data": {
      "text/plain": [
       "[<Thread(Thread-11 (Mythread), stopped 140059780036160)>]"
      ]
     },
     "execution_count": 16,
     "metadata": {},
     "output_type": "execute_result"
    }
   ],
   "source": [
    "thread1\n"
   ]
  },
  {
   "cell_type": "code",
   "execution_count": 18,
   "id": "9508f9a9-eb7c-43e7-bc10-9930616417b5",
   "metadata": {},
   "outputs": [
    {
     "data": {
      "text/plain": [
       "[<Thread(Thread-12 (Mythread), stopped 140059780036160)>]"
      ]
     },
     "execution_count": 18,
     "metadata": {},
     "output_type": "execute_result"
    }
   ],
   "source": [
    "thread2\n"
   ]
  },
  {
   "cell_type": "markdown",
   "id": "139d1b43-ae90-4f2e-bd1e-ab85ce25e292",
   "metadata": {},
   "source": [
    "*************\n",
    "\n",
    "5. State advantages and disadvantages of multithreading\n",
    "\n",
    "Answer: \n",
    "Advantages: \n",
    "\n",
    "1 Python multithreading enables efficient utilization of the resources as the threads share the data space and memory.\n",
    "2 Multithreading in Python allows the concurrent and parallel occurrence of various tasks.\n",
    "3 It causes a reduction in time consumption or response time, thereby increasing the performance.\n",
    "\n",
    "Disadvantages: \n",
    "1. Debugging can be difficult in multithreaded program\n",
    "2. there is chance of deadlock when multiple threads are active\n",
    "3. Difficulty in managing concurrancy"
   ]
  },
  {
   "cell_type": "markdown",
   "id": "14fa63bf-dc9d-4e37-8732-4f0580fa4618",
   "metadata": {},
   "source": [
    "*******************\n",
    "\n",
    "6. Explain deadlocks and race conditions.\n",
    "\n",
    "Answer: \n",
    "Deadlock: \n",
    "    This happens when 2 or more threads are waiting on each other to release the resource for infinite amount of time.\n",
    "    In this the threads are in blocked state and not executing.\n",
    "    \n",
    "Race condition: \n",
    "    This happens when 2 or more threads run in parallel but end up giving a result which is wrong and not equivalent if all the operations are done in sequential order.\n",
    "    Here all the threads run and execute there operations."
   ]
  },
  {
   "cell_type": "code",
   "execution_count": null,
   "id": "9ea3c3c4-673c-4f0e-8ca5-8f8af5e0ce07",
   "metadata": {},
   "outputs": [],
   "source": []
  }
 ],
 "metadata": {
  "kernelspec": {
   "display_name": "Python 3 (ipykernel)",
   "language": "python",
   "name": "python3"
  },
  "language_info": {
   "codemirror_mode": {
    "name": "ipython",
    "version": 3
   },
   "file_extension": ".py",
   "mimetype": "text/x-python",
   "name": "python",
   "nbconvert_exporter": "python",
   "pygments_lexer": "ipython3",
   "version": "3.10.8"
  }
 },
 "nbformat": 4,
 "nbformat_minor": 5
}

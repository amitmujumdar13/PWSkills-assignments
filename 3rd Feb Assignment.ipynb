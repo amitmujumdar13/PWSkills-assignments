{
 "cells": [
  {
   "cell_type": "markdown",
   "id": "4fee45ee-505b-402b-b982-c138a5e76c62",
   "metadata": {},
   "source": [
    "Q1. Which keyword is used to create a function? Create a function to return a list of odd numbers in the\n",
    "range of 1 to 25.\n",
    "\n",
    "Answer: def keyword is used to create a function. Below is function :"
   ]
  },
  {
   "cell_type": "code",
   "execution_count": 11,
   "id": "905255e3-ae62-4c36-90cb-3ce795944881",
   "metadata": {},
   "outputs": [],
   "source": [
    "def oddnum():\n",
    "    l=[]\n",
    "    for i in range(1,25):\n",
    "        if i%2!=0:\n",
    "            l.append(i)\n",
    "    return l"
   ]
  },
  {
   "cell_type": "code",
   "execution_count": 13,
   "id": "e07f84cc-4517-4e08-b546-8c890e045fc2",
   "metadata": {},
   "outputs": [
    {
     "data": {
      "text/plain": [
       "[1, 3, 5, 7, 9, 11, 13, 15, 17, 19, 21, 23]"
      ]
     },
     "execution_count": 13,
     "metadata": {},
     "output_type": "execute_result"
    }
   ],
   "source": [
    "oddnum()"
   ]
  },
  {
   "cell_type": "markdown",
   "id": "a62d1baa-a9cc-4237-8f6c-571d88f94ce8",
   "metadata": {},
   "source": [
    "Q2. Why *args and **kwargs is used in some functions? Create a function each for *args and **kwargs to\n",
    "demonstrate their use.\n",
    "\n",
    "Answer: *args is used to pass any number of argument values as parameter to function.  \n",
    "**kwargs is used to pass any number of arguments in key-pair format as parameter to function.\n",
    "\n",
    "Below are examples: "
   ]
  },
  {
   "cell_type": "code",
   "execution_count": 16,
   "id": "70397eab-1221-4d6f-8e41-4cc0fd579904",
   "metadata": {},
   "outputs": [],
   "source": [
    "## Example 1: *args\n",
    "\n",
    "def name(*args):\n",
    "    return (args)"
   ]
  },
  {
   "cell_type": "code",
   "execution_count": 17,
   "id": "141fb4d9-a48e-457c-a3a3-12bdcb5e1f20",
   "metadata": {},
   "outputs": [
    {
     "data": {
      "text/plain": [
       "('Amit', 'Sudh')"
      ]
     },
     "execution_count": 17,
     "metadata": {},
     "output_type": "execute_result"
    }
   ],
   "source": [
    "name('Amit', 'Sudh')"
   ]
  },
  {
   "cell_type": "code",
   "execution_count": 18,
   "id": "b93edcdd-47bc-4a8e-906d-c0b7dff41bff",
   "metadata": {},
   "outputs": [],
   "source": [
    "## Example 1: **kwargs\n",
    "\n",
    "def faculty(**kwargs):\n",
    "    return (kwargs)"
   ]
  },
  {
   "cell_type": "code",
   "execution_count": 19,
   "id": "4ec78ac8-de7c-4641-a6c5-add6b1232093",
   "metadata": {},
   "outputs": [
    {
     "data": {
      "text/plain": [
       "{'DS': 'Krish', 'Java': 'Sudh'}"
      ]
     },
     "execution_count": 19,
     "metadata": {},
     "output_type": "execute_result"
    }
   ],
   "source": [
    "faculty(DS='Krish', Java='Sudh')"
   ]
  },
  {
   "cell_type": "markdown",
   "id": "f7fa4618-7159-4011-8687-43c604487216",
   "metadata": {},
   "source": [
    "Q3. What is an iterator in python? Name the method used to initialise the iterator object and the method\n",
    "used for iteration. Use these methods to print the first five elements of the given list [2, 4, 6, 8, 10, 12, 14, 16,\n",
    "18, 20].\n",
    "\n",
    "Answer: An iterator is an object that contains a countable number of values. \n",
    "An iterator is an object that can be iterated upon, meaning that you can traverse through all the values. \n",
    "Technically, in Python, an iterator is an object which implements the iterator protocol, which consist of the methods iter() and next()."
   ]
  },
  {
   "cell_type": "code",
   "execution_count": 32,
   "id": "416be9d8-3cbb-4cbf-a193-7707d4d7cc8c",
   "metadata": {},
   "outputs": [
    {
     "name": "stdout",
     "output_type": "stream",
     "text": [
      "2\n",
      "4\n",
      "6\n",
      "8\n",
      "10\n"
     ]
    }
   ],
   "source": [
    "l=[2, 4, 6, 8, 10, 12, 14, 16, 18, 20]\n",
    "\n",
    "mytuple=iter(l)\n",
    "\n",
    "for i in range(1,6):\n",
    "    print(next(mytuple))"
   ]
  },
  {
   "cell_type": "markdown",
   "id": "3905f38b-4367-46da-91d3-22ddb794acb0",
   "metadata": {},
   "source": [
    "Q4. What is a generator function in python? Why yield keyword is used? Give an example of a generator\n",
    "function.\n",
    "\n",
    "Answer: In Python, a generator is a function that returns an iterator that produces a sequence of values when iterated over. \n",
    "The yield keyword is used to produce a value from the generator.\n",
    "\n"
   ]
  },
  {
   "cell_type": "code",
   "execution_count": 30,
   "id": "9691a9d2-ab0d-4539-9c22-eea965b68903",
   "metadata": {},
   "outputs": [
    {
     "name": "stdout",
     "output_type": "stream",
     "text": [
      "1\n",
      "2\n",
      "3\n",
      "4\n",
      "5\n",
      "6\n",
      "7\n",
      "8\n",
      "9\n"
     ]
    }
   ],
   "source": [
    "# example generator \n",
    "def generator1(a):\n",
    "    for i in range(1,a):\n",
    "        yield i\n",
    "\n",
    "for num in generator1(10):\n",
    "    print(num)"
   ]
  },
  {
   "cell_type": "markdown",
   "id": "3d34e515-8744-4df1-a51b-0989327256a2",
   "metadata": {},
   "source": [
    "Q5. Create a generator function for prime numbers less than 1000. Use the next() method to print the\n",
    "first 20 prime numbers."
   ]
  },
  {
   "cell_type": "code",
   "execution_count": 78,
   "id": "eb154f7f-79e3-4fc2-b6eb-e6c505548150",
   "metadata": {},
   "outputs": [],
   "source": [
    "def generator2():\n",
    "    for i in range(2,1000):\n",
    "        isPrime=True\n",
    "        for j in range(2,i):\n",
    "            if i%j==0: \n",
    "                isPrime=False\n",
    "        if isPrime:\n",
    "            yield i"
   ]
  },
  {
   "cell_type": "code",
   "execution_count": 88,
   "id": "8b34b489-de8d-4989-abf5-08f3b5089375",
   "metadata": {},
   "outputs": [
    {
     "name": "stdout",
     "output_type": "stream",
     "text": [
      "2\n",
      "3\n",
      "5\n",
      "7\n",
      "11\n",
      "13\n",
      "17\n",
      "19\n",
      "23\n",
      "29\n",
      "31\n",
      "37\n",
      "41\n",
      "43\n",
      "47\n",
      "53\n",
      "59\n",
      "61\n",
      "67\n",
      "71\n"
     ]
    }
   ],
   "source": [
    "g=generator2()\n",
    "\n",
    "for i in range(1,21):\n",
    "    print(next(g))"
   ]
  },
  {
   "cell_type": "code",
   "execution_count": null,
   "id": "6ef11673-c7ee-4dcb-9921-d124f8a40ea0",
   "metadata": {},
   "outputs": [],
   "source": []
  }
 ],
 "metadata": {
  "kernelspec": {
   "display_name": "Python 3 (ipykernel)",
   "language": "python",
   "name": "python3"
  },
  "language_info": {
   "codemirror_mode": {
    "name": "ipython",
    "version": 3
   },
   "file_extension": ".py",
   "mimetype": "text/x-python",
   "name": "python",
   "nbconvert_exporter": "python",
   "pygments_lexer": "ipython3",
   "version": "3.10.8"
  }
 },
 "nbformat": 4,
 "nbformat_minor": 5
}

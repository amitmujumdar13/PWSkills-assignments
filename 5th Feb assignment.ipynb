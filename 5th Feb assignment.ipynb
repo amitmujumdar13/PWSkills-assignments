{
 "cells": [
  {
   "cell_type": "markdown",
   "id": "6c0b2a24-bc92-45cd-b6ea-3d79bddff30d",
   "metadata": {},
   "source": [
    "Q1. Explain Class and Object with respect to Object-Oriented Programming. Give a suitable example.\n",
    "\n",
    "Answer: A class can be defined as a template/blueprint that describes the behavior/state that the object of its type support.\n",
    "An object is an instance of a class which has those properties and behaviours attached.\n",
    "\n",
    "Example: Below shows example of Class bike. There can be multiple instances of type of bike."
   ]
  },
  {
   "cell_type": "code",
   "execution_count": 1,
   "id": "18114f64-46d0-453b-b54c-373bacc57127",
   "metadata": {},
   "outputs": [],
   "source": [
    "class bike:\n",
    "    def  __init__(self,name):\n",
    "        self.name=name"
   ]
  },
  {
   "cell_type": "code",
   "execution_count": 4,
   "id": "2b2587f1-819f-4851-afd2-bf7182a8feb4",
   "metadata": {},
   "outputs": [],
   "source": [
    "b1=bike(\"Honda\")\n",
    "b2=bike(\"Royal\")"
   ]
  },
  {
   "cell_type": "markdown",
   "id": "4afc3c3c-9331-4efb-8234-f63ffe55b0dd",
   "metadata": {},
   "source": [
    "Q2. Name the four pillars of OOPs.\n",
    "\n",
    "Answer: \n",
    "1. Abstraction\n",
    "2. Encapsulation\n",
    "3. Inheritance\n",
    "4. Polymorphism"
   ]
  },
  {
   "cell_type": "markdown",
   "id": "2bf00fc2-31f3-49e1-8a21-a25ec75f1a17",
   "metadata": {},
   "source": [
    "Q3. Explain why the __init__() function is used.  Give a suitable example.\n",
    "\n",
    "Answer: __init__() method is used as a constructor to class object. It is defined to initialize variables when object instance is first created.\n",
    "\n",
    "Below shows example of Class bike. There can be multiple instances of type of bike, name is initialized with __init__()."
   ]
  },
  {
   "cell_type": "code",
   "execution_count": 10,
   "id": "ae82bee4-a395-4861-a625-1b4f3ef63385",
   "metadata": {},
   "outputs": [],
   "source": [
    "class bike:\n",
    "    def  __init__(self,name):\n",
    "        self.sname=name"
   ]
  },
  {
   "cell_type": "code",
   "execution_count": 14,
   "id": "b42b75f4-3ad8-4b67-ab02-6775a6e0340c",
   "metadata": {},
   "outputs": [
    {
     "name": "stdout",
     "output_type": "stream",
     "text": [
      "Honda\n",
      "Royal\n"
     ]
    }
   ],
   "source": [
    "b1=bike(\"Honda\")\n",
    "b2=bike(\"Royal\")\n",
    "\n",
    "print(b1.sname)\n",
    "print(b2.sname)"
   ]
  },
  {
   "cell_type": "code",
   "execution_count": null,
   "id": "5fc11a58-7844-4c04-ba65-5f17bfd0caae",
   "metadata": {},
   "outputs": [],
   "source": [
    "Q4. Why self is used in OOPs?\n",
    "\n",
    "Answer: self is used as a reference for class to bind.\n",
    "The self in keyword in Python is used to all the instances in a class. \n",
    "By using the self keyword, one can easily access all the instances defined within a class, including its methods and attributes\n"
   ]
  },
  {
   "cell_type": "markdown",
   "id": "3c0fdb22-478a-405b-ba97-a2c6d2d04ee3",
   "metadata": {},
   "source": [
    "Q5. What is inheritance? Give an example for each type of inheritance.\n",
    "\n",
    "Answer: Inheritance is a process of obtaining properties and characteristics(variables and methods) of another class. \n",
    "In this hierarchical order, the class which inherits another class is called subclass or child class, and the other class is the parent class.\n",
    "\n",
    "There are five types of inheritances:\n",
    "\n",
    "1.Single Inheritance\n",
    "\n",
    "2.Multiple Inheritance\n",
    "\n",
    "3.Multilevel Inheritance\n",
    "\n",
    "4.Hierarchical Inheritance\n",
    "\n",
    "5.Hybrid Inheritance\n",
    "\n",
    "\n",
    "Below are examples of each type: \n"
   ]
  },
  {
   "cell_type": "code",
   "execution_count": null,
   "id": "f8fe7f55-dd5f-43ef-8965-6e59640dfdd8",
   "metadata": {},
   "outputs": [],
   "source": [
    "## Example 1: single inheritance\n",
    "\n",
    "#parent class\n",
    "class Above:\n",
    "    i = 5\n",
    "    def fun1(self):\n",
    "        print(\"Hey there, you are in the parent class\")\n",
    "\n",
    "#subclass\n",
    "class Below(Above):\n",
    "    i=10\n",
    "    def fun2(self):\n",
    "        print(\"Hey there, you are in the sub class\")"
   ]
  },
  {
   "cell_type": "code",
   "execution_count": null,
   "id": "e4f0610b-cc90-45d7-871a-10f610a0b083",
   "metadata": {},
   "outputs": [],
   "source": [
    "## temp1 (child class object) can access functions from parent class\n",
    "\n",
    "temp1=Below()\n",
    "temp2=Above()\n",
    "temp1.fun1()\n",
    "temp1.fun2()\n",
    "temp2.fun1()\n",
    "print(temp1.i)\n",
    "print(temp2.i)"
   ]
  },
  {
   "cell_type": "code",
   "execution_count": 20,
   "id": "280566a1-f890-4b53-b91a-285530085d14",
   "metadata": {},
   "outputs": [
    {
     "name": "stdout",
     "output_type": "stream",
     "text": [
      "Hey there, you are in the child class\n",
      "first number is :  10\n",
      "second number is :  5\n"
     ]
    }
   ],
   "source": [
    "## Example 2: multiple inheritance\n",
    "\n",
    "#parent class 1\n",
    "class A:\n",
    "    demo1=0\n",
    "    def fun1(self):\n",
    "        print(self.demo1)\n",
    "\n",
    "#parent class 2\n",
    "class B:\n",
    "    demo2=0\n",
    "    def fun2(self):\n",
    "        print(self.demo2)\n",
    "\n",
    "#child class\n",
    "class C(A, B):\n",
    "    def fun3(self):\n",
    "        print(\"Hey there, you are in the child class\")\n",
    "\n",
    "# Main code, here child class can access variables from multiple parent classes\n",
    "c = C()\n",
    "c.demo1 = 10\n",
    "c.demo2 = 5\n",
    "c.fun3()\n",
    "print(\"first number is : \",c.demo1)\n",
    "print(\"second number is : \",c.demo2)"
   ]
  },
  {
   "cell_type": "code",
   "execution_count": 27,
   "id": "68e92714-f625-4a03-90c7-6d4fc0efda8f",
   "metadata": {},
   "outputs": [
    {
     "name": "stdout",
     "output_type": "stream",
     "text": [
      "electric car runs on electricity\n",
      "a car has 4 wheels\n",
      "vehicles are used for transportation\n"
     ]
    }
   ],
   "source": [
    "## Example 3: multilevel inheritance\n",
    "\n",
    "#parent class 1\n",
    "class vehicle:\n",
    "    def functioning(self):\n",
    "        print(\"vehicles are used for transportation\")\n",
    "\n",
    "#child class 1\n",
    "class car(vehicle):\n",
    "    def wheels(self):\n",
    "        print(\"a car has 4 wheels\")\n",
    "       \n",
    "#child class 2\n",
    "class electric_car(car):\n",
    "    def speciality(self):\n",
    "        print(\"electric car runs on electricity\")\n",
    "\n",
    "        \n",
    "## Class electric_car can access parents at two levels\n",
    "electric=electric_car()\n",
    "electric.speciality()\n",
    "electric.wheels()\n",
    "electric.functioning()"
   ]
  },
  {
   "cell_type": "code",
   "execution_count": 29,
   "id": "f1d9cc48-38da-4fa3-b299-1bbb9e5f3c3c",
   "metadata": {},
   "outputs": [
    {
     "name": "stdout",
     "output_type": "stream",
     "text": [
      "Hey there, you are in the parent class\n",
      "Hey there, you are in the child class 3\n",
      "Hey there, you are in the parent class\n",
      "Hey there, you are in the child class 2\n",
      "Hey there, you are in the parent class\n",
      "Hey there, you are in the child class 1\n"
     ]
    }
   ],
   "source": [
    "## Example4: Hierarchical Inheritance\n",
    "\n",
    "#parent class\n",
    "class Parent:\n",
    "    def fun1(self):\n",
    "        print(\"Hey there, you are in the parent class\")\n",
    " \n",
    "#child class 1\n",
    "class child1(Parent):\n",
    "    def fun2(self):\n",
    "        print(\"Hey there, you are in the child class 1\")\n",
    "\n",
    "#child class 2 \n",
    "class child2(Parent):\n",
    "    def fun3(self):\n",
    "        print(\"Hey there, you are in the child class 2\")\n",
    " \n",
    "#child class 3\n",
    "class child3(Parent):\n",
    "    def fun4(self):\n",
    "        print(\"Hey there, you are in the child class 3\")\n",
    " \n",
    "# main program, here all three child classes can access single parent\n",
    "child_obj1 = child3()\n",
    "child_obj2 = child2()\n",
    "child_obj3 = child1()\n",
    "child_obj1.fun1()\n",
    "child_obj1.fun4()\n",
    "child_obj2.fun1()\n",
    "child_obj2.fun3()\n",
    "child_obj3.fun1()\n",
    "child_obj3.fun2()"
   ]
  },
  {
   "cell_type": "code",
   "execution_count": 32,
   "id": "120d33ea-1719-4001-8cdd-8ee13e6d680c",
   "metadata": {},
   "outputs": [
    {
     "name": "stdout",
     "output_type": "stream",
     "text": [
      "Hey there, you are in the class D\n",
      "Hey there, you are in class C\n",
      "Hey there, you are in class A\n"
     ]
    }
   ],
   "source": [
    "## Example5: Hybrid Inheritance\n",
    "\n",
    "class A:\n",
    "    def fun1(self):\n",
    "        print(\"Hey there, you are in class A\")\n",
    "\n",
    "class B(A):\n",
    "    def fun2(self):\n",
    "        print(\"Hey there, you are in class B\")\n",
    "\n",
    "class C(A):\n",
    "    def fun3(self):\n",
    "        print(\"Hey there, you are in class C\")\n",
    "\n",
    "class D(C,A): \n",
    "    #line 13\n",
    "    def fun4(self):\n",
    "        print(\"Hey there, you are in the class D\")\n",
    "\n",
    "#main program\n",
    "ref = D()\n",
    "ref.fun4()\n",
    "ref.fun3()\n",
    "ref.fun1()"
   ]
  },
  {
   "cell_type": "code",
   "execution_count": null,
   "id": "6941a2e3-f170-4c97-afdc-c1459385bedb",
   "metadata": {},
   "outputs": [],
   "source": []
  },
  {
   "cell_type": "code",
   "execution_count": null,
   "id": "5aeedd49-3818-474a-8963-c0084b1837f5",
   "metadata": {},
   "outputs": [],
   "source": []
  }
 ],
 "metadata": {
  "kernelspec": {
   "display_name": "Python 3 (ipykernel)",
   "language": "python",
   "name": "python3"
  },
  "language_info": {
   "codemirror_mode": {
    "name": "ipython",
    "version": 3
   },
   "file_extension": ".py",
   "mimetype": "text/x-python",
   "name": "python",
   "nbconvert_exporter": "python",
   "pygments_lexer": "ipython3",
   "version": "3.10.8"
  }
 },
 "nbformat": 4,
 "nbformat_minor": 5
}

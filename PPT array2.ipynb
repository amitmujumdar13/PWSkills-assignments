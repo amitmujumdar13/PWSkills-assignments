{
 "cells": [
  {
   "cell_type": "markdown",
   "id": "ea3bd53c-83a5-4887-8bf0-763c6d477014",
   "metadata": {},
   "source": [
    "<aside>\n",
    "💡 **Question 1**\n",
    "Given an integer array nums of 2n integers, group these integers into n pairs (a1, b1), (a2, b2),..., (an, bn) such that the sum of min(ai, bi) for all i is maximized. Return the maximized sum.\n",
    "\n",
    "**Example 1:**\n",
    "Input: nums = [1,4,3,2]\n",
    "Output: 4\n",
    "\n",
    "**Explanation:** All possible pairings (ignoring the ordering of elements) are:\n",
    "\n",
    "1. (1, 4), (2, 3) -> min(1, 4) + min(2, 3) = 1 + 2 = 3\n",
    "2. (1, 3), (2, 4) -> min(1, 3) + min(2, 4) = 1 + 2 = 3\n",
    "3. (1, 2), (3, 4) -> min(1, 2) + min(3, 4) = 1 + 3 = 4\n",
    "So the maximum possible sum is 4\n",
    "</aside>"
   ]
  },
  {
   "cell_type": "code",
   "execution_count": 3,
   "id": "08e8c876-7beb-48fa-ab29-e696ddf34644",
   "metadata": {},
   "outputs": [],
   "source": [
    "class Solution:\n",
    "    def arrayPairSum(self, nums):\n",
    "        nums.sort()\n",
    "        sum_ = 0\n",
    "        for i in range(0,len(nums),2):\n",
    "            sum_ += nums[i]\n",
    "        return sum_"
   ]
  },
  {
   "cell_type": "code",
   "execution_count": 4,
   "id": "d5231a8a-bff5-47c2-8272-b6ac8df3b477",
   "metadata": {},
   "outputs": [
    {
     "data": {
      "text/plain": [
       "4"
      ]
     },
     "execution_count": 4,
     "metadata": {},
     "output_type": "execute_result"
    }
   ],
   "source": [
    "nums = [1,4,3,2]\n",
    "sol=Solution()\n",
    "sol.arrayPairSum(nums)"
   ]
  },
  {
   "cell_type": "markdown",
   "id": "616d3bc1-8cf0-496e-82d5-14acaa02f0c7",
   "metadata": {},
   "source": [
    "***\n",
    "\n",
    "Question 2\n",
    "Alice has n candies, where the ith candy is of type candyType[i]. Alice noticed that she started to gain weight, so she visited a doctor. \n",
    "\n",
    "The doctor advised Alice to only eat n / 2 of the candies she has (n is always even). Alice likes her candies very much, and she wants to eat the maximum number of different types of candies while still following the doctor's advice. \n",
    "\n",
    "Given the integer array candyType of length n, return the maximum number of different types of candies she can eat if she only eats n / 2 of them.\n",
    "\n",
    "Example 1:\n",
    "Input: candyType = [1,1,2,2,3,3]\n",
    "Output: 3\n",
    "\n",
    "Explanation: Alice can only eat 6 / 2 = 3 candies. Since there are only 3 types, she can eat one of each type."
   ]
  },
  {
   "cell_type": "code",
   "execution_count": 19,
   "id": "da6fe88f-3422-40c7-be27-09a309c6a9d6",
   "metadata": {},
   "outputs": [],
   "source": [
    "candyType=[1,1,2,2,3,3]\n"
   ]
  },
  {
   "cell_type": "code",
   "execution_count": 11,
   "id": "a5e6adb6-c430-4e55-b43b-7b7bf811f585",
   "metadata": {},
   "outputs": [],
   "source": [
    "class Solution(object):\n",
    "    def distributeCandies(self, candyType):\n",
    "        \"\"\"\n",
    "        :type candyType: List[int]\n",
    "        :rtype: int\n",
    "        \"\"\"\n",
    "        candy_len= len(candyType) / 2\n",
    "        \n",
    "        Unique_candy= len(set(candyType))\n",
    "        return min(candy_len, Unique_candy)\n"
   ]
  },
  {
   "cell_type": "code",
   "execution_count": 20,
   "id": "d92f877d-6514-46e2-a449-6e7bf7df25cd",
   "metadata": {},
   "outputs": [
    {
     "data": {
      "text/plain": [
       "3.0"
      ]
     },
     "execution_count": 20,
     "metadata": {},
     "output_type": "execute_result"
    }
   ],
   "source": [
    "sol=Solution()\n",
    "sol.distributeCandies(candyType)"
   ]
  },
  {
   "cell_type": "markdown",
   "id": "0f2a17b9-c455-4aec-9213-c2fac8891e9a",
   "metadata": {},
   "source": [
    "***\n",
    "\n",
    "Question 3\n",
    "We define a harmonious array as an array where the difference between its maximum value\n",
    "and its minimum value is exactly 1.\n",
    "\n",
    "Given an integer array nums, return the length of its longest harmonious subsequence\n",
    "among all its possible subsequences.\n",
    "\n",
    "A subsequence of an array is a sequence that can be derived from the array by deleting some or no elements without changing the order of the remaining elements.\n"
   ]
  },
  {
   "cell_type": "code",
   "execution_count": 10,
   "id": "6753ad86-7ebe-4d4a-825d-7ac9e0bb17de",
   "metadata": {},
   "outputs": [],
   "source": [
    "import collections\n",
    "class Solution(object):\n",
    "    def findLHS(self, nums):\n",
    "            my_dict = collections.defaultdict(int)\n",
    "            # keep in dict the number of times each number appears:\n",
    "            for num in nums:\n",
    "               my_dict[num]+=1\n",
    "            \n",
    "            max_ = 0\n",
    "             # for each number in dict check if it+its following number is       \n",
    "            for num in my_dict.keys():\n",
    "               if my_dict.get(num+1):\n",
    "                  max_ = max(max_, my_dict[num] + my_dict.get(num+1))\n",
    "            return max_"
   ]
  },
  {
   "cell_type": "code",
   "execution_count": 11,
   "id": "76804495-58d6-49a9-8c87-7019e4bd10c2",
   "metadata": {},
   "outputs": [
    {
     "data": {
      "text/plain": [
       "5"
      ]
     },
     "execution_count": 11,
     "metadata": {},
     "output_type": "execute_result"
    }
   ],
   "source": [
    "sol=Solution()\n",
    "nums =[1,3,2,2,5,2,3,7]\n",
    "\n",
    "sol.findLHS(nums)"
   ]
  },
  {
   "cell_type": "markdown",
   "id": "04f0ef09-eb92-4c1c-8086-e08f233e3472",
   "metadata": {},
   "source": [
    "*********\n",
    "Question 4\n",
    "You have a long flowerbed in which some of the plots are planted, and some are not.\n",
    "However, flowers cannot be planted in adjacent plots.\n",
    "Given an integer array flowerbed containing 0's and 1's, where 0 means empty and 1 means not empty, and an integer n, return true if n new flowers can be planted in the flowerbed without violating the no-adjacent-flowers rule and false otherwise.\n"
   ]
  },
  {
   "cell_type": "code",
   "execution_count": 12,
   "id": "0432dfc3-5d52-4f16-a744-356ddeccd7e5",
   "metadata": {},
   "outputs": [],
   "source": [
    "class Solution(object):\n",
    "    def canPlaceFlowers(self, flowerbed, n):\n",
    "        if n == 0: return True\n",
    "        for i in range(len(flowerbed)):\n",
    "            if flowerbed[i] == 0 and (i == 0 or flowerbed[i - 1] == 0) and (i == len(flowerbed) - 1 or flowerbed[i + 1] == 0):  # can place?\n",
    "                n -= 1\n",
    "                if n == 0: return True\n",
    "                flowerbed[i] = 1  # palce!\n",
    "        return False"
   ]
  },
  {
   "cell_type": "code",
   "execution_count": 13,
   "id": "51888f28-373f-4dfe-9b5f-ebe587396c95",
   "metadata": {},
   "outputs": [
    {
     "data": {
      "text/plain": [
       "True"
      ]
     },
     "execution_count": 13,
     "metadata": {},
     "output_type": "execute_result"
    }
   ],
   "source": [
    "sol=Solution()\n",
    "flowerbed = [1,0,0,0,1]\n",
    "n = 1\n",
    "sol.canPlaceFlowers(flowerbed,n)"
   ]
  },
  {
   "cell_type": "markdown",
   "id": "9c75ac4a-92a6-45e1-a9eb-8f0b8c24c1af",
   "metadata": {},
   "source": [
    "***\n",
    "Question 5\n",
    "Given an integer array nums, find three numbers whose product is maximum and return the maximum product.\n",
    "\n",
    "Example 1:\n",
    "Input: nums = [1,2,3]\n",
    "Output: 6"
   ]
  },
  {
   "cell_type": "code",
   "execution_count": 15,
   "id": "256cd199-d742-42e6-b740-1960f9400b69",
   "metadata": {},
   "outputs": [],
   "source": [
    "class Solution:\n",
    "    def maximumProduct(self, nums):\n",
    "        nums.sort()\n",
    "        return max(nums[0]*nums[1]*nums[-1], nums[-1]*nums[-2]*nums[-3])"
   ]
  },
  {
   "cell_type": "code",
   "execution_count": 19,
   "id": "6d05644f-a261-4db8-ae77-d54dede0362b",
   "metadata": {},
   "outputs": [
    {
     "data": {
      "text/plain": [
       "18"
      ]
     },
     "execution_count": 19,
     "metadata": {},
     "output_type": "execute_result"
    }
   ],
   "source": [
    "sol=Solution()\n",
    "nums = [-1,-2,-3,1,2,3]\n",
    "sol.maximumProduct(nums)"
   ]
  },
  {
   "cell_type": "markdown",
   "id": "9d28a9f7-fa2b-477f-b575-e79a85094195",
   "metadata": {},
   "source": [
    "***********\n",
    "Question 6\n",
    "Given an array of integers nums which is sorted in ascending order, and an integer target,\n",
    "write a function to search target in nums. If target exists, then return its index. Otherwise,\n",
    "return -1.\n",
    "\n",
    "You must write an algorithm with O(log n) runtime complexity.\n",
    "\n",
    "Input: nums = [-1,0,3,5,9,12], target = 9\n",
    "Output: 4\n",
    "\n",
    "Explanation: 9 exists in nums and its index is 4"
   ]
  },
  {
   "cell_type": "code",
   "execution_count": 20,
   "id": "e19ce56c-264e-4567-9618-346d5727e7bf",
   "metadata": {},
   "outputs": [],
   "source": [
    "class Solution(object):\n",
    "    def search(self, nums, target):\n",
    "  \n",
    "        left = 0\n",
    "        right = len(nums) - 1\n",
    "        \n",
    "        while left <= right:\n",
    "            mid = (left + right) // 2\n",
    "            \n",
    "            if nums[mid] == target:\n",
    "                return mid\n",
    "            elif nums[mid] < target:\n",
    "                left = mid + 1\n",
    "            else:\n",
    "                right = mid - 1\n",
    "        \n",
    "        return -1"
   ]
  },
  {
   "cell_type": "code",
   "execution_count": 23,
   "id": "2f54023f-418a-425e-bbc0-5ae9da819604",
   "metadata": {},
   "outputs": [
    {
     "data": {
      "text/plain": [
       "4"
      ]
     },
     "execution_count": 23,
     "metadata": {},
     "output_type": "execute_result"
    }
   ],
   "source": [
    "nums = [-1,0,3,5,9,12]\n",
    "target = 9\n",
    "sol=Solution()\n",
    "sol.search(nums,target)"
   ]
  },
  {
   "cell_type": "markdown",
   "id": "7658de89-f6fe-49ad-9d4c-1892304c756f",
   "metadata": {},
   "source": [
    "*******\n",
    "Question 7\n",
    "An array is monotonic if it is either monotone increasing or monotone decreasing.\n",
    "\n",
    "An array nums is monotone increasing if for all i <= j, nums[i] <= nums[j]. An array nums is\n",
    "monotone decreasing if for all i <= j, nums[i] >= nums[j].\n",
    "\n",
    "Given an integer array nums, return true if the given array is monotonic, or false otherwise.\n",
    "\n",
    "Example 1:\n",
    "Input: nums = [1,2,2,3]\n",
    "Output: true"
   ]
  },
  {
   "cell_type": "code",
   "execution_count": 31,
   "id": "12dde47e-25f6-4540-ac01-38c190cbe526",
   "metadata": {},
   "outputs": [],
   "source": [
    "class Solution(object):\n",
    "    def isMonotonic(self, nums):\n",
    "        return nums == sorted(nums) or nums == sorted(nums, reverse=True)"
   ]
  },
  {
   "cell_type": "code",
   "execution_count": 32,
   "id": "fb1b1d55-ad53-4cb4-b8ac-5753614d5a9d",
   "metadata": {},
   "outputs": [
    {
     "data": {
      "text/plain": [
       "True"
      ]
     },
     "execution_count": 32,
     "metadata": {},
     "output_type": "execute_result"
    }
   ],
   "source": [
    "nums = [1,2,2,3]\n",
    "sol=Solution()\n",
    "sol.isMonotonic(nums)"
   ]
  },
  {
   "cell_type": "markdown",
   "id": "cee38bd0-f3ec-4655-a920-87b2b5a4d219",
   "metadata": {},
   "source": [
    "***********\n",
    "Question 8\n",
    "You are given an integer array nums and an integer k.\n",
    "\n",
    "In one operation, you can choose any index i where 0 <= i < nums.length and change nums[i] to nums[i] + x where x is an integer from the range [-k, k]. You can apply this operation at most once for each index i.\n",
    "\n",
    "The score of nums is the difference between the maximum and minimum elements in nums.\n",
    "\n",
    "Return the minimum score of nums after applying the mentioned operation at most once for each index in it.\n"
   ]
  },
  {
   "cell_type": "code",
   "execution_count": 34,
   "id": "934c1c23-aff2-4a36-acfa-c5f19260d4f1",
   "metadata": {},
   "outputs": [],
   "source": [
    "class Solution:\n",
    "    def smallestRangeI(self, A, K):\n",
    "        maxi = max(A)\n",
    "        mini = min(A)\n",
    "        return max(0, maxi-K-mini-K)\n"
   ]
  },
  {
   "cell_type": "code",
   "execution_count": 35,
   "id": "be0006c9-fb16-4a94-a3aa-8edd9a2bb38b",
   "metadata": {},
   "outputs": [],
   "source": [
    "nums = [1]\n",
    "k = 0\n"
   ]
  },
  {
   "cell_type": "code",
   "execution_count": 36,
   "id": "b75d0690-04bc-4034-bbed-db31b33204a5",
   "metadata": {},
   "outputs": [
    {
     "data": {
      "text/plain": [
       "0"
      ]
     },
     "execution_count": 36,
     "metadata": {},
     "output_type": "execute_result"
    }
   ],
   "source": [
    "sol=Solution()\n",
    "sol.smallestRangeI(nums,k)"
   ]
  },
  {
   "cell_type": "code",
   "execution_count": null,
   "id": "7ce0e841-0c96-4e8a-8504-c1c56cd6ac00",
   "metadata": {},
   "outputs": [],
   "source": []
  }
 ],
 "metadata": {
  "kernelspec": {
   "display_name": "Python 3 (ipykernel)",
   "language": "python",
   "name": "python3"
  },
  "language_info": {
   "codemirror_mode": {
    "name": "ipython",
    "version": 3
   },
   "file_extension": ".py",
   "mimetype": "text/x-python",
   "name": "python",
   "nbconvert_exporter": "python",
   "pygments_lexer": "ipython3",
   "version": "3.10.8"
  }
 },
 "nbformat": 4,
 "nbformat_minor": 5
}

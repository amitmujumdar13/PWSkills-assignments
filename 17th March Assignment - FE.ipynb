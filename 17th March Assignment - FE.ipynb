{
 "cells": [
  {
   "cell_type": "markdown",
   "id": "3157c4c2-b49f-429b-8668-bd49b86f6e0c",
   "metadata": {},
   "source": [
    "Q1: What are missing values in a dataset? Why is it essential to handle missing values? Name some\n",
    "algorithms that are not affected by missing values."
   ]
  },
  {
   "cell_type": "markdown",
   "id": "94e4c2bf-5fbb-408c-b9f7-e18f4f2d1f41",
   "metadata": {},
   "source": [
    "Answer: \n",
    "    Missing values in a dataset refer to the absence of a particular attribute value for a specific observation or sample. They can occur for various reasons, such as data collection errors, data entry problems, or intentional non-responses. Handling missing values is essential for several reasons:\n",
    "\n",
    "Unbiased Analysis: Missing values can introduce bias in statistical analysis and machine learning algorithms. Ignoring missing values or using ad-hoc methods can lead to inaccurate conclusions and biased results.\n",
    "\n",
    "Data Completeness: Missing values can result in incomplete data, which may hinder the understanding and interpretation of the dataset. Complete data enable a comprehensive analysis and more robust modeling.\n",
    "\n",
    "Algorithm Compatibility: Many machine learning algorithms cannot handle missing values directly. They require complete data to perform computations and generate accurate predictions. Therefore, it becomes necessary to handle missing values appropriately before applying these algorithms.\n",
    "\n",
    "Algorithms that are not affected by missing values include:\n",
    "\n",
    "Decision Trees: Decision trees can handle missing values by considering surrogate splits. They find alternative splits that approximate the original split using other features to handle missing values effectively.\n",
    "\n",
    "Random Forests: Random Forests can handle missing values similar to decision trees by using surrogate splits. Each tree in the forest independently handles missing values and combines their predictions to form the final output.\n",
    "\n",
    "Gradient Boosting methods: Gradient Boosting algorithms, such as XGBoost and LightGBM, can handle missing values as well. They use different techniques like approximate greedy algorithms or specific handling methods to handle missing values during the boosting process.\n",
    "\n",
    "Naive Bayes: Naive Bayes classifiers can work with missing values by simply ignoring them during the probability estimation process."
   ]
  },
  {
   "cell_type": "markdown",
   "id": "1794674b-9bdb-4e07-afb8-cf435cd1e1dc",
   "metadata": {},
   "source": [
    "****************************\n",
    "Q2: List down techniques used to handle missing data. Give an example of each with python code.\n",
    "\n",
    "Answer: \n",
    "\n",
    "1. Deletion of Missing Data:\n",
    "\n",
    "This technique involves removing observations or variables with missing values. It can be done in two ways:\n",
    "Listwise Deletion: Remove any observation that has missing values in any variable.\n",
    "Pairwise Deletion: Retain observations with missing values for some variables while excluding them for analysis involving those variables.\n"
   ]
  },
  {
   "cell_type": "code",
   "execution_count": 1,
   "id": "7fe84886-135c-4fdc-bca3-fb6515143967",
   "metadata": {},
   "outputs": [],
   "source": [
    "import pandas as pd\n",
    "\n",
    "# Create a DataFrame with missing values\n",
    "data = {'A': [1, 2, None, 4, 5],\n",
    "        'B': [6, None, 8, 9, 10]}\n",
    "df = pd.DataFrame(data)\n",
    "\n",
    "# Listwise Deletion\n",
    "df_cleaned = df.dropna()  # Remove rows with any missing value\n",
    "\n",
    "# Pairwise Deletion\n",
    "df_cleaned = df.dropna(subset=['A'])  # Remove rows with missing values in column 'A'\n"
   ]
  },
  {
   "cell_type": "markdown",
   "id": "367feeb2-609f-42f0-864e-aa64d4490227",
   "metadata": {},
   "source": [
    "2. Mean/Median/Mode Imputation:\n",
    "\n",
    "This technique replaces missing values with the mean, median, or mode of the available data for the respective variable."
   ]
  },
  {
   "cell_type": "code",
   "execution_count": 2,
   "id": "f8637a3f-747f-4db9-a81c-08aa0f3c46a7",
   "metadata": {},
   "outputs": [],
   "source": [
    "import pandas as pd\n",
    "\n",
    "# Create a DataFrame with missing values\n",
    "data = {'A': [1, 2, None, 4, 5]}\n",
    "df = pd.DataFrame(data)\n",
    "\n",
    "# Mean Imputation\n",
    "mean_value = df['A'].mean()\n",
    "df['A'] = df['A'].fillna(mean_value)\n",
    "\n",
    "# Median Imputation\n",
    "median_value = df['A'].median()\n",
    "df['A'] = df['A'].fillna(median_value)\n",
    "\n",
    "# Mode Imputation\n",
    "mode_value = df['A'].mode()[0]\n",
    "df['A'] = df['A'].fillna(mode_value)"
   ]
  },
  {
   "cell_type": "markdown",
   "id": "b982e9e2-cfa0-45bd-b462-3ed11e70bad8",
   "metadata": {},
   "source": [
    "3. Interpolation Methods:\n",
    "\n",
    "Interpolation estimates missing values based on the values of other data points using various techniques such as linear interpolation, polynomial interpolation, or time-series interpolation."
   ]
  },
  {
   "cell_type": "code",
   "execution_count": null,
   "id": "07fbdd2d-9775-4a27-a989-68c22aeb3b4f",
   "metadata": {},
   "outputs": [],
   "source": [
    "import pandas as pd\n",
    "\n",
    "# Create a DataFrame with missing values\n",
    "data = {'A': [1, 2, None, 4, 5]}\n",
    "df = pd.DataFrame(data)\n",
    "\n",
    "# Linear Interpolation\n",
    "df['A'] = df['A'].interpolate(method='linear')\n",
    "\n",
    "# Polynomial Interpolation\n",
    "df['A'] = df['A'].interpolate(method='polynomial', order=2)\n",
    "\n",
    "# Time-Series Interpolation\n",
    "df['A'] = df['A'].interpolate(method='time')\n"
   ]
  },
  {
   "cell_type": "markdown",
   "id": "21d3ed3a-5c52-4c12-99ba-46b568f502a8",
   "metadata": {},
   "source": [
    "*************************\n",
    "Q3: Explain the imbalanced data. What will happen if imbalanced data is not handled?\n",
    "\n",
    "Answer: \n",
    "\n",
    "Imbalanced data refers to a situation in which the distribution of classes in a classification problem is heavily skewed, with one class having significantly more instances than the other class(es). For example, in a binary classification problem, if 90% of the data belongs to Class A and only 10% belongs to Class B, it represents an imbalanced dataset.\n",
    "\n",
    "If imbalanced data is not handled appropriately, it can lead to several issues:\n",
    "\n",
    "Biased Model Performance: Machine learning models tend to be biased towards the majority class in imbalanced datasets. They may have a high accuracy in predicting the majority class but perform poorly in identifying the minority class. This is especially problematic when the minority class is of greater interest or has higher significance, such as detecting fraudulent transactions or diagnosing rare diseases.\n",
    "\n",
    "Poor Generalization: Imbalanced data can result in models that have poor generalization capabilities. Since the models are trained on a skewed dataset, they may struggle to accurately classify instances from the underrepresented class in real-world scenarios where the class distribution may be different.\n",
    "\n",
    "Increased False Negatives or False Positives: The model's bias towards the majority class can lead to an increased number of false negatives (misclassifying instances of the minority class as the majority class) or false positives (misclassifying instances of the majority class as the minority class). This can have serious consequences, such as missing critical events or generating false alarms.\n",
    "\n",
    "Inefficient Training: Imbalanced data can affect the training process of machine learning models. The models may converge quickly and achieve high accuracy on the majority class, which may result in insufficient learning and limited model capacity to distinguish between classes."
   ]
  },
  {
   "cell_type": "markdown",
   "id": "ad3b3417-be41-4e81-9862-a4a1f8921e33",
   "metadata": {},
   "source": [
    "*****************************\n",
    "Q4: What are Up-sampling and Down-sampling? Explain with an example when up-sampling and down-\n",
    "sampling are required.\n",
    "\n",
    "Answer: \n",
    "Up-sampling and down-sampling are two common techniques used to address class imbalance in machine learning. Here's an explanation of each technique and examples of when they are required:\n",
    "\n",
    "1. Up-sampling (Over-sampling):\n",
    "   - Up-sampling involves increasing the number of instances in the minority class to balance the class distribution.\n",
    "   - This can be achieved by replicating existing instances of the minority class or by generating synthetic examples based on the existing minority class instances.\n",
    "   - Up-sampling helps provide the model with more examples from the minority class, enabling it to learn more effectively and reducing bias towards the majority class.\n",
    "   \n",
    "   Example:\n",
    "   Consider a fraud detection problem where the positive class (fraudulent transactions) is rare, accounting for only 5% of the dataset. In this case, up-sampling can be employed to increase the number of instances of the positive class by replicating or generating synthetic instances. This allows the model to have a better representation of the positive class and learn the patterns associated with fraud more effectively.\n",
    "\n",
    "2. Down-sampling (Under-sampling):\n",
    "   - Down-sampling involves reducing the number of instances in the majority class to balance the class distribution.\n",
    "   - This can be achieved by randomly removing instances from the majority class until a balanced distribution is achieved.\n",
    "   - Down-sampling helps prevent the model from being overwhelmed by the majority class and ensures equal representation of all classes.\n",
    "   \n",
    "   Example:\n",
    "   Consider a disease classification problem where the negative class (non-disease) is significantly dominant, accounting for 90% of the dataset. In this case, down-sampling can be applied by randomly removing instances from the negative class until a balanced distribution is achieved. This allows the model to avoid being biased towards the negative class and ensures equal consideration of both the positive and negative classes.\n",
    "\n",
    "The choice between up-sampling and down-sampling depends on various factors, including the problem domain, the availability of data, and the specific goals of the analysis. It's worth noting that both techniques have their trade-offs. Up-sampling may increase the risk of overfitting, especially if synthetic examples are generated poorly. Down-sampling may result in loss of information due to the reduced size of the majority class. Thus, it is essential to carefully evaluate the impact of these techniques on the model's performance and choose the most appropriate approach accordingly."
   ]
  },
  {
   "cell_type": "markdown",
   "id": "d16c3853-b82a-4146-b3d7-690920b541a0",
   "metadata": {},
   "source": [
    "******************************\n",
    "\n",
    "Q5: What is data Augmentation? Explain SMOTE.\n",
    "\n",
    "Data augmentation is a technique used to artificially increase the size of a dataset by creating new, synthetic samples. It involves applying various transformations or perturbations to the existing data to generate additional examples that are similar to the original ones. Data augmentation is commonly used in image and text data but can be applied to other types of data as well.\n",
    "\n",
    "One popular data augmentation technique is SMOTE (Synthetic Minority Over-sampling Technique), which specifically addresses the imbalanced class distribution problem by generating synthetic samples for the minority class.\n",
    "\n",
    "Here's an explanation of how SMOTE works:\n",
    "\n",
    "1. SMOTE Algorithm:\n",
    "   - SMOTE works by creating synthetic examples for the minority class by interpolating between existing minority class instances.\n",
    "   - The algorithm selects a minority class instance and identifies its k nearest neighbors (typically using Euclidean distance).\n",
    "   - It randomly selects one of the k nearest neighbors and generates a synthetic example by creating a linear combination between the selected instance and the randomly chosen neighbor.\n",
    "   - This process is repeated for a specified number of times or until the desired level of oversampling is achieved.\n",
    "\n",
    "2. Benefits of SMOTE:\n",
    "   - SMOTE helps address the class imbalance problem by increasing the number of minority class instances, thereby reducing bias towards the majority class.\n",
    "   - It creates synthetic examples in feature space, allowing the model to learn better decision boundaries and capture the underlying patterns of the minority class.\n",
    "   - SMOTE can be used in conjunction with other data augmentation techniques or in combination with other sampling methods, such as undersampling the majority class, to further enhance the performance of imbalanced classification models.\n",
    "\n",
    "Example:\n",
    "Consider a binary classification problem where the positive class (class of interest) is underrepresented. Using SMOTE, synthetic samples are generated for the positive class by interpolating between existing positive class instances and their nearest neighbors. The synthetic samples simulate new instances that share similar characteristics and patterns as the positive class, increasing its representation in the dataset. This way, SMOTE helps in balancing the class distribution and improves the model's ability to learn and generalize from the minority class.\n",
    "\n",
    "It's important to note that while SMOTE is a powerful technique, its application should be done with caution. Care should be taken to ensure that the synthetic samples generated by SMOTE are plausible and representative of the minority class. Additionally, the choice of the number of synthetic samples and the selection of nearest neighbors (k value) should be made based on the specific problem and data characteristics."
   ]
  },
  {
   "cell_type": "markdown",
   "id": "f85e3d11-fba6-43b6-9b10-1ce0fa0c7a0d",
   "metadata": {},
   "source": [
    "*********************\n",
    "\n",
    "Q6: What are outliers in a dataset? Why is it essential to handle outliers?\n",
    "\n",
    "Answer: \n",
    "\n",
    "Outliers in a dataset refer to observations or data points that deviate significantly from the majority of the other data points. They are extreme values that lie far away from the central tendency of the data. Outliers can occur due to various reasons, such as measurement errors, data entry mistakes, natural variations, or rare events.\n",
    "\n",
    "It is essential to handle outliers for several reasons:\n",
    "\n",
    "Impact on Statistical Analysis: Outliers can distort statistical analysis by affecting the calculation of summary statistics such as mean and standard deviation. These measures are sensitive to extreme values and may not accurately represent the central tendency and spread of the data. Handling outliers ensures that the statistical analysis provides meaningful insights and accurate representations of the data.\n",
    "\n",
    "Influence on Machine Learning Models: Outliers can have a significant impact on the performance of machine learning models. They can disproportionately influence the model's fitting process, leading to biased parameter estimates and suboptimal predictions. Models trained on datasets with outliers may struggle to generalize well to new data or exhibit poor performance on real-world scenarios. Handling outliers helps in creating more robust and reliable models.\n",
    "\n",
    "Assumption Violation: Outliers can violate assumptions of certain statistical techniques and machine learning algorithms. For example, linear regression assumes that the data follows a linear relationship, and outliers can introduce non-linearity or heteroscedasticity, which affects the accuracy and interpretability of the model. Handling outliers ensures that the underlying assumptions of the analysis or modeling approach are met.\n",
    "\n",
    "Data Quality and Interpretation: Outliers can also be indicators of data quality issues or anomalies in the underlying processes being measured. Identifying and handling outliers can help uncover data collection errors, measurement problems, or unusual events that may require further investigation. Handling outliers enhances the integrity and reliability of the dataset, leading to more accurate interpretations and conclusions."
   ]
  },
  {
   "cell_type": "markdown",
   "id": "dbe71748-963f-445c-ae01-66223ec6619c",
   "metadata": {},
   "source": [
    "*******************\n",
    "Q7: You are working on a project that requires analyzing customer data. However, you notice that some of\n",
    "the data is missing. What are some techniques you can use to handle the missing data in your analysis?\n",
    "\n",
    "Answer: \n",
    "1. Deletion of missing data \n",
    "2. Mean / Median imputation \n",
    "3. Interpolation methods"
   ]
  },
  {
   "cell_type": "markdown",
   "id": "14bd6afd-eb25-41a4-9a7f-568ad8c43ddb",
   "metadata": {},
   "source": [
    "******************\n",
    "Q8: You are working with a large dataset and find that a small percentage of the data is missing. What are\n",
    "some strategies you can use to determine if the missing data is missing at random or if there is a pattern\n",
    "to the missing data?\n",
    "\n",
    "Answer: \n",
    "1. Missing Data Visualization: Visualize the missing data pattern to observe any potential trends or patterns. This can be done using techniques such as heatmaps or missing data matrices. If there are visible patterns or clusters of missing values, it suggests non-random missingness.\n",
    "\n",
    "2. Missingness by Group/Category: Analyze the missingness based on different groups or categories within the dataset. Calculate the missingness rate for each category and compare them. If there are significant differences in the missingness rates between groups, it indicates systematic missingness related to specific characteristics or factors.\n",
    "\n",
    "3. Statistical Tests: Perform statistical tests to assess the relationship between missingness and other variables. For categorical variables, conduct a chi-squared test of independence or Fisher's exact test. For continuous variables, use t-tests or analysis of variance (ANOVA). If the tests show a statistically significant association, it suggests non-random missingness.\n",
    "\n",
    "4. Missingness as a Predictor: Treat missingness as a separate variable and examine its relationship with other variables. Include missingness indicators as additional predictors in your analysis or modeling. If the missingness indicator variable shows a significant relationship with other variables, it indicates systematic missingness."
   ]
  },
  {
   "cell_type": "markdown",
   "id": "250422fe-3cc7-4e31-adc0-55066bc46c06",
   "metadata": {},
   "source": [
    "*************************\n",
    "Q9: Suppose you are working on a medical diagnosis project and find that the majority of patients in the\n",
    "dataset do not have the condition of interest, while a small percentage do. What are some strategies you\n",
    "can use to evaluate the performance of your machine learning model on this imbalanced dataset?\n",
    "\n",
    "Answer: \n",
    "Up sampling on small percentage of patients who have condition of interest can be carried out.\n",
    "Performance of model can be evaluated using:\n",
    "1. Confusion matrix creation \n",
    "2. Calculate Accuracy, Precision and Recall "
   ]
  },
  {
   "cell_type": "markdown",
   "id": "506d283a-48a4-403b-b2a3-a258f401ced0",
   "metadata": {},
   "source": [
    "*********************************\n",
    "Q10: When attempting to estimate customer satisfaction for a project, you discover that the dataset is\n",
    "unbalanced, with the bulk of customers reporting being satisfied. What methods can you employ to\n",
    "balance the dataset and down-sample the majority class?\n",
    "\n",
    "Answer: \n",
    "When dealing with an unbalanced dataset where the majority class dominates the data, down-sampling the majority class is one approach to balance the dataset. Here are some methods you can employ to down-sample the majority class and create a more balanced dataset:\n",
    "\n",
    "1. Random Under-Sampling:\n",
    "   - Randomly select a subset of instances from the majority class to match the number of instances in the minority class.\n",
    "   - This approach reduces the number of instances from the majority class without considering any specific criteria or characteristics.\n",
    "\n",
    "2. Cluster Centroids:\n",
    "   - Use clustering algorithms to identify clusters within the majority class.\n",
    "   - Create \"cluster centroids\" by taking the mean or median of each cluster.\n",
    "   - Down-sample the majority class by randomly selecting instances from the cluster centroids.\n",
    "   - This method aims to preserve the distribution and characteristics of the majority class while reducing its size.\n",
    "\n",
    "3. Tomek Links:\n",
    "   - Identify pairs of instances from different classes that are the nearest neighbors of each other.\n",
    "   - Remove the majority class instance from each pair, as they are considered \"Tomek links.\"\n",
    "   - This technique emphasizes the boundaries between the classes, potentially improving the model's performance on the minority class.\n",
    "\n",
    "4. NearMiss:\n",
    "   - Use the NearMiss algorithm to select instances from the majority class that are closest to the minority class.\n",
    "   - This approach focuses on preserving instances that are most informative or challenging for the model, potentially improving the model's ability to distinguish between classes.\n",
    "\n",
    "5. Edited Nearest Neighbors (ENN):\n",
    "   - Identify instances from the majority class that are misclassified by the nearest neighbor classifier.\n",
    "   - Remove these instances from the majority class, as they are considered potentially noisy or less informative.\n",
    "\n",
    "It's important to note that down-sampling the majority class can result in a loss of information, as you are reducing the size of the training data. Therefore, it's crucial to carefully consider the impact on model performance and potential trade-offs. It's also recommended to assess the performance of the model on the down-sampled dataset and compare it to the performance on the original imbalanced dataset to ensure that the down-sampling process does not significantly degrade the model's performance."
   ]
  },
  {
   "cell_type": "markdown",
   "id": "4c69f70c-7979-441b-9171-fae466952a87",
   "metadata": {},
   "source": [
    "*******************************\n",
    "Q11: You discover that the dataset is unbalanced with a low percentage of occurrences while working on a\n",
    "project that requires you to estimate the occurrence of a rare event. What methods can you employ to\n",
    "balance the dataset and up-sample the minority class?\n",
    "\n",
    "Answer: \n",
    "\n",
    "When dealing with an unbalanced dataset where the minority class is rare and occurrences are of interest, up-sampling the minority class is one approach to balance the dataset. Here are some methods you can employ to up-sample the minority class and create a more balanced dataset:\n",
    "\n",
    "1. Random Over-Sampling:\n",
    "   - Randomly replicate instances from the minority class to increase its size.\n",
    "   - This approach duplicates existing minority class instances to match the number of instances in the majority class.\n",
    "   - Random over-sampling can be effective, but it may result in overfitting and potentially amplify the noise in the minority class.\n",
    "\n",
    "2. Synthetic Minority Over-sampling Technique (SMOTE):\n",
    "   - SMOTE generates synthetic instances for the minority class by interpolating between existing minority class instances.\n",
    "   - The algorithm selects a minority class instance, identifies its k nearest neighbors, and creates synthetic examples along the line segments connecting the instance with its neighbors.\n",
    "   - SMOTE helps to increase the size of the minority class while introducing diversity and minimizing overfitting.\n",
    "\n",
    "3. Adaptive Synthetic (ADASYN):\n",
    "   - ADASYN is an extension of SMOTE that adjusts the synthesis of minority class instances based on the difficulty of learning between classes.\n",
    "   - It generates more synthetic examples for minority class instances that are harder to learn, as determined by the density of neighboring majority class instances.\n",
    "   - ADASYN aims to address the issue of overfitting and creates a more balanced dataset by focusing on the minority class instances that are more challenging to classify.\n",
    "\n",
    "4. SMOTE-ENN:\n",
    "   - SMOTE-ENN combines the over-sampling of SMOTE with the under-sampling technique of Edited Nearest Neighbors (ENN).\n",
    "   - SMOTE is initially applied to oversample the minority class, followed by ENN to remove noisy and misclassified instances from both classes.\n",
    "   - This method combines the benefits of over-sampling and under-sampling to create a balanced dataset that is more robust and less prone to overfitting.\n",
    "\n",
    "It's important to note that up-sampling the minority class may lead to an increase in the dataset size and potentially introduce duplicated or synthetic instances. Therefore, it's crucial to carefully consider the impact on computational resources and potential trade-offs. Additionally, it's recommended to assess the performance of the model on the up-sampled dataset and compare it to the performance on the original imbalanced dataset to ensure that the up-sampling process does not result in overfitting or significantly degrade the model's performance."
   ]
  },
  {
   "cell_type": "code",
   "execution_count": null,
   "id": "bc72cd02-817e-4d71-af87-009695ab04c0",
   "metadata": {},
   "outputs": [],
   "source": []
  }
 ],
 "metadata": {
  "kernelspec": {
   "display_name": "Python 3 (ipykernel)",
   "language": "python",
   "name": "python3"
  },
  "language_info": {
   "codemirror_mode": {
    "name": "ipython",
    "version": 3
   },
   "file_extension": ".py",
   "mimetype": "text/x-python",
   "name": "python",
   "nbconvert_exporter": "python",
   "pygments_lexer": "ipython3",
   "version": "3.10.8"
  }
 },
 "nbformat": 4,
 "nbformat_minor": 5
}

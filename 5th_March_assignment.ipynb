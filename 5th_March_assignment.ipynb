{
  "nbformat": 4,
  "nbformat_minor": 0,
  "metadata": {
    "colab": {
      "provenance": []
    },
    "kernelspec": {
      "name": "python3",
      "display_name": "Python 3"
    },
    "language_info": {
      "name": "python"
    }
  },
  "cells": [
    {
      "cell_type": "markdown",
      "source": [
        "Q1. How can you create a Bokeh plot using Python code?\n",
        "Answer: \n",
        "Bokeh is a data visualization library in Python that provides high-performance interactive charts and plots. Bokeh output can be obtained in various mediums like notebook, html and server. It is possible to embed bokeh plots in Django and flask apps.\n",
        "\n",
        "Mainly bokeh provides two interface levels that are simple and we can adapt easily.\n",
        "\n",
        "1. Bokeh Models\n",
        "2. Bokeh Plottings\n",
        "3. Bokeh Applications\n",
        "4. Bokeh Server\n",
        "5. bokeh.models\n",
        "\n",
        "a. Bokeh models provide a low-level interface that provides high-end flexibility to the application developers\n",
        "\n",
        "b. bokeh.plotting\n",
        "Bokeh plotting provides a high-level interface for creating visuals glyphs. Bokeh plotting is a subclass of bokeh.models module. It contains the definition of figure class; figure class is the simplest plot creation.\n",
        "\n",
        "c. bokeh.application\n",
        "Bokeh application package which is used to create bokeh documents; is a lightweight factory.\n",
        "\n",
        "d. bokeh.server\n",
        "Bokeh server is used to publish and share interactive charts and apps."
      ],
      "metadata": {
        "id": "8NCwH2Tnr8qp"
      }
    },
    {
      "cell_type": "markdown",
      "source": [
        "Q2. What are glyphs in Bokeh, and how can you add them to a Bokeh plot? Explain with an example.\n",
        "\n",
        "Answer: \n",
        "Usually, a plot consists of geometric shapes either in the form of a line, circle, etc. So, Glyphs are nothing but visual shapes that are drawn to represent the data such as circles, squares, lines, rectangles, etc.  \n",
        "\n"
      ],
      "metadata": {
        "id": "LbeZQ6VosZf_"
      }
    },
    {
      "cell_type": "code",
      "source": [
        "from bokeh.plotting import figure, show, output_file\n",
        " \n",
        "# prepare some data\n",
        "a = [1, 2, 3, 4, 5, 6, 7, 8, 9, 10]\n",
        "b = [2, 4, 6, 8, 10, 12, 14, 16, 18, 20]\n",
        " \n",
        "# create a plot using figure\n",
        "my_plot = figure(title=\"simple line chart\", x_axis_label=\"X-Axis\",\n",
        "                y_axis_label=\"Y-Axis\")\n",
        " \n",
        "# adding line graph\n",
        "my_plot.line(a, b, line_width=3)\n",
        " \n",
        "# display output in file\n",
        "output_file(\"line.html\")\n",
        " \n",
        "# show the result\n",
        "show(my_plot)"
      ],
      "metadata": {
        "id": "hxIMLfcYuRD-"
      },
      "execution_count": 2,
      "outputs": []
    },
    {
      "cell_type": "markdown",
      "source": [
        "Q3. How can you customize the appearance of a Bokeh plot, including the axes, title, and legend?\n",
        "\n",
        "Answer: using figure() method, we can customize appearance of Bokeh plot for title. axes and legend"
      ],
      "metadata": {
        "id": "4VOUoO3fuoN3"
      }
    },
    {
      "cell_type": "markdown",
      "source": [
        "Q4. What is a Bokeh server, and how can you use it to create interactive plots that can be updated in\n",
        "real time?\n",
        "\n",
        "Answer: The Bokeh server is a component of Bokeh that allows you to build interactive web applications that are connected to Python code running on a server.\n",
        "\n",
        "Bokeh creates high-level Python models, such as plots, ranges, axes, and glyphs, and then converts these objects to JSON to pass them to its client library, BokehJS. \n"
      ],
      "metadata": {
        "id": "ozVtiHgAu-vP"
      }
    },
    {
      "cell_type": "markdown",
      "source": [
        "Q5. How can you embed a Bokeh plot into a web page or dashboard using Flask or Django?\n",
        "\n",
        "\n",
        "Answer: Flask is a library tp create web application using python. A web application can be created using python as a main.py\n",
        "HTML file will be created to show html reurned output from Flask application. \n",
        "Flask application wll be run that will run bokeh.plotting and create required charts. Output will be returned to HTML file using render_template."
      ],
      "metadata": {
        "id": "sKKV7vTUwzNP"
      }
    }
  ]
}
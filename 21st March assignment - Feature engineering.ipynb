{
 "cells": [
  {
   "cell_type": "markdown",
   "id": "6cc2cc92-aab2-4e6d-97a4-d4a4df8be179",
   "metadata": {},
   "source": [
    "Q1. What is the difference between Ordinal Encoding and Label Encoding? Provide an example of when you\n",
    "might choose one over the other.\n",
    "\n",
    "Answer: \n",
    "Ordinal Encoding and Label Encoding are both techniques used in data preprocessing to convert categorical data into numerical form, but they have different purposes and implementations.\n",
    "\n",
    "Label Encoding:\n",
    "Label Encoding is a straightforward technique where each unique category in a categorical feature is assigned a unique integer label. There is no inherent order or ranking between the labels. \n",
    "For example: Color feature is encoded as Red - 0; Blue - 1 etc\n",
    "\n",
    "Ordinal Encoding:\n",
    "Ordinal Encoding is used when the categorical data has an inherent order or ranking. It assigns integer labels to the categories based on their order. \n",
    "For example: Low - 0; Medium - 1; High -2\n"
   ]
  },
  {
   "cell_type": "markdown",
   "id": "5ce155ad-21b6-45c8-befc-f39fd746d34d",
   "metadata": {},
   "source": [
    "************************\n",
    "\n",
    "Q2. Explain how Target Guided Ordinal Encoding works and provide an example of when you might use it in\n",
    "a machine learning project.\n",
    "\n",
    "Answer: \n",
    "Target Guided Ordinal Encoding, also known as Ordered Mean Encoding or Weight of Evidence Encoding, is a technique used to encode categorical features based on the relationship between the category labels and the target variable in a supervised machine learning problem. It is particularly useful when dealing with ordinal categorical variables where there is an inherent order among the categories.\n",
    "\n",
    "Here's how Target Guided Ordinal Encoding works:\n",
    "\n",
    "Calculate the mean (or other appropriate metric) of the target variable for each category in the categorical feature.\n",
    "Order the categories based on their mean values. This creates an ordinal relationship between the categories.\n",
    "Assign integer labels to the categories based on their order, replacing the original category labels with these new integer labels.\n",
    "\n",
    "Example of when to use Target Guided Ordinal Encoding:\n",
    "\n",
    "Let's consider a machine learning project where we are building a model to predict the risk level of loan applicants (e.g., low risk, medium risk, high risk). One of the features in our dataset is \"Income Group,\" which is an ordinal categorical variable with categories like \"Low,\" \"Medium,\" and \"High.\"\n",
    "\n",
    "To apply Target Guided Ordinal Encoding:\n",
    "\n",
    "Calculate the mean target (e.g., the proportion of high-risk applicants) for each income group.\n",
    "Order the income groups based on their mean target values. For instance, if the mean target for \"High\" income group is the highest, followed by \"Medium,\" and then \"Low,\" the ordering would be \"High\" > \"Medium\" > \"Low.\"\n",
    "Assign integer labels to the income groups based on the order: \"High\" would get the highest integer value, \"Medium\" the next, and \"Low\" the lowest."
   ]
  },
  {
   "cell_type": "markdown",
   "id": "d5fd9ac8-a322-452f-ae67-271448a3f4d4",
   "metadata": {},
   "source": [
    "****************************\n",
    "\n",
    "Q3. Define covariance and explain why it is important in statistical analysis. How is covariance calculated?\n",
    "\n",
    "Answer: \n",
    "Covariance is a statistical measure that quantifies the degree to which two random variables change together. It describes the relationship between two variables and whether they tend to move in the same direction (positive covariance) or in opposite directions (negative covariance).\n",
    "\n",
    "In other words, covariance indicates how changes in one variable are associated with changes in another variable. If two variables have a positive covariance, it means that as one variable increases, the other tends to increase as well. On the other hand, if they have a negative covariance, it means that as one variable increases, the other tends to decrease.\n",
    "\n",
    "Importance of Covariance in Statistical Analysis:\n",
    "Covariance is essential in statistical analysis for several reasons:\n",
    "\n",
    "Relationship Assessment: Covariance helps to understand the direction and strength of the relationship between two variables. It provides valuable insights into how two variables co-vary, which can be useful for identifying patterns and trends in the data.\n",
    "\n",
    "Portfolio Diversification: In finance, covariance is used to assess the relationship between the returns of different assets. Positive covariance between assets indicates they tend to move together, while negative covariance suggests they may move in opposite directions. This information is crucial for portfolio diversification to reduce risk.\n",
    "\n",
    "Feature Selection: In machine learning and feature engineering, covariance is used to identify highly correlated features. Highly correlated features can lead to multicollinearity, which may negatively impact the performance of certain models. By analyzing covariance, we can choose the most relevant and uncorrelated features.\n",
    "\n",
    "Risk Management: Covariance is a fundamental concept in risk management, particularly in scenarios where multiple risks are involved. Understanding the covariance between risks helps in assessing overall risk exposure and developing risk mitigation strategies.\n",
    "\n",
    "Calculation of Covariance:\n",
    "The covariance between two random variables X and Y, each with n data points, is calculated using the following formula:\n",
    "\n",
    "cov(X,Y) = summation ((Xᵢ - mean(X)) * (Yᵢ - mean(Y)) / (n-1)\n",
    "\n",
    "A positive covariance indicates a positive relationship between the variables, while a negative covariance indicates a negative relationship. If the covariance is close to zero, it suggests that there is little to no linear relationship between the variables. Additionally, covariance is scale-dependent, meaning it can be affected by the scale of the variables, which can make interpretation challenging. Therefore, correlation, which is the standardized version of covariance, is often preferred as it provides a normalized measure of the relationship between variables."
   ]
  },
  {
   "cell_type": "markdown",
   "id": "211580c1-52e2-4513-9ae9-c62208d6ac90",
   "metadata": {},
   "source": [
    "**********************\n",
    "Q4. For a dataset with the following categorical variables: Color (red, green, blue), Size (small, medium,\n",
    "large), and Material (wood, metal, plastic), perform label encoding using Python's scikit-learn library.\n",
    "Show your code and explain the output.\n",
    "\n"
   ]
  },
  {
   "cell_type": "code",
   "execution_count": 16,
   "id": "fd7626f4-5c7c-46fa-9ed7-77063eec3472",
   "metadata": {},
   "outputs": [
    {
     "name": "stdout",
     "output_type": "stream",
     "text": [
      "Encoded Data: [(2, 1, 2), (1, 2, 0), (0, 0, 1), (1, 1, 0), (2, 2, 1)]\n"
     ]
    }
   ],
   "source": [
    "from sklearn.preprocessing import LabelEncoder\n",
    "\n",
    "# Sample data representing the categorical variables\n",
    "colors = ['red', 'green', 'blue', 'green', 'red']\n",
    "sizes = ['medium', 'small', 'large', 'medium', 'small']\n",
    "materials = ['wood', 'metal', 'plastic', 'metal', 'plastic']\n",
    "\n",
    "\n",
    "label_encoder = LabelEncoder()\n",
    "\n",
    "# Combine the categorical variables into a single list of tuples\n",
    "data = list(zip(colors, sizes, materials))\n",
    "\n",
    "\n",
    "\n",
    "# Perform label encoding for each column in the dataset\n",
    "encoded_data = []\n",
    "\n",
    "for col in range(len(data[0])):\n",
    "    encoded_data.append(label_encoder.fit_transform([row[col] for row in data]))\n",
    "    \n",
    "# Transpose the encoded_data to restore the original structure\n",
    "encoded_data = list(zip(*encoded_data))\n",
    "\n",
    "print(\"Encoded Data:\", encoded_data)"
   ]
  },
  {
   "cell_type": "markdown",
   "id": "80b7e074-d6dd-4d13-b22a-2fb2eed37a11",
   "metadata": {},
   "source": [
    "***********************\n",
    "Q5. Calculate the covariance matrix for the following variables in a dataset: Age, Income, and Education\n",
    "level. Interpret the results."
   ]
  },
  {
   "cell_type": "code",
   "execution_count": 20,
   "id": "44112e20-c968-4fd1-9bbb-b1e89b88263e",
   "metadata": {},
   "outputs": [
    {
     "name": "stdout",
     "output_type": "stream",
     "text": [
      "Covariance Matrix:\n",
      "[[ 3.530e+01  4.625e+04  0.000e+00]\n",
      " [ 4.625e+04  6.250e+07 -1.250e+03]\n",
      " [ 0.000e+00 -1.250e+03  5.000e+00]]\n"
     ]
    }
   ],
   "source": [
    "import numpy as np \n",
    "\n",
    "age = [30, 25, 40, 35, 28]\n",
    "income = [50000, 40000, 60000, 55000, 45000]\n",
    "education_level = [12, 16, 14, 18, 15]\n",
    "\n",
    "\n",
    "data = np.array([age, income, education_level])\n",
    "\n",
    "# Calculate the covariance matrix\n",
    "cov_matrix = np.cov(data)\n",
    "\n",
    "print(\"Covariance Matrix:\")\n",
    "print(cov_matrix)"
   ]
  },
  {
   "cell_type": "markdown",
   "id": "80815236-2170-4592-8589-6f71d0f8c114",
   "metadata": {},
   "source": [
    "**************\n",
    "Q6. You are working on a machine learning project with a dataset containing several categorical\n",
    "variables, including \"Gender\" (Male/Female), \"Education Level\" (High School/Bachelor's/Master's/PhD),\n",
    "and \"Employment Status\" (Unemployed/Part-Time/Full-Time). Which encoding method would you use for\n",
    "each variable, and why?\n",
    "\n",
    "Answer: \n",
    "\n",
    "Gender: Binary encoding converted into numerical form 0 - Male; 1 for female as there are only two values\n",
    "Education level : Ordinal encoding as education level has a particular order\n",
    "Employment status: One hot encoding as it is Nominal data"
   ]
  },
  {
   "cell_type": "markdown",
   "id": "77d39d35-4fcd-4aef-82d3-b7ca5037174b",
   "metadata": {},
   "source": [
    "****************\n",
    "Q7. You are analyzing a dataset with two continuous variables, \"Temperature\" and \"Humidity\", and two\n",
    "categorical variables, \"Weather Condition\" (Sunny/Cloudy/Rainy) and \"Wind Direction\" (North/South/\n",
    "East/West). Calculate the covariance between each pair of variables and interpret the results.\n",
    "\n",
    "Answer: "
   ]
  },
  {
   "cell_type": "code",
   "execution_count": 41,
   "id": "a235f08e-2530-43d4-bfcd-4cb7aacbb933",
   "metadata": {},
   "outputs": [],
   "source": [
    "from sklearn.preprocessing import StandardScaler\n",
    "from sklearn.preprocessing import MinMaxScaler\n",
    "import pandas as pd\n",
    "\n",
    "\n",
    "# Sample data representing the categorical variables\n",
    "\n",
    "Temperature = [30, 10, 5, 2, 0]\n",
    "Humidity = [30, 5, 40, 10, 2]\n",
    "Weather_condition = ['Sunny', 'Cloudy', 'Rainy', 'Cloudy', 'Cloudy']\n",
    "Wind_Direction = ['North','South','East','West', 'West']\n",
    "\n",
    "\n",
    "label_encoder = LabelEncoder()\n",
    "standard_scalar= StandardScaler()\n",
    "min_max_scalar = MinMaxScaler()\n",
    "\n",
    "# Combine the categorical variables into a single list of tuples\n",
    "Weather_condition=label_encoder.fit_transform(Weather_condition)\n",
    "Wind_Direction=label_encoder.fit_transform(Wind_Direction)\n",
    "\n",
    "\n",
    "data_arr= pd.DataFrame(list(zip(Temperature,Humidity,Weather_condition,Wind_Direction)),columns=['Temperature','Humidity','Weather_condition','Wind_Direction'])\n",
    "\n"
   ]
  },
  {
   "cell_type": "code",
   "execution_count": 36,
   "id": "be086af9-2f9e-411a-bb74-76f8d7014a54",
   "metadata": {},
   "outputs": [
    {
     "data": {
      "text/html": [
       "<div>\n",
       "<style scoped>\n",
       "    .dataframe tbody tr th:only-of-type {\n",
       "        vertical-align: middle;\n",
       "    }\n",
       "\n",
       "    .dataframe tbody tr th {\n",
       "        vertical-align: top;\n",
       "    }\n",
       "\n",
       "    .dataframe thead th {\n",
       "        text-align: right;\n",
       "    }\n",
       "</style>\n",
       "<table border=\"1\" class=\"dataframe\">\n",
       "  <thead>\n",
       "    <tr style=\"text-align: right;\">\n",
       "      <th></th>\n",
       "      <th>Temperature</th>\n",
       "      <th>Humidity</th>\n",
       "      <th>Weather_condition</th>\n",
       "      <th>Wind_Direction</th>\n",
       "    </tr>\n",
       "  </thead>\n",
       "  <tbody>\n",
       "    <tr>\n",
       "      <th>0</th>\n",
       "      <td>30</td>\n",
       "      <td>30</td>\n",
       "      <td>2</td>\n",
       "      <td>1</td>\n",
       "    </tr>\n",
       "    <tr>\n",
       "      <th>1</th>\n",
       "      <td>10</td>\n",
       "      <td>5</td>\n",
       "      <td>0</td>\n",
       "      <td>2</td>\n",
       "    </tr>\n",
       "    <tr>\n",
       "      <th>2</th>\n",
       "      <td>5</td>\n",
       "      <td>40</td>\n",
       "      <td>1</td>\n",
       "      <td>0</td>\n",
       "    </tr>\n",
       "    <tr>\n",
       "      <th>3</th>\n",
       "      <td>2</td>\n",
       "      <td>10</td>\n",
       "      <td>0</td>\n",
       "      <td>3</td>\n",
       "    </tr>\n",
       "    <tr>\n",
       "      <th>4</th>\n",
       "      <td>0</td>\n",
       "      <td>2</td>\n",
       "      <td>0</td>\n",
       "      <td>3</td>\n",
       "    </tr>\n",
       "  </tbody>\n",
       "</table>\n",
       "</div>"
      ],
      "text/plain": [
       "   Temperature  Humidity  Weather_condition  Wind_Direction\n",
       "0           30        30                  2               1\n",
       "1           10         5                  0               2\n",
       "2            5        40                  1               0\n",
       "3            2        10                  0               3\n",
       "4            0         2                  0               3"
      ]
     },
     "execution_count": 36,
     "metadata": {},
     "output_type": "execute_result"
    }
   ],
   "source": [
    "data_arr"
   ]
  },
  {
   "cell_type": "code",
   "execution_count": 42,
   "id": "1ba97f7a-ee4c-403d-9633-3271f83ba5be",
   "metadata": {},
   "outputs": [],
   "source": [
    "data_arr[['Temperature']] = min_max_scalar.fit_transform(data_arr[['Temperature']])"
   ]
  },
  {
   "cell_type": "code",
   "execution_count": 44,
   "id": "3928df48-1843-44d1-8211-ca3d26558071",
   "metadata": {},
   "outputs": [
    {
     "data": {
      "text/html": [
       "<div>\n",
       "<style scoped>\n",
       "    .dataframe tbody tr th:only-of-type {\n",
       "        vertical-align: middle;\n",
       "    }\n",
       "\n",
       "    .dataframe tbody tr th {\n",
       "        vertical-align: top;\n",
       "    }\n",
       "\n",
       "    .dataframe thead th {\n",
       "        text-align: right;\n",
       "    }\n",
       "</style>\n",
       "<table border=\"1\" class=\"dataframe\">\n",
       "  <thead>\n",
       "    <tr style=\"text-align: right;\">\n",
       "      <th></th>\n",
       "      <th>Temperature</th>\n",
       "      <th>Humidity</th>\n",
       "      <th>Weather_condition</th>\n",
       "      <th>Wind_Direction</th>\n",
       "    </tr>\n",
       "  </thead>\n",
       "  <tbody>\n",
       "    <tr>\n",
       "      <th>0</th>\n",
       "      <td>1.000000</td>\n",
       "      <td>0.736842</td>\n",
       "      <td>2</td>\n",
       "      <td>1</td>\n",
       "    </tr>\n",
       "    <tr>\n",
       "      <th>1</th>\n",
       "      <td>0.333333</td>\n",
       "      <td>0.078947</td>\n",
       "      <td>0</td>\n",
       "      <td>2</td>\n",
       "    </tr>\n",
       "    <tr>\n",
       "      <th>2</th>\n",
       "      <td>0.166667</td>\n",
       "      <td>1.000000</td>\n",
       "      <td>1</td>\n",
       "      <td>0</td>\n",
       "    </tr>\n",
       "    <tr>\n",
       "      <th>3</th>\n",
       "      <td>0.066667</td>\n",
       "      <td>0.210526</td>\n",
       "      <td>0</td>\n",
       "      <td>3</td>\n",
       "    </tr>\n",
       "    <tr>\n",
       "      <th>4</th>\n",
       "      <td>0.000000</td>\n",
       "      <td>0.000000</td>\n",
       "      <td>0</td>\n",
       "      <td>3</td>\n",
       "    </tr>\n",
       "  </tbody>\n",
       "</table>\n",
       "</div>"
      ],
      "text/plain": [
       "   Temperature  Humidity  Weather_condition  Wind_Direction\n",
       "0     1.000000  0.736842                  2               1\n",
       "1     0.333333  0.078947                  0               2\n",
       "2     0.166667  1.000000                  1               0\n",
       "3     0.066667  0.210526                  0               3\n",
       "4     0.000000  0.000000                  0               3"
      ]
     },
     "execution_count": 44,
     "metadata": {},
     "output_type": "execute_result"
    }
   ],
   "source": [
    "data_arr"
   ]
  },
  {
   "cell_type": "code",
   "execution_count": 45,
   "id": "3a871255-f000-492c-b7fe-87120f5f2fc9",
   "metadata": {},
   "outputs": [],
   "source": [
    "data_arr[['Humidity']] = min_max_scalar.fit_transform(data_arr[['Humidity']])"
   ]
  },
  {
   "cell_type": "code",
   "execution_count": 46,
   "id": "9ae9a49c-3fe9-4674-a98d-318a59d3e35b",
   "metadata": {},
   "outputs": [
    {
     "data": {
      "text/html": [
       "<div>\n",
       "<style scoped>\n",
       "    .dataframe tbody tr th:only-of-type {\n",
       "        vertical-align: middle;\n",
       "    }\n",
       "\n",
       "    .dataframe tbody tr th {\n",
       "        vertical-align: top;\n",
       "    }\n",
       "\n",
       "    .dataframe thead th {\n",
       "        text-align: right;\n",
       "    }\n",
       "</style>\n",
       "<table border=\"1\" class=\"dataframe\">\n",
       "  <thead>\n",
       "    <tr style=\"text-align: right;\">\n",
       "      <th></th>\n",
       "      <th>Temperature</th>\n",
       "      <th>Humidity</th>\n",
       "      <th>Weather_condition</th>\n",
       "      <th>Wind_Direction</th>\n",
       "    </tr>\n",
       "  </thead>\n",
       "  <tbody>\n",
       "    <tr>\n",
       "      <th>0</th>\n",
       "      <td>1.000000</td>\n",
       "      <td>0.736842</td>\n",
       "      <td>2</td>\n",
       "      <td>1</td>\n",
       "    </tr>\n",
       "    <tr>\n",
       "      <th>1</th>\n",
       "      <td>0.333333</td>\n",
       "      <td>0.078947</td>\n",
       "      <td>0</td>\n",
       "      <td>2</td>\n",
       "    </tr>\n",
       "    <tr>\n",
       "      <th>2</th>\n",
       "      <td>0.166667</td>\n",
       "      <td>1.000000</td>\n",
       "      <td>1</td>\n",
       "      <td>0</td>\n",
       "    </tr>\n",
       "    <tr>\n",
       "      <th>3</th>\n",
       "      <td>0.066667</td>\n",
       "      <td>0.210526</td>\n",
       "      <td>0</td>\n",
       "      <td>3</td>\n",
       "    </tr>\n",
       "    <tr>\n",
       "      <th>4</th>\n",
       "      <td>0.000000</td>\n",
       "      <td>0.000000</td>\n",
       "      <td>0</td>\n",
       "      <td>3</td>\n",
       "    </tr>\n",
       "  </tbody>\n",
       "</table>\n",
       "</div>"
      ],
      "text/plain": [
       "   Temperature  Humidity  Weather_condition  Wind_Direction\n",
       "0     1.000000  0.736842                  2               1\n",
       "1     0.333333  0.078947                  0               2\n",
       "2     0.166667  1.000000                  1               0\n",
       "3     0.066667  0.210526                  0               3\n",
       "4     0.000000  0.000000                  0               3"
      ]
     },
     "execution_count": 46,
     "metadata": {},
     "output_type": "execute_result"
    }
   ],
   "source": [
    "data_arr"
   ]
  },
  {
   "cell_type": "code",
   "execution_count": 47,
   "id": "ef67e257-d2d0-4874-8520-aa0813d79a1f",
   "metadata": {},
   "outputs": [],
   "source": [
    "cov_matrix=data_arr.cov()"
   ]
  },
  {
   "cell_type": "code",
   "execution_count": 48,
   "id": "16f313f7-a58d-42b7-8a8f-4635cfc542db",
   "metadata": {},
   "outputs": [
    {
     "data": {
      "text/html": [
       "<div>\n",
       "<style scoped>\n",
       "    .dataframe tbody tr th:only-of-type {\n",
       "        vertical-align: middle;\n",
       "    }\n",
       "\n",
       "    .dataframe tbody tr th {\n",
       "        vertical-align: top;\n",
       "    }\n",
       "\n",
       "    .dataframe thead th {\n",
       "        text-align: right;\n",
       "    }\n",
       "</style>\n",
       "<table border=\"1\" class=\"dataframe\">\n",
       "  <thead>\n",
       "    <tr style=\"text-align: right;\">\n",
       "      <th></th>\n",
       "      <th>Temperature</th>\n",
       "      <th>Humidity</th>\n",
       "      <th>Weather_condition</th>\n",
       "      <th>Wind_Direction</th>\n",
       "    </tr>\n",
       "  </thead>\n",
       "  <tbody>\n",
       "    <tr>\n",
       "      <th>Temperature</th>\n",
       "      <td>0.163111</td>\n",
       "      <td>0.077237</td>\n",
       "      <td>0.306667</td>\n",
       "      <td>-0.238333</td>\n",
       "    </tr>\n",
       "    <tr>\n",
       "      <th>Humidity</th>\n",
       "      <td>0.077237</td>\n",
       "      <td>0.193075</td>\n",
       "      <td>0.314474</td>\n",
       "      <td>-0.530263</td>\n",
       "    </tr>\n",
       "    <tr>\n",
       "      <th>Weather_condition</th>\n",
       "      <td>0.306667</td>\n",
       "      <td>0.314474</td>\n",
       "      <td>0.800000</td>\n",
       "      <td>-0.850000</td>\n",
       "    </tr>\n",
       "    <tr>\n",
       "      <th>Wind_Direction</th>\n",
       "      <td>-0.238333</td>\n",
       "      <td>-0.530263</td>\n",
       "      <td>-0.850000</td>\n",
       "      <td>1.700000</td>\n",
       "    </tr>\n",
       "  </tbody>\n",
       "</table>\n",
       "</div>"
      ],
      "text/plain": [
       "                   Temperature  Humidity  Weather_condition  Wind_Direction\n",
       "Temperature           0.163111  0.077237           0.306667       -0.238333\n",
       "Humidity              0.077237  0.193075           0.314474       -0.530263\n",
       "Weather_condition     0.306667  0.314474           0.800000       -0.850000\n",
       "Wind_Direction       -0.238333 -0.530263          -0.850000        1.700000"
      ]
     },
     "execution_count": 48,
     "metadata": {},
     "output_type": "execute_result"
    }
   ],
   "source": [
    "cov_matrix"
   ]
  },
  {
   "cell_type": "markdown",
   "id": "1a38bbf3-c214-44e5-89f2-8499c5b774b5",
   "metadata": {},
   "source": [
    "There is no relation between Humidity and temperature. Temperature and Weather condition has positive correlation."
   ]
  },
  {
   "cell_type": "code",
   "execution_count": null,
   "id": "69c9c775-a7e9-422e-87cd-4c8d6e808e3e",
   "metadata": {},
   "outputs": [],
   "source": []
  }
 ],
 "metadata": {
  "kernelspec": {
   "display_name": "Python 3 (ipykernel)",
   "language": "python",
   "name": "python3"
  },
  "language_info": {
   "codemirror_mode": {
    "name": "ipython",
    "version": 3
   },
   "file_extension": ".py",
   "mimetype": "text/x-python",
   "name": "python",
   "nbconvert_exporter": "python",
   "pygments_lexer": "ipython3",
   "version": "3.10.8"
  }
 },
 "nbformat": 4,
 "nbformat_minor": 5
}

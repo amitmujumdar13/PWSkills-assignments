{
 "cells": [
  {
   "cell_type": "markdown",
   "id": "c973c3f9-db38-46f3-a1f8-369ef22af6f2",
   "metadata": {},
   "source": [
    "1. In order to predict house price based on several characteristics, such as location, square footage,\n",
    "number of bedrooms, etc., you are developing an SVM regression model. Which regression metric in this\n",
    "situation would be the best to employ?\n",
    "\n",
    "Ans:\n",
    "\n",
    "There can be multiple metrics can be utilized like MAE, MSE, RMSE etc. \n",
    "As house price is the target variable, RMSE can be good metric as it will not penalize large errors due to squaring."
   ]
  },
  {
   "cell_type": "markdown",
   "id": "5cc3cef1-25f3-436c-9534-defc6acbd8f0",
   "metadata": {},
   "source": [
    "********\n",
    "Q2. You have built an SVM regression model and are trying to decide between using MSE or R-squared as\n",
    "your evaluation metric. Which metric would be more appropriate if your goal is to predict the actual price\n",
    "of a house as accurately as possible?\n",
    "\n",
    "Ans:\n",
    "1. Lower MSE implies smaller prediction errors, which is generally desirable. However, MSE alone doesn't provide information about how well the model explains the variation in the data.\n",
    "2. R-squared, on the other hand, measures the proportion of variance explained by the model. A higher R-squared suggests that the model captures a larger portion of the variability in the data.\n",
    "\n",
    "3. Ideally, you want a model with both a low MSE (indicating accurate predictions) and a high R-squared (indicating good explanatory power)."
   ]
  },
  {
   "cell_type": "markdown",
   "id": "210cd1b3-3a8a-4f71-b4f7-a6efc991984d",
   "metadata": {},
   "source": [
    "***********\n",
    "Q3. You have a dataset with a significant number of outliers and are trying to select an appropriate\n",
    "regression metric to use with your SVM model. Which metric would be the most appropriate in this\n",
    "scenario?\n",
    "\n",
    "Answer: \n",
    "MAE is less sensitive to outliers compared to MSE (Mean Squared Error) because it computes the average of the absolute differences between predicted and actual values.\n",
    "Formula: MAE = (1/n) * Σ|actual - predicted|\n",
    "Interpretation: MAE gives you the average magnitude of errors, and large outliers have less influence on the overall metric."
   ]
  },
  {
   "cell_type": "markdown",
   "id": "49fdab3b-9d9d-42a6-8273-4202db2f0e20",
   "metadata": {},
   "source": [
    "********\n",
    "\n",
    "Q4. You have built an SVM regression model using a polynomial kernel and are trying to select the best\n",
    "metric to evaluate its performance. You have calculated both MSE and RMSE and found that both values\n",
    "are very close. Which metric should you choose to use in this case?\n",
    "\n",
    "Ans:\n",
    "    In this case as RMSE metric unit is same as that of taret varable (price). RMSE would be better suited in this condition."
   ]
  },
  {
   "cell_type": "markdown",
   "id": "4172589e-54d9-4cbe-9fc9-04fb1194317a",
   "metadata": {},
   "source": [
    "*******\n",
    "Q5. You are comparing the performance of different SVM regression models using different kernels (linear,\n",
    "polynomial, and RBF) and are trying to select the best evaluation metric. Which metric would be most\n",
    "appropriate if your goal is to measure how well the model explains the variance in the target variable?\n",
    "\n",
    "Ans:\n",
    "R squared metric is most appropriate to measure how well the model expalins variance in target variable.\n",
    "\n",
    "An R-squared value of 1 indicates a perfect fit, where the model explains all of the variance in the target variable.\n",
    "An R-squared value of 0 indicates that the model does not explain any of the variance in the target variable and is essentially equivalent to a horizontal line (a flat model)."
   ]
  },
  {
   "cell_type": "code",
   "execution_count": null,
   "id": "2e53025c-b1cf-470a-9feb-553d08765e54",
   "metadata": {},
   "outputs": [],
   "source": []
  }
 ],
 "metadata": {
  "kernelspec": {
   "display_name": "Python 3 (ipykernel)",
   "language": "python",
   "name": "python3"
  },
  "language_info": {
   "codemirror_mode": {
    "name": "ipython",
    "version": 3
   },
   "file_extension": ".py",
   "mimetype": "text/x-python",
   "name": "python",
   "nbconvert_exporter": "python",
   "pygments_lexer": "ipython3",
   "version": "3.10.8"
  }
 },
 "nbformat": 4,
 "nbformat_minor": 5
}

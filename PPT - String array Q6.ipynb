{
 "cells": [
  {
   "cell_type": "markdown",
   "id": "1dc07098-57bf-43c2-a3da-f44be55b0e5f",
   "metadata": {},
   "source": [
    "<aside>\n",
    "💡 **Question 1**\n",
    "\n",
    "A permutation perm of n + 1 integers of all the integers in the range [0, n] can be represented as a string s of length n where:\n",
    "\n",
    "- s[i] == 'I' if perm[i] < perm[i + 1], and\n",
    "- s[i] == 'D' if perm[i] > perm[i + 1].\n",
    "\n",
    "Given a string s, reconstruct the permutation perm and return it. If there are multiple valid permutations perm, return **any of them**.\n",
    "\n",
    "</aside>"
   ]
  },
  {
   "cell_type": "code",
   "execution_count": 2,
   "id": "76d170eb-e03b-4b98-a306-697ec89b11b1",
   "metadata": {},
   "outputs": [],
   "source": [
    "class Solution:\n",
    "\tdef diStringMatch(self, S):\n",
    "\t\ts, l = 0, len(S)\n",
    "\t\tres = []\n",
    "\t\tfor c in S:\n",
    "\t\t\tif c==\"I\":\n",
    "\t\t\t\tres.append(s)\n",
    "\t\t\t\ts+=1\n",
    "\t\t\telse:\n",
    "\t\t\t\tres.append(l)\n",
    "\t\t\t\tl-=1\n",
    "\t\tres.append(s)\n",
    "\t\treturn res"
   ]
  },
  {
   "cell_type": "code",
   "execution_count": 3,
   "id": "72ded2a0-afc9-44d3-9124-b5b8389719f8",
   "metadata": {},
   "outputs": [
    {
     "data": {
      "text/plain": [
       "[0, 4, 1, 3, 2]"
      ]
     },
     "execution_count": 3,
     "metadata": {},
     "output_type": "execute_result"
    }
   ],
   "source": [
    "sol=Solution()\n",
    "s = \"IDID\"\n",
    "sol.diStringMatch(s)"
   ]
  },
  {
   "cell_type": "markdown",
   "id": "289be013-ddc5-4078-927f-ea59d8f565ad",
   "metadata": {},
   "source": [
    "***\n",
    "<aside>\n",
    "💡 **Question 2**\n",
    "\n",
    "You are given an m x n integer matrix matrix with the following two properties:\n",
    "\n",
    "- Each row is sorted in non-decreasing order.\n",
    "- The first integer of each row is greater than the last integer of the previous row.\n",
    "\n",
    "Given an integer target, return true *if* target *is in* matrix *or* false *otherwise*.\n",
    "\n",
    "You must write a solution in O(log(m * n)) time complexity.\n",
    "\n",
    "</aside>"
   ]
  },
  {
   "cell_type": "code",
   "execution_count": 3,
   "id": "af2ca2a8-f354-4475-871d-3345034bec43",
   "metadata": {},
   "outputs": [],
   "source": [
    "class Solution:\n",
    "    def searchMatrix(self, matrix, target): \n",
    "        row,col=len(matrix),len(matrix[0])\n",
    "        left,right=0,row*col-1\n",
    "        while left<=right:\n",
    "            mid=(left+right)//2\n",
    "            num=matrix[mid//col][mid%col]\n",
    "            if num==target:\n",
    "                return True\n",
    "            if num>target:\n",
    "                right=mid-1\n",
    "            else:\n",
    "                left=mid+1\n",
    "        return False"
   ]
  },
  {
   "cell_type": "code",
   "execution_count": 4,
   "id": "5eed5aab-4cfa-45e5-963c-ff0e5cb33165",
   "metadata": {},
   "outputs": [],
   "source": [
    "matrix = [[1,3,5,7],[10,11,16,20],[23,30,34,60]]\n",
    "target = 3"
   ]
  },
  {
   "cell_type": "code",
   "execution_count": 5,
   "id": "6887e381-8d52-4d1b-a160-4268e2e26dcb",
   "metadata": {},
   "outputs": [],
   "source": [
    "sol=Solution()"
   ]
  },
  {
   "cell_type": "code",
   "execution_count": 8,
   "id": "ba3bf1bb-605f-439a-89ed-f6078a3c235a",
   "metadata": {},
   "outputs": [
    {
     "data": {
      "text/plain": [
       "True"
      ]
     },
     "execution_count": 8,
     "metadata": {},
     "output_type": "execute_result"
    }
   ],
   "source": [
    "sol.searchMatrix(matrix,target)"
   ]
  },
  {
   "cell_type": "markdown",
   "id": "cef94cf0-5916-4812-91f2-a80454003ae0",
   "metadata": {},
   "source": [
    "***\n",
    "<aside>\n",
    "💡 **Question 3**\n",
    "\n",
    "Given an array of integers arr, return *true if and only if it is a valid mountain array*.\n",
    "\n",
    "Recall that arr is a mountain array if and only if:\n",
    "\n",
    "- arr.length >= 3\n",
    "- There exists some i with 0 < i < arr.length - 1 such that:\n",
    "    - arr[0] < arr[1] < ... < arr[i - 1] < arr[i]\n",
    "    - arr[i] > arr[i + 1] > ... > arr[arr.length - 1]\n",
    "</aside>"
   ]
  },
  {
   "cell_type": "code",
   "execution_count": 11,
   "id": "df4e00eb-8e43-4946-a837-6851ffed5214",
   "metadata": {},
   "outputs": [],
   "source": [
    "class Solution(object):\n",
    "    def validMountainArray(self, A):\n",
    "        N = len(A)\n",
    "        i = 0\n",
    "\n",
    "        # walk up\n",
    "        while i+1 < N and A[i] < A[i+1]:\n",
    "            i += 1\n",
    "\n",
    "        # peak can't be first or last\n",
    "        if i == 0 or i == N-1:\n",
    "            return False\n",
    "\n",
    "        # walk down\n",
    "        while i+1 < N and A[i] > A[i+1]:\n",
    "            i += 1\n",
    "\n",
    "        return i == N-1"
   ]
  },
  {
   "cell_type": "code",
   "execution_count": 12,
   "id": "91f4fc26-343b-4343-a839-907f426aa76e",
   "metadata": {},
   "outputs": [
    {
     "data": {
      "text/plain": [
       "True"
      ]
     },
     "execution_count": 12,
     "metadata": {},
     "output_type": "execute_result"
    }
   ],
   "source": [
    "sol=Solution()\n",
    "arr = [0,3,2,1]\n",
    "sol.validMountainArray(arr)"
   ]
  },
  {
   "cell_type": "markdown",
   "id": "4ea16954-cb93-4454-a7f3-2818b309903a",
   "metadata": {},
   "source": [
    "***\n",
    "<aside>\n",
    "💡 **Question 4**\n",
    "\n",
    "Given a binary array nums, return *the maximum length of a contiguous subarray with an equal number of* 0 *and* 1.\n",
    "\n",
    "            \n",
    "</aside>"
   ]
  },
  {
   "cell_type": "code",
   "execution_count": 13,
   "id": "d5806ef7-615b-4440-b992-93e6ce51be73",
   "metadata": {},
   "outputs": [],
   "source": [
    "nums = [0,1]"
   ]
  },
  {
   "cell_type": "code",
   "execution_count": 14,
   "id": "a894107b-006a-4001-998c-8a5b7726ca57",
   "metadata": {},
   "outputs": [],
   "source": [
    "class Solution:\n",
    "    def findMaxLength(self, nums):\n",
    "\n",
    "        partial_sum = 0\n",
    "        \n",
    "\t\t# table is a dictionary\n",
    "\t\t# key : partial sum value\n",
    "\t\t# value : the left-most index who has the partial sum value\n",
    "\t\t\n",
    "        table = { 0: -1}\n",
    "        \n",
    "        max_length = 0\n",
    "        \n",
    "        for idx, number in enumerate( nums ):\n",
    "            \n",
    "            # partial_sum add 1 for 1\n",
    "            # partial_sum minus 1 for 0\n",
    "            \n",
    "            if number:\n",
    "                partial_sum += 1\n",
    "            else:\n",
    "                partial_sum -= 1\n",
    "                \n",
    "            \n",
    "            if partial_sum in table:\n",
    "                \n",
    "                # we have a subarray with equal number of 0 and 1\n",
    "                # update max length\n",
    "                \n",
    "                max_length = max( max_length, ( idx - table[partial_sum] ) )\n",
    "                \n",
    "            else:\n",
    "                # update the left-most index for specified partial sum value\n",
    "                table[ partial_sum ] = idx\n",
    "                \n",
    "        return max_length"
   ]
  },
  {
   "cell_type": "code",
   "execution_count": 15,
   "id": "0f3d3c36-d5cf-4910-8b66-2ecfd6c947e9",
   "metadata": {},
   "outputs": [
    {
     "data": {
      "text/plain": [
       "2"
      ]
     },
     "execution_count": 15,
     "metadata": {},
     "output_type": "execute_result"
    }
   ],
   "source": [
    "sol=Solution()\n",
    "sol.findMaxLength(nums)"
   ]
  },
  {
   "cell_type": "markdown",
   "id": "107d190c-42e2-4458-87ca-0b327192682a",
   "metadata": {},
   "source": [
    "***\n",
    "<aside>\n",
    "💡 **Question 5**\n",
    "\n",
    "The **product sum** of two equal-length arrays a and b is equal to the sum of a[i] * b[i] for all 0 <= i < a.length (**0-indexed**).\n",
    "\n",
    "- For example, if a = [1,2,3,4] and b = [5,2,3,1], the **product sum** would be 1*5 + 2*2 + 3*3 + 4*1 = 22.\n",
    "\n",
    "Given two arrays nums1 and nums2 of length n, return *the **minimum product sum** if you are allowed to **rearrange** the **order** of the elements in* nums1.\n",
    "\n",
    "</aside>"
   ]
  },
  {
   "cell_type": "code",
   "execution_count": 28,
   "id": "f771eca9-fd88-4f35-aec3-248f2a4d9a35",
   "metadata": {},
   "outputs": [],
   "source": [
    "nums1 = [5,3,4,2]\n",
    "nums2 = [4,2,2,5]\n",
    "n = len(nums1)"
   ]
  },
  {
   "cell_type": "code",
   "execution_count": 30,
   "id": "c67ad6f0-680e-44c6-8e64-d8ca9d8dd042",
   "metadata": {},
   "outputs": [],
   "source": [
    "class Solution:\n",
    "    # Python program to calculate minimum sum of product\n",
    "# of two arrays.\n",
    "\n",
    "# Returns minimum sum of product of two arrays\n",
    "# with permutations allowed\n",
    "    def minValue(self,A, B, n):\n",
    "\n",
    "\t# Sort A and B so that minimum and maximum\n",
    "\t# value can easily be fetched.\n",
    "        A.sort()\n",
    "        B.sort()\n",
    "\n",
    "\t# Multiplying minimum value of A and maximum\n",
    "\t# value of B\n",
    "        result = 0\n",
    "        for i in range(n):\n",
    "            result += (A[i] * B[n - i - 1])\n",
    "\n",
    "        return result"
   ]
  },
  {
   "cell_type": "code",
   "execution_count": 31,
   "id": "47653cd3-328d-45d5-a7bf-3bc721b6a51f",
   "metadata": {},
   "outputs": [
    {
     "data": {
      "text/plain": [
       "40"
      ]
     },
     "execution_count": 31,
     "metadata": {},
     "output_type": "execute_result"
    }
   ],
   "source": [
    "sol=Solution()\n",
    "sol.minValue(nums1,nums2,n)"
   ]
  },
  {
   "cell_type": "markdown",
   "id": "62e48e57-4f13-40ab-b840-121857336135",
   "metadata": {},
   "source": [
    "***\n",
    "<aside>\n",
    "💡 **Question 6**\n",
    "\n",
    "An integer array original is transformed into a **doubled** array changed by appending **twice the value** of every element in original, and then randomly **shuffling** the resulting array.\n",
    "\n",
    "Given an array changed, return original *if* changed *is a **doubled** array. If* changed *is not a **doubled** array, return an empty array. The elements in* original *may be returned in **any** order*.\n",
    "\n",
    "</aside>"
   ]
  },
  {
   "cell_type": "code",
   "execution_count": 33,
   "id": "1e8d28bd-1f7a-4dab-a37d-e6ee7b375a48",
   "metadata": {},
   "outputs": [],
   "source": [
    "changed = [1,3,4,2,6,8]"
   ]
  },
  {
   "cell_type": "code",
   "execution_count": 38,
   "id": "be04523d-bdb1-4163-b75a-081da5992407",
   "metadata": {},
   "outputs": [],
   "source": [
    "from collections import Counter\n",
    "# Time Complexity: O(NlogN)\n",
    "# Space Complextiy O(N)\n",
    "# where N is the number of elements in `changed` \n",
    "class Solution:\n",
    "    def findOriginalArray(self, changed):\n",
    "        # use Counter to count the frequency of each element in `changed`\n",
    "        cnt, ans = Counter(changed), []\n",
    "        # if the length of the input is odd, then return []\n",
    "        # because doubled array must have even length\n",
    "        if len(changed) % 2: return []\n",
    "        # sort in ascending order\n",
    "        for x in sorted(cnt.keys()):\n",
    "            # if the number of cnt[x] is greater than than cnt[x * 2]\n",
    "            # then there would be some cnt[x] left\n",
    "            # therefore, return [] here as changed is not a doubled array\n",
    "            if cnt[x] > cnt[x * 2]: return []\n",
    "            # handle cases like [0,0,0,0]\n",
    "            if x == 0:\n",
    "                # similarly, odd length -> return []\n",
    "                if cnt[x] % 2:\n",
    "                    return []\n",
    "                else: \n",
    "                    # add `0` `cnt[x] // 2` times \n",
    "                    ans += [0] * (cnt[x] // 2)\n",
    "            else:\n",
    "                # otherwise, we put the element `x` `cnt[x]` times to ans\n",
    "                ans += [x] * cnt[x]\n",
    "            cnt[2 * x] -= cnt[x]\n",
    "        return ans"
   ]
  },
  {
   "cell_type": "code",
   "execution_count": 39,
   "id": "09f408d3-7a54-4d98-9382-9763778be4b3",
   "metadata": {},
   "outputs": [
    {
     "data": {
      "text/plain": [
       "[1, 3, 4]"
      ]
     },
     "execution_count": 39,
     "metadata": {},
     "output_type": "execute_result"
    }
   ],
   "source": [
    "sol=Solution()\n",
    "sol.findOriginalArray(changed)"
   ]
  },
  {
   "cell_type": "markdown",
   "id": "8dcdfc5c-cf2c-4745-b308-9c6c3240b77d",
   "metadata": {},
   "source": [
    "***\n",
    "<aside>\n",
    "💡 **Question 7**\n",
    "\n",
    "Given a positive integer n, generate an n x n matrix filled with elements from 1 to n2 in spiral order.\n",
    "\n",
    "</aside>"
   ]
  },
  {
   "cell_type": "code",
   "execution_count": 40,
   "id": "153c0eab-2388-4671-bb95-2823ef43ee3f",
   "metadata": {},
   "outputs": [],
   "source": [
    "n = 3"
   ]
  },
  {
   "cell_type": "code",
   "execution_count": 41,
   "id": "5e48b1da-6a9e-4afd-b784-5e5f236073b5",
   "metadata": {},
   "outputs": [],
   "source": [
    "class Solution:\n",
    "    def generateMatrix(self, n):\n",
    "        if not n:\n",
    "            return []\n",
    "        matrix = [[0 for _ in range(n)] for _ in range(n)]\n",
    "        left, right, top, bottom, num = 0, n-1, 0, n-1, 1\n",
    "        while left <= right and top <= bottom:\n",
    "            for i in range(left, right+1):\n",
    "                matrix[top][i] = num \n",
    "                num += 1\n",
    "            top += 1\n",
    "            for i in range(top, bottom+1):\n",
    "                matrix[i][right] = num\n",
    "                num += 1\n",
    "            right -= 1\n",
    "            if top <= bottom:\n",
    "                for i in range(right, left-1, -1):\n",
    "                    matrix[bottom][i] = num\n",
    "                    num += 1\n",
    "                bottom -= 1\n",
    "            if left <= right:\n",
    "                for i in range(bottom, top-1, -1):\n",
    "                    matrix[i][left] = num\n",
    "                    num += 1\n",
    "                left += 1\n",
    "        return matrix"
   ]
  },
  {
   "cell_type": "code",
   "execution_count": 42,
   "id": "c8c9459c-312e-49e2-bb59-651f2e634825",
   "metadata": {},
   "outputs": [
    {
     "data": {
      "text/plain": [
       "[[1, 2, 3], [8, 9, 4], [7, 6, 5]]"
      ]
     },
     "execution_count": 42,
     "metadata": {},
     "output_type": "execute_result"
    }
   ],
   "source": [
    "sol=Solution()\n",
    "sol.generateMatrix(n)"
   ]
  },
  {
   "cell_type": "markdown",
   "id": "7084a97e-92d2-4ea2-b68a-9ecdb245bf78",
   "metadata": {},
   "source": [
    "***\n",
    "<aside>\n",
    "💡 **Question 8**\n",
    "\n",
    "Given two [sparse matrices](https://en.wikipedia.org/wiki/Sparse_matrix) mat1 of size m x k and mat2 of size k x n, return the result of mat1 x mat2. You may assume that multiplication is always possible.\n",
    "\n",
    "</aside>"
   ]
  },
  {
   "cell_type": "code",
   "execution_count": 43,
   "id": "dd99eb8d-fac3-4f85-9ed0-f086e2d6cb4d",
   "metadata": {},
   "outputs": [],
   "source": [
    "mat1 = [[1,0,0],[-1,0,3]]\n",
    "mat2 = [[7,0,0],[0,0,0],[0,0,1]]"
   ]
  },
  {
   "cell_type": "code",
   "execution_count": 47,
   "id": "60cab7f3-bb01-4c1f-97a4-f3458e887805",
   "metadata": {},
   "outputs": [],
   "source": [
    "class Solution:\n",
    "    def multiply(self, mat1, mat2):\n",
    "        r1, c1, c2 = len(mat1), len(mat1[0]), len(mat2[0])\n",
    "        res = [[0] * c2 for _ in range(r1)]\n",
    "        for i in range(r1):\n",
    "            for j in range(c2):\n",
    "                for k in range(c1):\n",
    "                    res[i][j] += mat1[i][k] * mat2[k][j]\n",
    "        return res"
   ]
  },
  {
   "cell_type": "code",
   "execution_count": 48,
   "id": "b27c8a46-d739-4c26-ae7a-ed8686274850",
   "metadata": {},
   "outputs": [
    {
     "data": {
      "text/plain": [
       "[[7, 0, 0], [-7, 0, 3]]"
      ]
     },
     "execution_count": 48,
     "metadata": {},
     "output_type": "execute_result"
    }
   ],
   "source": [
    "sol=Solution()\n",
    "sol.multiply(mat1,mat2)"
   ]
  }
 ],
 "metadata": {
  "kernelspec": {
   "display_name": "Python 3 (ipykernel)",
   "language": "python",
   "name": "python3"
  },
  "language_info": {
   "codemirror_mode": {
    "name": "ipython",
    "version": 3
   },
   "file_extension": ".py",
   "mimetype": "text/x-python",
   "name": "python",
   "nbconvert_exporter": "python",
   "pygments_lexer": "ipython3",
   "version": "3.10.8"
  }
 },
 "nbformat": 4,
 "nbformat_minor": 5
}

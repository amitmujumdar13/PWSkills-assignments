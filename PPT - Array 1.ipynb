{
 "cells": [
  {
   "cell_type": "markdown",
   "id": "f6de793d-0b14-4db8-9635-6a0ddb5e2a67",
   "metadata": {},
   "source": [
    "<aside>\n",
    "💡 **Q1.** Given an array of integers nums and an integer target, return indices of the two numbers such that they add up to target.\n",
    "\n",
    "You may assume that each input would have exactly one solution, and you may not use the same element twice.\n",
    "\n",
    "You can return the answer in any order.\n",
    "\n",
    "**Example:**\n",
    "Input: nums = [2,7,11,15], target = 9\n",
    "Output0 [0,1]\n",
    "\n",
    "**Explanation:** Because nums[0] + nums[1] == 9, we return [0, 1][\n",
    "\n",
    "</aside>"
   ]
  },
  {
   "cell_type": "code",
   "execution_count": 33,
   "id": "70af8777-2569-4e02-b3d4-2a080e12e236",
   "metadata": {},
   "outputs": [],
   "source": [
    "from typing import List\n",
    "import numpy as np\n",
    "\n",
    "class Solution:\n",
    "    def targetsum(self,nums,target):\n",
    "        ind=[];\n",
    "        l = len(nums)\n",
    "        for i in range(l):\n",
    "            for j in range(i,l):\n",
    "                tar = nums[i] + nums [j]\n",
    "                if tar == target:\n",
    "                        ind=[i,j]\n",
    "                        return ind"
   ]
  },
  {
   "cell_type": "code",
   "execution_count": 35,
   "id": "b932bb3d-0937-4515-b2c0-f0bc17b02193",
   "metadata": {},
   "outputs": [
    {
     "data": {
      "text/plain": [
       "[0, 1]"
      ]
     },
     "execution_count": 35,
     "metadata": {},
     "output_type": "execute_result"
    }
   ],
   "source": [
    "sol=Solution()\n",
    "num1=[2,7,11,15]\n",
    "len(num1)\n",
    "\n",
    "ind=sol.targetsum(num1,9)\n",
    "ind"
   ]
  },
  {
   "cell_type": "markdown",
   "id": "ce77f138-d10e-42ae-afa4-e26b68337a01",
   "metadata": {},
   "source": [
    "******\n",
    "<aside>\n",
    "💡 **Q2.** Given an integer array nums and an integer val, remove all occurrences of val in nums in-place. The order of the elements may be changed. Then return the number of elements in nums which are not equal to val.\n",
    "\n",
    "Consider the number of elements in nums which are not equal to val be k, to get accepted, you need to do the following things:\n",
    "\n",
    "- Change the array nums such that the first k elements of nums contain the elements which are not equal to val. The remaining elements of nums are not important as well as the size of nums.\n",
    "- Return k.\n",
    "\n",
    "**Example :**\n",
    "Input: nums = [3,2,2,3], val = 3\n",
    "Output: 2, nums = [2,2,_*,_*]\n",
    "\n",
    "**Explanation:** Your function should return k = 2, with the first two elements of nums being 2. It does not matter what you leave beyond the returned k (hence they are underscores)[\n",
    "\n",
    "</aside>"
   ]
  },
  {
   "cell_type": "code",
   "execution_count": 94,
   "id": "dc848ba8-562f-4d27-8170-f86caa8db7b0",
   "metadata": {},
   "outputs": [],
   "source": [
    "from typing import List\n",
    "import numpy as np\n",
    "\n",
    "class Solution:\n",
    "    def nocur(self,nums,val):\n",
    "        numarray=np.array(nums)\n",
    "        l = len(numarray)\n",
    "        ind1=[]\n",
    "        \n",
    "        print(\"l:\",l)\n",
    "        total=l\n",
    "       \n",
    "        for i in range(l):\n",
    "                if numarray[i] == val:\n",
    "                        total = total - 1\n",
    "                else:\n",
    "                        ind1.append(numarray[i])\n",
    "                        \n",
    "        return total, ind1"
   ]
  },
  {
   "cell_type": "code",
   "execution_count": 97,
   "id": "614f6423-6fe1-4dc7-adf8-0ef8d9e7c8d3",
   "metadata": {},
   "outputs": [
    {
     "name": "stdout",
     "output_type": "stream",
     "text": [
      "l: 6\n"
     ]
    }
   ],
   "source": [
    "sol=Solution()\n",
    "num1=[3,2,2,2,3,2]\n",
    "val = 3\n",
    "\n",
    "t1,n1=sol.nocur(num1,val)"
   ]
  },
  {
   "cell_type": "code",
   "execution_count": 98,
   "id": "c128bdab-69b7-41b0-a5fe-1b388fbbe87e",
   "metadata": {},
   "outputs": [
    {
     "data": {
      "text/plain": [
       "(4, [2, 2, 2, 2])"
      ]
     },
     "execution_count": 98,
     "metadata": {},
     "output_type": "execute_result"
    }
   ],
   "source": [
    "t1,n1"
   ]
  },
  {
   "cell_type": "markdown",
   "id": "03a8bde1-71ca-4cb0-a7d0-67dbc383b100",
   "metadata": {},
   "source": [
    "**\n",
    "\n",
    "<aside>\n",
    "💡 **Q3.** Given a sorted array of distinct integers and a target value, return the index if the target is found. If not, return the index where it would be if it were inserted in order.\n",
    "\n",
    "You must write an algorithm with O(log n) runtime complexity.\n",
    "\n",
    "</aside>"
   ]
  },
  {
   "cell_type": "code",
   "execution_count": 1,
   "id": "62a3b03b-d4fe-4bbc-9492-0e423ebc4e9a",
   "metadata": {},
   "outputs": [],
   "source": [
    "nums=[1,3,5,6]\n",
    "target = 5"
   ]
  },
  {
   "cell_type": "code",
   "execution_count": 3,
   "id": "b2d86145-af00-476e-baac-4352cf2a0ef6",
   "metadata": {},
   "outputs": [],
   "source": [
    "class Solution(object):\n",
    "    def searchInsert(self, nums, target):\n",
    "        l = 0\n",
    "        r = len(nums) - 1\n",
    "        while l <= r:\n",
    "            mid = (l + r) // 2\n",
    "            if nums[mid] < target:\n",
    "                l = mid + 1\n",
    "            elif nums[mid] > target:\n",
    "                r = mid - 1\n",
    "            else:\n",
    "                return mid\n",
    "        return l\n",
    "        \n",
    "\n"
   ]
  },
  {
   "cell_type": "code",
   "execution_count": 5,
   "id": "0dd38185-3265-471c-9754-6f953675a3e4",
   "metadata": {},
   "outputs": [
    {
     "data": {
      "text/plain": [
       "2"
      ]
     },
     "execution_count": 5,
     "metadata": {},
     "output_type": "execute_result"
    }
   ],
   "source": [
    "sol=Solution();\n",
    "Output=sol.searchInsert(nums,target)\n",
    "Output"
   ]
  },
  {
   "cell_type": "code",
   "execution_count": 6,
   "id": "660b8a88-d638-437f-a9f9-2ad858ebc386",
   "metadata": {},
   "outputs": [
    {
     "data": {
      "text/plain": [
       "1"
      ]
     },
     "execution_count": 6,
     "metadata": {},
     "output_type": "execute_result"
    }
   ],
   "source": [
    "nums=[1,3,5,6]\n",
    "target = 2\n",
    "Output=sol.searchInsert(nums,target)\n",
    "Output"
   ]
  },
  {
   "cell_type": "markdown",
   "id": "f9bce1fb-4265-4bd5-a770-2737ad8aab91",
   "metadata": {},
   "source": [
    "*****\n",
    "\n",
    "<aside>\n",
    "💡 **Q4.** You are given a large integer represented as an integer array digits, where each digits[i] is the ith digit of the integer. The digits are ordered from most significant to least significant in left-to-right order. The large integer does not contain any leading 0's.\n",
    "\n",
    "Increment the large integer by one and return the resulting array of digits.\n",
    "\n",
    "</aside>"
   ]
  },
  {
   "cell_type": "code",
   "execution_count": 19,
   "id": "399d3107-cc4c-41d6-89c6-eec2bd0d29a1",
   "metadata": {},
   "outputs": [],
   "source": [
    "digits = [1,2,3]"
   ]
  },
  {
   "cell_type": "code",
   "execution_count": 20,
   "id": "98ce8da6-1b4d-4631-b332-2626c23cdd41",
   "metadata": {},
   "outputs": [],
   "source": [
    "class Solution(object):\n",
    "    def plusOne(self, digits):\n",
    "        # Adjusting an array of digits into an integer\n",
    "        digits_integer = int(''.join(map(str,digits)))\n",
    "        digits_integer +=1\n",
    "        # Adjusting back an integer into an array of digits after plus 1\n",
    "        return [int(x) for x in str(digits_integer)]"
   ]
  },
  {
   "cell_type": "code",
   "execution_count": 21,
   "id": "5733bc85-4f53-41b4-932e-27f0631d6af8",
   "metadata": {},
   "outputs": [
    {
     "data": {
      "text/plain": [
       "[1, 2, 4]"
      ]
     },
     "execution_count": 21,
     "metadata": {},
     "output_type": "execute_result"
    }
   ],
   "source": [
    "sol=Solution();\n",
    "Output=sol.plusOne(digits)\n",
    "Output"
   ]
  },
  {
   "cell_type": "markdown",
   "id": "78b083b9-fd98-44ce-8fa3-245ed67a1ec5",
   "metadata": {},
   "source": [
    "***********\n",
    "\n",
    "<aside>\n",
    "💡 **Q5.** You are given two integer arrays nums1 and nums2, sorted in non-decreasing order, and two integers m and n, representing the number of elements in nums1 and nums2 respectively.\n",
    "\n",
    "Merge nums1 and nums2 into a single array sorted in non-decreasing order.\n",
    "\n",
    "The final sorted array should not be returned by the function, but instead be stored inside the array nums1. To accommodate this, nums1 has a length of m + n, where the first m elements denote the elements that should be merged, and the last n elements are set to 0 and should be ignored. nums2 has a length of n.\n",
    "\n",
    "**Example 1:**\n",
    "Input: nums1 = [1,2,3,0,0,0], m = 3, nums2 = [2,5,6], n = 3\n",
    "Output: [1,2,2,3,5,6]\n",
    "\n",
    "**Explanation:** The arrays we are merging are [1,2,3] and [2,5,6].\n",
    "The result of the merge is [1,2,2,3,5,6] with the underlined elements coming from nums1.\n",
    "\n",
    "</aside>"
   ]
  },
  {
   "cell_type": "code",
   "execution_count": 1,
   "id": "5d90d8b8-74ba-4c5d-9e70-08b817e8b4e6",
   "metadata": {},
   "outputs": [],
   "source": [
    "class Solution:\n",
    "    def merge(self, nums1, m, nums2, n):\n",
    "        nums1Copy = nums1[:m]\n",
    "        p1, p2 = 0, 0\n",
    "        p = 0\n",
    " \n",
    "        while p < m + n:\n",
    "            if p2 >= n or (p1 < m and nums1Copy[p1] < nums2[p2]):\n",
    "                nums1[p] = nums1Copy[p1]\n",
    "                p1 += 1\n",
    "            else:\n",
    "                nums1[p] = nums2[p2]\n",
    "                p2 += 1\n",
    "            p += 1"
   ]
  },
  {
   "cell_type": "code",
   "execution_count": 2,
   "id": "86246704-f10b-4a05-94a8-995ef7c3dd62",
   "metadata": {},
   "outputs": [],
   "source": [
    "nums1 = [1,2,3,0,0,0]\n",
    "m = 3 \n",
    "nums2 = [2,5,6]\n",
    "n = 3"
   ]
  },
  {
   "cell_type": "code",
   "execution_count": 3,
   "id": "2508d6fd-2c14-40b7-ac47-a068f3e44acd",
   "metadata": {},
   "outputs": [
    {
     "data": {
      "text/plain": [
       "[1, 2, 2, 3, 5, 6]"
      ]
     },
     "execution_count": 3,
     "metadata": {},
     "output_type": "execute_result"
    }
   ],
   "source": [
    "sol=Solution();\n",
    "sol.merge(nums1,m,nums2,n)\n",
    "nums1"
   ]
  },
  {
   "cell_type": "markdown",
   "id": "e853f4fd-5df6-455d-87b3-b6f4e13a69dc",
   "metadata": {},
   "source": [
    "***********\n",
    "\n",
    "<aside>\n",
    "💡 **Q6.** Given an integer array nums, return true if any value appears at least twice in the array, and return false if every element is distinct.\n",
    "\n",
    "**Example 1:**\n",
    "Input: nums = [1,2,3,1]\n",
    "\n",
    "Output: true\n",
    "\n",
    "</aside>"
   ]
  },
  {
   "cell_type": "code",
   "execution_count": 4,
   "id": "e50e6271-6786-4f69-a8bf-462699fc6c2d",
   "metadata": {},
   "outputs": [],
   "source": [
    "nums=[1,2,3,1]\n",
    "\n",
    "class Solution(object):\n",
    "    def containsDuplicate(self, nums):\n",
    "        num_set = set()\n",
    "        for i in nums:\n",
    "            if i in num_set:\n",
    "                return True\n",
    "            else:\n",
    "                num_set.add(i)\n",
    "        return False"
   ]
  },
  {
   "cell_type": "code",
   "execution_count": 5,
   "id": "e138eaaa-ac63-4515-9bda-5656a6c1f365",
   "metadata": {},
   "outputs": [
    {
     "data": {
      "text/plain": [
       "True"
      ]
     },
     "execution_count": 5,
     "metadata": {},
     "output_type": "execute_result"
    }
   ],
   "source": [
    "sol=Solution();\n",
    "sol.containsDuplicate(nums)"
   ]
  },
  {
   "cell_type": "markdown",
   "id": "8098bbb8-0ae9-4498-98e8-32c3e6495c40",
   "metadata": {},
   "source": [
    "***\n",
    "\n",
    "<aside>\n",
    "💡 **Q7.** Given an integer array nums, move all 0's to the end of it while maintaining the relative order of the nonzero elements.\n",
    "\n",
    "Note that you must do this in-place without making a copy of the array.\n",
    "\n",
    "**Example 1:**\n",
    "Input: nums = [0,1,0,3,12]\n",
    "Output: [1,3,12,0,0]\n",
    "\n",
    "</aside>"
   ]
  },
  {
   "cell_type": "code",
   "execution_count": 6,
   "id": "dfd77e88-50b8-4421-a731-bec97fa33c32",
   "metadata": {},
   "outputs": [],
   "source": [
    "nums=[0,1,0,3,12]"
   ]
  },
  {
   "cell_type": "code",
   "execution_count": 7,
   "id": "5e2ab33b-4225-4f69-b013-00267655d3d2",
   "metadata": {},
   "outputs": [],
   "source": [
    "class Solution:\n",
    "    def moveZeroes(self, nums: list) -> None:\n",
    "        slow = 0\n",
    "        for fast in range(len(nums)):\n",
    "            if nums[fast] != 0 and nums[slow] == 0:\n",
    "                nums[slow], nums[fast] = nums[fast], nums[slow]\n",
    "\n",
    "            # wait while we find a non-zero element to\n",
    "            # swap with you\n",
    "            if nums[slow] != 0:\n",
    "                slow += 1"
   ]
  },
  {
   "cell_type": "code",
   "execution_count": 8,
   "id": "a16b00e1-a6d8-49b8-88bb-fdecc233fbc6",
   "metadata": {},
   "outputs": [],
   "source": [
    "sol=Solution();\n",
    "sol.moveZeroes(nums)"
   ]
  },
  {
   "cell_type": "code",
   "execution_count": 9,
   "id": "468b3064-2873-4ca8-8f16-227cc9e0918c",
   "metadata": {},
   "outputs": [
    {
     "data": {
      "text/plain": [
       "[1, 3, 12, 0, 0]"
      ]
     },
     "execution_count": 9,
     "metadata": {},
     "output_type": "execute_result"
    }
   ],
   "source": [
    "nums"
   ]
  },
  {
   "cell_type": "markdown",
   "id": "896a0c9a-a95a-42d9-a09b-640c0b50c75b",
   "metadata": {},
   "source": [
    "********\n",
    "<aside>\n",
    "💡 **Q8.** You have a set of integers s, which originally contains all the numbers from 1 to n. Unfortunately, due to some error, one of the numbers in s got duplicated to another number in the set, which results in repetition of one number and loss of another number.\n",
    "\n",
    "You are given an integer array nums representing the data status of this set after the error.\n",
    "\n",
    "Find the number that occurs twice and the number that is missing and return them in the form of an array.\n",
    "\n",
    "</aside>\n",
    "\n",
    "Example 1:\n",
    "Input: nums = [1,2,2,4]\n",
    "Output: [2,3]"
   ]
  },
  {
   "cell_type": "code",
   "execution_count": 15,
   "id": "ccd54bc1-0efa-46a8-8162-50e19eefadbc",
   "metadata": {},
   "outputs": [],
   "source": [
    "nums=[1,2,2,4]\n",
    "import numpy as np\n",
    "class Solution:\n",
    "    def findErrorNums(self, nums):\n",
    "        n = len(nums)\n",
    "        a = sum(nums)\n",
    "        b = sum(set(nums))\n",
    "        c = (n*(n+1))//2\n",
    "        \n",
    "        return [a-b,c-b]"
   ]
  },
  {
   "cell_type": "code",
   "execution_count": 16,
   "id": "76bcdd1f-9dd3-4fed-9160-795a53b497ca",
   "metadata": {},
   "outputs": [
    {
     "data": {
      "text/plain": [
       "[2, 3]"
      ]
     },
     "execution_count": 16,
     "metadata": {},
     "output_type": "execute_result"
    }
   ],
   "source": [
    "sol=Solution();\n",
    "sol.findErrorNums(nums)"
   ]
  },
  {
   "cell_type": "code",
   "execution_count": null,
   "id": "d452e507-5861-4fca-8638-c775f142129e",
   "metadata": {},
   "outputs": [],
   "source": []
  }
 ],
 "metadata": {
  "kernelspec": {
   "display_name": "Python 3 (ipykernel)",
   "language": "python",
   "name": "python3"
  },
  "language_info": {
   "codemirror_mode": {
    "name": "ipython",
    "version": 3
   },
   "file_extension": ".py",
   "mimetype": "text/x-python",
   "name": "python",
   "nbconvert_exporter": "python",
   "pygments_lexer": "ipython3",
   "version": "3.10.8"
  }
 },
 "nbformat": 4,
 "nbformat_minor": 5
}

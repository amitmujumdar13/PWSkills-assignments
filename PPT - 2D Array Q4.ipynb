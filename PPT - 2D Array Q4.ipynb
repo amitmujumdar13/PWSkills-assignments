{
 "cells": [
  {
   "cell_type": "markdown",
   "id": "5cde3249-4840-4ef5-944b-b03f3a1c0f6d",
   "metadata": {},
   "source": [
    "<aside>\n",
    "💡 **Question 1**\n",
    "Given three integer arrays arr1, arr2 and arr3 **sorted** in **strictly increasing** order, return a sorted array of **only** the integers that appeared in **all** three arrays.\n",
    "\n",
    "**Example 1:**\n",
    "\n",
    "Input: arr1 = [1,2,3,4,5], arr2 = [1,2,5,7,9], arr3 = [1,3,4,5,8]\n",
    "\n",
    "Output: [1,5]\n",
    "\n",
    "</aside>"
   ]
  },
  {
   "cell_type": "code",
   "execution_count": 13,
   "id": "255d1123-e755-4df5-bfcd-296c11e6bc8a",
   "metadata": {},
   "outputs": [],
   "source": [
    "# Python function to print common elements in three sorted arrays\n",
    "def findCommon(ar1, ar2, ar3, n1, n2, n3):\n",
    "    # Initialize starting indexes for ar1[], ar2[] and ar3[]\n",
    "    i, j, k = 0, 0, 0\n",
    " \n",
    "    # Iterate through three arrays while all arrays have elements\n",
    "    while (i < n1 and j < n2 and k < n3):\n",
    " \n",
    "        # If x = y and y = z, print any of them and move ahead\n",
    "        # in all arrays\n",
    "        if (ar1[i] == ar2[j] and ar2[j] == ar3[k]):\n",
    "            Out.append(ar1[i])\n",
    "            i += 1\n",
    "            j += 1\n",
    "            k += 1\n",
    " \n",
    "        # x < y\n",
    "        elif ar1[i] < ar2[j]:\n",
    "            i += 1\n",
    " \n",
    "        # y < z\n",
    "        elif ar2[j] < ar3[k]:\n",
    "            j += 1\n",
    " \n",
    "        # We reach here when x > y and z < y, i.e., z is smallest\n",
    "        else:\n",
    "            k += 1\n",
    " "
   ]
  },
  {
   "cell_type": "code",
   "execution_count": 14,
   "id": "abd1803f-eac3-4eb4-a627-c3b971c41a80",
   "metadata": {},
   "outputs": [],
   "source": [
    "# Driver program to check above function\n",
    "Out=[]\n",
    "ar1 = [1,2,3,4,5]\n",
    "ar2 = [1,2,5,7,9]\n",
    "ar3 = [1,3,4,5,8]\n",
    "n1 = len(ar1)\n",
    "n2 = len(ar2)\n",
    "n3 = len(ar3)\n",
    "\n",
    "findCommon(ar1, ar2, ar3, n1, n2, n3)"
   ]
  },
  {
   "cell_type": "code",
   "execution_count": 15,
   "id": "87daeed5-f3a5-4e61-99d5-f8e02e708b8b",
   "metadata": {},
   "outputs": [
    {
     "data": {
      "text/plain": [
       "[1, 5]"
      ]
     },
     "execution_count": 15,
     "metadata": {},
     "output_type": "execute_result"
    }
   ],
   "source": [
    "Out"
   ]
  },
  {
   "cell_type": "markdown",
   "id": "a9cbbe37-77c5-4793-9b16-4cdcb342b546",
   "metadata": {},
   "source": [
    "**********\n",
    "<aside>\n",
    "💡 **Question 2**\n",
    "\n",
    "Given two **0-indexed** integer arrays nums1 and nums2, return *a list* answer *of size* 2 *where:*\n",
    "\n",
    "- answer[0] *is a list of all **distinct** integers in* nums1 *which are **not** present in* nums2*.*\n",
    "- answer[1] *is a list of all **distinct** integers in* nums2 *which are **not** present in* nums1.\n",
    "\n",
    "**Note** that the integers in the lists may be returned in **any** order.\n",
    "\n",
    "**Example 1:**\n",
    "\n",
    "**Input:** nums1 = [1,2,3], nums2 = [2,4,6]\n",
    "\n",
    "**Output:** [[1,3],[4,6]]\n",
    "\n",
    "**Explanation:**\n",
    "\n",
    "For nums1, nums1[1] = 2 is present at index 0 of nums2, whereas nums1[0] = 1 and nums1[2] = 3 are not present in nums2. Therefore, answer[0] = [1,3].\n",
    "\n",
    "For nums2, nums2[0] = 2 is present at index 1 of nums1, whereas nums2[1] = 4 and nums2[2] = 6 are not present in nums2. Therefore, answer[1] = [4,6].\n",
    "\n",
    "</aside>"
   ]
  },
  {
   "cell_type": "code",
   "execution_count": 17,
   "id": "f6339341-0c8d-4145-af24-099ce86c020a",
   "metadata": {},
   "outputs": [],
   "source": [
    "\n",
    "class Solution:\n",
    "    def findDifference(self, nums1, nums2):\n",
    "        res=[]\n",
    "        a=[]\n",
    "        a=set(nums1) - set(nums2)\n",
    "        b=[]\n",
    "        b=set(nums2) - set(nums1)\n",
    "        res.append(a)\n",
    "        res.append(b)\n",
    "        return res"
   ]
  },
  {
   "cell_type": "code",
   "execution_count": 19,
   "id": "769ef21f-9b7f-439e-8fde-69736ee82dd2",
   "metadata": {},
   "outputs": [
    {
     "data": {
      "text/plain": [
       "[{1, 3}, {4, 6}]"
      ]
     },
     "execution_count": 19,
     "metadata": {},
     "output_type": "execute_result"
    }
   ],
   "source": [
    "sol=Solution()\n",
    "nums1 = [1,2,3]\n",
    "nums2 = [2,4,6]\n",
    "sol.findDifference(nums1,nums2)"
   ]
  },
  {
   "cell_type": "markdown",
   "id": "428cf272-4342-4b62-9ef5-0bab9c43caf8",
   "metadata": {},
   "source": [
    "****\n",
    "<aside>\n",
    "💡 **Question 3**\n",
    "Given a 2D integer array matrix, return *the **transpose** of* matrix.\n",
    "\n",
    "The **transpose** of a matrix is the matrix flipped over its main diagonal, switching the matrix's row and column indices.\n",
    "\n",
    "**Example 1:**\n",
    "\n",
    "Input: matrix = [[1,2,3],[4,5,6],[7,8,9]]\n",
    "\n",
    "Output: [[1,4,7],[2,5,8],[3,6,9]]\n",
    "\n",
    "</aside>"
   ]
  },
  {
   "cell_type": "code",
   "execution_count": 22,
   "id": "d43e291b-824c-4c90-9eea-e0a04016f011",
   "metadata": {},
   "outputs": [],
   "source": [
    "class Solution:\n",
    "    def transpose(self, matrix):\n",
    "        return [[matrix[y][x] for y in range(len(matrix))] for x in range(len(matrix[0]))]"
   ]
  },
  {
   "cell_type": "code",
   "execution_count": 23,
   "id": "485ead1d-c9c8-4cb7-a10f-1641dcd09bb8",
   "metadata": {},
   "outputs": [
    {
     "data": {
      "text/plain": [
       "[[1, 4, 7], [2, 5, 8], [3, 6, 9]]"
      ]
     },
     "execution_count": 23,
     "metadata": {},
     "output_type": "execute_result"
    }
   ],
   "source": [
    "matrix = [[1,2,3],[4,5,6],[7,8,9]]\n",
    "sol=Solution()\n",
    "sol.transpose(matrix)"
   ]
  },
  {
   "cell_type": "markdown",
   "id": "e73645e6-0e7a-437d-b3d6-c20b9a55ce41",
   "metadata": {},
   "source": [
    "***\n",
    "<aside>\n",
    "💡 **Question 4**\n",
    "Given an integer array nums of 2n integers, group these integers into n pairs (a1, b1), (a2, b2), ..., (an, bn) such that the sum of min(ai, bi) for all i is **maximized**. Return *the maximized sum*.\n",
    "\n",
    "**Example 1:**\n",
    "\n",
    "Input: c\n",
    "\n",
    "Output: 4\n",
    "\n",
    "</aside>"
   ]
  },
  {
   "cell_type": "code",
   "execution_count": 3,
   "id": "4e9a6bc9-851d-44f2-86d9-5a5f6a04972f",
   "metadata": {},
   "outputs": [],
   "source": [
    "class Solution:\n",
    "    def arrayPairSum(self, nums):\n",
    "        nums.sort()\n",
    "        sum_ = 0\n",
    "        for i in range(0,len(nums),2):\n",
    "            sum_ += nums[i]\n",
    "        return sum_\n"
   ]
  },
  {
   "cell_type": "code",
   "execution_count": 5,
   "id": "26ce79c3-775a-4ea4-bcf9-9ef5e22c09a7",
   "metadata": {},
   "outputs": [
    {
     "data": {
      "text/plain": [
       "4"
      ]
     },
     "execution_count": 5,
     "metadata": {},
     "output_type": "execute_result"
    }
   ],
   "source": [
    "sol=Solution()\n",
    "nums = [1,4,3,2]\n",
    "sol.arrayPairSum(nums)"
   ]
  },
  {
   "cell_type": "markdown",
   "id": "3a6f9ca2-8c0a-416a-aa08-e6079fd5a099",
   "metadata": {},
   "source": [
    "***\n",
    "<aside>\n",
    "💡 You have n coins and you want to build a staircase with these coins. The staircase consists of k rows where the ith row has exactly i coins. The last row of the staircase **may be** incomplete.\n",
    "\n",
    "Given the integer n, return *the number of **complete rows** of the staircase you will build*.\n",
    "\n",
    "</aside>"
   ]
  },
  {
   "cell_type": "code",
   "execution_count": 6,
   "id": "13fabc17-f54f-49d6-8812-13f69ab9ed4b",
   "metadata": {},
   "outputs": [],
   "source": [
    "class Solution:\n",
    "    def arrangeCoins(self, n: int) -> int:\n",
    "        left, right = 0, n\n",
    "        while left <= right:\n",
    "            k = (right + left) // 2\n",
    "            curr = k * (k + 1) // 2\n",
    "            if curr == n:\n",
    "                return k\n",
    "            if n < curr:\n",
    "                right = k - 1\n",
    "            else:\n",
    "                left = k + 1\n",
    "        return right"
   ]
  },
  {
   "cell_type": "code",
   "execution_count": 7,
   "id": "c305432b-3f8f-4f40-af4b-5b4b4d4ff018",
   "metadata": {},
   "outputs": [
    {
     "data": {
      "text/plain": [
       "2"
      ]
     },
     "execution_count": 7,
     "metadata": {},
     "output_type": "execute_result"
    }
   ],
   "source": [
    "sol=Solution()\n",
    "n=5\n",
    "sol.arrangeCoins(n)"
   ]
  },
  {
   "cell_type": "markdown",
   "id": "de91acd0-84b5-4709-b94e-ccbf868f6cfb",
   "metadata": {},
   "source": [
    "***\n",
    "<aside>\n",
    "💡 **Question 6**\n",
    "Given an integer array nums sorted in **non-decreasing** order, return *an array of **the squares of each number** sorted in non-decreasing order*.\n",
    "\n",
    "**Example 1:**\n",
    "\n",
    "Input: nums = [-4,-1,0,3,10]\n",
    "\n",
    "Output: [0,1,9,16,100]\n",
    "\n",
    "</aside>"
   ]
  },
  {
   "cell_type": "code",
   "execution_count": 8,
   "id": "cb41b929-57fd-449c-a775-4f52c7d55865",
   "metadata": {},
   "outputs": [],
   "source": [
    "class Solution:\n",
    "     def sortedSquares(self, A):\n",
    "        for i in range(len(A)):\n",
    "            A[i] *= A[i]\n",
    "        A.sort()\n",
    "        return A"
   ]
  },
  {
   "cell_type": "code",
   "execution_count": 9,
   "id": "d6367a4c-7ef2-4b1e-8f86-52de35abf1fe",
   "metadata": {},
   "outputs": [
    {
     "data": {
      "text/plain": [
       "[0, 1, 9, 16, 100]"
      ]
     },
     "execution_count": 9,
     "metadata": {},
     "output_type": "execute_result"
    }
   ],
   "source": [
    "sol=Solution()\n",
    "nums = [-4,-1,0,3,10]\n",
    "sol.sortedSquares(nums)"
   ]
  },
  {
   "cell_type": "markdown",
   "id": "1014f769-d8d1-4bd1-b0aa-4384c999b493",
   "metadata": {},
   "source": [
    "****\n",
    "<aside>\n",
    "💡 You are given an m x n matrix M initialized with all 0's and an array of operations ops, where ops[i] = [ai, bi] means M[x][y] should be incremented by one for all 0 <= x < ai and 0 <= y < bi.\n",
    "\n",
    "Count and return *the number of maximum integers in the matrix after performing all the operations*\n",
    "\n",
    "</aside>"
   ]
  },
  {
   "cell_type": "code",
   "execution_count": 11,
   "id": "ad39414f-8384-4610-8b58-6cbc86a440e0",
   "metadata": {},
   "outputs": [],
   "source": [
    "class Solution:\n",
    "    def maxCount(self, m, n, ops):\n",
    "        min_row = m\n",
    "        min_col = n\n",
    "        for i in range(len(ops)):\n",
    "            min_row=min(min_row, ops[i][0])\n",
    "            min_col=min(min_col, ops[i][1])\n",
    "        return min_row*min_col"
   ]
  },
  {
   "cell_type": "code",
   "execution_count": 12,
   "id": "23047d9e-86dd-4f91-97d2-f30563787c03",
   "metadata": {},
   "outputs": [
    {
     "data": {
      "text/plain": [
       "4"
      ]
     },
     "execution_count": 12,
     "metadata": {},
     "output_type": "execute_result"
    }
   ],
   "source": [
    "m = 3\n",
    "n = 3\n",
    "ops = [[2,2],[3,3]]\n",
    "sol=Solution()\n",
    "sol.maxCount(m,n,ops)"
   ]
  },
  {
   "cell_type": "markdown",
   "id": "bec62ab9-76df-4e49-a79e-1cca1a5e5189",
   "metadata": {},
   "source": [
    "***\n",
    "<aside>\n",
    "💡 **Question 8**\n",
    "\n",
    "Given the array nums consisting of 2n elements in the form [x1,x2,...,xn,y1,y2,...,yn].\n",
    "\n",
    "*Return the array in the form* [x1,y1,x2,y2,...,xn,yn].\n",
    "\n",
    "**Example 1:**\n",
    "\n",
    "**Input:** nums = [2,5,1,3,4,7], n = 3\n",
    "\n",
    "**Output:** [2,3,5,4,1,7]\n",
    "\n",
    "</aside>"
   ]
  },
  {
   "cell_type": "code",
   "execution_count": 14,
   "id": "e5d88a5b-302a-4145-8c98-9039da63a4fe",
   "metadata": {},
   "outputs": [],
   "source": [
    "class Solution:\n",
    "    def shuffle(self, nums, n):\n",
    "        result = [0] * (2 * n)\n",
    "        for i in range(n):\n",
    "            result[2 * i] = nums[i]\n",
    "            result[2 * i + 1] = nums[n + i]\n",
    "        return result"
   ]
  },
  {
   "cell_type": "code",
   "execution_count": 15,
   "id": "bced45eb-a43b-4a6d-bf19-7f77db50e623",
   "metadata": {},
   "outputs": [],
   "source": [
    "nums = [2,5,1,3,4,7]\n",
    "n = 3"
   ]
  },
  {
   "cell_type": "code",
   "execution_count": 16,
   "id": "5b7a1fb7-5831-4b62-a7e9-3efe16520443",
   "metadata": {},
   "outputs": [
    {
     "data": {
      "text/plain": [
       "[2, 3, 5, 4, 1, 7]"
      ]
     },
     "execution_count": 16,
     "metadata": {},
     "output_type": "execute_result"
    }
   ],
   "source": [
    "sol=Solution()\n",
    "sol.shuffle(nums,n)"
   ]
  },
  {
   "cell_type": "code",
   "execution_count": null,
   "id": "cdd2c45f-3337-40f7-9327-f397061a8c7e",
   "metadata": {},
   "outputs": [],
   "source": []
  }
 ],
 "metadata": {
  "kernelspec": {
   "display_name": "Python 3 (ipykernel)",
   "language": "python",
   "name": "python3"
  },
  "language_info": {
   "codemirror_mode": {
    "name": "ipython",
    "version": 3
   },
   "file_extension": ".py",
   "mimetype": "text/x-python",
   "name": "python",
   "nbconvert_exporter": "python",
   "pygments_lexer": "ipython3",
   "version": "3.10.8"
  }
 },
 "nbformat": 4,
 "nbformat_minor": 5
}

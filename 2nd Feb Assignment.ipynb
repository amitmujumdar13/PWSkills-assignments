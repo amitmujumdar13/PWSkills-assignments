{
 "cells": [
  {
   "cell_type": "markdown",
   "id": "67c60e35-8de8-4136-b678-4261b00ba9ca",
   "metadata": {},
   "source": [
    "####Q1. What are characteristics of Tuples?Is tuple immutable?\n",
    "\n",
    "Ans:  Tuple items are ordered, unchangeable, and allow duplicate values. Tuple items are indexed."
   ]
  },
  {
   "cell_type": "markdown",
   "id": "eee1cb15-9317-4821-b646-05747944fa48",
   "metadata": {},
   "source": [
    "####Q2. What are two tuple methods in python? Give an example of each method.Give a reason why Tuples have only two build in methods as compared to lists.\n",
    "\n",
    "Ans:  There are only two tuple methods count() and index() that a tuple object can call.\n",
    "In Python, tuples are immutables. Meaning, you cannot change items of a tuple once it is assigned. Hence it has only two methods built in. Below are examples "
   ]
  },
  {
   "cell_type": "code",
   "execution_count": 2,
   "id": "4e7a4983-9157-4071-875c-ea2e9f27a6dd",
   "metadata": {},
   "outputs": [
    {
     "name": "stdout",
     "output_type": "stream",
     "text": [
      "1\n",
      "0\n"
     ]
    }
   ],
   "source": [
    "t1=('a','b')\n",
    "\n",
    "## count will provide count of an item within tuple\n",
    "count=t1.count('a')\n",
    "print(count)\n",
    "\n",
    "## index example below\n",
    "index=t1.index('a')\n",
    "print(index)"
   ]
  },
  {
   "cell_type": "markdown",
   "id": "df80a645-c7d8-4ac9-8bd0-c6c4a3d84bd1",
   "metadata": {},
   "source": [
    "####Q3. Which collection datatypes in python do not allow duplicate items? Write a code using a set to remove duplicates from the given list.\n",
    "\n",
    "List = [1,1,1,2,1,3,1,4,2,1,2,2,2,3,2,4,3,1,3,2,3,3,3,4,4,1,4,2,4,3,4,4]\n",
    "\n",
    "Answer: Set is a collection datatype in python that do not allow duplicates."
   ]
  },
  {
   "cell_type": "code",
   "execution_count": 13,
   "id": "1137a911-6201-43a5-984d-c6febc8ac8a6",
   "metadata": {},
   "outputs": [
    {
     "data": {
      "text/plain": [
       "{1, 2, 3, 4}"
      ]
     },
     "execution_count": 13,
     "metadata": {},
     "output_type": "execute_result"
    }
   ],
   "source": [
    "List=[1,1,1,2,1,3,1,4,2,1,2,2,2,3,2,4,3,1,3,2,3,3,3,4,4,1,4,2,4,3,4,4]\n",
    "\n",
    "## To remove duplicates, we cast List into a Set.\n",
    "s1=set(List)\n",
    "s1"
   ]
  },
  {
   "cell_type": "markdown",
   "id": "8eb2febf-3b4a-4a8e-a123-f00397d47d11",
   "metadata": {},
   "source": [
    "####Q4. Explain the difference between the union() and update() methods for a set. Give an example of \n",
    "each method.\n",
    " \n",
    "    Answer: union() creates a new set by union of two sets. \n",
    "            Whereas update() method returns a main set which gets updated with second set."
   ]
  },
  {
   "cell_type": "code",
   "execution_count": 22,
   "id": "e42c118f-98c5-4eef-8664-4043d8f9f52b",
   "metadata": {},
   "outputs": [
    {
     "name": "stdout",
     "output_type": "stream",
     "text": [
      "{'cherry', 'google', 'banana', 'microsoft', 'apple'}\n"
     ]
    }
   ],
   "source": [
    "x = {\"apple\", \"banana\", \"cherry\"}\n",
    "y = {\"google\", \"microsoft\", \"apple\"}\n",
    "\n",
    "z = x.union(y)\n",
    "\n",
    "print(z)\n"
   ]
  },
  {
   "cell_type": "code",
   "execution_count": 21,
   "id": "d0db5ef5-15b7-4b9e-985a-b60c3daeae5e",
   "metadata": {},
   "outputs": [
    {
     "name": "stdout",
     "output_type": "stream",
     "text": [
      "{'cherry', 'google', 'banana', 'microsoft', 'apple'}\n"
     ]
    }
   ],
   "source": [
    "x = {\"apple\", \"banana\", \"cherry\"}\n",
    "y = {\"google\", \"microsoft\", \"apple\"}\n",
    "\n",
    "x.update(y)\n",
    "\n",
    "print(x)\n"
   ]
  },
  {
   "cell_type": "markdown",
   "id": "eba9c470-dadc-47aa-b4c3-df52b2fcc1b2",
   "metadata": {},
   "source": [
    "####Q5. What is a dictionary? Give an example. Also, state whether a dictionary is ordered or unordered.\n",
    "\n",
    "Answer: Dictionary are used to store data values in key:value pairs. A dictionary is a collection which is ordered, changeable and do not allow duplicates.\n",
    "\n",
    "Example: dict={\"name\":\"Amit\",\"City\":\"Pune\"}"
   ]
  },
  {
   "cell_type": "markdown",
   "id": "16375e2f-b1d9-47b1-a931-7f8305684c25",
   "metadata": {},
   "source": [
    "####Q6. Can we create a nested dictionary? If so, please give an example by creating a simple one-level \n",
    "nested dictionary.\n",
    " Answer: Yes, we can create nested dictionary. Below is example:"
   ]
  },
  {
   "cell_type": "code",
   "execution_count": 27,
   "id": "c739ef9d-b03c-45c4-8d11-fabd4153c15b",
   "metadata": {},
   "outputs": [
    {
     "data": {
      "text/plain": [
       "{'Company name': 'PW skills', 'Faculty': {'DS': 'Sudhanshu', 'Java': 'Krish'}}"
      ]
     },
     "execution_count": 27,
     "metadata": {},
     "output_type": "execute_result"
    }
   ],
   "source": [
    "dict={\"Company name\":\"PW skills\",\"Faculty\":{\"DS\":\"Sudhanshu\",\"Java\":\"Krish\"}}\n",
    "dict"
   ]
  },
  {
   "cell_type": "markdown",
   "id": "d9c35ee3-d507-4b79-aa09-e08c55d07a79",
   "metadata": {},
   "source": [
    "####Q7. Using setdefault() method, create key named topics in the given dictionary and also add the value of \n",
    "the key as this list ['Python', 'Machine Learning’, 'Deep Learning']\n",
    "\n",
    "dict1 = {'language' : 'Python', 'course': 'Data Science Masters'}\n"
   ]
  },
  {
   "cell_type": "code",
   "execution_count": 30,
   "id": "9fae7014-53e3-42f6-bfaf-a549c0efab2b",
   "metadata": {},
   "outputs": [
    {
     "data": {
      "text/plain": [
       "{'language': 'Python',\n",
       " 'course': 'Data Science Masters',\n",
       " 'topics': \"['Python', 'Machine Learning’, 'Deep Learning']\"}"
      ]
     },
     "execution_count": 30,
     "metadata": {},
     "output_type": "execute_result"
    }
   ],
   "source": [
    "dict1 = {'language' : 'Python', 'course': 'Data Science Masters'}\n",
    "\n",
    "dict1.setdefault(\"topics\",\"['Python', 'Machine Learning’, 'Deep Learning']\")\n",
    "dict1"
   ]
  },
  {
   "cell_type": "markdown",
   "id": "40d781c3-2dba-407c-8ff5-71f73d9edc55",
   "metadata": {},
   "source": [
    "####Q8. What are the three view objects in dictionaries? Use the three in-built methods in python to display \n",
    "these three view objects for the given dictionary.\n",
    "\n",
    "Answer: Three view objects in dictionary are keys, values and items. Keys holds all the keys of the dictionary, \n",
    "the values objects holds all the values, whereas the items holds the key-value pairs.\n"
   ]
  },
  {
   "cell_type": "code",
   "execution_count": 40,
   "id": "b622a53c-4127-49a5-a0d4-54fa720bf83b",
   "metadata": {},
   "outputs": [
    {
     "name": "stdout",
     "output_type": "stream",
     "text": [
      "Keys: dict_keys(['Sport', 'Teams'])\n",
      "Values: dict_values(['Cricket', ['India', 'Australia', 'England', 'South Africa', 'Sri Lanka', 'New Zealand']])\n",
      "Items: dict_items([('Sport', 'Cricket'), ('Teams', ['India', 'Australia', 'England', 'South Africa', 'Sri Lanka', 'New Zealand'])])\n"
     ]
    }
   ],
   "source": [
    "dict1 = {'Sport': 'Cricket' , 'Teams': ['India', 'Australia', 'England', 'South Africa', 'Sri Lanka', 'New Zealand']}\n",
    "\n",
    "print('Keys: ',end=\"\")\n",
    "print(dict1.keys())\n",
    "print('Values: ',end=\"\")\n",
    "print(dict1.values())\n",
    "print('Items: ',end=\"\")\n",
    "print(dict1.items())"
   ]
  },
  {
   "cell_type": "code",
   "execution_count": null,
   "id": "3c607757-24f7-4286-b020-7e8cb3b970e2",
   "metadata": {},
   "outputs": [],
   "source": []
  }
 ],
 "metadata": {
  "kernelspec": {
   "display_name": "Python 3 (ipykernel)",
   "language": "python",
   "name": "python3"
  },
  "language_info": {
   "codemirror_mode": {
    "name": "ipython",
    "version": 3
   },
   "file_extension": ".py",
   "mimetype": "text/x-python",
   "name": "python",
   "nbconvert_exporter": "python",
   "pygments_lexer": "ipython3",
   "version": "3.10.8"
  }
 },
 "nbformat": 4,
 "nbformat_minor": 5
}

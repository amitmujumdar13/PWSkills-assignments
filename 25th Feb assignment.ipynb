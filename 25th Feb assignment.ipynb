{
 "cells": [
  {
   "cell_type": "markdown",
   "id": "07c91cbd-3119-435a-840f-7b11b7179fde",
   "metadata": {},
   "source": [
    "Q1. Write a code to print the data present in the second row of the dataframe, df."
   ]
  },
  {
   "cell_type": "code",
   "execution_count": 2,
   "id": "e56ee4d1-a3a2-4b64-a3b8-d886aad614e4",
   "metadata": {},
   "outputs": [],
   "source": [
    "import pandas as pd\n",
    "course_name = [\"Data Science\", \"Machine Learning\", \"Big Data\", \"Data Engineer\"]\n",
    "duration = [2,3,6,4]\n",
    "df = pd.DataFrame(data = {\"course_name\" : course_name, \"duration\" : duration})"
   ]
  },
  {
   "cell_type": "code",
   "execution_count": 4,
   "id": "1d47d512-060b-4401-9988-381608d7afaf",
   "metadata": {},
   "outputs": [
    {
     "data": {
      "text/html": [
       "<div>\n",
       "<style scoped>\n",
       "    .dataframe tbody tr th:only-of-type {\n",
       "        vertical-align: middle;\n",
       "    }\n",
       "\n",
       "    .dataframe tbody tr th {\n",
       "        vertical-align: top;\n",
       "    }\n",
       "\n",
       "    .dataframe thead th {\n",
       "        text-align: right;\n",
       "    }\n",
       "</style>\n",
       "<table border=\"1\" class=\"dataframe\">\n",
       "  <thead>\n",
       "    <tr style=\"text-align: right;\">\n",
       "      <th></th>\n",
       "      <th>course_name</th>\n",
       "      <th>duration</th>\n",
       "    </tr>\n",
       "  </thead>\n",
       "  <tbody>\n",
       "    <tr>\n",
       "      <th>0</th>\n",
       "      <td>Data Science</td>\n",
       "      <td>2</td>\n",
       "    </tr>\n",
       "    <tr>\n",
       "      <th>1</th>\n",
       "      <td>Machine Learning</td>\n",
       "      <td>3</td>\n",
       "    </tr>\n",
       "    <tr>\n",
       "      <th>2</th>\n",
       "      <td>Big Data</td>\n",
       "      <td>6</td>\n",
       "    </tr>\n",
       "    <tr>\n",
       "      <th>3</th>\n",
       "      <td>Data Engineer</td>\n",
       "      <td>4</td>\n",
       "    </tr>\n",
       "  </tbody>\n",
       "</table>\n",
       "</div>"
      ],
      "text/plain": [
       "        course_name  duration\n",
       "0      Data Science         2\n",
       "1  Machine Learning         3\n",
       "2          Big Data         6\n",
       "3     Data Engineer         4"
      ]
     },
     "execution_count": 4,
     "metadata": {},
     "output_type": "execute_result"
    }
   ],
   "source": [
    "df"
   ]
  },
  {
   "cell_type": "code",
   "execution_count": 3,
   "id": "603e4423-b148-4c07-9b02-4cfab484cf5e",
   "metadata": {},
   "outputs": [
    {
     "data": {
      "text/plain": [
       "course_name    Machine Learning\n",
       "duration                      3\n",
       "Name: 1, dtype: object"
      ]
     },
     "execution_count": 3,
     "metadata": {},
     "output_type": "execute_result"
    }
   ],
   "source": [
    "df.iloc[1]"
   ]
  },
  {
   "cell_type": "markdown",
   "id": "bb88b1dc-7571-42a6-9c6d-7508d7fc043b",
   "metadata": {},
   "source": [
    "************\n",
    "Q2. What is the difference between the functions loc and iloc in pandas.DataFrame?\n",
    "\n",
    "Answer: loc gets rows (and/or columns) with particular labels. iloc gets rows (and/or columns) at integer locations."
   ]
  },
  {
   "cell_type": "markdown",
   "id": "a2c81a09-b91e-4991-8d4d-cff71a2de04e",
   "metadata": {},
   "source": [
    "****************************\n",
    "Q3. Reindex the given dataframe using a variable, reindex = [3,0,1,2] and store it in the variable, new_df\n",
    "then find the output for both new_df.loc[2] and new_df.iloc[2].\n"
   ]
  },
  {
   "cell_type": "code",
   "execution_count": 22,
   "id": "40a5b54d-9a68-4794-a153-6ada90f99e8d",
   "metadata": {},
   "outputs": [
    {
     "data": {
      "text/html": [
       "<div>\n",
       "<style scoped>\n",
       "    .dataframe tbody tr th:only-of-type {\n",
       "        vertical-align: middle;\n",
       "    }\n",
       "\n",
       "    .dataframe tbody tr th {\n",
       "        vertical-align: top;\n",
       "    }\n",
       "\n",
       "    .dataframe thead th {\n",
       "        text-align: right;\n",
       "    }\n",
       "</style>\n",
       "<table border=\"1\" class=\"dataframe\">\n",
       "  <thead>\n",
       "    <tr style=\"text-align: right;\">\n",
       "      <th></th>\n",
       "      <th>0</th>\n",
       "    </tr>\n",
       "  </thead>\n",
       "  <tbody>\n",
       "    <tr>\n",
       "      <th>0</th>\n",
       "      <td>3</td>\n",
       "    </tr>\n",
       "    <tr>\n",
       "      <th>1</th>\n",
       "      <td>0</td>\n",
       "    </tr>\n",
       "    <tr>\n",
       "      <th>2</th>\n",
       "      <td>1</td>\n",
       "    </tr>\n",
       "    <tr>\n",
       "      <th>3</th>\n",
       "      <td>2</td>\n",
       "    </tr>\n",
       "  </tbody>\n",
       "</table>\n",
       "</div>"
      ],
      "text/plain": [
       "   0\n",
       "0  3\n",
       "1  0\n",
       "2  1\n",
       "3  2"
      ]
     },
     "execution_count": 22,
     "metadata": {},
     "output_type": "execute_result"
    }
   ],
   "source": [
    "reindex = [3,0,1,2]\n",
    "re=pd.DataFrame(reindex)\n",
    "new_df=re.reindex()\n",
    "new_df"
   ]
  },
  {
   "cell_type": "code",
   "execution_count": 20,
   "id": "9253a519-d540-4095-9f72-e086ff943364",
   "metadata": {},
   "outputs": [
    {
     "data": {
      "text/plain": [
       "0    1\n",
       "Name: 2, dtype: int64"
      ]
     },
     "execution_count": 20,
     "metadata": {},
     "output_type": "execute_result"
    }
   ],
   "source": [
    "new_df.loc[2]"
   ]
  },
  {
   "cell_type": "code",
   "execution_count": 21,
   "id": "36806c7e-4e55-439f-8401-713224d98feb",
   "metadata": {},
   "outputs": [
    {
     "data": {
      "text/plain": [
       "0    2\n",
       "Name: 3, dtype: int64"
      ]
     },
     "execution_count": 21,
     "metadata": {},
     "output_type": "execute_result"
    }
   ],
   "source": [
    "new_df.iloc[2]"
   ]
  },
  {
   "cell_type": "markdown",
   "id": "108e9f57-513c-4359-be07-bdd73e8285d6",
   "metadata": {},
   "source": [
    "***************\n",
    "loc gets rows (and/or columns) with particular labels.\n",
    "iloc gets rows (and/or columns) at integer locations."
   ]
  },
  {
   "cell_type": "code",
   "execution_count": 25,
   "id": "1e1d3bc4-c4ef-4614-94b7-eb33196b83f5",
   "metadata": {},
   "outputs": [],
   "source": [
    "import pandas as pd\n",
    "import numpy as np\n",
    "columns = ['column_1', 'column_2', 'column_3', 'column_4', 'column_5', 'column_6']\n",
    "indices = [1,2,3,4,5,6]\n",
    "#Creating a dataframe:\n",
    "df1 = pd.DataFrame(np.random.rand(6,6), columns = columns, index = indices)"
   ]
  },
  {
   "cell_type": "markdown",
   "id": "7e7a3a97-e45d-412d-ba8d-a7e7bcd6a290",
   "metadata": {},
   "source": [
    "Q4. Write a code to find the following statistical measurements for the above dataframe df1:\n",
    "(i) mean of each and every column present in the dataframe.\n",
    "(ii) standard deviation of column, ‘column_2’\n",
    "************"
   ]
  },
  {
   "cell_type": "code",
   "execution_count": 26,
   "id": "9ba22284-9814-45d0-a378-8699d820e25b",
   "metadata": {},
   "outputs": [
    {
     "data": {
      "text/html": [
       "<div>\n",
       "<style scoped>\n",
       "    .dataframe tbody tr th:only-of-type {\n",
       "        vertical-align: middle;\n",
       "    }\n",
       "\n",
       "    .dataframe tbody tr th {\n",
       "        vertical-align: top;\n",
       "    }\n",
       "\n",
       "    .dataframe thead th {\n",
       "        text-align: right;\n",
       "    }\n",
       "</style>\n",
       "<table border=\"1\" class=\"dataframe\">\n",
       "  <thead>\n",
       "    <tr style=\"text-align: right;\">\n",
       "      <th></th>\n",
       "      <th>column_1</th>\n",
       "      <th>column_2</th>\n",
       "      <th>column_3</th>\n",
       "      <th>column_4</th>\n",
       "      <th>column_5</th>\n",
       "      <th>column_6</th>\n",
       "    </tr>\n",
       "  </thead>\n",
       "  <tbody>\n",
       "    <tr>\n",
       "      <th>1</th>\n",
       "      <td>0.315909</td>\n",
       "      <td>0.597748</td>\n",
       "      <td>0.504086</td>\n",
       "      <td>0.160539</td>\n",
       "      <td>0.143954</td>\n",
       "      <td>0.184145</td>\n",
       "    </tr>\n",
       "    <tr>\n",
       "      <th>2</th>\n",
       "      <td>0.958967</td>\n",
       "      <td>0.243921</td>\n",
       "      <td>0.588020</td>\n",
       "      <td>0.604012</td>\n",
       "      <td>0.462700</td>\n",
       "      <td>0.136059</td>\n",
       "    </tr>\n",
       "    <tr>\n",
       "      <th>3</th>\n",
       "      <td>0.198219</td>\n",
       "      <td>0.913841</td>\n",
       "      <td>0.376531</td>\n",
       "      <td>0.356428</td>\n",
       "      <td>0.053747</td>\n",
       "      <td>0.673957</td>\n",
       "    </tr>\n",
       "    <tr>\n",
       "      <th>4</th>\n",
       "      <td>0.070934</td>\n",
       "      <td>0.277352</td>\n",
       "      <td>0.983063</td>\n",
       "      <td>0.594242</td>\n",
       "      <td>0.816087</td>\n",
       "      <td>0.568464</td>\n",
       "    </tr>\n",
       "    <tr>\n",
       "      <th>5</th>\n",
       "      <td>0.612876</td>\n",
       "      <td>0.220011</td>\n",
       "      <td>0.275226</td>\n",
       "      <td>0.609073</td>\n",
       "      <td>0.442352</td>\n",
       "      <td>0.502237</td>\n",
       "    </tr>\n",
       "    <tr>\n",
       "      <th>6</th>\n",
       "      <td>0.937880</td>\n",
       "      <td>0.781346</td>\n",
       "      <td>0.719430</td>\n",
       "      <td>0.962010</td>\n",
       "      <td>0.058695</td>\n",
       "      <td>0.304367</td>\n",
       "    </tr>\n",
       "  </tbody>\n",
       "</table>\n",
       "</div>"
      ],
      "text/plain": [
       "   column_1  column_2  column_3  column_4  column_5  column_6\n",
       "1  0.315909  0.597748  0.504086  0.160539  0.143954  0.184145\n",
       "2  0.958967  0.243921  0.588020  0.604012  0.462700  0.136059\n",
       "3  0.198219  0.913841  0.376531  0.356428  0.053747  0.673957\n",
       "4  0.070934  0.277352  0.983063  0.594242  0.816087  0.568464\n",
       "5  0.612876  0.220011  0.275226  0.609073  0.442352  0.502237\n",
       "6  0.937880  0.781346  0.719430  0.962010  0.058695  0.304367"
      ]
     },
     "execution_count": 26,
     "metadata": {},
     "output_type": "execute_result"
    }
   ],
   "source": [
    "df1"
   ]
  },
  {
   "cell_type": "code",
   "execution_count": 27,
   "id": "3aa813a0-cf5b-4e6d-b644-0d778833c47d",
   "metadata": {},
   "outputs": [
    {
     "data": {
      "text/plain": [
       "column_1    0.515798\n",
       "column_2    0.505703\n",
       "column_3    0.574392\n",
       "column_4    0.547717\n",
       "column_5    0.329589\n",
       "column_6    0.394872\n",
       "dtype: float64"
      ]
     },
     "execution_count": 27,
     "metadata": {},
     "output_type": "execute_result"
    }
   ],
   "source": [
    "## (i) mean of each and every column present in the dataframe.\n",
    "df1.mean()"
   ]
  },
  {
   "cell_type": "code",
   "execution_count": 28,
   "id": "e1ea428b-b699-4f4a-bfb1-f2b87a4d0717",
   "metadata": {},
   "outputs": [
    {
     "data": {
      "text/plain": [
       "0.30110542017308417"
      ]
     },
     "execution_count": 28,
     "metadata": {},
     "output_type": "execute_result"
    }
   ],
   "source": [
    "## (ii) standard deviation of column, ‘column_2’\n",
    "df1[\"column_2\"].std()"
   ]
  },
  {
   "cell_type": "markdown",
   "id": "89f36d30-2055-44d1-aa8f-405213500b80",
   "metadata": {},
   "source": [
    "******************\n",
    "Q5. Replace the data present in the second row of column, ‘column_2’ by a string variable then find the\n",
    "mean of column, column_2.\n",
    "If you are getting errors in executing it then explain why.\n",
    "[Hint: To replace the data use df1.loc[] and equate this to string data of your choice.]"
   ]
  },
  {
   "cell_type": "code",
   "execution_count": 31,
   "id": "e2db35ea-8493-48d4-8f2b-f140d204d949",
   "metadata": {},
   "outputs": [],
   "source": [
    "str='A'\n",
    "df1[\"column_2\"].loc[2] = str"
   ]
  },
  {
   "cell_type": "code",
   "execution_count": 32,
   "id": "789f22cf-1375-4cb1-b432-0de07272a7ed",
   "metadata": {},
   "outputs": [
    {
     "data": {
      "text/html": [
       "<div>\n",
       "<style scoped>\n",
       "    .dataframe tbody tr th:only-of-type {\n",
       "        vertical-align: middle;\n",
       "    }\n",
       "\n",
       "    .dataframe tbody tr th {\n",
       "        vertical-align: top;\n",
       "    }\n",
       "\n",
       "    .dataframe thead th {\n",
       "        text-align: right;\n",
       "    }\n",
       "</style>\n",
       "<table border=\"1\" class=\"dataframe\">\n",
       "  <thead>\n",
       "    <tr style=\"text-align: right;\">\n",
       "      <th></th>\n",
       "      <th>column_1</th>\n",
       "      <th>column_2</th>\n",
       "      <th>column_3</th>\n",
       "      <th>column_4</th>\n",
       "      <th>column_5</th>\n",
       "      <th>column_6</th>\n",
       "    </tr>\n",
       "  </thead>\n",
       "  <tbody>\n",
       "    <tr>\n",
       "      <th>1</th>\n",
       "      <td>0.315909</td>\n",
       "      <td>0.597748</td>\n",
       "      <td>0.504086</td>\n",
       "      <td>0.160539</td>\n",
       "      <td>0.143954</td>\n",
       "      <td>0.184145</td>\n",
       "    </tr>\n",
       "    <tr>\n",
       "      <th>2</th>\n",
       "      <td>0.958967</td>\n",
       "      <td>A</td>\n",
       "      <td>0.588020</td>\n",
       "      <td>0.604012</td>\n",
       "      <td>0.462700</td>\n",
       "      <td>0.136059</td>\n",
       "    </tr>\n",
       "    <tr>\n",
       "      <th>3</th>\n",
       "      <td>0.198219</td>\n",
       "      <td>0.913841</td>\n",
       "      <td>0.376531</td>\n",
       "      <td>0.356428</td>\n",
       "      <td>0.053747</td>\n",
       "      <td>0.673957</td>\n",
       "    </tr>\n",
       "    <tr>\n",
       "      <th>4</th>\n",
       "      <td>0.070934</td>\n",
       "      <td>0.277352</td>\n",
       "      <td>0.983063</td>\n",
       "      <td>0.594242</td>\n",
       "      <td>0.816087</td>\n",
       "      <td>0.568464</td>\n",
       "    </tr>\n",
       "    <tr>\n",
       "      <th>5</th>\n",
       "      <td>0.612876</td>\n",
       "      <td>0.220011</td>\n",
       "      <td>0.275226</td>\n",
       "      <td>0.609073</td>\n",
       "      <td>0.442352</td>\n",
       "      <td>0.502237</td>\n",
       "    </tr>\n",
       "    <tr>\n",
       "      <th>6</th>\n",
       "      <td>0.937880</td>\n",
       "      <td>0.781346</td>\n",
       "      <td>0.719430</td>\n",
       "      <td>0.962010</td>\n",
       "      <td>0.058695</td>\n",
       "      <td>0.304367</td>\n",
       "    </tr>\n",
       "  </tbody>\n",
       "</table>\n",
       "</div>"
      ],
      "text/plain": [
       "   column_1  column_2  column_3  column_4  column_5  column_6\n",
       "1  0.315909  0.597748  0.504086  0.160539  0.143954  0.184145\n",
       "2  0.958967         A  0.588020  0.604012  0.462700  0.136059\n",
       "3  0.198219  0.913841  0.376531  0.356428  0.053747  0.673957\n",
       "4  0.070934  0.277352  0.983063  0.594242  0.816087  0.568464\n",
       "5  0.612876  0.220011  0.275226  0.609073  0.442352  0.502237\n",
       "6  0.937880  0.781346  0.719430  0.962010  0.058695  0.304367"
      ]
     },
     "execution_count": 32,
     "metadata": {},
     "output_type": "execute_result"
    }
   ],
   "source": [
    "df1"
   ]
  },
  {
   "cell_type": "code",
   "execution_count": 33,
   "id": "24708d7a-7d2b-4ca2-ac49-ba46f1d6b2bc",
   "metadata": {},
   "outputs": [
    {
     "ename": "TypeError",
     "evalue": "unsupported operand type(s) for +: 'float' and 'str'",
     "output_type": "error",
     "traceback": [
      "\u001b[0;31m---------------------------------------------------------------------------\u001b[0m",
      "\u001b[0;31mTypeError\u001b[0m                                 Traceback (most recent call last)",
      "Cell \u001b[0;32mIn[33], line 1\u001b[0m\n\u001b[0;32m----> 1\u001b[0m \u001b[43mdf1\u001b[49m\u001b[43m[\u001b[49m\u001b[38;5;124;43m\"\u001b[39;49m\u001b[38;5;124;43mcolumn_2\u001b[39;49m\u001b[38;5;124;43m\"\u001b[39;49m\u001b[43m]\u001b[49m\u001b[38;5;241;43m.\u001b[39;49m\u001b[43mmean\u001b[49m\u001b[43m(\u001b[49m\u001b[43m)\u001b[49m\n",
      "File \u001b[0;32m/opt/conda/lib/python3.10/site-packages/pandas/core/generic.py:11847\u001b[0m, in \u001b[0;36mNDFrame._add_numeric_operations.<locals>.mean\u001b[0;34m(self, axis, skipna, level, numeric_only, **kwargs)\u001b[0m\n\u001b[1;32m  11829\u001b[0m \u001b[38;5;129m@doc\u001b[39m(\n\u001b[1;32m  11830\u001b[0m     _num_doc,\n\u001b[1;32m  11831\u001b[0m     desc\u001b[38;5;241m=\u001b[39m\u001b[38;5;124m\"\u001b[39m\u001b[38;5;124mReturn the mean of the values over the requested axis.\u001b[39m\u001b[38;5;124m\"\u001b[39m,\n\u001b[0;32m   (...)\u001b[0m\n\u001b[1;32m  11845\u001b[0m     \u001b[38;5;241m*\u001b[39m\u001b[38;5;241m*\u001b[39mkwargs,\n\u001b[1;32m  11846\u001b[0m ):\n\u001b[0;32m> 11847\u001b[0m     \u001b[38;5;28;01mreturn\u001b[39;00m \u001b[43mNDFrame\u001b[49m\u001b[38;5;241;43m.\u001b[39;49m\u001b[43mmean\u001b[49m\u001b[43m(\u001b[49m\u001b[38;5;28;43mself\u001b[39;49m\u001b[43m,\u001b[49m\u001b[43m \u001b[49m\u001b[43maxis\u001b[49m\u001b[43m,\u001b[49m\u001b[43m \u001b[49m\u001b[43mskipna\u001b[49m\u001b[43m,\u001b[49m\u001b[43m \u001b[49m\u001b[43mlevel\u001b[49m\u001b[43m,\u001b[49m\u001b[43m \u001b[49m\u001b[43mnumeric_only\u001b[49m\u001b[43m,\u001b[49m\u001b[43m \u001b[49m\u001b[38;5;241;43m*\u001b[39;49m\u001b[38;5;241;43m*\u001b[39;49m\u001b[43mkwargs\u001b[49m\u001b[43m)\u001b[49m\n",
      "File \u001b[0;32m/opt/conda/lib/python3.10/site-packages/pandas/core/generic.py:11401\u001b[0m, in \u001b[0;36mNDFrame.mean\u001b[0;34m(self, axis, skipna, level, numeric_only, **kwargs)\u001b[0m\n\u001b[1;32m  11393\u001b[0m \u001b[38;5;28;01mdef\u001b[39;00m \u001b[38;5;21mmean\u001b[39m(\n\u001b[1;32m  11394\u001b[0m     \u001b[38;5;28mself\u001b[39m,\n\u001b[1;32m  11395\u001b[0m     axis: Axis \u001b[38;5;241m|\u001b[39m \u001b[38;5;28;01mNone\u001b[39;00m \u001b[38;5;241m|\u001b[39m lib\u001b[38;5;241m.\u001b[39mNoDefault \u001b[38;5;241m=\u001b[39m lib\u001b[38;5;241m.\u001b[39mno_default,\n\u001b[0;32m   (...)\u001b[0m\n\u001b[1;32m  11399\u001b[0m     \u001b[38;5;241m*\u001b[39m\u001b[38;5;241m*\u001b[39mkwargs,\n\u001b[1;32m  11400\u001b[0m ) \u001b[38;5;241m-\u001b[39m\u001b[38;5;241m>\u001b[39m Series \u001b[38;5;241m|\u001b[39m \u001b[38;5;28mfloat\u001b[39m:\n\u001b[0;32m> 11401\u001b[0m     \u001b[38;5;28;01mreturn\u001b[39;00m \u001b[38;5;28;43mself\u001b[39;49m\u001b[38;5;241;43m.\u001b[39;49m\u001b[43m_stat_function\u001b[49m\u001b[43m(\u001b[49m\n\u001b[1;32m  11402\u001b[0m \u001b[43m        \u001b[49m\u001b[38;5;124;43m\"\u001b[39;49m\u001b[38;5;124;43mmean\u001b[39;49m\u001b[38;5;124;43m\"\u001b[39;49m\u001b[43m,\u001b[49m\u001b[43m \u001b[49m\u001b[43mnanops\u001b[49m\u001b[38;5;241;43m.\u001b[39;49m\u001b[43mnanmean\u001b[49m\u001b[43m,\u001b[49m\u001b[43m \u001b[49m\u001b[43maxis\u001b[49m\u001b[43m,\u001b[49m\u001b[43m \u001b[49m\u001b[43mskipna\u001b[49m\u001b[43m,\u001b[49m\u001b[43m \u001b[49m\u001b[43mlevel\u001b[49m\u001b[43m,\u001b[49m\u001b[43m \u001b[49m\u001b[43mnumeric_only\u001b[49m\u001b[43m,\u001b[49m\u001b[43m \u001b[49m\u001b[38;5;241;43m*\u001b[39;49m\u001b[38;5;241;43m*\u001b[39;49m\u001b[43mkwargs\u001b[49m\n\u001b[1;32m  11403\u001b[0m \u001b[43m    \u001b[49m\u001b[43m)\u001b[49m\n",
      "File \u001b[0;32m/opt/conda/lib/python3.10/site-packages/pandas/core/generic.py:11353\u001b[0m, in \u001b[0;36mNDFrame._stat_function\u001b[0;34m(self, name, func, axis, skipna, level, numeric_only, **kwargs)\u001b[0m\n\u001b[1;32m  11343\u001b[0m     warnings\u001b[38;5;241m.\u001b[39mwarn(\n\u001b[1;32m  11344\u001b[0m         \u001b[38;5;124m\"\u001b[39m\u001b[38;5;124mUsing the level keyword in DataFrame and Series aggregations is \u001b[39m\u001b[38;5;124m\"\u001b[39m\n\u001b[1;32m  11345\u001b[0m         \u001b[38;5;124m\"\u001b[39m\u001b[38;5;124mdeprecated and will be removed in a future version. Use groupby \u001b[39m\u001b[38;5;124m\"\u001b[39m\n\u001b[0;32m   (...)\u001b[0m\n\u001b[1;32m  11348\u001b[0m         stacklevel\u001b[38;5;241m=\u001b[39mfind_stack_level(),\n\u001b[1;32m  11349\u001b[0m     )\n\u001b[1;32m  11350\u001b[0m     \u001b[38;5;28;01mreturn\u001b[39;00m \u001b[38;5;28mself\u001b[39m\u001b[38;5;241m.\u001b[39m_agg_by_level(\n\u001b[1;32m  11351\u001b[0m         name, axis\u001b[38;5;241m=\u001b[39maxis, level\u001b[38;5;241m=\u001b[39mlevel, skipna\u001b[38;5;241m=\u001b[39mskipna, numeric_only\u001b[38;5;241m=\u001b[39mnumeric_only\n\u001b[1;32m  11352\u001b[0m     )\n\u001b[0;32m> 11353\u001b[0m \u001b[38;5;28;01mreturn\u001b[39;00m \u001b[38;5;28;43mself\u001b[39;49m\u001b[38;5;241;43m.\u001b[39;49m\u001b[43m_reduce\u001b[49m\u001b[43m(\u001b[49m\n\u001b[1;32m  11354\u001b[0m \u001b[43m    \u001b[49m\u001b[43mfunc\u001b[49m\u001b[43m,\u001b[49m\u001b[43m \u001b[49m\u001b[43mname\u001b[49m\u001b[38;5;241;43m=\u001b[39;49m\u001b[43mname\u001b[49m\u001b[43m,\u001b[49m\u001b[43m \u001b[49m\u001b[43maxis\u001b[49m\u001b[38;5;241;43m=\u001b[39;49m\u001b[43maxis\u001b[49m\u001b[43m,\u001b[49m\u001b[43m \u001b[49m\u001b[43mskipna\u001b[49m\u001b[38;5;241;43m=\u001b[39;49m\u001b[43mskipna\u001b[49m\u001b[43m,\u001b[49m\u001b[43m \u001b[49m\u001b[43mnumeric_only\u001b[49m\u001b[38;5;241;43m=\u001b[39;49m\u001b[43mnumeric_only\u001b[49m\n\u001b[1;32m  11355\u001b[0m \u001b[43m\u001b[49m\u001b[43m)\u001b[49m\n",
      "File \u001b[0;32m/opt/conda/lib/python3.10/site-packages/pandas/core/series.py:4816\u001b[0m, in \u001b[0;36mSeries._reduce\u001b[0;34m(self, op, name, axis, skipna, numeric_only, filter_type, **kwds)\u001b[0m\n\u001b[1;32m   4812\u001b[0m     \u001b[38;5;28;01mraise\u001b[39;00m \u001b[38;5;167;01mNotImplementedError\u001b[39;00m(\n\u001b[1;32m   4813\u001b[0m         \u001b[38;5;124mf\u001b[39m\u001b[38;5;124m\"\u001b[39m\u001b[38;5;124mSeries.\u001b[39m\u001b[38;5;132;01m{\u001b[39;00mname\u001b[38;5;132;01m}\u001b[39;00m\u001b[38;5;124m does not implement \u001b[39m\u001b[38;5;132;01m{\u001b[39;00mkwd_name\u001b[38;5;132;01m}\u001b[39;00m\u001b[38;5;124m.\u001b[39m\u001b[38;5;124m\"\u001b[39m\n\u001b[1;32m   4814\u001b[0m     )\n\u001b[1;32m   4815\u001b[0m \u001b[38;5;28;01mwith\u001b[39;00m np\u001b[38;5;241m.\u001b[39merrstate(\u001b[38;5;28mall\u001b[39m\u001b[38;5;241m=\u001b[39m\u001b[38;5;124m\"\u001b[39m\u001b[38;5;124mignore\u001b[39m\u001b[38;5;124m\"\u001b[39m):\n\u001b[0;32m-> 4816\u001b[0m     \u001b[38;5;28;01mreturn\u001b[39;00m \u001b[43mop\u001b[49m\u001b[43m(\u001b[49m\u001b[43mdelegate\u001b[49m\u001b[43m,\u001b[49m\u001b[43m \u001b[49m\u001b[43mskipna\u001b[49m\u001b[38;5;241;43m=\u001b[39;49m\u001b[43mskipna\u001b[49m\u001b[43m,\u001b[49m\u001b[43m \u001b[49m\u001b[38;5;241;43m*\u001b[39;49m\u001b[38;5;241;43m*\u001b[39;49m\u001b[43mkwds\u001b[49m\u001b[43m)\u001b[49m\n",
      "File \u001b[0;32m/opt/conda/lib/python3.10/site-packages/pandas/core/nanops.py:93\u001b[0m, in \u001b[0;36mdisallow.__call__.<locals>._f\u001b[0;34m(*args, **kwargs)\u001b[0m\n\u001b[1;32m     91\u001b[0m \u001b[38;5;28;01mtry\u001b[39;00m:\n\u001b[1;32m     92\u001b[0m     \u001b[38;5;28;01mwith\u001b[39;00m np\u001b[38;5;241m.\u001b[39merrstate(invalid\u001b[38;5;241m=\u001b[39m\u001b[38;5;124m\"\u001b[39m\u001b[38;5;124mignore\u001b[39m\u001b[38;5;124m\"\u001b[39m):\n\u001b[0;32m---> 93\u001b[0m         \u001b[38;5;28;01mreturn\u001b[39;00m \u001b[43mf\u001b[49m\u001b[43m(\u001b[49m\u001b[38;5;241;43m*\u001b[39;49m\u001b[43margs\u001b[49m\u001b[43m,\u001b[49m\u001b[43m \u001b[49m\u001b[38;5;241;43m*\u001b[39;49m\u001b[38;5;241;43m*\u001b[39;49m\u001b[43mkwargs\u001b[49m\u001b[43m)\u001b[49m\n\u001b[1;32m     94\u001b[0m \u001b[38;5;28;01mexcept\u001b[39;00m \u001b[38;5;167;01mValueError\u001b[39;00m \u001b[38;5;28;01mas\u001b[39;00m e:\n\u001b[1;32m     95\u001b[0m     \u001b[38;5;66;03m# we want to transform an object array\u001b[39;00m\n\u001b[1;32m     96\u001b[0m     \u001b[38;5;66;03m# ValueError message to the more typical TypeError\u001b[39;00m\n\u001b[1;32m     97\u001b[0m     \u001b[38;5;66;03m# e.g. this is normally a disallowed function on\u001b[39;00m\n\u001b[1;32m     98\u001b[0m     \u001b[38;5;66;03m# object arrays that contain strings\u001b[39;00m\n\u001b[1;32m     99\u001b[0m     \u001b[38;5;28;01mif\u001b[39;00m is_object_dtype(args[\u001b[38;5;241m0\u001b[39m]):\n",
      "File \u001b[0;32m/opt/conda/lib/python3.10/site-packages/pandas/core/nanops.py:155\u001b[0m, in \u001b[0;36mbottleneck_switch.__call__.<locals>.f\u001b[0;34m(values, axis, skipna, **kwds)\u001b[0m\n\u001b[1;32m    153\u001b[0m         result \u001b[38;5;241m=\u001b[39m alt(values, axis\u001b[38;5;241m=\u001b[39maxis, skipna\u001b[38;5;241m=\u001b[39mskipna, \u001b[38;5;241m*\u001b[39m\u001b[38;5;241m*\u001b[39mkwds)\n\u001b[1;32m    154\u001b[0m \u001b[38;5;28;01melse\u001b[39;00m:\n\u001b[0;32m--> 155\u001b[0m     result \u001b[38;5;241m=\u001b[39m \u001b[43malt\u001b[49m\u001b[43m(\u001b[49m\u001b[43mvalues\u001b[49m\u001b[43m,\u001b[49m\u001b[43m \u001b[49m\u001b[43maxis\u001b[49m\u001b[38;5;241;43m=\u001b[39;49m\u001b[43maxis\u001b[49m\u001b[43m,\u001b[49m\u001b[43m \u001b[49m\u001b[43mskipna\u001b[49m\u001b[38;5;241;43m=\u001b[39;49m\u001b[43mskipna\u001b[49m\u001b[43m,\u001b[49m\u001b[43m \u001b[49m\u001b[38;5;241;43m*\u001b[39;49m\u001b[38;5;241;43m*\u001b[39;49m\u001b[43mkwds\u001b[49m\u001b[43m)\u001b[49m\n\u001b[1;32m    157\u001b[0m \u001b[38;5;28;01mreturn\u001b[39;00m result\n",
      "File \u001b[0;32m/opt/conda/lib/python3.10/site-packages/pandas/core/nanops.py:418\u001b[0m, in \u001b[0;36m_datetimelike_compat.<locals>.new_func\u001b[0;34m(values, axis, skipna, mask, **kwargs)\u001b[0m\n\u001b[1;32m    415\u001b[0m \u001b[38;5;28;01mif\u001b[39;00m datetimelike \u001b[38;5;129;01mand\u001b[39;00m mask \u001b[38;5;129;01mis\u001b[39;00m \u001b[38;5;28;01mNone\u001b[39;00m:\n\u001b[1;32m    416\u001b[0m     mask \u001b[38;5;241m=\u001b[39m isna(values)\n\u001b[0;32m--> 418\u001b[0m result \u001b[38;5;241m=\u001b[39m \u001b[43mfunc\u001b[49m\u001b[43m(\u001b[49m\u001b[43mvalues\u001b[49m\u001b[43m,\u001b[49m\u001b[43m \u001b[49m\u001b[43maxis\u001b[49m\u001b[38;5;241;43m=\u001b[39;49m\u001b[43maxis\u001b[49m\u001b[43m,\u001b[49m\u001b[43m \u001b[49m\u001b[43mskipna\u001b[49m\u001b[38;5;241;43m=\u001b[39;49m\u001b[43mskipna\u001b[49m\u001b[43m,\u001b[49m\u001b[43m \u001b[49m\u001b[43mmask\u001b[49m\u001b[38;5;241;43m=\u001b[39;49m\u001b[43mmask\u001b[49m\u001b[43m,\u001b[49m\u001b[43m \u001b[49m\u001b[38;5;241;43m*\u001b[39;49m\u001b[38;5;241;43m*\u001b[39;49m\u001b[43mkwargs\u001b[49m\u001b[43m)\u001b[49m\n\u001b[1;32m    420\u001b[0m \u001b[38;5;28;01mif\u001b[39;00m datetimelike:\n\u001b[1;32m    421\u001b[0m     result \u001b[38;5;241m=\u001b[39m _wrap_results(result, orig_values\u001b[38;5;241m.\u001b[39mdtype, fill_value\u001b[38;5;241m=\u001b[39miNaT)\n",
      "File \u001b[0;32m/opt/conda/lib/python3.10/site-packages/pandas/core/nanops.py:706\u001b[0m, in \u001b[0;36mnanmean\u001b[0;34m(values, axis, skipna, mask)\u001b[0m\n\u001b[1;32m    703\u001b[0m     dtype_count \u001b[38;5;241m=\u001b[39m dtype\n\u001b[1;32m    705\u001b[0m count \u001b[38;5;241m=\u001b[39m _get_counts(values\u001b[38;5;241m.\u001b[39mshape, mask, axis, dtype\u001b[38;5;241m=\u001b[39mdtype_count)\n\u001b[0;32m--> 706\u001b[0m the_sum \u001b[38;5;241m=\u001b[39m _ensure_numeric(\u001b[43mvalues\u001b[49m\u001b[38;5;241;43m.\u001b[39;49m\u001b[43msum\u001b[49m\u001b[43m(\u001b[49m\u001b[43maxis\u001b[49m\u001b[43m,\u001b[49m\u001b[43m \u001b[49m\u001b[43mdtype\u001b[49m\u001b[38;5;241;43m=\u001b[39;49m\u001b[43mdtype_sum\u001b[49m\u001b[43m)\u001b[49m)\n\u001b[1;32m    708\u001b[0m \u001b[38;5;28;01mif\u001b[39;00m axis \u001b[38;5;129;01mis\u001b[39;00m \u001b[38;5;129;01mnot\u001b[39;00m \u001b[38;5;28;01mNone\u001b[39;00m \u001b[38;5;129;01mand\u001b[39;00m \u001b[38;5;28mgetattr\u001b[39m(the_sum, \u001b[38;5;124m\"\u001b[39m\u001b[38;5;124mndim\u001b[39m\u001b[38;5;124m\"\u001b[39m, \u001b[38;5;28;01mFalse\u001b[39;00m):\n\u001b[1;32m    709\u001b[0m     count \u001b[38;5;241m=\u001b[39m cast(np\u001b[38;5;241m.\u001b[39mndarray, count)\n",
      "File \u001b[0;32m/opt/conda/lib/python3.10/site-packages/numpy/core/_methods.py:48\u001b[0m, in \u001b[0;36m_sum\u001b[0;34m(a, axis, dtype, out, keepdims, initial, where)\u001b[0m\n\u001b[1;32m     46\u001b[0m \u001b[38;5;28;01mdef\u001b[39;00m \u001b[38;5;21m_sum\u001b[39m(a, axis\u001b[38;5;241m=\u001b[39m\u001b[38;5;28;01mNone\u001b[39;00m, dtype\u001b[38;5;241m=\u001b[39m\u001b[38;5;28;01mNone\u001b[39;00m, out\u001b[38;5;241m=\u001b[39m\u001b[38;5;28;01mNone\u001b[39;00m, keepdims\u001b[38;5;241m=\u001b[39m\u001b[38;5;28;01mFalse\u001b[39;00m,\n\u001b[1;32m     47\u001b[0m          initial\u001b[38;5;241m=\u001b[39m_NoValue, where\u001b[38;5;241m=\u001b[39m\u001b[38;5;28;01mTrue\u001b[39;00m):\n\u001b[0;32m---> 48\u001b[0m     \u001b[38;5;28;01mreturn\u001b[39;00m \u001b[43mumr_sum\u001b[49m\u001b[43m(\u001b[49m\u001b[43ma\u001b[49m\u001b[43m,\u001b[49m\u001b[43m \u001b[49m\u001b[43maxis\u001b[49m\u001b[43m,\u001b[49m\u001b[43m \u001b[49m\u001b[43mdtype\u001b[49m\u001b[43m,\u001b[49m\u001b[43m \u001b[49m\u001b[43mout\u001b[49m\u001b[43m,\u001b[49m\u001b[43m \u001b[49m\u001b[43mkeepdims\u001b[49m\u001b[43m,\u001b[49m\u001b[43m \u001b[49m\u001b[43minitial\u001b[49m\u001b[43m,\u001b[49m\u001b[43m \u001b[49m\u001b[43mwhere\u001b[49m\u001b[43m)\u001b[49m\n",
      "\u001b[0;31mTypeError\u001b[0m: unsupported operand type(s) for +: 'float' and 'str'"
     ]
    }
   ],
   "source": [
    "df1[\"column_2\"].mean()"
   ]
  },
  {
   "cell_type": "markdown",
   "id": "1d56c231-f06e-4f18-bea9-92b54d926fc1",
   "metadata": {},
   "source": [
    "As mean can be calulated only for numerical values, error is thorwn for string data."
   ]
  },
  {
   "cell_type": "markdown",
   "id": "57788eee-b424-4584-a6bd-2167c30c55e2",
   "metadata": {},
   "source": [
    "***********************\n",
    "Q6. What do you understand about the windows function in pandas and list the types of windows\n",
    "functions?\n",
    "\n",
    "Answer: \n",
    "Windowing operations - an operation that performs an aggregation over a sliding partition of values. \n",
    "\n",
    "There are 4 types of windowing functions: \n",
    "\n",
    "1. Rolling window: Generic fixed or variable sliding window over the values.\n",
    "\n",
    "2. Weighted window: Weighted, non-rectangular window supplied by the scipy.signal library.\n",
    "\n",
    "3. Expanding window: Accumulating window over the values.\n",
    "\n",
    "4. Exponentially Weighted window: Accumulating and exponentially weighted window over the values."
   ]
  },
  {
   "cell_type": "markdown",
   "id": "904b3273-35f1-4c91-8daa-00528f8e02cb",
   "metadata": {},
   "source": [
    "***********\n",
    "Q7. Write a code to print only the current month and year at the time of answering this question.\n",
    "[Hint: Use pandas.datetime function]"
   ]
  },
  {
   "cell_type": "code",
   "execution_count": 1,
   "id": "95b8c5ac-658b-4088-9c3e-329e046b9e57",
   "metadata": {},
   "outputs": [
    {
     "name": "stdout",
     "output_type": "stream",
     "text": [
      "Year: 2023\n",
      "Month: 3\n"
     ]
    }
   ],
   "source": [
    "import datetime\n",
    "print(\"Year:\",datetime.datetime.now().year)\n",
    "print(\"Month:\",datetime.datetime.now().month)"
   ]
  },
  {
   "cell_type": "markdown",
   "id": "f9e9b757-a6a4-45a0-a197-9d8d8660b205",
   "metadata": {},
   "source": [
    "***************\n",
    "Q8. Write a Python program that takes in two dates as input (in the format YYYY-MM-DD) and\n",
    "calculates the difference between them in days, hours, and minutes using Pandas time delta. The\n",
    "program should prompt the user to enter the dates and display the result."
   ]
  },
  {
   "cell_type": "code",
   "execution_count": 8,
   "id": "ec2e45d3-ba72-4e1f-b608-8f2dfe9168d5",
   "metadata": {},
   "outputs": [
    {
     "name": "stdin",
     "output_type": "stream",
     "text": [
      "Enter start and end date in YYY-MM-DD with space as separator: 2023-01-01 2023-02-01\n"
     ]
    },
    {
     "name": "stdout",
     "output_type": "stream",
     "text": [
      "Start Date: 2023-01-01 and end date: 2023-02-01\n",
      "Date Fifference is: 31 days 00:00:00\n"
     ]
    }
   ],
   "source": [
    "import pandas as pd\n",
    "startdt, enddt=input(\"Enter start and end date in YYY-MM-DD with space as separator:\").split()\n",
    "print(\"Start Date: {} and end date: {}\".format(startdt,enddt))\n",
    "\n",
    "startdt1=pd.to_datetime(startdt)\n",
    "enddt1=pd.to_datetime(enddt)\n",
    "\n",
    "diff=enddt1 - startdt1\n",
    "\n",
    "print(\"Date Fifference is:\",diff)"
   ]
  },
  {
   "cell_type": "markdown",
   "id": "46bb6579-6e38-4b57-877e-81336ecc7768",
   "metadata": {},
   "source": [
    "*****************\n",
    "Q9. Write a Python program that reads a CSV file containing categorical data and converts a specified\n",
    "column to a categorical data type. The program should prompt the user to enter the file path, column\n",
    "name, and category order, and then display the sorted data."
   ]
  },
  {
   "cell_type": "code",
   "execution_count": 2,
   "id": "3b35590b-b76c-4681-a229-7fe3fe86bd1d",
   "metadata": {},
   "outputs": [],
   "source": []
  },
  {
   "cell_type": "code",
   "execution_count": 14,
   "id": "e07f59e1-f369-4ed2-8f95-c264446edefb",
   "metadata": {},
   "outputs": [
    {
     "name": "stdin",
     "output_type": "stream",
     "text": [
      "Enter file path, column name and column order (A/D) (Use ';' as delimiter): services.csv;location_id;D\n"
     ]
    },
    {
     "name": "stdout",
     "output_type": "stream",
     "text": [
      "    id location_id  program_id         accepted_payments  \\\n",
      "22  23          22         NaN                       NaN   \n",
      "21  22          22         NaN  Cash, Check, Credit Card   \n",
      "20  21          21         NaN                       NaN   \n",
      "19  20          20         NaN                       NaN   \n",
      "18  19          19         NaN                       NaN   \n",
      "17  18          18         NaN                       NaN   \n",
      "16  17          17         NaN                       NaN   \n",
      "15  16          16         NaN                       NaN   \n",
      "14  15          15         NaN                       NaN   \n",
      "13  14          14         NaN                       NaN   \n",
      "12  13          13         NaN                       NaN   \n",
      "11  12          12         NaN                       NaN   \n",
      "10  11          11         NaN                       NaN   \n",
      "9   10          10         NaN                       NaN   \n",
      "8    9           9         NaN                       NaN   \n",
      "7    8           8         NaN                       NaN   \n",
      "6    7           7         NaN                       NaN   \n",
      "5    6           6         NaN                       NaN   \n",
      "4    5           5         NaN                       NaN   \n",
      "3    4           4         NaN                       NaN   \n",
      "2    3           3         NaN                       NaN   \n",
      "1    2           2         NaN                       NaN   \n",
      "0    1           1         NaN                       NaN   \n",
      "\n",
      "           alternate_name                                application_process  \\\n",
      "22                    NaN                  Walk in or apply by phone or mail   \n",
      "21  Fotos para pasaportes                  Walk in or apply by phone or mail   \n",
      "20                    NaN                    By phone during business hours.   \n",
      "19                    NaN                                           Walk in.   \n",
      "18                    NaN     Call for screening appointment (650-347-3648).   \n",
      "17                    NaN  Call for screening appointment. Medical visits...   \n",
      "16                    NaN                              Call for information.   \n",
      "15                    NaN  Walk in. Written application, identification r...   \n",
      "14                    NaN          Walk in or through other agency referral.   \n",
      "13                    NaN  Call for appointment. Referral from human serv...   \n",
      "12                    NaN  Walk in. Proof of California residency require...   \n",
      "11                    NaN  Walk in or apply by phone, email or webpage re...   \n",
      "10                    NaN  Walk in. Proof of California residency require...   \n",
      "9                     NaN  Walk in. Proof of California residency to rece...   \n",
      "8                     NaN  Walk in. Proof of residency in California requ...   \n",
      "7                     NaN                                    Apply by phone.   \n",
      "6                     NaN  Apply by phone or be referred by a doctor, soc...   \n",
      "5                     NaN  Walk in or apply by phone for membership appli...   \n",
      "4                     NaN                             Phone for information.   \n",
      "3                     NaN                                    Apply by phone.   \n",
      "2                     NaN        Phone for information (403-4300 Ext. 4322).   \n",
      "1                     NaN                 Apply by phone for an appointment.   \n",
      "0                     NaN                         Walk in or apply by phone.   \n",
      "\n",
      "                                             audience  \\\n",
      "22  Second service and nonprofit businesses, the p...   \n",
      "21  Profit and nonprofit businesses, the public, m...   \n",
      "20                                                NaN   \n",
      "19                                                NaN   \n",
      "18                                                NaN   \n",
      "17                                                NaN   \n",
      "16                                                NaN   \n",
      "15                                                NaN   \n",
      "14  Adult alcoholic/drug addictive men and women w...   \n",
      "13  Individuals or families with low or no income ...   \n",
      "12                                                NaN   \n",
      "11  Adults, parents, children in 1st-12th grades i...   \n",
      "10                                                NaN   \n",
      "9                                                 NaN   \n",
      "8      Ethnic minorities, especially Spanish speaking   \n",
      "7   Senior citizens age 60 or over, disabled indiv...   \n",
      "6   Older adults who have memory or sensory loss, ...   \n",
      "5                                             Any age   \n",
      "4   Low-income working families with children tran...   \n",
      "3   Parents, children, families with problems of c...   \n",
      "2   Older adults age 55 or over who can benefit fr...   \n",
      "1        Residents of San Mateo County age 55 or over   \n",
      "0   Older adults age 55 or over, ethnic minorities...   \n",
      "\n",
      "                                          description  \\\n",
      "22  [NOTE THIS IS NOT A REAL ORGANIZATION--THIS IS...   \n",
      "21  [NOTE THIS IS NOT A REAL SERVICE--THIS IS FOR ...   \n",
      "20                                just a test service   \n",
      "19              no unrequired fields for this service   \n",
      "18  Provides free medical and dental care to those...   \n",
      "17  By appointment only, Project Smile provides a ...   \n",
      "16  Provides emergency food, clothing and furnitur...   \n",
      "15  Provides emergency assistance including food a...   \n",
      "14  Provides a long-term (6-12 month) residential ...   \n",
      "13  Provides food, clothing, bus tokens and shelte...   \n",
      "12  Provides general reading materials, including ...   \n",
      "11  Offers an intergenerational literacy program f...   \n",
      "10  Provides general reading materials, including ...   \n",
      "9   Provides general reading and media materials, ...   \n",
      "8   Provides general reading material, including b...   \n",
      "7   Delivers a hot meal to the home of persons age...   \n",
      "6   Rosener House is a day center for older adults...   \n",
      "5   A multipurpose center offering a wide variety ...   \n",
      "4   Provides fixed 8% short term loans to eligible...   \n",
      "3   Provides supervised visitation services and a ...   \n",
      "2   Offers supportive counseling services to San M...   \n",
      "1   Provides training and job placement to eligibl...   \n",
      "0   A walk-in center for older adults that provide...   \n",
      "\n",
      "                                          eligibility                  email  \\\n",
      "22                                               None                    NaN   \n",
      "21                                               None  passports@example.org   \n",
      "20                                                NaN                    NaN   \n",
      "19                                                NaN                    NaN   \n",
      "18    Low-income person without access to health care                    NaN   \n",
      "17    Low-income person without access to health care                    NaN   \n",
      "16                                Low-income families                    NaN   \n",
      "15                      None for emergency assistance                    NaN   \n",
      "14  Age 21-60, detoxed, physically able and willin...                    NaN   \n",
      "13  None for most services. For emergency assistan...                    NaN   \n",
      "12    Resident of California to obtain a library card                    NaN   \n",
      "11  English-speaking adult reading at or below 7th...                    NaN   \n",
      "10  Resident of California to obtain a library car...                    NaN   \n",
      "9             Resident of California to obtain a card                    NaN   \n",
      "8     Resident of California to obtain a library card                    NaN   \n",
      "7             Homebound person unable to cook or shop                    NaN   \n",
      "6                                      Age 18 or over                    NaN   \n",
      "5                                                None                    NaN   \n",
      "4   Eligibility: Low-income family with legal cust...                    NaN   \n",
      "3                                                None                    NaN   \n",
      "2         Resident of San Mateo County age 55 or over                    NaN   \n",
      "1   Age 55 or over, county resident and willing an...                    NaN   \n",
      "0   Age 55 or over for most programs, age 60 or ov...                    NaN   \n",
      "\n",
      "    ...                            interpretation_services  \\\n",
      "22  ...                                                NaN   \n",
      "21  ...  We offer 3-way interpretation services over th...   \n",
      "20  ...                                                NaN   \n",
      "19  ...                                                NaN   \n",
      "18  ...                                                NaN   \n",
      "17  ...                                                NaN   \n",
      "16  ...                                                NaN   \n",
      "15  ...                                                NaN   \n",
      "14  ...                                                NaN   \n",
      "13  ...                                                NaN   \n",
      "12  ...                                                NaN   \n",
      "11  ...                                                NaN   \n",
      "10  ...                                                NaN   \n",
      "9   ...                                                NaN   \n",
      "8   ...                                                NaN   \n",
      "7   ...                                                NaN   \n",
      "6   ...                                                NaN   \n",
      "5   ...                                                NaN   \n",
      "4   ...                                                NaN   \n",
      "3   ...                                                NaN   \n",
      "2   ...                                                NaN   \n",
      "1   ...                                                NaN   \n",
      "0   ...                                                NaN   \n",
      "\n",
      "                                             keywords languages  \\\n",
      "22         Ruby on Rails/Postgres/Redis, testing, wic       NaN   \n",
      "21                                    Salud, Medicina   Spanish   \n",
      "20                                                NaN       NaN   \n",
      "19                                                NaN       NaN   \n",
      "18  HEALTH SERVICES, Outpatient Care, Community Cl...       NaN   \n",
      "17  HEALTH SERVICES, Outpatient Care, Community Cl...       NaN   \n",
      "16  COMMODITY SERVICES, Clothing/Personal Items, C...       NaN   \n",
      "15  COMMODITY SERVICES, Clothing/Personal Items, C...       NaN   \n",
      "14  ALCOHOLISM SERVICES, Residential Care, DRUG AB...       NaN   \n",
      "13  COMMUNITY SERVICES, Interpretation/Translation...       NaN   \n",
      "12  EDUCATION SERVICES, Library, Libraries, Public...       NaN   \n",
      "11  EDUCATION SERVICES, Adult, Alternative, Litera...       NaN   \n",
      "10  EDUCATION SERVICES, Library, Libraries, Public...       NaN   \n",
      "9   EDUCATION SERVICES, Library, Libraries, Public...       NaN   \n",
      "8   EDUCATION SERVICES, Library, Libraries, Public...       NaN   \n",
      "7   ADULT PROTECTION AND CARE SERVICES, Meal Sites...       NaN   \n",
      "6   ADULT PROTECTION AND CARE SERVICES, Adult Day ...       NaN   \n",
      "5   ADULT PROTECTION AND CARE SERVICES, In-Home Su...       NaN   \n",
      "4      COMMUNITY SERVICES, Speakers, Automobile Loans       NaN   \n",
      "3   INDIVIDUAL AND FAMILY DEVELOPMENT SERVICES, Gr...       NaN   \n",
      "2   Geriatric Counseling, Older Adults, Gay, Lesbi...       NaN   \n",
      "1   EMPLOYMENT/TRAINING SERVICES, Job Development,...       NaN   \n",
      "0   ADULT PROTECTION AND CARE SERVICES, Meal Sites...       NaN   \n",
      "\n",
      "                                    name  \\\n",
      "22                  Example Service Name   \n",
      "21                       Passport Photos   \n",
      "20       Service for Admin Test Location   \n",
      "19             Service with blank fields   \n",
      "18         San Mateo Free Medical Clinic   \n",
      "17                         Project Smile   \n",
      "16     South San Francisco Citadel Corps   \n",
      "15                       Sunnyvale Corps   \n",
      "14           Adult Rehabilitation Center   \n",
      "13                    Redwood City Corps   \n",
      "12                 Redwood Shores Branch   \n",
      "11                          Project Read   \n",
      "10                       Schaberg Branch   \n",
      "9                           Main Library   \n",
      "8                       Fair Oaks Branch   \n",
      "7         Meals on Wheels - South County   \n",
      "6       Rosener House Adult Day Services   \n",
      "5   Little House Recreational Activities   \n",
      "4      Economic Self-Sufficiency Program   \n",
      "3               Family Visitation Center   \n",
      "2                 Senior Peer Counseling   \n",
      "1       Second Career Employment Program   \n",
      "0        Fair Oaks Adult Activity Center   \n",
      "\n",
      "                          required_documents  \\\n",
      "22                                       NaN   \n",
      "21  Government-issued picture identification   \n",
      "20                                       NaN   \n",
      "19                                       NaN   \n",
      "18                                       NaN   \n",
      "17                                       NaN   \n",
      "16                                       NaN   \n",
      "15                                       NaN   \n",
      "14                                       NaN   \n",
      "13                                       NaN   \n",
      "12                                       NaN   \n",
      "11                                       NaN   \n",
      "10                                       NaN   \n",
      "9                                        NaN   \n",
      "8                                        NaN   \n",
      "7                                        NaN   \n",
      "6                                        NaN   \n",
      "5                                        NaN   \n",
      "4                                        NaN   \n",
      "3                                        NaN   \n",
      "2                                        NaN   \n",
      "1                                        NaN   \n",
      "0                                        NaN   \n",
      "\n",
      "                            service_areas    status  \\\n",
      "22       San Mateo County, Alameda County    active   \n",
      "21       Alameda County, San Mateo County    active   \n",
      "20                       San Mateo County  inactive   \n",
      "19                                    NaN   defunct   \n",
      "18                    Belmont, Burlingame    active   \n",
      "17                         East Palo Alto    active   \n",
      "16  Colma, Daly City, South San Francisco    active   \n",
      "15                                    NaN    active   \n",
      "14       Alameda County, San Mateo County    active   \n",
      "13    Belmont, Burlingame, East Palo Alto    active   \n",
      "12                       San Mateo County    active   \n",
      "11                              Daly City    active   \n",
      "10                       San Mateo County    active   \n",
      "9                        San Mateo County    active   \n",
      "8                        San Mateo County    active   \n",
      "7                 Belmont, East Palo Alto    active   \n",
      "6     Belmont, Burlingame, East Palo Alto    active   \n",
      "5                        San Mateo County    active   \n",
      "4                        San Mateo County    active   \n",
      "3                        San Mateo County    active   \n",
      "2                        San Mateo County    active   \n",
      "1                        San Mateo County    active   \n",
      "0                                   Colma    active   \n",
      "\n",
      "                                            wait_time                 website  \\\n",
      "22                                 No wait to 2 weeks  http://www.example.com   \n",
      "21                                No wait to 2 weeks.  http://www.example.com   \n",
      "20                                                NaN                     NaN   \n",
      "19                                                NaN                     NaN   \n",
      "18                                            Varies.                     NaN   \n",
      "17                                            Varies.                     NaN   \n",
      "16                                                NaN                     NaN   \n",
      "15                                           No wait.                     NaN   \n",
      "14  Varies according to available beds for men and...                     NaN   \n",
      "13                                  Up to 20 minutes.                     NaN   \n",
      "12                                           No wait.                     NaN   \n",
      "11  Depends on availability of tutors for small gr...                     NaN   \n",
      "10                                           No wait.                     NaN   \n",
      "9                                            No wait.                     NaN   \n",
      "8                                            No wait.                     NaN   \n",
      "7                                            No wait.                     NaN   \n",
      "6                                            No wait.                     NaN   \n",
      "5                                            No wait.                     NaN   \n",
      "4                                                 NaN                     NaN   \n",
      "3                                            No wait.                     NaN   \n",
      "2                                             Varies.                     NaN   \n",
      "1                                             Varies.                     NaN   \n",
      "0                                            No wait.                     NaN   \n",
      "\n",
      "                                taxonomy_ids  \n",
      "22                                       NaN  \n",
      "21  105, 108, 108-05, 108-05-01, 111, 111-05  \n",
      "20                                       NaN  \n",
      "19                                       NaN  \n",
      "18                                       NaN  \n",
      "17                                       NaN  \n",
      "16                                       NaN  \n",
      "15                                       NaN  \n",
      "14                                       NaN  \n",
      "13                                       NaN  \n",
      "12                                       NaN  \n",
      "11                                       NaN  \n",
      "10                                       NaN  \n",
      "9                                        NaN  \n",
      "8                                        NaN  \n",
      "7                                        NaN  \n",
      "6                                        NaN  \n",
      "5                                        NaN  \n",
      "4                                        NaN  \n",
      "3                                        NaN  \n",
      "2                                        NaN  \n",
      "1                                        NaN  \n",
      "0                                        NaN  \n",
      "\n",
      "[23 rows x 22 columns]\n"
     ]
    }
   ],
   "source": [
    "import pandas as pd\n",
    "\n",
    "filepath, col, order=input(\"Enter file path, column name and column order (A/D) (Use ';' as delimiter):\").split(';')\n",
    "\n",
    "file1=pd.read_csv(filepath)\n",
    "file1[col]=file1[col].astype('category')\n",
    "\n",
    "if order == 'D':\n",
    "    print(file1.sort_values(by=col,ascending=False))\n",
    "else:\n",
    "    print(file1.sort_values(by=col,ascending=True))"
   ]
  },
  {
   "cell_type": "markdown",
   "id": "cc49516d-b86e-48d9-9d74-d10af9258ff8",
   "metadata": {},
   "source": [
    "*************\n",
    "Q10. Write a Python program that reads a CSV file containing sales data for different products and\n",
    "visualizes the data using a stacked bar chart to show the sales of each product category over time. The\n",
    "program should prompt the user to enter the file path and display the chart."
   ]
  },
  {
   "cell_type": "code",
   "execution_count": 17,
   "id": "9bba372f-843e-4e88-b1dd-549d6f41d893",
   "metadata": {},
   "outputs": [
    {
     "name": "stdin",
     "output_type": "stream",
     "text": [
      "Enter file path: Sales.csv\n"
     ]
    },
    {
     "data": {
      "text/plain": [
       "<AxesSubplot: xlabel='Year', ylabel='Sales '>"
      ]
     },
     "execution_count": 17,
     "metadata": {},
     "output_type": "execute_result"
    },
    {
     "data": {
      "image/png": "[encoded data removed]",
      "text/plain": [
       "<Figure size 640x480 with 1 Axes>"
      ]
     },
     "metadata": {},
     "output_type": "display_data"
    }
   ],
   "source": [
    "import seaborn as sns\n",
    "file_path = input(\"Enter file path:\")\n",
    "file_in=pd.read_csv(file_path)\n",
    "\n",
    "\n",
    "sns.barplot(data=file_in,x='Year',y='Sales ',hue='Product ')"
   ]
  },
  {
   "cell_type": "markdown",
   "id": "5dea0851-641c-4d21-95a3-32b33baaf95f",
   "metadata": {},
   "source": [
    "************\n",
    "Q11. You are given a CSV file containing student data that includes the student ID and their test score. Write\n",
    "a Python program that reads the CSV file, calculates the mean, median, and mode of the test scores, and\n",
    "displays the results in a table.\n",
    "\n",
    "The program should do the followingM\n",
    "1. Prompt the user to enter the file path of the CSV file containing the student dataR\n",
    "2. Read the CSV file into a Pandas DataFrameR\n",
    "3. Calculate the mean, median, and mode of the test scores using Pandas toolsR\n",
    "4. Display the mean, median, and mode in a table.\n",
    "Assume the CSV file contains the following columnsM\n",
    "5. Student ID: The ID of the studentR\n",
    "6. Test Score: The score of the student's test.\n",
    "Example usage of the program:\n",
    "Enter the file path of the CSV file containing the student data: student_data.csv"
   ]
  },
  {
   "cell_type": "code",
   "execution_count": 32,
   "id": "4efbfa85-db3c-470d-b765-36ce42ba5dbd",
   "metadata": {},
   "outputs": [
    {
     "name": "stdin",
     "output_type": "stream",
     "text": [
      "Enter input Flename: student.csv\n"
     ]
    },
    {
     "name": "stdout",
     "output_type": "stream",
     "text": [
      "+-----------+--------+\n",
      "| Statistic | Value |\n",
      "+-----------+--------+\n",
      "| Mean | 83.5 |\n",
      "| Median | 85.0 |\n",
      "| Mode | [85] |\n",
      "+-----------+--------+\n"
     ]
    }
   ],
   "source": [
    "file_name_in=input(\"Enter input Flename:\")\n",
    "\n",
    "student_in=pd.read_csv(file_name_in)\n",
    "st_mean= student_in[\"Test Score\"].mean()\n",
    "st_median= student_in[\"Test Score\"].median()\n",
    "st_mode=list(student_in[\"Test Score\"].mode())\n",
    "\n",
    "print(\"+-----------+--------+\")\n",
    "print(\"| Statistic | Value |\")\n",
    "print(\"+-----------+--------+\")\n",
    "print(\"| Mean | {} |\".format(st_mean))\n",
    "print(\"| Median | {} |\".format(st_median))\n",
    "print(\"| Mode | {} |\".format(st_mode))\n",
    "print(\"+-----------+--------+\")"
   ]
  },
  {
   "cell_type": "code",
   "execution_count": null,
   "id": "575bc34e-ad8a-41f1-96c6-39b1a87e93bd",
   "metadata": {},
   "outputs": [],
   "source": []
  }
 ],
 "metadata": {
  "kernelspec": {
   "display_name": "Python 3 (ipykernel)",
   "language": "python",
   "name": "python3"
  },
  "language_info": {
   "codemirror_mode": {
    "name": "ipython",
    "version": 3
   },
   "file_extension": ".py",
   "mimetype": "text/x-python",
   "name": "python",
   "nbconvert_exporter": "python",
   "pygments_lexer": "ipython3",
   "version": "3.10.8"
  }
 },
 "nbformat": 4,
 "nbformat_minor": 5
}

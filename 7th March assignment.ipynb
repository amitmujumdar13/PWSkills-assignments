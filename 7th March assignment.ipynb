{
 "cells": [
  {
   "cell_type": "markdown",
   "id": "f900c788-1c64-439f-a4d2-5bb30e333d37",
   "metadata": {},
   "source": [
    "Q1. What are the three measures of central tendency?\n",
    "\n",
    "Answer: \n",
    "1. Mean \n",
    "2. Median \n",
    "3. Mode "
   ]
  },
  {
   "cell_type": "markdown",
   "id": "bfb4a7e1-41a9-49eb-a6a2-199a7cdd3771",
   "metadata": {},
   "source": [
    "***\n",
    "Q2. What is the difference between the mean, median, and mode? How are they used to measure the\n",
    "central tendency of a dataset?\n",
    "\n",
    "Answer: \n",
    "1. Mean - It is average value of data in a dataset\n",
    "\n",
    "2. Median - It is the central value when data is sorted in order.\n",
    "The median is less affected by outliers and skewed data than the mean and is usually the preferred measure of central tendency when the distribution is not symmetrical.  \n",
    "\n",
    "3. Mode - It is value that is most occuring in dataset\n",
    "The mode has an advantage over the median and the mean as it can be found for both numerical and categorical (non-numerical) data. "
   ]
  },
  {
   "cell_type": "markdown",
   "id": "ee945e5a-7154-434f-b79f-3c23928cf6e6",
   "metadata": {},
   "source": [
    "****\n",
    "\n",
    "Q3. Measure the three measures of central tendency for the given height data:"
   ]
  },
  {
   "cell_type": "code",
   "execution_count": 12,
   "id": "a9217ee7-171f-4173-9580-c5e7bbc4c352",
   "metadata": {},
   "outputs": [
    {
     "data": {
      "text/plain": [
       "177.01875"
      ]
     },
     "execution_count": 12,
     "metadata": {},
     "output_type": "execute_result"
    }
   ],
   "source": [
    "import numpy as np\n",
    "import statistics as st\n",
    "l1=[178,177,176,177,178.2,178,175,179,180,175,178.9,176.2,177,172.5,178,176.5]\n",
    "\n",
    "arr_new=np.array(l1)\n",
    "\n",
    "np.mean(arr_new)"
   ]
  },
  {
   "cell_type": "code",
   "execution_count": 9,
   "id": "7a4ab666-8a5d-4ccf-9dba-e695e565085a",
   "metadata": {},
   "outputs": [
    {
     "data": {
      "text/plain": [
       "177.0"
      ]
     },
     "execution_count": 9,
     "metadata": {},
     "output_type": "execute_result"
    }
   ],
   "source": [
    "np.median(arr_new)"
   ]
  },
  {
   "cell_type": "code",
   "execution_count": 13,
   "id": "1000ddf8-3e41-46aa-ab02-493f7034f443",
   "metadata": {},
   "outputs": [
    {
     "data": {
      "text/plain": [
       "178.0"
      ]
     },
     "execution_count": 13,
     "metadata": {},
     "output_type": "execute_result"
    }
   ],
   "source": [
    "st.mode(arr_new)"
   ]
  },
  {
   "cell_type": "markdown",
   "id": "4496c220-9637-4628-8b56-3f62cc8f07a6",
   "metadata": {},
   "source": [
    "***************\n",
    "Q4. Find the standard deviation for the given data:"
   ]
  },
  {
   "cell_type": "code",
   "execution_count": 15,
   "id": "0d21cd3c-7718-47f9-9bf0-0258a67b7aaf",
   "metadata": {},
   "outputs": [
    {
     "data": {
      "text/plain": [
       "1.7885814036548633"
      ]
     },
     "execution_count": 15,
     "metadata": {},
     "output_type": "execute_result"
    }
   ],
   "source": [
    "l2=[178,177,176,177,178.2,178,175,179,180,175,178.9,176.2,177,172.5,178,176.5]\n",
    "\n",
    "np.array(l2).std()"
   ]
  },
  {
   "cell_type": "markdown",
   "id": "fba6707a-0716-4f30-8ac3-601e27ce8a37",
   "metadata": {},
   "source": [
    "***************\n",
    "Q5. How are measures of dispersion such as range, variance, and standard deviation used to describe\n",
    "the spread of a dataset? Provide an example."
   ]
  },
  {
   "cell_type": "markdown",
   "id": "9a119221-8435-4226-9c4b-bbed179e4f59",
   "metadata": {},
   "source": [
    "Answer: \n",
    "Variance\n",
    "Variance is a simple measure of dispersion. Variance measures how far each number in the dataset from the mean. To compute variance first, calculate the mean and squared deviations from a mean.\n",
    "\n",
    "Standard Deviation\n",
    "A standard deviation (or σ) is a measure of how dispersed the data is in relation to the mean.\n",
    "\n",
    "Range\n",
    "The range is the easiest dispersion of data or measure of variability. The range can measure by subtracting the lowest value from the massive Number. The wide range indicates high variability, and the small range specifies low variability in the distribution.\n",
    "\n"
   ]
  },
  {
   "cell_type": "code",
   "execution_count": 23,
   "id": "a631ca60-1f2a-42d5-9b0a-21f9cd91d492",
   "metadata": {},
   "outputs": [
    {
     "data": {
      "text/plain": [
       "1.707825127659933"
      ]
     },
     "execution_count": 23,
     "metadata": {},
     "output_type": "execute_result"
    }
   ],
   "source": [
    "np.array([1,2,3,4,5,6]).std()"
   ]
  },
  {
   "cell_type": "code",
   "execution_count": 24,
   "id": "2554bac3-8ae7-4f15-aa46-c7e1b3316f80",
   "metadata": {},
   "outputs": [
    {
     "data": {
      "text/plain": [
       "2.9166666666666665"
      ]
     },
     "execution_count": 24,
     "metadata": {},
     "output_type": "execute_result"
    }
   ],
   "source": [
    "np.array([1,2,3,4,5,6]).var()"
   ]
  },
  {
   "cell_type": "code",
   "execution_count": 25,
   "id": "e419af45-4b12-4bcf-9528-f36f63b44386",
   "metadata": {},
   "outputs": [
    {
     "data": {
      "text/plain": [
       "3.5"
      ]
     },
     "execution_count": 25,
     "metadata": {},
     "output_type": "execute_result"
    }
   ],
   "source": [
    "np.array([1,2,3,4,5,6]).mean()"
   ]
  },
  {
   "cell_type": "markdown",
   "id": "0dd0c26e-ec7e-4624-ac84-15f3591900bf",
   "metadata": {},
   "source": [
    "In above example, mean is 3.5. As Range will be 5 as list is within 1 to 6.\n",
    "Variance 2.91 shows how all points are spread from mean of 3.5 \n",
    "Standard deviation 1.70 shows how each point is spread from mean of 3.5"
   ]
  },
  {
   "cell_type": "markdown",
   "id": "ba608602-8fd7-4690-8e4a-6013775f5d94",
   "metadata": {},
   "source": [
    "**************\n",
    "\n",
    "Q6. What is a Venn diagram?\n",
    "\n",
    "Answer: A Venn diagram is an illustration that uses circles to show the relationships among sets."
   ]
  },
  {
   "cell_type": "markdown",
   "id": "0abc1ed3-14dc-4417-af77-ca7cd09d716d",
   "metadata": {},
   "source": [
    "******\n",
    "\n",
    "Q7. For the two given sets A = (2,3,4,5,6,7) & B = (0,2,6,8,10). Find:\n",
    "(i) A  B\n",
    "(ii) A ⋃ B\n",
    "\n"
   ]
  },
  {
   "cell_type": "code",
   "execution_count": 27,
   "id": "711f20b0-cee8-43f4-a227-05cf1c1fd3a3",
   "metadata": {},
   "outputs": [
    {
     "name": "stdout",
     "output_type": "stream",
     "text": [
      "Union : {0, 2, 3, 4, 5, 6, 7, 8, 10}\n",
      "Intersection : {2, 6}\n"
     ]
    }
   ],
   "source": [
    "A={2,3,4,5,6,7}\n",
    "B={0,2,6,8,10}\n",
    "\n",
    "# union\n",
    "print(\"Union :\", A | B)\n",
    "  \n",
    "# intersection\n",
    "print(\"Intersection :\", A & B)"
   ]
  },
  {
   "cell_type": "markdown",
   "id": "a7167dd4-9783-4511-adaf-5f2d969e6974",
   "metadata": {},
   "source": [
    "********\n",
    "Q8. What do you understand about skewness in data?\n",
    "\n",
    "\n",
    "Answer: Skewness shows that how points in data are aligned when plotted as PDF or PMF. It shows whether distribution is symmetric and asymmetric."
   ]
  },
  {
   "cell_type": "markdown",
   "id": "9532ab47-5430-4309-af3e-d4e9a745ae05",
   "metadata": {},
   "source": [
    "***************\n",
    "\n",
    "Q9. If a data is right skewed then what will be the position of median with respect to mean?\n",
    "\n",
    "Answer: When right skewed, mean > median"
   ]
  },
  {
   "cell_type": "markdown",
   "id": "8d7cfe9c-79bb-4949-9de0-a93ba5e40af3",
   "metadata": {},
   "source": [
    "***********\n",
    "Q10. Explain the difference between covariance and correlation. How are these measures used in\n",
    "statistical analysis?\n",
    "\n",
    "Answer: \n",
    "Covariance is a measure to indicate the extent to which two random variables change in tandem. Correlation is a measure used to represent how strongly two random variables are related to each other. Covariance is nothing but a measure of correlation. Correlation refers to the scaled form of covariance."
   ]
  },
  {
   "cell_type": "markdown",
   "id": "6668bf10-a317-4dd9-94dd-44ad3afb0efe",
   "metadata": {},
   "source": [
    "*****\n",
    "\n",
    "Q11. What is the formula for calculating the sample mean? Provide an example calculation for a\n",
    "dataset.\n",
    "\n",
    "Answer: \n",
    "Formula for mean is \n",
    "x̄ = ( Σ xi ) / n"
   ]
  },
  {
   "cell_type": "code",
   "execution_count": 29,
   "id": "bd6f66be-1443-4f36-a92f-f0ba55786ed5",
   "metadata": {},
   "outputs": [
    {
     "data": {
      "text/plain": [
       "3.8333333333333335"
      ]
     },
     "execution_count": 29,
     "metadata": {},
     "output_type": "execute_result"
    }
   ],
   "source": [
    "l1=[1,2,3,4,6,7]\n",
    "np.array(l1).mean()"
   ]
  },
  {
   "cell_type": "markdown",
   "id": "c4075cf9-0e8e-4c63-af49-56b8ebcfe955",
   "metadata": {},
   "source": [
    "************\n",
    "\n",
    "Q12. For a normal distribution data what is the relationship between its measure of central tendency?\n",
    "\n",
    "Answer: \n",
    "Any normal distribution has a graph that is perfectly symmetric about a vertical line through its peak. \n",
    "Therefore, all measures of central tendency (most commonly, the mean, median, and mode) give the same answer."
   ]
  },
  {
   "cell_type": "markdown",
   "id": "d88be4b0-f7d6-4d66-b6c7-7bdc16748629",
   "metadata": {},
   "source": [
    "************\n",
    "Q13. How is covariance different from correlation?\n",
    "\n",
    "Answer: Covariance is nothing but a measure of correlation.\n"
   ]
  },
  {
   "cell_type": "markdown",
   "id": "4a268436-56ef-4fab-b60b-ba7e62786a3f",
   "metadata": {},
   "source": [
    "**********\n",
    "Q14. How do outliers affect measures of central tendency and dispersion? Provide an example.\n",
    "\n",
    "Answer: \n",
    "mean will be most affected by outliers\n",
    "\n",
    "The median more accurately describes data with an outlier\n",
    "\n",
    "Mode is not affected by outliers"
   ]
  },
  {
   "cell_type": "code",
   "execution_count": 33,
   "id": "e0315c26-fd56-435c-b266-efbbed741483",
   "metadata": {},
   "outputs": [
    {
     "name": "stdout",
     "output_type": "stream",
     "text": [
      "Mean without outlier: 2.5\n",
      "Mean with outlier: 4.0\n",
      "Median without outlier: 2.5\n",
      "Median with outlier: 3.0\n",
      "Mode without outlier: 1\n",
      "Mode with outlier: 1\n"
     ]
    }
   ],
   "source": [
    "l3=[1,2,3,4,10]\n",
    "l4=[1,2,3,4]\n",
    "\n",
    "n1=np.array(l4)\n",
    "n2=np.array(l3)\n",
    "print(\"Mean without outlier:\",np.mean(n1))\n",
    "print(\"Mean with outlier:\",np.mean(n2))\n",
    "\n",
    "print(\"Median without outlier:\",np.median(n1))\n",
    "print(\"Median with outlier:\",np.median(n2))\n",
    "\n",
    "print(\"Mode without outlier:\",st.mode(n1))\n",
    "print(\"Mode with outlier:\",st.mode(n2))"
   ]
  },
  {
   "cell_type": "code",
   "execution_count": null,
   "id": "214c5ac9-f283-48c6-b9d0-f75b155d8afc",
   "metadata": {},
   "outputs": [],
   "source": []
  }
 ],
 "metadata": {
  "kernelspec": {
   "display_name": "Python 3 (ipykernel)",
   "language": "python",
   "name": "python3"
  },
  "language_info": {
   "codemirror_mode": {
    "name": "ipython",
    "version": 3
   },
   "file_extension": ".py",
   "mimetype": "text/x-python",
   "name": "python",
   "nbconvert_exporter": "python",
   "pygments_lexer": "ipython3",
   "version": "3.10.8"
  }
 },
 "nbformat": 4,
 "nbformat_minor": 5
}

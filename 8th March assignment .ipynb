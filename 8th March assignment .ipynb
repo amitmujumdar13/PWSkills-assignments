{
 "cells": [
  {
   "cell_type": "markdown",
   "id": "84c0abb1-5351-427b-b5a0-708251897cc5",
   "metadata": {},
   "source": [
    "Q1. What is the Probability density function?\n",
    "\n",
    "Answer: \n",
    "The Probability Density Function(PDF) defines the probability function representing the density of a continuous random variable lying between a specific range\n"
   ]
  },
  {
   "cell_type": "markdown",
   "id": "0f23e532-8296-4252-b28e-ef6363923bab",
   "metadata": {},
   "source": [
    "Q2. What are the types of Probability distribution?\n",
    " Answer: \n",
    " There are two types of probability distributions: Discrete probability distributions. Continuous probability distributions."
   ]
  },
  {
   "cell_type": "markdown",
   "id": "161a46b2-8c81-414f-8041-420b2097697f",
   "metadata": {},
   "source": [
    "*******\n",
    "Q3. Write a Python function to calculate the probability density function of a normal distribution with\n",
    "given mean and standard deviation at a given point."
   ]
  },
  {
   "cell_type": "code",
   "execution_count": 3,
   "id": "3d83a335-cbc1-4ba5-b662-c62752606984",
   "metadata": {},
   "outputs": [
    {
     "name": "stdout",
     "output_type": "stream",
     "text": [
      "0.28209479177387814\n"
     ]
    }
   ],
   "source": [
    "from scipy.stats import norm\n",
    "import numpy as np\n",
    "  \n",
    "data=np.array([1,2,3,4,5])\n",
    "mean1=np.mean(data)\n",
    "std1=np.std(data)\n",
    "\n",
    "probability_pdf = norm.pdf(3, loc=mean1, scale=std1)\n",
    "print(probability_pdf)"
   ]
  },
  {
   "cell_type": "markdown",
   "id": "9cff7931-6687-4c1c-979a-ff5127bea185",
   "metadata": {},
   "source": [
    "**********\n",
    "Q4. What are the properties of Binomial distribution? Give two examples of events where binomial\n",
    "distribution can be applied.\n",
    "\n",
    "Answer: \n",
    "Properties of Binomial Distribution \n",
    "The properties of the binomial distribution are listed below: \n",
    "\n",
    "There are only two possible outcomes in binomial distribution: true or false, success or failure, yes or no, etc.\n",
    "There is a fixed number of ‘n’ independent trials.\n",
    "Each trial is an independent trial, i.e. the outcome of one trial does not affect the outcome of another trial.\n",
    "The probability of success or failure is the same for each trial.\n",
    "Only the number of successes is calculated from the n independent trials.\n",
    "\n",
    "Example: Probability of x heads when a coin is tossed 10 times."
   ]
  },
  {
   "cell_type": "markdown",
   "id": "101b8b9d-a69a-4cde-a22d-f96c2fe35297",
   "metadata": {},
   "source": [
    "***********\n",
    "Q5. Generate a random sample of size 1000 from a binomial distribution with probability of success 0.4\n",
    "and plot a histogram of the results using matplotlib.\n",
    "\n"
   ]
  },
  {
   "cell_type": "code",
   "execution_count": 17,
   "id": "470542f0-5ac0-4f11-aaf0-d03c3f5f51f6",
   "metadata": {},
   "outputs": [
    {
     "data": {
      "text/plain": [
       "(array([0.00071429, 0.00173469, 0.00622449, 0.01367347, 0.02367347,\n",
       "        0.02336735, 0.01887755, 0.00877551, 0.00397959, 0.00102041]),\n",
       " array([349. , 358.8, 368.6, 378.4, 388.2, 398. , 407.8, 417.6, 427.4,\n",
       "        437.2, 447. ]),\n",
       " <BarContainer object of 10 artists>)"
      ]
     },
     "execution_count": 17,
     "metadata": {},
     "output_type": "execute_result"
    },
    {
     "data": {
      "image/png": "[encoded data removed]",
      "text/plain": [
       "<Figure size 640x480 with 1 Axes>"
      ]
     },
     "metadata": {},
     "output_type": "display_data"
    }
   ],
   "source": [
    "import matplotlib.pyplot as plt\n",
    "\n",
    "from numpy import random\n",
    "\n",
    "rb=random.binomial(n=1000,p=0.4,size=1000)\n",
    "\n",
    "plt.hist(rb,density=True)"
   ]
  },
  {
   "cell_type": "markdown",
   "id": "31d1e3e6-7ba5-41d4-a9f1-d1cafddcd6be",
   "metadata": {},
   "source": [
    "*********\n",
    "Q6. Write a Python function to calculate the cumulative distribution function of a Poisson distribution\n",
    "with given mean at a given point."
   ]
  },
  {
   "cell_type": "code",
   "execution_count": 24,
   "id": "d528989a-9b85-47b4-b665-9f3e0a0b14cd",
   "metadata": {},
   "outputs": [
    {
     "data": {
      "text/plain": [
       "array([0.00000000e+00, 0.00000000e+00, 0.00000000e+00, 0.00000000e+00,\n",
       "       0.00000000e+00, 0.00000000e+00, 0.00000000e+00, 0.00000000e+00,\n",
       "       0.00000000e+00, 0.00000000e+00, 0.00000000e+00, 0.00000000e+00,\n",
       "       0.00000000e+00, 0.00000000e+00, 0.00000000e+00, 0.00000000e+00,\n",
       "       0.00000000e+00, 0.00000000e+00, 0.00000000e+00, 0.00000000e+00,\n",
       "       4.24835426e-18, 0.00000000e+00, 1.69934170e-16, 0.00000000e+00,\n",
       "       3.39868340e-15, 0.00000000e+00, 4.53157787e-14, 0.00000000e+00,\n",
       "       4.53157787e-13, 0.00000000e+00, 3.62526230e-12, 0.00000000e+00,\n",
       "       2.41684153e-11, 0.00000000e+00, 1.38105230e-10, 0.00000000e+00,\n",
       "       6.90526152e-10, 0.00000000e+00, 3.06900512e-09, 0.00000000e+00,\n",
       "       1.22760205e-08, 0.00000000e+00, 4.46400745e-08, 0.00000000e+00,\n",
       "       1.48800248e-07, 0.00000000e+00, 4.57846918e-07, 0.00000000e+00,\n",
       "       1.30813405e-06, 0.00000000e+00, 3.48835747e-06, 0.00000000e+00,\n",
       "       8.72089367e-06, 0.00000000e+00, 2.05197498e-05, 0.00000000e+00,\n",
       "       4.55994440e-05, 0.00000000e+00, 9.59988295e-05, 0.00000000e+00,\n",
       "       1.91997659e-04, 0.00000000e+00, 3.65709827e-04, 0.00000000e+00,\n",
       "       6.64926958e-04, 0.00000000e+00, 1.15639471e-03, 0.00000000e+00,\n",
       "       1.92732452e-03, 0.00000000e+00, 3.08371922e-03, 0.00000000e+00,\n",
       "       4.74418342e-03, 0.00000000e+00, 7.02841988e-03, 0.00000000e+00,\n",
       "       1.00405998e-02, 0.00000000e+00, 1.38491032e-02, 0.00000000e+00,\n",
       "       1.84654710e-02, 0.00000000e+00, 2.38264141e-02, 0.00000000e+00,\n",
       "       2.97830177e-02, 0.00000000e+00, 3.61006275e-02, 0.00000000e+00,\n",
       "       4.24713265e-02, 0.00000000e+00, 4.85386588e-02, 0.00000000e+00,\n",
       "       5.39318431e-02, 0.00000000e+00, 5.83046953e-02, 0.00000000e+00,\n",
       "       6.13733634e-02, 0.00000000e+00, 6.29470394e-02, 0.00000000e+00,\n",
       "       6.29470394e-02, 0.00000000e+00, 6.14117458e-02, 0.00000000e+00,\n",
       "       5.84873769e-02, 0.00000000e+00, 5.44068623e-02, 0.00000000e+00,\n",
       "       4.94607839e-02, 0.00000000e+00, 4.39651412e-02, 0.00000000e+00,\n",
       "       3.82305576e-02, 0.00000000e+00, 3.25366448e-02, 0.00000000e+00,\n",
       "       2.71138706e-02, 0.00000000e+00, 2.21337719e-02, 0.00000000e+00,\n",
       "       1.77070176e-02, 0.00000000e+00, 1.38878569e-02, 0.00000000e+00,\n",
       "       1.06829668e-02, 0.00000000e+00, 8.06261649e-03, 0.00000000e+00,\n",
       "       5.97230851e-03, 0.00000000e+00, 4.34349710e-03, 0.00000000e+00,\n",
       "       3.10249793e-03, 0.00000000e+00, 2.17719153e-03, 0.00000000e+00,\n",
       "       1.50151140e-03, 0.00000000e+00, 1.01797383e-03, 0.00000000e+00,\n",
       "       6.78649220e-04, 0.00000000e+00, 4.45015882e-04, 0.00000000e+00,\n",
       "       2.87107021e-04, 0.00000000e+00, 1.82290172e-04, 0.00000000e+00,\n",
       "       1.13931357e-04, 0.00000000e+00, 7.01116045e-05, 0.00000000e+00,\n",
       "       4.24918815e-05, 0.00000000e+00, 2.53682875e-05, 0.00000000e+00,\n",
       "       1.49225220e-05, 0.00000000e+00, 8.65073742e-06, 0.00000000e+00,\n",
       "       4.94327853e-06, 0.00000000e+00, 2.78494565e-06, 0.00000000e+00,\n",
       "       1.54719203e-06, 0.00000000e+00, 8.47776453e-07, 0.00000000e+00,\n",
       "       4.58257542e-07, 0.00000000e+00, 2.44404022e-07, 0.00000000e+00,\n",
       "       1.28633696e-07, 0.00000000e+00, 6.68226992e-08, 0.00000000e+00,\n",
       "       3.42680509e-08, 0.00000000e+00, 1.73509118e-08, 0.00000000e+00,\n",
       "       8.67545592e-09, 0.00000000e+00, 4.28417576e-09, 0.00000000e+00,\n",
       "       2.08984184e-09, 0.00000000e+00, 1.00715269e-09, 0.00000000e+00,\n",
       "       4.79596520e-10, 0.00000000e+00, 2.25692480e-10, 0.00000000e+00,\n",
       "       1.04973247e-10, 0.00000000e+00, 4.82635616e-11, 0.00000000e+00,\n",
       "       2.19379826e-11, 0.00000000e+00, 9.85976744e-12, 0.00000000e+00])"
      ]
     },
     "execution_count": 24,
     "metadata": {},
     "output_type": "execute_result"
    }
   ],
   "source": [
    "import scipy.stats as st\n",
    "\n",
    "x = np.arange(0, 100, 0.5)\n",
    "y = st.poisson.pmf(x, mu=40, loc=10)\n",
    "y"
   ]
  },
  {
   "cell_type": "markdown",
   "id": "ff388f4a-c83c-46cc-a8dc-4b93ed4af237",
   "metadata": {},
   "source": [
    "***********\n",
    "Q7. How Binomial distribution different from Poisson distribution?\n",
    "\n",
    "Answer: \n",
    "Binomial distribution is the one in which the number of outcomes are only 2 and whereas Poisson distribution is the one in which the number of outcomes are unlimited."
   ]
  },
  {
   "cell_type": "markdown",
   "id": "00e7aa29-a4fe-4001-96a9-f3d404156c6b",
   "metadata": {},
   "source": [
    "******\n",
    "Q8. Generate a random sample of size 1000 from a Poisson distribution with mean 5 and calculate the\n",
    "sample mean and variance."
   ]
  },
  {
   "cell_type": "code",
   "execution_count": 26,
   "id": "ebb1b7aa-1527-4db8-a5bd-3ae6260f943b",
   "metadata": {},
   "outputs": [],
   "source": [
    "s = np.random.poisson(5, 1000)"
   ]
  },
  {
   "cell_type": "code",
   "execution_count": 29,
   "id": "eb3c6276-9cb6-411f-bb5f-1214d380937b",
   "metadata": {},
   "outputs": [
    {
     "data": {
      "text/plain": [
       "5.024"
      ]
     },
     "execution_count": 29,
     "metadata": {},
     "output_type": "execute_result"
    }
   ],
   "source": [
    "s.mean()"
   ]
  },
  {
   "cell_type": "code",
   "execution_count": 30,
   "id": "ac6ebd8a-2178-4046-8c7b-d84e42d1f186",
   "metadata": {},
   "outputs": [
    {
     "data": {
      "text/plain": [
       "4.863423999999999"
      ]
     },
     "execution_count": 30,
     "metadata": {},
     "output_type": "execute_result"
    }
   ],
   "source": [
    "s.var()"
   ]
  },
  {
   "cell_type": "code",
   "execution_count": 33,
   "id": "3dd985d0-2fd9-476b-b051-0e785962590c",
   "metadata": {},
   "outputs": [
    {
     "data": {
      "text/plain": [
       "(array([ 37.,  78., 142., 357., 140., 112.,  99.,  21.,   9.,   5.]),\n",
       " array([ 0. ,  1.3,  2.6,  3.9,  5.2,  6.5,  7.8,  9.1, 10.4, 11.7, 13. ]),\n",
       " <BarContainer object of 10 artists>)"
      ]
     },
     "execution_count": 33,
     "metadata": {},
     "output_type": "execute_result"
    },
    {
     "data": {
      "image/png": "[encoded data removed]",
      "text/plain": [
       "<Figure size 640x480 with 1 Axes>"
      ]
     },
     "metadata": {},
     "output_type": "display_data"
    }
   ],
   "source": [
    "plt.hist(s)"
   ]
  },
  {
   "cell_type": "markdown",
   "id": "f8c474dd-0489-4f5b-839b-6870a6b652f7",
   "metadata": {},
   "source": [
    "**********\n",
    "\n",
    "Q9. How mean and variance are related in Binomial distribution and Poisson distribution?\n",
    "\n",
    "Answer: \n",
    "For a binomial distribution, the mean, variance and standard deviation for the given number of success are represented using the formulas\n",
    "\n",
    "Mean, μ = np\n",
    "\n",
    "Variance, σ2 = npq\n",
    "\n",
    "Standard Deviation σ= √(npq)\n",
    "\n",
    "Where p is the probability of success\n",
    "\n",
    "q is the probability of failure, where q = 1-p\n",
    "\n",
    "\n",
    "***\n",
    "The mean and the variance of the Poisson distribution are the same, which is equal to the average number of successes that occur in the given interval of time.\n"
   ]
  },
  {
   "cell_type": "markdown",
   "id": "0f5d733d-6698-4706-b358-1edcb84e13a7",
   "metadata": {},
   "source": [
    "**************\n",
    "Q10. In normal distribution with respect to mean position, where does the least frequent data appear?\n",
    "\n",
    "Answer: At the ends of plot in symetrical manner"
   ]
  },
  {
   "cell_type": "markdown",
   "id": "1f6bcb7e-c93e-49fc-a292-54e7808a5815",
   "metadata": {},
   "source": []
  }
 ],
 "metadata": {
  "kernelspec": {
   "display_name": "Python 3 (ipykernel)",
   "language": "python",
   "name": "python3"
  },
  "language_info": {
   "codemirror_mode": {
    "name": "ipython",
    "version": 3
   },
   "file_extension": ".py",
   "mimetype": "text/x-python",
   "name": "python",
   "nbconvert_exporter": "python",
   "pygments_lexer": "ipython3",
   "version": "3.10.8"
  }
 },
 "nbformat": 4,
 "nbformat_minor": 5
}

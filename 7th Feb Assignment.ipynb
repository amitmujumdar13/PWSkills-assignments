{
 "cells": [
  {
   "cell_type": "markdown",
   "id": "0dfe0570-5bb3-490f-a677-68183136f2d0",
   "metadata": {},
   "source": [
    "Q1. You are writing code for a company. The requirement of the company is that you create a python\n",
    "function that will check whether the password entered by the user is correct or not. The function should\n",
    "take the password as input and return the string “Valid Password” if the entered password follows the\n",
    "below-given password guidelines else it should return “Invalid Password”.\n",
    "\n",
    "Note: 1. The Password should contain at least two uppercase letters and at least two lowercase letters.\n",
    "2. The Password should contain at least a number and three special characters.\n",
    "3. The length of the password should be 10 characters long."
   ]
  },
  {
   "cell_type": "code",
   "execution_count": 9,
   "id": "1da40b2a-d112-4b8b-915b-36d4d2fa945a",
   "metadata": {},
   "outputs": [],
   "source": [
    "def passwd(ps):\n",
    "    upcnt=0\n",
    "    lwcnt=0\n",
    "    numcnt=0\n",
    "    spcnt=0\n",
    "    if len(ps) == 10:\n",
    "        \n",
    "        for i in ps:\n",
    "            if i.isalpha():\n",
    "                if i.isupper():\n",
    "                    upcnt=upcnt+1\n",
    "                if i.islower():\n",
    "                    lwcnt=lwcnt+1\n",
    "            if i.isdigit():\n",
    "                numcnt=numcnt+1\n",
    "            else:\n",
    "                spcnt=spcnt+1\n",
    "    if spcnt >=3 and upcnt>= 2 and lwcnt >= 2 and numcnt >= 1:\n",
    "        return (\"Valid Password\")\n",
    "    else:\n",
    "        return (\"Invalid\")\n",
    "            "
   ]
  },
  {
   "cell_type": "code",
   "execution_count": 11,
   "id": "f2e2d328-2351-46fd-8050-85d920cce4af",
   "metadata": {},
   "outputs": [
    {
     "name": "stdin",
     "output_type": "stream",
     "text": [
      "Enter Password:  Amit12Mu&d\n"
     ]
    },
    {
     "name": "stdout",
     "output_type": "stream",
     "text": [
      "Valid Password\n"
     ]
    }
   ],
   "source": [
    "pass1=input(\"Enter Password: \")\n",
    "str=passwd(pass1)\n",
    "print(str)"
   ]
  },
  {
   "cell_type": "code",
   "execution_count": 13,
   "id": "a0057750-cbd1-426b-a321-6cd8479c0d40",
   "metadata": {},
   "outputs": [
    {
     "name": "stdin",
     "output_type": "stream",
     "text": [
      "Enter Password:  AmitMuju&R\n"
     ]
    },
    {
     "name": "stdout",
     "output_type": "stream",
     "text": [
      "Invalid\n"
     ]
    }
   ],
   "source": [
    "pass1=input(\"Enter Password: \")\n",
    "str=passwd(pass1)\n",
    "print(str)"
   ]
  },
  {
   "cell_type": "markdown",
   "id": "b3e96a52-7dde-4202-a4d2-1c6e01b7e090",
   "metadata": {},
   "source": [
    "Q2. Solve the below-given questions using at least one of the following:\n",
    "1. Lambda function\n",
    "2. Filter function\n",
    "3. Map function\n",
    "4. List Comprehension\n",
    "\n",
    "a Check if the string starts with a particular letterY\n"
   ]
  },
  {
   "cell_type": "code",
   "execution_count": 17,
   "id": "867c191b-fe3d-4f7c-83bc-857897e5163b",
   "metadata": {},
   "outputs": [
    {
     "data": {
      "text/plain": [
       "'Starts with Y'"
      ]
     },
     "execution_count": 17,
     "metadata": {},
     "output_type": "execute_result"
    }
   ],
   "source": [
    "test=lambda st: \"Starts with Y\" if (st[0] == 'Y') else None\n",
    "\n",
    "inp=\"Yes\"\n",
    "test(inp)"
   ]
  },
  {
   "cell_type": "markdown",
   "id": "d5a962ed-163f-496e-8e4c-c506545d6381",
   "metadata": {},
   "source": [
    "b. Check if the string is numeric"
   ]
  },
  {
   "cell_type": "code",
   "execution_count": 35,
   "id": "4d33b6d9-b436-4b5b-887e-afbd5add2a90",
   "metadata": {},
   "outputs": [
    {
     "name": "stdout",
     "output_type": "stream",
     "text": [
      "None\n",
      "Numeric String\n"
     ]
    }
   ],
   "source": [
    "test=lambda st: \"Numeric String\" if (st.isnumeric()) else None\n",
    "\n",
    "inp=\"Yes\"\n",
    "print(test(inp))\n",
    "\n",
    "inp1=\"1234\"\n",
    "print(test(inp1))"
   ]
  },
  {
   "cell_type": "markdown",
   "id": "09ed1125-5892-4f46-8af1-aac771b9fd60",
   "metadata": {},
   "source": [
    "c. Sort a list of tuples having fruit names and their quantity. [(\"mango\",99),(\"orange\",80), (\"grapes\", 1000)]"
   ]
  },
  {
   "cell_type": "code",
   "execution_count": 49,
   "id": "6ac21967-0f44-4865-b4cc-721ca5e3cab7",
   "metadata": {},
   "outputs": [
    {
     "name": "stdout",
     "output_type": "stream",
     "text": [
      "[('orange', 80), ('mango', 99), ('grapes', 1000)]\n"
     ]
    }
   ],
   "source": [
    "def fs(tup):\n",
    "    tup.sort(key= lambda x: x[1])\n",
    "    return tup\n",
    "\n",
    "t1=[(\"mango\",99),(\"orange\",80), (\"grapes\", 1000)]\n",
    "\n",
    "print(fs(t1))"
   ]
  },
  {
   "cell_type": "markdown",
   "id": "fd336a7c-5a7d-4aaa-92a4-ba6ab63f7fee",
   "metadata": {},
   "source": [
    "d. Find the squares of numbers from 1 to 10"
   ]
  },
  {
   "cell_type": "code",
   "execution_count": 59,
   "id": "3d8a8a70-4523-40ee-95d7-141228e55e3c",
   "metadata": {},
   "outputs": [
    {
     "data": {
      "text/plain": [
       "[1, 4, 9, 16, 25, 36, 49, 64, 81, 100]"
      ]
     },
     "execution_count": 59,
     "metadata": {},
     "output_type": "execute_result"
    }
   ],
   "source": [
    "ls=list(range(1,11))\n",
    "ls\n",
    "\n",
    "## Using list comprehension\n",
    "list(x**2 for x in ls)"
   ]
  },
  {
   "cell_type": "markdown",
   "id": "5ca5b5e7-e3df-4af8-aa6b-2a86cda5a899",
   "metadata": {},
   "source": [
    "e. Find the cube root of numbers from 1 to 10"
   ]
  },
  {
   "cell_type": "code",
   "execution_count": 65,
   "id": "2dec57b7-b0a3-4939-a1b5-26a13edf6b67",
   "metadata": {},
   "outputs": [
    {
     "data": {
      "text/plain": [
       "[1.0,\n",
       " 1.2599210498948734,\n",
       " 1.4422495703074083,\n",
       " 1.5874010519681996,\n",
       " 1.7099759466766968,\n",
       " 1.8171205928321394,\n",
       " 1.9129311827723894,\n",
       " 2.0,\n",
       " 2.080083823051904,\n",
       " 2.1544346900318834]"
      ]
     },
     "execution_count": 65,
     "metadata": {},
     "output_type": "execute_result"
    }
   ],
   "source": [
    "import numpy as np\n",
    "\n",
    "ls=list(range(1,11))\n",
    "\n",
    "## Using map function\n",
    "list(map(lambda x:np.cbrt(x), ls))"
   ]
  },
  {
   "cell_type": "markdown",
   "id": "3ed06df1-19a0-494d-ab45-a831e601d611",
   "metadata": {},
   "source": [
    "f. Check if a given number is even"
   ]
  },
  {
   "cell_type": "code",
   "execution_count": 68,
   "id": "90749fe6-c68c-4a80-aa4f-f5bf14353f35",
   "metadata": {},
   "outputs": [
    {
     "data": {
      "text/plain": [
       "'Even'"
      ]
     },
     "execution_count": 68,
     "metadata": {},
     "output_type": "execute_result"
    }
   ],
   "source": [
    "## Using Lambda function\n",
    "test=lambda x:\"Even\" if x%2==0 else None\n",
    "test(100)"
   ]
  },
  {
   "cell_type": "markdown",
   "id": "24c09b68-2e77-47b8-a0b8-981af51aa170",
   "metadata": {},
   "source": [
    "g. Filter odd numbers from the given list.\n",
    "[1,2,3,4,5,6,7,8,9,10]"
   ]
  },
  {
   "cell_type": "code",
   "execution_count": 70,
   "id": "24140c89-58ab-4592-b981-987cd678e120",
   "metadata": {},
   "outputs": [
    {
     "data": {
      "text/plain": [
       "[1, 3, 5, 7, 9]"
      ]
     },
     "execution_count": 70,
     "metadata": {},
     "output_type": "execute_result"
    }
   ],
   "source": [
    "ls=[1,2,3,4,5,6,7,8,9,10]\n",
    "\n",
    "# Using Filter function\n",
    "list(filter(lambda x:x%2!=0,ls))"
   ]
  },
  {
   "cell_type": "markdown",
   "id": "bf9c3a06-cffd-42fc-87c2-ca17bd2865f3",
   "metadata": {},
   "source": [
    "h. Sort a list of integers into positive and negative integers lists.\n",
    "[1,2,3,4,5,6,-1,-2,-3,-4,-5,0]\n"
   ]
  },
  {
   "cell_type": "code",
   "execution_count": 76,
   "id": "21da4951-30c5-462b-88b3-8bffc98e887b",
   "metadata": {},
   "outputs": [
    {
     "name": "stdout",
     "output_type": "stream",
     "text": [
      "Positive[1, 2, 3, 4, 5, 6, 0]\n",
      "Negative[-1, -2, -3, -4, -5]\n"
     ]
    }
   ],
   "source": [
    "ls=[1,2,3,4,5,6,-1,-2,-3,-4,-5,0]\n",
    "## Using filter function\n",
    "pos=list(filter(lambda x:x>=0,ls))\n",
    "neg=list(filter(lambda x:x<0,ls))\n",
    "\n",
    "print(\"Positive\",end=\"\")\n",
    "print(pos)\n",
    "print(\"Negative\",end=\"\")\n",
    "print(neg)"
   ]
  },
  {
   "cell_type": "code",
   "execution_count": null,
   "id": "61660252-025f-47d6-8f02-0214f6cc68c9",
   "metadata": {},
   "outputs": [],
   "source": []
  }
 ],
 "metadata": {
  "kernelspec": {
   "display_name": "Python 3 (ipykernel)",
   "language": "python",
   "name": "python3"
  },
  "language_info": {
   "codemirror_mode": {
    "name": "ipython",
    "version": 3
   },
   "file_extension": ".py",
   "mimetype": "text/x-python",
   "name": "python",
   "nbconvert_exporter": "python",
   "pygments_lexer": "ipython3",
   "version": "3.10.8"
  }
 },
 "nbformat": 4,
 "nbformat_minor": 5
}

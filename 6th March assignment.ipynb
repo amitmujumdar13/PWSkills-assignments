{
 "cells": [
  {
   "cell_type": "markdown",
   "id": "57d78600-2dac-43b7-89bd-3da0fe9e0c55",
   "metadata": {},
   "source": [
    "Q1. What is Statistics?\n",
    "\n",
    "Ans: Statistics is the science concerned with developing and studying methods for collecting, analyzing, interpreting and presenting empirical data."
   ]
  },
  {
   "cell_type": "markdown",
   "id": "3713b4e1-a795-4732-bb09-550a01ec101d",
   "metadata": {},
   "source": [
    "Q2. Define the different types of statistics and give an example of when each type might be used.\n",
    "\n",
    "Answer: \n",
    "Statistics is mainly divided into the following two categories. \n",
    "\n",
    "1. Descriptive Statistics - Total data is summarized to decribe statistics\n",
    "\n",
    "Example: Getting mean age of students in a class.\n",
    "\n",
    "2. Inferential Statistics - Sample of data is used to interpret decrptive statistics.\n",
    "Example: Based on age of 10 participants in a class, interprete mean age of students in school.\n"
   ]
  },
  {
   "cell_type": "markdown",
   "id": "0a15c9f7-828e-4bf7-aef2-d815b5391321",
   "metadata": {},
   "source": [
    "Q3. What are the different types of data and how do they differ from each other? Provide an example of\n",
    "each type of data.\n",
    "\n",
    "Answer: \n",
    "\n",
    "Types of data are as follows: \n",
    "\n",
    "A. Quantitative:\n",
    " 1. Discrete - Data has disrete integer values. Example: Grade of students on 1-5\n",
    " 2. Continuouse - Data have continuous decimal values. Example: Price of products \n",
    "\n",
    "B. Qualitative: \n",
    "\n",
    " 1. Nominal - There are categorical values where order is not important. Example: Product categories \n",
    " 2. Ordinal - Categorical values where order is important. Example: Rating like Best, Good, Average etc."
   ]
  },
  {
   "cell_type": "markdown",
   "id": "97f7e48d-2827-44b6-879b-cd624155a6ae",
   "metadata": {},
   "source": [
    "*******\n",
    "Q4. Categorise the following datasets with respect to quantitative and qualitative data types:\n",
    "(i) Grading in exam: A+, A, B+, B, C+, C, D, E   -- Qualitative\n",
    "\n",
    "(ii) Colour of mangoes: yellow, green, orange, red -- Quantitative\n",
    "\n",
    "(iii) Height data of a class: [178.9, 179, 179.5, 176, 177.2, 178.3, 175.8,...] -- Quantitative\n",
    "\n",
    "(iv) Number of mangoes exported by a farm: [500, 600, 478, 672, ...] -- Quantitative"
   ]
  },
  {
   "cell_type": "markdown",
   "id": "bd41f30f-1164-4ff6-9ccc-936cd435958e",
   "metadata": {},
   "source": [
    "****\n",
    "\n",
    "Q5. Explain the concept of levels of measurement and give an example of a variable for each level.\n",
    "\n",
    "Answer: \n",
    "There are 4 levels of measurement:\n",
    "\n",
    "Nominal: the data can only be categorized -- Example: Gender of students in class\n",
    "Ordinal: the data can be categorized and ranked -- Example: Grades of students in class\n",
    "Interval: the data can be categorized, ranked, and evenly spaced -- Example: Temperature \n",
    "Ratio: the data can be categorized, ranked, evenly spaced, and has a natural zero. -- Example: Age of students "
   ]
  },
  {
   "cell_type": "markdown",
   "id": "03ef100c-044b-4925-bb61-16eb3fef2191",
   "metadata": {},
   "source": [
    "*** \n",
    "Q6. Why is it important to understand the level of measurement when analyzing data? Provide an\n",
    "example to illustrate your answer.\n",
    "\n",
    "Answer: \n",
    "The different levels limit which descriptive statistics you can use to get an overall summary of your data, and which type of inferential statistics you can perform on your data to support or refute your hypothesis.\n",
    "\n",
    "In many cases, your variables can be measured at different levels, so you have to choose the level of measurement you will use before data collection begins.\n",
    "\n",
    "Example: During age analysis of school. age can be bracketed into age groups like Group 1 : 3-5; Group2: 5-10; Group3: 10-15\n",
    "this will be Ordinal way wheras it can also be analyzed with Ratio as level of mesurement with exact age of students. \n",
    "Ordinal statistical analysis will give generic results, whereas Ratio level will give exact statistical analysis."
   ]
  },
  {
   "cell_type": "markdown",
   "id": "ce7b2662-5789-4205-a2bf-3a639a9248da",
   "metadata": {},
   "source": [
    "***********\n",
    "Q7. How nominal data type is different from ordinal data type.\n",
    "\n",
    "Answer: Nominal data do not consder rank of categorical values whereas ordinal data type considers rank of categorical values.\n"
   ]
  },
  {
   "cell_type": "markdown",
   "id": "211acdeb-2c12-4478-bc55-a031c1d57eda",
   "metadata": {},
   "source": [
    "*******\n",
    "Q8. Which type of plot can be used to display data in terms of range?\n",
    "\n",
    "Answer: Range Bar Chart  can be used to display data in terms of range."
   ]
  },
  {
   "cell_type": "markdown",
   "id": "644ef469-1cfc-44e2-85e0-65ddaff10ae7",
   "metadata": {},
   "source": [
    "********\n",
    "Q9. Describe the difference between descriptive and inferential statistics. Give an example of each\n",
    "type of statistics and explain how they are used.\n",
    "\n",
    "Answer: \n",
    "1. Descriptive Statistics - Total data is summarized to decribe statistics\n",
    "Example: Getting mean age of students in a class.\n",
    "\n",
    "2. Inferential Statistics - Sample of data is used to interpret decrptive statistics.\n",
    "Example: Based on age of participants in one class, interprete mean age of students in school."
   ]
  },
  {
   "cell_type": "markdown",
   "id": "edb77994-1996-4d36-94ff-67132599a30c",
   "metadata": {},
   "source": [
    "**********\n",
    "Q10. What are some common measures of central tendency and variability used in statistics? Explain\n",
    "how each measure can be used to describe a dataset.\n",
    "\n",
    "Answer: \n",
    "1. Mean - It is average value of data in a dataset\n",
    "The mean can be used for both continuous and discrete numeric data.\n",
    "\n",
    "2. Median - It is the central value when data is sorted in order.\n",
    "The median is less affected by outliers and skewed data than the mean and is usually the preferred measure of central tendency when the distribution is not symmetrical.  \n",
    "\n",
    "3. Mode - It is value that is most occuring in dataset\n",
    "The mode has an advantage over the median and the mean as it can be found for both numerical and categorical (non-numerical) data.  "
   ]
  },
  {
   "cell_type": "code",
   "execution_count": null,
   "id": "ab257f5d-2088-4a72-b3a9-92d7fe3aed4b",
   "metadata": {},
   "outputs": [],
   "source": []
  }
 ],
 "metadata": {
  "kernelspec": {
   "display_name": "Python 3 (ipykernel)",
   "language": "python",
   "name": "python3"
  },
  "language_info": {
   "codemirror_mode": {
    "name": "ipython",
    "version": 3
   },
   "file_extension": ".py",
   "mimetype": "text/x-python",
   "name": "python",
   "nbconvert_exporter": "python",
   "pygments_lexer": "ipython3",
   "version": "3.10.8"
  }
 },
 "nbformat": 4,
 "nbformat_minor": 5
}

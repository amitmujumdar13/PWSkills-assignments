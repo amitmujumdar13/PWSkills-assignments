{
 "cells": [
  {
   "cell_type": "markdown",
   "id": "e03cba8b-9ae5-4eaa-855f-0614e3a6cc49",
   "metadata": {},
   "source": [
    "Q1, Create a vehicle class with an init method having instance variables as name_of_vehicle, max_speed\n",
    "and average_of_vehicle."
   ]
  },
  {
   "cell_type": "code",
   "execution_count": 4,
   "id": "9efdf3d8-05ab-4fd8-a387-163eaaff1998",
   "metadata": {},
   "outputs": [],
   "source": [
    "class vehicle:\n",
    "    def __init__(self, name_of_vehicle, max_speed, average_of_vehicle):\n",
    "        self.name_of_vehicle = name_of_vehicle\n",
    "        self.max_speed = max_speed\n",
    "        self.average_of_vehicle = average_of_vehicle"
   ]
  },
  {
   "cell_type": "code",
   "execution_count": 5,
   "id": "497f81b2-f239-4853-8852-840835185ad4",
   "metadata": {},
   "outputs": [],
   "source": [
    "vehobj=vehicle(\"Hyundai\",200, 20)"
   ]
  },
  {
   "cell_type": "markdown",
   "id": "4f0f0eb1-6785-4f38-b222-22cf824619da",
   "metadata": {},
   "source": [
    "Q2. Create a child class car from the vehicle class created in Que 1, which will inherit the vehicle class.\n",
    "Create a method named seating_capacity which takes capacity as an argument and returns the name of\n",
    "the vehicle and its seating capacity."
   ]
  },
  {
   "cell_type": "code",
   "execution_count": 15,
   "id": "54613d24-c2b1-43d6-bc54-272641738aa2",
   "metadata": {},
   "outputs": [
    {
     "data": {
      "text/plain": [
       "'Hyundai:5'"
      ]
     },
     "execution_count": 15,
     "metadata": {},
     "output_type": "execute_result"
    }
   ],
   "source": [
    "class car(vehicle):\n",
    "    def seating_capacity(self, capacity):\n",
    "        self.capacity=capacity\n",
    "        return str((str(self.name_of_vehicle) + str(\":\") + str(self.capacity)))\n",
    "    \n",
    "car1=car(\"Hyundai\",200, 20)\n",
    "car1.seating_capacity(5)"
   ]
  },
  {
   "cell_type": "markdown",
   "id": "2327b2cb-7f22-4e3a-89cb-ded8fae2b2e5",
   "metadata": {},
   "source": [
    "Q3. What is multiple inheritance? Write a python code to demonstrate multiple inheritance.\n",
    "\n",
    "Answer: Multiple inheritance is where a class is inherites multiple parent classes.\n",
    "In example below, class allrounder has two parent classes Batsman and Bowler.\n"
   ]
  },
  {
   "cell_type": "code",
   "execution_count": 20,
   "id": "cbaf6e83-8d08-4dd2-ba2c-40357c8b0028",
   "metadata": {},
   "outputs": [
    {
     "name": "stdout",
     "output_type": "stream",
     "text": [
      "I am batsman\n",
      "I am bowler\n"
     ]
    }
   ],
   "source": [
    "class batsman:\n",
    "    def printmess1(self):\n",
    "         print(\"I am batsman\")\n",
    "            \n",
    "class bowler:\n",
    "    def printmess2(self):\n",
    "         print(\"I am bowler\")\n",
    "\n",
    "class allrounder(batsman, bowler):\n",
    "    pass\n",
    "\n",
    "\n",
    "all1=allrounder()\n",
    "all1.printmess1()\n",
    "all1.printmess2()"
   ]
  },
  {
   "cell_type": "markdown",
   "id": "e218aa3a-b6b4-43ea-88a1-3b2afade6c4c",
   "metadata": {},
   "source": [
    "Q4. What are getter and setter in python? Create a class and create a getter and a setter method in this\n",
    "class.\n",
    "\n",
    "Answer: Setter method in class will set instance variable as per input and getter method will return the variable back. "
   ]
  },
  {
   "cell_type": "code",
   "execution_count": 21,
   "id": "85b1d292-998f-4b45-bf0d-6b884b95c709",
   "metadata": {},
   "outputs": [
    {
     "data": {
      "text/plain": [
       "'Amit'"
      ]
     },
     "execution_count": 21,
     "metadata": {},
     "output_type": "execute_result"
    }
   ],
   "source": [
    "class employee:\n",
    "    def setname(self, name):\n",
    "        self.name = name\n",
    "    def getname(self):\n",
    "        return self.name\n",
    "\n",
    "emp1=employee()\n",
    "emp1.setname(\"Amit\")\n",
    "emp1.getname()"
   ]
  },
  {
   "cell_type": "markdown",
   "id": "776330cd-c368-4a38-b37d-53bee0e69518",
   "metadata": {},
   "source": [
    "Q5.What is method overriding in python? Write a python code to demonstrate method overriding.\n",
    "\n",
    "Answer: In a child class, if a method with same name as that of parent s created. When method is called with child object, child method will be executed as it will override parent method.\n",
    "\n",
    "In below example, message from child method is displayed eventhough same name method is present in parent class."
   ]
  },
  {
   "cell_type": "code",
   "execution_count": 23,
   "id": "5e1ff760-87e0-4862-a004-182a7fe44f7d",
   "metadata": {},
   "outputs": [
    {
     "name": "stdout",
     "output_type": "stream",
     "text": [
      "This is Car class\n"
     ]
    }
   ],
   "source": [
    "class vehicle:\n",
    "    def getmess(self):\n",
    "        print(\"This is Vehicle class\")\n",
    "\n",
    "class car(vehicle):\n",
    "    def getmess(self):\n",
    "        print(\"This is Car class\")\n",
    "\n",
    "car1=car()\n",
    "car1.getmess()"
   ]
  },
  {
   "cell_type": "code",
   "execution_count": null,
   "id": "fdd49369-0319-459f-b668-6285cda4f348",
   "metadata": {},
   "outputs": [],
   "source": []
  }
 ],
 "metadata": {
  "kernelspec": {
   "display_name": "Python 3 (ipykernel)",
   "language": "python",
   "name": "python3"
  },
  "language_info": {
   "codemirror_mode": {
    "name": "ipython",
    "version": 3
   },
   "file_extension": ".py",
   "mimetype": "text/x-python",
   "name": "python",
   "nbconvert_exporter": "python",
   "pygments_lexer": "ipython3",
   "version": "3.10.8"
  }
 },
 "nbformat": 4,
 "nbformat_minor": 5
}

{
 "cells": [
  {
   "cell_type": "markdown",
   "id": "3f4c3f41-84b0-40a3-8845-09f72859070d",
   "metadata": {},
   "source": [
    "Q1. Write a Python function that takes in two arrays of data and calculates the F-value for a variance ratio\n",
    "test. The function should return the F-value and the corresponding p-value for the test."
   ]
  },
  {
   "cell_type": "code",
   "execution_count": 6,
   "id": "0e7dffdd-cebd-47b9-8abf-dc31b442ff7d",
   "metadata": {},
   "outputs": [],
   "source": [
    "import numpy as np\n",
    "import scipy.stats\n",
    "  \n",
    "# Create data\n",
    "group1 = [0.28, 0.2, 0.26, 0.28, 0.5]\n",
    "group2 = [0.2, 0.23, 0.26, 0.21, 0.23]\n",
    "\n",
    "x=np.array(group1)\n",
    "y=np.array(group2)\n",
    "\n",
    "def f_test(group1, group2):\n",
    "    f = np.var(group1, ddof=1)/np.var(group2, ddof=1)\n",
    "    nun = x.size-1\n",
    "    dun = y.size-1\n",
    "    p_value = 1-scipy.stats.f.cdf(f, nun, dun)\n",
    "    return f, p_value"
   ]
  },
  {
   "cell_type": "code",
   "execution_count": 7,
   "id": "45f14a29-f619-4f5a-9f92-b7f74e6a72d4",
   "metadata": {},
   "outputs": [
    {
     "data": {
      "text/plain": [
       "(24.679245283018858, 0.004431318383760985)"
      ]
     },
     "execution_count": 7,
     "metadata": {},
     "output_type": "execute_result"
    }
   ],
   "source": [
    "f_test(x,y)"
   ]
  },
  {
   "cell_type": "markdown",
   "id": "af98a70d-9104-4c94-9670-76373d361115",
   "metadata": {},
   "source": [
    "Q2. Given a significance level of 0.05 and the degrees of freedom for the numerator and denominator of an F-distribution, write a Python function that returns the critical F-value for a two-tailed test."
   ]
  },
  {
   "cell_type": "code",
   "execution_count": 9,
   "id": "3fc371ea-a76a-4d73-b7ac-a0a9250d60de",
   "metadata": {},
   "outputs": [
    {
     "name": "stdout",
     "output_type": "stream",
     "text": [
      "Critical F test value : 15.651823745152004\n"
     ]
    }
   ],
   "source": [
    "import scipy.stats\n",
    "\n",
    "def F_critical_value(dfn1,dfd1):\n",
    "    F_critical=scipy.stats.f.ppf(q=1-0.0025, dfn=dfn1, dfd=dfd1)\n",
    "    return F_critical\n",
    "\n",
    "print(\"Critical F test value :\",F_critical_value(4,6))"
   ]
  },
  {
   "cell_type": "markdown",
   "id": "819508eb-dced-4d57-a1ad-16f2df6a33af",
   "metadata": {},
   "source": [
    "Q3. Write a Python program that generates random samples from two normal distributions with known\n",
    "\n",
    "variances and uses an F-test to determine if the variances are equal. The program should output the F-\n",
    "value, degrees of freedom, and p-value for the test."
   ]
  },
  {
   "cell_type": "code",
   "execution_count": 20,
   "id": "690bd6d8-6a19-4da5-89c3-abb9409f0a74",
   "metadata": {},
   "outputs": [
    {
     "name": "stdout",
     "output_type": "stream",
     "text": [
      "Degree of freedoms are 999 and 999, F-value is 3.9466419043432426, p_value is 1.1102230246251565e-16\n"
     ]
    }
   ],
   "source": [
    "import numpy as np\n",
    "\n",
    "\n",
    "s1 = np.random.normal(0, 0.1, 1000)\n",
    "s2 = np.random.normal(0, 0.05, 1000)\n",
    "\n",
    "s1a=np.array(s1)\n",
    "s2a=np.array(s2)\n",
    "\n",
    "F_val=np.var(s1a) / np.var(s2a)\n",
    "dofn=s1a.size - 1\n",
    "dofd=s2a.size - 1\n",
    "\n",
    "F_critical=scipy.stats.f.ppf(q=1-0.05,dfn=dofn,dfd=dofd)\n",
    "\n",
    "p_val=1-scipy.stats.f.cdf(F_val,dofn,dofd)\n",
    "\n",
    "print(\"Degree of freedoms are {a} and {b}, F-value is {c}, p_value is {d}\".format(a=dofn,b=dofd,c=F_val,d=p_val))"
   ]
  },
  {
   "cell_type": "code",
   "execution_count": 18,
   "id": "0f72cda5-8552-44d2-a40e-178fc2051bb0",
   "metadata": {},
   "outputs": [
    {
     "data": {
      "text/plain": [
       "1.1097461378149511"
      ]
     },
     "execution_count": 18,
     "metadata": {},
     "output_type": "execute_result"
    }
   ],
   "source": [
    "F_critical"
   ]
  },
  {
   "cell_type": "markdown",
   "id": "0e05c0d9-aa14-417b-9b8f-51a1a0ea8e88",
   "metadata": {},
   "source": [
    "Q4.The variances of two populations are known to be 10 and 15. A sample of 12 observations is taken from\n",
    "each population. Conduct an F-test at the 5% significance level to determine if the variances are\n",
    "significantly different."
   ]
  },
  {
   "cell_type": "code",
   "execution_count": 23,
   "id": "ab8c7d7b-2387-4124-a327-d0d6bb844dac",
   "metadata": {},
   "outputs": [
    {
     "name": "stdout",
     "output_type": "stream",
     "text": [
      "P Value: 0.7438051006321003\n",
      "Accept Null hypothesis: Variances are equal\n"
     ]
    }
   ],
   "source": [
    "F_value = 10/15 \n",
    "dof1=12 - 1\n",
    "dof2=12-1\n",
    "p_val=1-scipy.stats.f.cdf(F_value,dof1,dof2)\n",
    "\n",
    "print(\"P Value:\",p_val)\n",
    "\n",
    "if (p_val < 0.05):\n",
    "    print(\"Reject Null hypothesis: Variances are different\")\n",
    "else:\n",
    "    print(\"Accept Null hypothesis: Variances are equal\")"
   ]
  },
  {
   "cell_type": "markdown",
   "id": "aa9933bd-f687-48e4-a05e-f716effe683c",
   "metadata": {},
   "source": [
    "Q5. A manufacturer claims that the variance of the diameter of a certain product is 0.005. A sample of 25\n",
    "products is taken, and the sample variance is found to be 0.006. Conduct an F-test at the 1% significance\n",
    "level to determine if the claim is justified."
   ]
  },
  {
   "cell_type": "code",
   "execution_count": 31,
   "id": "b5906a30-b8bc-4162-988e-7d824f5c1a01",
   "metadata": {},
   "outputs": [],
   "source": [
    "## Considering Total population size is 1000\n",
    "\n",
    "F_val = 0.006 / 0.005 \n",
    "dof1=24\n",
    "dof2=999\n",
    "\n",
    "p_val=1-scipy.stats.f.cdf(F_val,dof1,dof2)"
   ]
  },
  {
   "cell_type": "code",
   "execution_count": 32,
   "id": "225c2cb5-95d6-4beb-8101-4370d2b7d229",
   "metadata": {},
   "outputs": [
    {
     "data": {
      "text/plain": [
       "0.23147407554667365"
      ]
     },
     "execution_count": 32,
     "metadata": {},
     "output_type": "execute_result"
    }
   ],
   "source": [
    "p_val"
   ]
  },
  {
   "cell_type": "code",
   "execution_count": 39,
   "id": "84ec1c9a-655b-4386-af26-52bdb9760fa7",
   "metadata": {},
   "outputs": [
    {
     "data": {
      "text/plain": [
       "1.8096653767652766"
      ]
     },
     "execution_count": 39,
     "metadata": {},
     "output_type": "execute_result"
    }
   ],
   "source": [
    "F_Critical=scipy.stats.f.ppf(q=1-0.01,dfn=24,dfd=999)\n",
    "F_Critical"
   ]
  },
  {
   "cell_type": "code",
   "execution_count": 40,
   "id": "41ae951c-151d-4042-9dfd-e48ac6514fb3",
   "metadata": {},
   "outputs": [
    {
     "name": "stdout",
     "output_type": "stream",
     "text": [
      "Accept Null hypothesis: Claim Justified\n"
     ]
    }
   ],
   "source": [
    "if (p_val < 0.01):\n",
    "    print(\"Reject Null hypothesis: Claim not justified\")\n",
    "else:\n",
    "    print(\"Accept Null hypothesis: Claim Justified\")"
   ]
  },
  {
   "cell_type": "markdown",
   "id": "717f72da-57bb-4719-a252-3785021f6829",
   "metadata": {},
   "source": [
    "Q6. Write a Python function that takes in the degrees of freedom for the numerator and denominator of an\n",
    "F-distribution and calculates the mean and variance of the distribution. The function should return the\n",
    "mean and variance as a tuple."
   ]
  },
  {
   "cell_type": "code",
   "execution_count": 43,
   "id": "b823b975-066b-4879-8bad-41a363d3f775",
   "metadata": {},
   "outputs": [
    {
     "data": {
      "text/plain": [
       "(1.25, 1.3541666666666667)"
      ]
     },
     "execution_count": 43,
     "metadata": {},
     "output_type": "execute_result"
    }
   ],
   "source": [
    "def calculate_f_distribution_mean_variance(df_num, df_den):\n",
    "    lst=[]\n",
    "    mean = df_den / (df_den - 2)\n",
    "    variance = (2 * (df_den**2) * (df_num + df_den - 2)) / ((df_num * (df_den - 2)**2 * (df_den - 4)))\n",
    "    lst.append(mean)\n",
    "    lst.append(variance)\n",
    "    return(tuple(lst))\n",
    "\n",
    "df_num = 5\n",
    "df_den = 10\n",
    "calculate_f_distribution_mean_variance(df_num, df_den)"
   ]
  },
  {
   "cell_type": "code",
   "execution_count": 44,
   "id": "3b6cfa82-f40c-4234-b6b7-65e37d4e0e92",
   "metadata": {},
   "outputs": [
    {
     "data": {
      "text/plain": [
       "1.25"
      ]
     },
     "execution_count": 44,
     "metadata": {},
     "output_type": "execute_result"
    }
   ],
   "source": [
    "df_den / (df_den - 2)"
   ]
  },
  {
   "cell_type": "markdown",
   "id": "967fa19b-6645-492c-8506-a86cedf41fc7",
   "metadata": {},
   "source": [
    "Q7. A random sample of 10 measurements is taken from a normal population with unknown variance. The\n",
    "sample variance is found to be 25. Another random sample of 15 measurements is taken from another\n",
    "normal population with unknown variance, and the sample variance is found to be 20. Conduct an F-test\n",
    "at the 10% significance level to determine if the variances are significantly different."
   ]
  },
  {
   "cell_type": "code",
   "execution_count": 45,
   "id": "52793e7f-0a2a-4cec-aaca-352c529e2739",
   "metadata": {},
   "outputs": [
    {
     "name": "stdout",
     "output_type": "stream",
     "text": [
      "Accept: Variances are equal\n"
     ]
    }
   ],
   "source": [
    "s1=25\n",
    "dofn=10-1\n",
    "s2=20\n",
    "dofd=15-1\n",
    "\n",
    "alpha=0.1\n",
    "\n",
    "# Null hyp: s1=s2\n",
    "# Alt hyp: s1 != s2\n",
    "\n",
    "F_val=s1/s2\n",
    "p_val=1-scipy.stats.f.cdf(F_val,dofn,dofd)\n",
    "\n",
    "if (p_val < alpha):\n",
    "    print(\"Reject: Variances are significantly dierent\")\n",
    "else:\n",
    "    print(\"Accept: Variances are equal\")"
   ]
  },
  {
   "cell_type": "markdown",
   "id": "96a9e965-2361-469a-9810-98dab552267c",
   "metadata": {},
   "source": [
    "Q8. The following data represent the waiting times in minutes at two different restaurants on a Saturday\n",
    "night: Restaurant A: 24, 25, 28, 23, 22, 20, 27; Restaurant B: 31, 33, 35, 30, 32, 36. Conduct an F-test at the 5%\n",
    "significance level to determine if the variances are significantly different."
   ]
  },
  {
   "cell_type": "code",
   "execution_count": 49,
   "id": "5bd5a1f3-7d77-4d93-bf5b-b520bf14c7f9",
   "metadata": {},
   "outputs": [
    {
     "data": {
      "text/plain": [
       "0.3374133569640825"
      ]
     },
     "execution_count": 49,
     "metadata": {},
     "output_type": "execute_result"
    }
   ],
   "source": [
    "Restaurant_A= [24, 25, 28, 23, 22, 20, 27]\n",
    "Restaurant_B= [31, 33, 35, 30, 32, 36]\n",
    "\n",
    "r1=np.array(Restaurant_A)\n",
    "r2=np.array(Restaurant_B)\n",
    "alpha = 0.05\n",
    "dofn=r1.size -1 \n",
    "dofd=r2.size -1\n",
    "\n",
    "F_val = np.var(r1) / np.var(r2)\n",
    "p_val=1-scipy.stats.f.cdf(F_val,dofn,dofd)\n",
    "\n",
    "p_val"
   ]
  },
  {
   "cell_type": "code",
   "execution_count": 50,
   "id": "6e90775c-0c31-440b-9b2f-912a60fa771b",
   "metadata": {},
   "outputs": [
    {
     "name": "stdout",
     "output_type": "stream",
     "text": [
      "Accept: Variances are equal\n"
     ]
    }
   ],
   "source": [
    "if (p_val < alpha):\n",
    "    print(\"Reject: Variances are significantly dierent\")\n",
    "else:\n",
    "    print(\"Accept: Variances are equal\")"
   ]
  },
  {
   "cell_type": "markdown",
   "id": "0a97d6ee-46b7-4fd9-a0b9-4a02d70bde2a",
   "metadata": {},
   "source": [
    "Q9. The following data represent the test scores of two groups of students: Group A: 80, 85, 90, 92, 87, 83;\n",
    "Group B: 75, 78, 82, 79, 81, 84. Conduct an F-test at the 1% significance level to determine if the variances\n",
    "are significantly different."
   ]
  },
  {
   "cell_type": "code",
   "execution_count": 70,
   "id": "62bf01fa-2788-4aa8-8331-f19a901ba238",
   "metadata": {},
   "outputs": [],
   "source": [
    "ga=[80, 85, 90, 92, 87, 83]\n",
    "gb=[75, 78, 82, 79, 81, 84]\n",
    "\n",
    "alpha=0.01\n",
    "\n",
    "# Null hyp: Variances are equal\n",
    "# Alt hyp: Variances are different\n",
    "\n",
    "nga=np.array(ga)\n",
    "ngb=np.array(gb)\n",
    "\n",
    "dofn=nga.size - 1\n",
    "dofd=ngb.size - 1\n",
    "\n",
    "F_val = np.var(ga, ddof=1) / np.var(gb, ddof=1)\n",
    "p_val= 1-scipy.stats.f.cdf(F_val,dofn,dofd)\n",
    "\n",
    "alpha = 0.01\n",
    "\n"
   ]
  },
  {
   "cell_type": "code",
   "execution_count": 78,
   "id": "5f4345af-8161-4704-9b4d-8b5ba814e7c4",
   "metadata": {},
   "outputs": [
    {
     "name": "stdout",
     "output_type": "stream",
     "text": [
      "Accept: Variances are equal\n"
     ]
    }
   ],
   "source": [
    "if (p_val < alpha):\n",
    "    print(\"Reject: Variances are significantly dierent\")\n",
    "else:\n",
    "    print(\"Accept: Variances are equal\")"
   ]
  }
 ],
 "metadata": {
  "kernelspec": {
   "display_name": "Python 3 (ipykernel)",
   "language": "python",
   "name": "python3"
  },
  "language_info": {
   "codemirror_mode": {
    "name": "ipython",
    "version": 3
   },
   "file_extension": ".py",
   "mimetype": "text/x-python",
   "name": "python",
   "nbconvert_exporter": "python",
   "pygments_lexer": "ipython3",
   "version": "3.10.8"
  }
 },
 "nbformat": 4,
 "nbformat_minor": 5
}

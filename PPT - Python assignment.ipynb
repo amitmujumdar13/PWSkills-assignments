{
  "metadata": {
    "kernelspec": {
      "name": "python",
      "display_name": "Python (Pyodide)",
      "language": "python"
    },
    "language_info": {
      "codemirror_mode": {
        "name": "python",
        "version": 3
      },
      "file_extension": ".py",
      "mimetype": "text/x-python",
      "name": "python",
      "nbconvert_exporter": "python",
      "pygments_lexer": "ipython3",
      "version": "3.8"
    }
  },
  "nbformat_minor": 5,
  "nbformat": 4,
  "cells": [
    {
      "cell_type": "markdown",
      "source": "1. Write a Python program to reverse a string without using any built-in string reversal functions.\n",
      "metadata": {},
      "id": "d1630eac-7983-4bbf-9317-81ef965cd170"
    },
    {
      "cell_type": "code",
      "source": "strin=\"Amit\"",
      "metadata": {
        "trusted": true
      },
      "execution_count": 1,
      "outputs": [],
      "id": "15022d10-8ef1-4af7-844a-716ed57c2588"
    },
    {
      "cell_type": "code",
      "source": "def reverse(strin):\n    return strin[::-1]",
      "metadata": {
        "trusted": true
      },
      "execution_count": 2,
      "outputs": [],
      "id": "23ca0bf7-a873-4511-b9e3-aae3d75e8d52"
    },
    {
      "cell_type": "code",
      "source": "reverse(strin)",
      "metadata": {
        "trusted": true
      },
      "execution_count": 3,
      "outputs": [
        {
          "execution_count": 3,
          "output_type": "execute_result",
          "data": {
            "text/plain": "'timA'"
          },
          "metadata": {}
        }
      ],
      "id": "57afee20-3e70-4c7b-a189-2708cec66174"
    },
    {
      "cell_type": "markdown",
      "source": "2. Implement a function to check if a given string is a palindrome.",
      "metadata": {},
      "id": "3380bd07-48df-4d8d-a0e5-cf5c1828a326"
    },
    {
      "cell_type": "code",
      "source": "def palindrome(strin):\n    if strin == strin[::-1]:\n        print(\"String is palindrome\")\n    else:\n        print(\"String is not a palindrome\")",
      "metadata": {},
      "execution_count": 6,
      "outputs": [],
      "id": "91c62e7a-f412-4f47-850b-ae9fdafdf564"
    },
    {
      "cell_type": "code",
      "source": "palindrome(strin)",
      "metadata": {},
      "execution_count": 7,
      "outputs": [
        {
          "name": "stdout",
          "output_type": "stream",
          "text": "String is not a palindrome\n"
        }
      ],
      "id": "03e0cf53-b1eb-4c9e-afdb-b6767b35dae6"
    },
    {
      "cell_type": "code",
      "source": "palindrome(\"FAF\")",
      "metadata": {},
      "execution_count": 8,
      "outputs": [
        {
          "name": "stdout",
          "output_type": "stream",
          "text": "String is palindrome\n"
        }
      ],
      "id": "05fa136f-ffe8-43d9-ba4b-03bae22361cf"
    },
    {
      "cell_type": "markdown",
      "source": "3. Write a program to find the largest element in a given list.\n",
      "metadata": {},
      "id": "2e687baa-a5c0-4be6-ae55-a5fe45d12c1c"
    },
    {
      "cell_type": "code",
      "source": "def largest(input):\n    return sorted(input)[-1]",
      "metadata": {},
      "execution_count": 9,
      "outputs": [],
      "id": "70921339-c701-414d-9e61-2323105d12eb"
    },
    {
      "cell_type": "code",
      "source": "largest([4,11,6,8,9])",
      "metadata": {},
      "execution_count": 10,
      "outputs": [
        {
          "execution_count": 10,
          "output_type": "execute_result",
          "data": {
            "text/plain": [
              "11"
            ]
          },
          "metadata": {}
        }
      ],
      "id": "8ed36c6e-fd25-477c-8189-8d09a4bc2eca"
    },
    {
      "cell_type": "markdown",
      "source": "4. Implement a function to count the occurrence of each element in a list.\n",
      "metadata": {},
      "id": "066d9ebb-44d0-4c70-bd1d-a97ef6ba51ac"
    },
    {
      "cell_type": "code",
      "source": "from collections import Counter\ndef occurance(input):\n    return Counter(input) ",
      "metadata": {},
      "execution_count": 27,
      "outputs": [],
      "id": "f57abe7a-6336-4763-91ee-e9ef76c736a6"
    },
    {
      "cell_type": "code",
      "source": "occurance([1,2,2])",
      "metadata": {},
      "execution_count": 28,
      "outputs": [
        {
          "execution_count": 28,
          "output_type": "execute_result",
          "data": {
            "text/plain": [
              "Counter({1: 1, 2: 2})"
            ]
          },
          "metadata": {}
        }
      ],
      "id": "40dd9b9e-5002-49d2-a7a5-2fcf5da0f8b0"
    },
    {
      "cell_type": "markdown",
      "source": "5. Write a Python program to find the second largest number in a list.",
      "metadata": {},
      "id": "26890a5c-3d4a-451f-9a8b-e94a3e24787a"
    },
    {
      "cell_type": "code",
      "source": "def second_largest(input):\n    return sorted(input)[-2] ",
      "metadata": {},
      "execution_count": 1,
      "outputs": [],
      "id": "2aadf05f-9be0-4b4b-9b72-bbecf51b7927"
    },
    {
      "cell_type": "code",
      "source": "input=[5,6,7,3,9,8]\nsecond_largest(input)",
      "metadata": {},
      "execution_count": 2,
      "outputs": [
        {
          "execution_count": 2,
          "output_type": "execute_result",
          "data": {
            "text/plain": [
              "8"
            ]
          },
          "metadata": {}
        }
      ],
      "id": "e3d43b0e-62ab-4106-9551-5eede554e668"
    },
    {
      "cell_type": "markdown",
      "source": "6. Implement a function to remove duplicate elements from a list.",
      "metadata": {},
      "id": "de651b46-b5d6-4b8f-85aa-a0dfa1b210d4"
    },
    {
      "cell_type": "code",
      "source": "def remove_dup(input):\n    return list(set(input))",
      "metadata": {},
      "execution_count": 5,
      "outputs": [],
      "id": "37186eeb-a2f5-4584-9b57-760bd66c39ad"
    },
    {
      "cell_type": "code",
      "source": "input=[3,4,6,6,8,5,4]\nremove_dup(input)",
      "metadata": {},
      "execution_count": 6,
      "outputs": [
        {
          "execution_count": 6,
          "output_type": "execute_result",
          "data": {
            "text/plain": [
              "[3, 4, 5, 6, 8]"
            ]
          },
          "metadata": {}
        }
      ],
      "id": "f4fd5d71-b59d-40e4-9f75-e72ba5ccc7ce"
    },
    {
      "cell_type": "markdown",
      "source": "7. Write a program to calculate the factorial of a given number.",
      "metadata": {},
      "id": "6f0a7c53-bc8d-4ae7-96cb-dc3fe653da1a"
    },
    {
      "cell_type": "code",
      "source": "def fact(a):\n    if a == 0: \n        return 1\n    elif a== 1:\n        return 1\n    else:\n        return a * fact(a-1)",
      "metadata": {},
      "execution_count": 10,
      "outputs": [],
      "id": "59fa243f-afca-4c8a-8acf-b4475c5d061d"
    },
    {
      "cell_type": "code",
      "source": "fact(4)",
      "metadata": {},
      "execution_count": 12,
      "outputs": [
        {
          "execution_count": 12,
          "output_type": "execute_result",
          "data": {
            "text/plain": [
              "24"
            ]
          },
          "metadata": {}
        }
      ],
      "id": "f7f9e096-742a-43cd-a7e4-dcb88dff807c"
    },
    {
      "cell_type": "markdown",
      "source": "8. Implement a function to check if a given number is prime.",
      "metadata": {},
      "id": "08f6cc33-27ec-42a9-95c8-4728b00af6ca"
    },
    {
      "cell_type": "code",
      "source": "def prime_check(num):\n    if num > 1:\n    # Iterate from 2 to n / 2\n        for i in range(2, int(num/2)+1):\n        # If num is divisible by any number between\n        # 2 and n / 2, it is not prime\n            if (num % i) == 0:\n                print(num, \"is not a prime number\")\n                break\n        else:\n            print(num, \"is a prime number\")\n    else:\n        print(num, \"is not a prime number\")",
      "metadata": {},
      "execution_count": 15,
      "outputs": [],
      "id": "64c7f97e-472f-4c04-bb95-166fca6e7ff7"
    },
    {
      "cell_type": "code",
      "source": "prime_check(11)",
      "metadata": {},
      "execution_count": 16,
      "outputs": [
        {
          "name": "stdout",
          "output_type": "stream",
          "text": "11 is a prime number\n"
        }
      ],
      "id": "c01b1506-acdb-45d5-a06b-2d7b0e40b5a2"
    },
    {
      "cell_type": "markdown",
      "source": "9. Write a Python program to sort a list of integers in ascending order.\n",
      "metadata": {},
      "id": "e898d864-07f6-4d20-b196-b6f6a9f8c653"
    },
    {
      "cell_type": "code",
      "source": "lst=[3,5,6,7,5]\nprint(\"Sorted List:\",sorted(lst))",
      "metadata": {},
      "execution_count": 17,
      "outputs": [
        {
          "name": "stdout",
          "output_type": "stream",
          "text": "Sorted List: [3, 5, 5, 6, 7]\n"
        }
      ],
      "id": "c21db2dc-3edc-4fa6-9fc6-1f35ea940322"
    },
    {
      "cell_type": "markdown",
      "source": "10. Implement a function to find the sum of all numbers in a list.",
      "metadata": {},
      "id": "3769c3ef-e29b-49bb-9f59-1ad12b0a9894"
    },
    {
      "cell_type": "code",
      "source": "def sum_num(lst):\n    Total=0\n    for i in lst:\n        Total=Total + i\n    return Total",
      "metadata": {},
      "execution_count": 24,
      "outputs": [],
      "id": "7e9c6931-a7d2-4f61-8350-aca9827a6874"
    },
    {
      "cell_type": "code",
      "source": "sum_num(lst)",
      "metadata": {},
      "execution_count": 25,
      "outputs": [
        {
          "execution_count": 25,
          "output_type": "execute_result",
          "data": {
            "text/plain": [
              "26"
            ]
          },
          "metadata": {}
        }
      ],
      "id": "d7ea888e-57fd-4760-b443-70e90fb2720c"
    },
    {
      "cell_type": "markdown",
      "source": "11. Write a program to find the common elements between two lists.",
      "metadata": {},
      "id": "cf67a9dd-44bf-492e-9249-933695c0fc99"
    },
    {
      "cell_type": "code",
      "source": "lst1=[3,4,6,8,8,6]\nlst2=[9,5,4]",
      "metadata": {},
      "execution_count": 26,
      "outputs": [],
      "id": "fdef4668-a73e-4a3a-99ca-6a8c1062c1c2"
    },
    {
      "cell_type": "code",
      "source": "def find_common(lst1,lst2):\n    set_lst1=set(lst1)\n    set_lst2=set(lst2)\n    \n    if (set_lst1 & set_lst2):\n        print(set_lst1 & set_lst2)\n    else:\n        print(\"No common elements\")",
      "metadata": {},
      "execution_count": 27,
      "outputs": [],
      "id": "0057d1e7-5c2d-4c8f-b9ba-f620be4912c2"
    },
    {
      "cell_type": "code",
      "source": "find_common(lst1,lst2)",
      "metadata": {},
      "execution_count": 28,
      "outputs": [
        {
          "name": "stdout",
          "output_type": "stream",
          "text": "{4}\n"
        }
      ],
      "id": "7da0cae2-302c-4635-83a9-c1a34489ce29"
    },
    {
      "cell_type": "markdown",
      "source": "12. Implement a function to check if a given string is an anagram of another string.",
      "metadata": {},
      "id": "88c65052-2101-4880-a7c5-e2b05310737c"
    },
    {
      "cell_type": "code",
      "source": "# function to check if two strings are\n# anagram or not\ndef check(s1, s2):\n\t\n\t# the sorted strings are checked\n\tif(sorted(s1)== sorted(s2)):\n\t\tprint(\"The strings are anagrams.\")\n\telse:\n\t\tprint(\"The strings aren't anagrams.\")\t\t\n\t\t\n# driver code\ns1 =\"listen\"\ns2 =\"silent\"\ncheck(s1, s2)\n",
      "metadata": {},
      "execution_count": 29,
      "outputs": [
        {
          "name": "stdout",
          "output_type": "stream",
          "text": "The strings are anagrams.\n"
        }
      ],
      "id": "e5fcfbc8-40c9-405b-95ed-51d451cca2d6"
    },
    {
      "cell_type": "markdown",
      "source": "13. Write a Python program to generate all permutations of a given string.\n",
      "metadata": {},
      "id": "cd05aecc-cdd3-4845-a3b3-917d83cf127c"
    },
    {
      "cell_type": "code",
      "source": "# Python program to implement\n# the above approach\ndef permute(s, answer):\n\tif (len(s) == 0):\n\t\tprint(answer, end = \" \")\n\t\treturn\n\t\n\tfor i in range(len(s)):\n\t\tch = s[i]\n\t\tleft_substr = s[0:i]\n\t\tright_substr = s[i + 1:]\n\t\trest = left_substr + right_substr\n\t\tpermute(rest, answer + ch)\n\n# Driver Code\nanswer = \"\"\npermute(\"Test\", answer)\n# This code is contributed by Harshit Srivastava\n",
      "metadata": {},
      "execution_count": 31,
      "outputs": [
        {
          "name": "stdout",
          "output_type": "stream",
          "text": "Test Tets Tset Tste Ttes Ttse eTst eTts esTt estT etTs etsT sTet sTte seTt setT stTe steT tTes tTse teTs tesT tsTe tseT "
        }
      ],
      "id": "9fe2cdbf-5055-4e5e-a698-3aa9ec08a77e"
    },
    {
      "cell_type": "markdown",
      "source": "14. Implement a function to calculate the Fibonacci sequence up to a given number of terms.\n",
      "metadata": {},
      "id": "e2453370-f4d9-4b18-b1fd-c771f210fbe8"
    },
    {
      "cell_type": "code",
      "source": "# Function for nth Fibonacci number\n\ndef fibbo(n):\n\tif n<= 0:\n\t\tprint(\"Incorrect input\")\n\t# First Fibonacci number is 0\n\telif n == 1:\n\t\treturn 0\n\t# Second Fibonacci number is 1\n\telif n == 2:\n\t\treturn 1\n\telse:\n\t\treturn fibbo(n-1)+fibbo(n-2)\n\n# Driver Program\n\nprint(fibbo(9))\n",
      "metadata": {},
      "execution_count": 58,
      "outputs": [
        {
          "name": "stdout",
          "output_type": "stream",
          "text": "21\n"
        }
      ],
      "id": "92fc92de-7fe5-4ef0-83b5-bce4ffdeaa59"
    },
    {
      "cell_type": "markdown",
      "source": "15. Write a program to find the median of a list of numbers.\n",
      "metadata": {},
      "id": "ccc2e3de-85b0-4e03-9215-bf3043c1cd70"
    },
    {
      "cell_type": "code",
      "source": "# Python3 code to demonstrate working of\n# Median of list\n# Using loop + \"~\" operator\n\n# initializing list\ntest_list = [4, 5, 8, 9, 10, 17]\n\n# printing list\nprint(\"The original list : \" + str(test_list))\n\n# Median of list\n# Using loop + \"~\" operator\ntest_list.sort()\nmid = len(test_list) // 2\nres = (test_list[mid] + test_list[~mid]) / 2\n\n# Printing result\nprint(\"Median of list is : \" + str(res))\n",
      "metadata": {},
      "execution_count": 61,
      "outputs": [
        {
          "name": "stdout",
          "output_type": "stream",
          "text": "The original list : [4, 5, 8, 9, 10, 17]\n\nMedian of list is : 8.5\n"
        }
      ],
      "id": "50a57ab5-a261-47b3-a74d-1843ee21e6b5"
    },
    {
      "cell_type": "code",
      "source": "mid",
      "metadata": {},
      "execution_count": 62,
      "outputs": [
        {
          "execution_count": 62,
          "output_type": "execute_result",
          "data": {
            "text/plain": [
              "3"
            ]
          },
          "metadata": {}
        }
      ],
      "id": "a6a85f38-969f-4d9a-b2de-62f16a9dc757"
    },
    {
      "cell_type": "markdown",
      "source": "16. Implement a function to check if a given list is sorted in non-decreasing order.\n",
      "metadata": {},
      "id": "16e08714-8bd3-4f0d-ad7f-894a1d4e8ea1"
    },
    {
      "cell_type": "code",
      "source": "def sort_check(lst):\n    if lst == sorted(lst):\n        print(\"List is sorted in non decreasing order\")\n    else:\n        print(\"List is not sorted\")\n\nlst=[3,4,5,6,7]\nsort_check(lst)",
      "metadata": {},
      "execution_count": 66,
      "outputs": [
        {
          "name": "stdout",
          "output_type": "stream",
          "text": "List is sorted in non decreasing order\n"
        }
      ],
      "id": "878d2e7c-30cd-4045-a8c3-8fcd7ea7e3e4"
    },
    {
      "cell_type": "markdown",
      "source": "17. Write a Python program to find the intersection of two lists.\n",
      "metadata": {},
      "id": "cc671b51-5e61-4cfc-a0c0-02444ece8970"
    },
    {
      "cell_type": "code",
      "source": "# Python program to illustrate the intersection\n# of two lists in most simple way\ndef intersection(lst1, lst2):\n\tlst3 = [value for value in lst1 if value in lst2]\n\treturn lst3\n\n# Driver Code\nlst1 = [4, 9, 1, 17, 11, 26, 28, 54, 69]\nlst2 = [9, 9, 74, 21, 45, 11, 63, 28, 26]\nprint(intersection(lst1, lst2))\n",
      "metadata": {},
      "execution_count": 67,
      "outputs": [
        {
          "name": "stdout",
          "output_type": "stream",
          "text": "[9, 11, 26, 28]\n"
        }
      ],
      "id": "ed89c633-7cff-4353-906a-2d3257862e22"
    },
    {
      "cell_type": "markdown",
      "source": "18. Implement a function to find the maximum subarray sum in a given list.\n",
      "metadata": {},
      "id": "9da6e9bf-74ac-46d1-ab8c-f81b84c53800"
    },
    {
      "cell_type": "code",
      "source": "class Solution:\n    def maxSubArray(self, nums):\n        dp = [0]*len(nums)\n        for i,num in enumerate(nums):            \n            dp[i] = max(dp[i-1] + num, num)\n        return max(dp)",
      "metadata": {},
      "execution_count": 69,
      "outputs": [],
      "id": "5c3cd3d8-5f3e-4644-a92b-6d68ba5db5e5"
    },
    {
      "cell_type": "code",
      "source": "sol=Solution()\nsol.maxSubArray([-2,1,-3,4,-1,2,1,-5,4])",
      "metadata": {},
      "execution_count": 70,
      "outputs": [
        {
          "execution_count": 70,
          "output_type": "execute_result",
          "data": {
            "text/plain": [
              "6"
            ]
          },
          "metadata": {}
        }
      ],
      "id": "982794f8-0445-4c2a-9f32-dfe653944b59"
    },
    {
      "cell_type": "markdown",
      "source": "19. Write a program to remove all vowels from a given string.\n",
      "metadata": {},
      "id": "64dc2637-556a-4e0f-aae9-66c557f78607"
    },
    {
      "cell_type": "code",
      "source": "def remove_vowel(strng):\n    vowel=['a','i','o','u','A','E','I','O','U']\n    out=\"\"\n    for i in strng:\n        if i not in vowel:\n          out += str(i)\n    return out",
      "metadata": {},
      "execution_count": 80,
      "outputs": [],
      "id": "ce970b80-26b6-49d6-8352-057e28b73438"
    },
    {
      "cell_type": "code",
      "source": "remove_vowel(\"Amit\")",
      "metadata": {},
      "execution_count": 81,
      "outputs": [
        {
          "execution_count": 81,
          "output_type": "execute_result",
          "data": {
            "text/plain": [
              "'mt'"
            ]
          },
          "metadata": {}
        }
      ],
      "id": "93acc813-af69-4856-bbcd-6a7bacd1b6fd"
    },
    {
      "cell_type": "markdown",
      "source": "20. Implement a function to reverse the order of words in a given sentence.\n",
      "metadata": {},
      "id": "6696c862-35dd-4d82-a870-82fb9e42059a"
    },
    {
      "cell_type": "code",
      "source": "def reverse_order(sent):\n        li = list(sent.split(\" \"))\n        out=\" \".join(str(elem) for elem in li[::-1])\n        return out",
      "metadata": {},
      "execution_count": 87,
      "outputs": [],
      "id": "aeae6503-f805-403c-8508-86b08479ffd6"
    },
    {
      "cell_type": "code",
      "source": "reverse_order(\"My Name is Amit\")",
      "metadata": {},
      "execution_count": 88,
      "outputs": [
        {
          "execution_count": 88,
          "output_type": "execute_result",
          "data": {
            "text/plain": [
              "'Amit is Name My'"
            ]
          },
          "metadata": {}
        }
      ],
      "id": "5671dc39-5228-416e-b018-93d617c7e145"
    },
    {
      "cell_type": "markdown",
      "source": "21. Write a Python program to check if two strings are anagrams of each other.\n",
      "metadata": {},
      "id": "2db35632-4660-459c-b1d5-e24e62617345"
    },
    {
      "cell_type": "code",
      "source": "def anagram(str1,str2):\n    if sorted(str1) == sorted(str2):\n        print(\"Strings are Anagram of each other\")\n    else:\n        print(\"Strings are not Anagrams\")",
      "metadata": {},
      "execution_count": 93,
      "outputs": [],
      "id": "b32801db-e649-47a5-a2c8-6acee7736dd0"
    },
    {
      "cell_type": "code",
      "source": "anagram(\"Amit\",\"tmiA\")",
      "metadata": {},
      "execution_count": 94,
      "outputs": [
        {
          "name": "stdout",
          "output_type": "stream",
          "text": "Strings are Anagram of each other\n"
        }
      ],
      "id": "13c64ba6-f0bb-4383-b51a-36696687c789"
    },
    {
      "cell_type": "markdown",
      "source": "22. Implement a function to find the first non-repeating character in a string.\n",
      "metadata": {},
      "id": "8da5e6e9-3871-4753-b15c-035ce25b3073"
    },
    {
      "cell_type": "code",
      "source": "# Python program to print the first non-repeating character\n\nstring = \"geeksforgeeks\"\nindex = -1\nfnc = \"\"\n\nif len(string) == 0 :\n    print(\"EMTPY STRING\")\n\nfor i in string:\n\tif string.count(i) == 1:\n\t\tfnc += i\n\t\tbreak\n\telse:\n\t\tindex += 1\nif index == len(string)-1 :\n\tprint(\"All characters are repeating \")\nelse:\n\tprint(\"First non-repeating character is\", fnc)\n\n#// This code is contributed by aakansharao1111",
      "metadata": {},
      "execution_count": 98,
      "outputs": [
        {
          "name": "stdout",
          "output_type": "stream",
          "text": "First non-repeating character is f\n"
        }
      ],
      "id": "9a56421d-f1c0-4749-8fd7-d62ab2f54d6d"
    },
    {
      "cell_type": "markdown",
      "source": "23. Write a program to find the prime factors of a given number.\n",
      "metadata": {},
      "id": "094f29f8-b0ed-423b-841c-abf83ec420a0"
    },
    {
      "cell_type": "code",
      "source": "import math\ndef prime_factors(num):\n    \n    while num % 2 == 0:\n        print (2)\n        num = num / 2\n    \n    for i in range(3,int(math.sqrt(num))+1,2):\n        while num % i == 0:\n            print (i)\n            num = num / i ",
      "metadata": {},
      "execution_count": 111,
      "outputs": [],
      "id": "021558da-b1ac-4806-ae45-099b7f683b22"
    },
    {
      "cell_type": "code",
      "source": "prime_factors(315)",
      "metadata": {},
      "execution_count": 113,
      "outputs": [
        {
          "name": "stdout",
          "output_type": "stream",
          "text": "3\n\n3\n\n5\n\n7\n"
        }
      ],
      "id": "56f04815-e035-4d0b-8602-a9666ed67213"
    },
    {
      "cell_type": "markdown",
      "source": "24. Implement a function to check if a given number is a power of two.",
      "metadata": {},
      "id": "515b3320-27e2-4ce0-9018-54bf1aca1d2f"
    },
    {
      "cell_type": "code",
      "source": "import math\ndef pow_two(num):\n    if num == 0:\n        return False\n    else:\n        while (num != 1):\n            if (num % 2 != 0):\n                return False\n            num = num // 2\n        return True",
      "metadata": {},
      "execution_count": 1,
      "outputs": [],
      "id": "50b9a974-444e-4ba3-80b0-1586c28c7562"
    },
    {
      "cell_type": "code",
      "source": "pow_two(64)",
      "metadata": {},
      "execution_count": 2,
      "outputs": [
        {
          "execution_count": 2,
          "output_type": "execute_result",
          "data": {
            "text/plain": [
              "True"
            ]
          },
          "metadata": {}
        }
      ],
      "id": "0dc05317-bf39-42d2-8d2b-df4fbf8ce904"
    },
    {
      "cell_type": "markdown",
      "source": "25. Write a Python program to merge two sorted lists into a single sorted list.",
      "metadata": {},
      "id": "cb9aaea8-1a35-4d65-a30c-794344e8e7b9"
    },
    {
      "cell_type": "code",
      "source": "# Python3 code to demonstrate\n# to combine two sorted list\n# using naive method\n\n# initializing lists\ntest_list1 = [1, 5, 6, 9, 11]\ntest_list2 = [3, 4, 7, 8, 10]\n\n# printing original lists\nprint(\"The original list 1 is : \" + str(test_list1))\nprint(\"The original list 2 is : \" + str(test_list2))\n\n# using naive method\n# to combine two sorted lists\nsize_1 = len(test_list1)\nsize_2 = len(test_list2)\n\nres = []\ni, j = 0, 0\n\nwhile i < size_1 and j < size_2:\n\tif test_list1[i] < test_list2[j]:\n\t\tres.append(test_list1[i])\n\t\ti += 1\n\n\telse:\n\t\tres.append(test_list2[j])\n\t\tj += 1\n\nres = res + test_list1[i:] + test_list2[j:]\n\n# printing result\nprint(\"The combined sorted list is : \" + str(res))\n",
      "metadata": {},
      "execution_count": 3,
      "outputs": [
        {
          "name": "stdout",
          "output_type": "stream",
          "text": "The original list 1 is : [1, 5, 6, 9, 11]\n\nThe original list 2 is : [3, 4, 7, 8, 10]\n\nThe combined sorted list is : [1, 3, 4, 5, 6, 7, 8, 9, 10, 11]\n"
        }
      ],
      "id": "147c042b-6655-40dd-b602-95db10878d8d"
    },
    {
      "cell_type": "markdown",
      "source": "26. Implement a function to find the mode of a list of numbers.\n",
      "metadata": {},
      "id": "d8486594-01d0-4a5b-88fe-d70db0c356a8"
    },
    {
      "cell_type": "code",
      "source": "import collections\nlst=[3,5,6,6,7,7,7,8,3,3,3]\n\ndef mode_lst(lst):\n    cnt=collections.Counter(lst)\n    max_cnt=0\n    mode=0\n    for i in cnt:\n        if max_cnt > cnt[i]:\n            pass\n        else:\n            mode=i\n            max_cnt=cnt[i]\n    return mode",
      "metadata": {},
      "execution_count": 16,
      "outputs": [],
      "id": "ecef2c8f-77bb-4e05-9d7c-0dd0106bb4ce"
    },
    {
      "cell_type": "code",
      "source": "mode_lst(lst)",
      "metadata": {},
      "execution_count": 17,
      "outputs": [
        {
          "execution_count": 17,
          "output_type": "execute_result",
          "data": {
            "text/plain": [
              "3"
            ]
          },
          "metadata": {}
        }
      ],
      "id": "72866f57-2a43-4ab7-8392-58a9753525c6"
    },
    {
      "cell_type": "markdown",
      "source": "27. Write a program to find the greatest common divisor (GCD) of two numbers.\n",
      "metadata": {},
      "id": "f7180209-e25c-4d80-832e-4a2b108596fc"
    },
    {
      "cell_type": "code",
      "source": "def gcd(a,b):\n    result=min(a,b)\n    \n    while result:\n        if a%result == 0 and b%result== 0:\n            break\n        result -= 1\n    return result",
      "metadata": {},
      "execution_count": 18,
      "outputs": [],
      "id": "d7ee5c05-17b3-4f01-9609-24fe9ef08c62"
    },
    {
      "cell_type": "code",
      "source": "gcd(300,200)",
      "metadata": {},
      "execution_count": 21,
      "outputs": [
        {
          "execution_count": 21,
          "output_type": "execute_result",
          "data": {
            "text/plain": [
              "100"
            ]
          },
          "metadata": {}
        }
      ],
      "id": "e5f1b9d5-9650-496d-ad31-6a0ef5fa6bda"
    },
    {
      "cell_type": "markdown",
      "source": "28. Implement a function to calculate the square root of a given number.\n",
      "metadata": {},
      "id": "eacfa4c7-1071-408c-a8bc-b0cdfda1555c"
    },
    {
      "cell_type": "code",
      "source": "def square_root(num):\n    return int(math.sqrt(num))",
      "metadata": {},
      "execution_count": 25,
      "outputs": [],
      "id": "030acb34-b8df-4e50-8b63-5af7713921a0"
    },
    {
      "cell_type": "code",
      "source": "square_root(25)",
      "metadata": {},
      "execution_count": 26,
      "outputs": [
        {
          "execution_count": 26,
          "output_type": "execute_result",
          "data": {
            "text/plain": [
              "5"
            ]
          },
          "metadata": {}
        }
      ],
      "id": "aaad5554-3c45-40da-b2e6-917c76f5c8b1"
    },
    {
      "cell_type": "markdown",
      "source": "29. Write a Python program to check if a given string is a valid palindrome ignoring non-alphanumeric characters.",
      "metadata": {},
      "id": "8baa913b-479e-4ef2-a989-708f9fcb1b94"
    },
    {
      "cell_type": "code",
      "source": "def palindrome(str1):\n    i=0\n    j=len(str1)-1\n    \n    while (i<=j):\n        if not(str1[j].isalnum()):\n            j=j-1\n        elif not(str1[i].isalnum()):\n            i=i+1\n        elif str1[i] == str1[j]:\n            i=i+1\n            j=j-1\n        else:\n            return False\n    return True",
      "metadata": {},
      "execution_count": 32,
      "outputs": [],
      "id": "1838e3cc-aa42-4ced-a5a2-02d02fd9aa68"
    },
    {
      "cell_type": "code",
      "source": "if palindrome(\"too hot to hoot!!\"):\n    print(\"palindrome\")\nelse:\n    print(\"Not Palindrome\")",
      "metadata": {},
      "execution_count": 34,
      "outputs": [
        {
          "name": "stdout",
          "output_type": "stream",
          "text": "palindrome\n"
        }
      ],
      "id": "37dc14eb-dedb-43ab-b5c5-3b8260554248"
    },
    {
      "cell_type": "markdown",
      "source": "30. Implement a function to find the minimum element in a rotated sorted list.",
      "metadata": {},
      "id": "44f48e46-2096-48a8-9c8f-854caafbed8b"
    },
    {
      "cell_type": "code",
      "source": "def min_value(lst):\n    min_val=lst[0]\n    \n    for i in lst:\n        if min_val<i:\n            pass\n        else:\n            min_val=i\n    return min_val",
      "metadata": {},
      "execution_count": 36,
      "outputs": [],
      "id": "dcf455c3-bb43-460d-b6a6-3af0e3c13213"
    },
    {
      "cell_type": "code",
      "source": "min_value([3,4,5,1,2,3])",
      "metadata": {},
      "execution_count": 37,
      "outputs": [
        {
          "execution_count": 37,
          "output_type": "execute_result",
          "data": {
            "text/plain": [
              "1"
            ]
          },
          "metadata": {}
        }
      ],
      "id": "ecd52547-3955-4d1d-946e-cd624e885cfd"
    },
    {
      "cell_type": "markdown",
      "source": "31. Write a program to find the sum of all even numbers in a list.\n",
      "metadata": {},
      "id": "11bdae98-dbca-4716-a87e-6896cfeb69f4"
    },
    {
      "cell_type": "code",
      "source": "def sum_even(lst):\n    sum_even=0\n    for i in lst:\n        if i % 2 == 0:\n            sum_even = sum_even + i\n    return sum_even",
      "metadata": {},
      "execution_count": 3,
      "outputs": [],
      "id": "c75bcca3-934c-4343-98c8-ba59206aed6b"
    },
    {
      "cell_type": "code",
      "source": "lst=[3,4,5,6,7,8]\nsum_even(lst)",
      "metadata": {},
      "execution_count": 4,
      "outputs": [
        {
          "execution_count": 4,
          "output_type": "execute_result",
          "data": {
            "text/plain": [
              "18"
            ]
          },
          "metadata": {}
        }
      ],
      "id": "a81bb815-b5b4-4f68-b972-42d9238ec05d"
    },
    {
      "cell_type": "markdown",
      "source": "32. Implement a function to calculate the power of a number using recursion.",
      "metadata": {},
      "id": "2eea1166-018b-464b-bc15-2ed4fe50f222"
    },
    {
      "cell_type": "code",
      "source": "def power_recur(num,power):\n    if power == 0:\n        return 1\n    if power == 1:\n        return num\n    else:\n        return num * power_recur(num,power-1)\n        ",
      "metadata": {},
      "execution_count": 6,
      "outputs": [],
      "id": "baa57599-bdb9-4961-8e1f-3351a573bb38"
    },
    {
      "cell_type": "code",
      "source": "power_recur(3,3)",
      "metadata": {},
      "execution_count": null,
      "outputs": [],
      "id": "00e5f5ec-f015-42a7-b9c4-da4612d9f042"
    },
    {
      "cell_type": "markdown",
      "source": "33. Write a Python program to remove duplicates from a list while preserving the order.",
      "metadata": {},
      "id": "4384a42e-5fca-46bb-af3a-9533e7e22be9"
    },
    {
      "cell_type": "code",
      "source": "def rem_dup(lst):\n    new_lst=[]\n    for i in lst:\n        if i in new_lst:\n            pass\n        else:\n            new_lst.append(i)\n    return new_lst",
      "metadata": {},
      "execution_count": null,
      "outputs": [],
      "id": "4be7304e-f128-4e55-9676-4cbd4cb80e99"
    },
    {
      "cell_type": "code",
      "source": "rem_dup([1,3,2,2,5,6,4,3,8])",
      "metadata": {},
      "execution_count": null,
      "outputs": [],
      "id": "00db3093-4f5b-458c-a564-164c3088e97f"
    },
    {
      "cell_type": "markdown",
      "source": "34. Implement a function to find the longest common prefix among a list of strings.",
      "metadata": {},
      "id": "d3ea3439-18d9-4d0e-a225-cb45d7a2bd60"
    },
    {
      "cell_type": "code",
      "source": "def largest_com(a):\n    size=len(a)\n    \n    if (size == 0):\n        return \"\"\n \n    if (size == 1):\n        return a[0]\n    \n    a.sort()\n    \n    end = min(len(a[0]), len(a[size - 1]))\n    i=0\n    while i < end and a[0][i] == a[size-1][i]:\n        i=i+1\n    \n    pre=a[0][0:i]\n    return pre",
      "metadata": {},
      "execution_count": 10,
      "outputs": [],
      "id": "cf9a2e12-ddcf-44b0-b46e-452524f5855e"
    },
    {
      "cell_type": "code",
      "source": "strlst=[\"Amit\",\"Aman\",\"Amw\"]\nlargest_com(strlst)",
      "metadata": {},
      "execution_count": 11,
      "outputs": [
        {
          "execution_count": 11,
          "output_type": "execute_result",
          "data": {
            "text/plain": [
              "'Am'"
            ]
          },
          "metadata": {}
        }
      ],
      "id": "5ea69ace-d55b-48f7-a28b-951d865358f3"
    },
    {
      "cell_type": "markdown",
      "source": "35. Write a program to check if a given number is a perfect square.",
      "metadata": {},
      "id": "d6c1303d-dd29-4c14-bf51-a40d19afa6f9"
    },
    {
      "cell_type": "code",
      "source": "import math\ndef perf_sq(num):\n    tst=math.sqrt(num) * 10\n    if tst % 10 == 0:\n        print(\"perfect Square\")\n    else:\n        print(\"No perfect square\")",
      "metadata": {},
      "execution_count": 14,
      "outputs": [],
      "id": "280faefd-fca5-47d9-847d-470ae9a3cbf5"
    },
    {
      "cell_type": "code",
      "source": "perf_sq(25)",
      "metadata": {},
      "execution_count": 17,
      "outputs": [
        {
          "name": "stdout",
          "output_type": "stream",
          "text": "perfect Square\n"
        }
      ],
      "id": "65e4bfd1-5375-45b8-8e1a-f25057674970"
    },
    {
      "cell_type": "markdown",
      "source": "36. Implement a function to calculate the product of all elements in a list.\n",
      "metadata": {},
      "id": "d0fa629d-e8ae-448f-9829-c8387052985e"
    },
    {
      "cell_type": "code",
      "source": "def prod(lst):\n    \n    if len(lst) == 0:\n        print (\"No product\")\n    else:\n        product=lst[0]\n        for i  in range(1,len(lst)):\n            product=product*lst[i]\n        return product",
      "metadata": {},
      "execution_count": 23,
      "outputs": [],
      "id": "b83e262c-9a10-4884-962a-323318524c0e"
    },
    {
      "cell_type": "code",
      "source": "prod([2,3,5,6])",
      "metadata": {},
      "execution_count": 24,
      "outputs": [
        {
          "execution_count": 24,
          "output_type": "execute_result",
          "data": {
            "text/plain": [
              "180"
            ]
          },
          "metadata": {}
        }
      ],
      "id": "9b97d505-5de5-4532-a840-fb862692b3ad"
    },
    {
      "cell_type": "markdown",
      "source": "37. Write a Python program to reverse the order of words in a sentence while preserving the word order.",
      "metadata": {},
      "id": "8cca12f8-2a4d-469f-8de4-d405845d7ce5"
    },
    {
      "cell_type": "code",
      "source": "def rev(strng):\n    strlst1=[]\n    strlst1=list(strng.split(\" \"))\n    strlst1=strlst1[::-1]\n    newstr=(\" \").join(strlst1)\n    return newstr",
      "metadata": {},
      "execution_count": 38,
      "outputs": [],
      "id": "8f0c7082-51e9-4bca-b3e8-5fe745c9e1b9"
    },
    {
      "cell_type": "code",
      "source": "strng=\"Amit is IT Developer\"\nrev(strng)",
      "metadata": {},
      "execution_count": 39,
      "outputs": [
        {
          "execution_count": 39,
          "output_type": "execute_result",
          "data": {
            "text/plain": [
              "'Developer IT is Amit'"
            ]
          },
          "metadata": {}
        }
      ],
      "id": "64869bbd-11ec-44cc-8bac-48e37ac43274"
    },
    {
      "cell_type": "markdown",
      "source": "38. Implement a function to find the missing number in a given list of consecutive numbers.",
      "metadata": {},
      "id": "aa839368-6e7a-4b2f-8a12-3bac21e7b8bc"
    },
    {
      "cell_type": "code",
      "source": "def missing(lst):\n    for i in range(len(lst)):\n        if lst[i+1] != lst[i] + 1:\n            return lst[i] + 1",
      "metadata": {},
      "execution_count": 43,
      "outputs": [],
      "id": "d812d986-1bb8-4fd5-868e-cb84fc6a31d3"
    },
    {
      "cell_type": "code",
      "source": "lst=[3,4,5,7,8]\nmissing(lst)",
      "metadata": {},
      "execution_count": 44,
      "outputs": [
        {
          "execution_count": 44,
          "output_type": "execute_result",
          "data": {
            "text/plain": [
              "6"
            ]
          },
          "metadata": {}
        }
      ],
      "id": "2d84737a-b781-4ea8-914b-e8bd812ec1ee"
    },
    {
      "cell_type": "markdown",
      "source": "39. Write a program to find the sum of digits of a given number.",
      "metadata": {},
      "id": "f1a5393c-076a-4f2f-8b05-e9480436a860"
    },
    {
      "cell_type": "code",
      "source": "def sum_dig(num):\n    sum_int=0\n    if type(num) == int:\n        while num > 0: \n            sum_int += (num % 10)\n            num = num // 10\n        return sum_int\n    else:\n        print(\"not integer\")",
      "metadata": {},
      "execution_count": 54,
      "outputs": [],
      "id": "925fec06-ad41-430c-b197-9f45a8201003"
    },
    {
      "cell_type": "code",
      "source": "sum_dig(15599)",
      "metadata": {},
      "execution_count": 56,
      "outputs": [
        {
          "execution_count": 56,
          "output_type": "execute_result",
          "data": {
            "text/plain": [
              "29"
            ]
          },
          "metadata": {}
        }
      ],
      "id": "b3d07ddf-9e7e-4f15-bd68-9d30e8f7baa5"
    },
    {
      "cell_type": "markdown",
      "source": "40. Implement a function to check if a given string is a valid palindrome considering case sensitivity.",
      "metadata": {},
      "id": "42993d90-8fa2-4b5b-953e-d19ff96c5fa2"
    },
    {
      "cell_type": "code",
      "source": "def palin(strng):\n    if strng==strng[::-1]:\n        print(\"is Palindrom\")\n    else:\n        print(\"Not a palindrome\")",
      "metadata": {},
      "execution_count": 57,
      "outputs": [],
      "id": "133d5833-d908-435f-a093-3a6d02deb6af"
    },
    {
      "cell_type": "code",
      "source": "palin(\"TooT\")",
      "metadata": {},
      "execution_count": 59,
      "outputs": [
        {
          "name": "stdout",
          "output_type": "stream",
          "text": "is Palindrom\n"
        }
      ],
      "id": "52780de8-35a5-4782-9242-74fcb78851cb"
    },
    {
      "cell_type": "markdown",
      "source": "41. Write a Python program to find the smallest missing positive integer in a list.",
      "metadata": {},
      "id": "f70df3d0-d7a5-4643-bac6-f7520be2f2fa"
    },
    {
      "cell_type": "code",
      "source": "def getMEX(a):\n    n = len(a)\n    b = a\n    hash = set(b)\n    for i in range(1, n + 2):\n        if i not in hash:\n            return i",
      "metadata": {},
      "execution_count": null,
      "outputs": [],
      "id": "a3aa818f-cb1c-4bf4-8eb4-a38a7bb19099"
    },
    {
      "cell_type": "code",
      "source": "getMEX([1,3,4,5])",
      "metadata": {},
      "execution_count": null,
      "outputs": [],
      "id": "3c8c9713-44b4-4729-8d6a-a662410e4358"
    },
    {
      "cell_type": "markdown",
      "source": "42. Implement a function to find the longest palindrome substring in a given string.\n",
      "metadata": {},
      "id": "108bc8be-bdd3-462b-b568-f8f52c9972c8"
    },
    {
      "cell_type": "code",
      "source": "# Python code for the above approach\n\n\n# This function prints the\n# longest palindrome substring\n# It also returns the length\n# of the longest palindrome\ndef longestPalSubstr(s):\n\tn = len(s)\n\n\t# Stores Longest palindrome Substring\n\tlongest = \"\"\n\tj = 0\n\n\t# To store substring which we think can be a palindrome\n\tsubs = \"\"\n\n\t# To store reverse of substring we think can be palindrome\n\tsubsrev = \"\"\n\tfor i in range(n):\n\t\tj = n-1\n\t\twhile i < j:\n\n\t\t\t# Checking whether the character\n\t\t\t# at i and j are same.\n\t\t\t# If they are same then\n\t\t\t# that substring can be LPS\n\t\t\tif(s[i] == s[j] and len(longest) < (j-i+1)):\n\t\t\t\tsubs = s[i:(j+1)]\n\t\t\t\tsubsrev = subs[::-1]\n\t\t\t\tif(subs == subsrev):\n\t\t\t\t\tlongest = subs\n\t\t\tj -= 1\n\n\t# If no longest substring then we will\n\t# return first character\n\tif(len(longest) == 0):\n\t\tlongest = s[0]\n\tprint(\"Longest palindrome substring is: \" + longest)\n\n\t# Return length of LPS\n\treturn len(longest)\n\n\n# Driver Code\nif __name__ == '__main__':\n\tstri = \"forgeeksskeegfor\"\n\tprint(\"Length is: \" + str(longestPalSubstr(stri)))\n",
      "metadata": {},
      "execution_count": null,
      "outputs": [],
      "id": "bae93dfd-8865-4fac-8038-3488a0e5f538"
    },
    {
      "cell_type": "markdown",
      "source": "43. Write a program to find the number of occurrences of a given element in a list.\n",
      "metadata": {},
      "id": "2175b15e-7499-4ce6-94cf-0cfd1f5a96ae"
    },
    {
      "cell_type": "code",
      "source": "def num_ocur(lst,num):\n    return lst.count(num)",
      "metadata": {},
      "execution_count": null,
      "outputs": [],
      "id": "c6df2b42-651b-416a-a1c3-28c8f548c000"
    },
    {
      "cell_type": "code",
      "source": "num_ocur([1,2,3,3,4,5,4],4)",
      "metadata": {},
      "execution_count": null,
      "outputs": [],
      "id": "598752a9-3e29-46af-984a-64463c7f5a9c"
    },
    {
      "cell_type": "markdown",
      "source": "44. Implement a function to check if a given number is a perfect number.\n",
      "metadata": {},
      "id": "b882acbe-2312-49cb-8057-a190405a517b"
    },
    {
      "cell_type": "code",
      "source": "# Python3 code to check if a given\n# number is perfect or not\n\n# Returns true if n is perfect\ndef isPerfect( n ):\n\t\n\t# To store sum of divisors\n\tsum = 1\n\t\n\t# Find all divisors and add them\n\ti = 2\n\twhile i * i <= n:\n\t\tif n % i == 0:\n\t\t\tsum = sum + i + n/i\n\t\ti += 1\n\t\n\t# If sum of divisors is equal to\n\t# n, then n is a perfect number\n\t\n\treturn (True if sum == n and n!=1 else False)\n\nn = 6\nif isPerfect (n):\n\tprint(n , \" is a perfect number\")\n\t\t\n# This code is contributed by \"Sharad_Bhardwaj\".\n",
      "metadata": {},
      "execution_count": null,
      "outputs": [],
      "id": "b4cd470a-492e-4342-90b9-ac2b0d075915"
    },
    {
      "cell_type": "markdown",
      "source": "45. Write a Python program to remove all duplicates from a string.",
      "metadata": {},
      "id": "0a1adfc6-3f1d-44bb-bc9c-5a624c4e3bbc"
    },
    {
      "cell_type": "code",
      "source": "from collections import OrderedDict\n\n# Function to remove all duplicates from string\n# and order does not matter\ndef removeDupWithoutOrder(str):\n\n\t# set() --> A Set is an unordered collection\n\t#\t\t data type that is iterable, mutable,\n\t#\t\t and has no duplicate elements.\n\t# \"\".join() --> It joins two adjacent elements in\n\t#\t\t\t iterable with any symbol defined in\n\t#\t\t\t \"\" ( double quotes ) and returns a\n\t#\t\t\t single string\n\treturn \"\".join(set(str))\n\n# Function to remove all duplicates from string\n# and keep the order of characters same\ndef removeDupWithOrder(str):\n\treturn \"\".join(OrderedDict.fromkeys(str))\n\n# Driver program\nif __name__ == \"__main__\":\n\tstr = \"geeksforgeeks\"\n\tprint (\"Without Order = \",removeDupWithoutOrder(str))\n\tprint (\"With Order = \",removeDupWithOrder(str))\n",
      "metadata": {},
      "execution_count": null,
      "outputs": [],
      "id": "17930bbb-1e13-4828-9b80-81748f7371e2"
    },
    {
      "cell_type": "markdown",
      "source": "46. Implement a function to find the first missing positive",
      "metadata": {},
      "id": "d2e98ca0-d7bf-43f7-a46d-0ce78b36bd0d"
    },
    {
      "cell_type": "code",
      "source": "class Solution:\n    def firstMissingPositive(self,nums):\n        x=[0]\n        for i in sorted(set(nums)):\n            if i>0 and i-x[-1]==1:\n                x.append(i)\n            elif i>0:\n                return x[-1]+1\n        return max(1,max(nums)+1)",
      "metadata": {},
      "execution_count": null,
      "outputs": [],
      "id": "242fdce4-7cbe-4a31-851b-aa046aeac99b"
    },
    {
      "cell_type": "code",
      "source": "nums = [1,2,0]\nsol=Solution()\nsol.firstMissingPositive(nums)",
      "metadata": {},
      "execution_count": null,
      "outputs": [],
      "id": "4f9c219a-3b6a-4ce6-90a5-fa6cdd58f6a0"
    },
    {
      "cell_type": "code",
      "source": "",
      "metadata": {},
      "execution_count": null,
      "outputs": [],
      "id": "ad1d597e-21d0-4504-8184-338b0d9819e2"
    }
  ]
}